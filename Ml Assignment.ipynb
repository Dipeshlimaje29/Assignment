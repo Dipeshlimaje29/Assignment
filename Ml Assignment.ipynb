{
 "cells": [
  {
   "cell_type": "markdown",
   "id": "95e0319e",
   "metadata": {},
   "source": [
    "# Stroke Prediction Model"
   ]
  },
  {
   "cell_type": "code",
   "execution_count": 1,
   "id": "dfa36ca7",
   "metadata": {},
   "outputs": [],
   "source": [
    "#lets import necessary library\n",
    "import pandas as pd\n",
    "import numpy as np\n",
    "import matplotlib.pyplot as plt\n",
    "import seaborn as sns\n",
    "import warnings\n",
    "warnings.filterwarnings('ignore')"
   ]
  },
  {
   "cell_type": "code",
   "execution_count": 2,
   "id": "312e7ff4",
   "metadata": {},
   "outputs": [
    {
     "data": {
      "text/html": [
       "<div>\n",
       "<style scoped>\n",
       "    .dataframe tbody tr th:only-of-type {\n",
       "        vertical-align: middle;\n",
       "    }\n",
       "\n",
       "    .dataframe tbody tr th {\n",
       "        vertical-align: top;\n",
       "    }\n",
       "\n",
       "    .dataframe thead th {\n",
       "        text-align: right;\n",
       "    }\n",
       "</style>\n",
       "<table border=\"1\" class=\"dataframe\">\n",
       "  <thead>\n",
       "    <tr style=\"text-align: right;\">\n",
       "      <th></th>\n",
       "      <th>id</th>\n",
       "      <th>gender</th>\n",
       "      <th>age</th>\n",
       "      <th>hypertension</th>\n",
       "      <th>heart_disease</th>\n",
       "      <th>ever_married</th>\n",
       "      <th>work_type</th>\n",
       "      <th>Residence_type</th>\n",
       "      <th>avg_glucose_level</th>\n",
       "      <th>bmi</th>\n",
       "      <th>smoking_status</th>\n",
       "      <th>stroke</th>\n",
       "    </tr>\n",
       "  </thead>\n",
       "  <tbody>\n",
       "    <tr>\n",
       "      <th>0</th>\n",
       "      <td>30669</td>\n",
       "      <td>Male</td>\n",
       "      <td>3.0</td>\n",
       "      <td>0</td>\n",
       "      <td>0</td>\n",
       "      <td>No</td>\n",
       "      <td>children</td>\n",
       "      <td>Rural</td>\n",
       "      <td>95.12</td>\n",
       "      <td>18.0</td>\n",
       "      <td>NaN</td>\n",
       "      <td>0</td>\n",
       "    </tr>\n",
       "    <tr>\n",
       "      <th>1</th>\n",
       "      <td>30468</td>\n",
       "      <td>Male</td>\n",
       "      <td>58.0</td>\n",
       "      <td>1</td>\n",
       "      <td>0</td>\n",
       "      <td>Yes</td>\n",
       "      <td>Private</td>\n",
       "      <td>Urban</td>\n",
       "      <td>87.96</td>\n",
       "      <td>39.2</td>\n",
       "      <td>never smoked</td>\n",
       "      <td>0</td>\n",
       "    </tr>\n",
       "    <tr>\n",
       "      <th>2</th>\n",
       "      <td>16523</td>\n",
       "      <td>Female</td>\n",
       "      <td>8.0</td>\n",
       "      <td>0</td>\n",
       "      <td>0</td>\n",
       "      <td>No</td>\n",
       "      <td>Private</td>\n",
       "      <td>Urban</td>\n",
       "      <td>110.89</td>\n",
       "      <td>17.6</td>\n",
       "      <td>NaN</td>\n",
       "      <td>0</td>\n",
       "    </tr>\n",
       "    <tr>\n",
       "      <th>3</th>\n",
       "      <td>56543</td>\n",
       "      <td>Female</td>\n",
       "      <td>70.0</td>\n",
       "      <td>0</td>\n",
       "      <td>0</td>\n",
       "      <td>Yes</td>\n",
       "      <td>Private</td>\n",
       "      <td>Rural</td>\n",
       "      <td>69.04</td>\n",
       "      <td>35.9</td>\n",
       "      <td>formerly smoked</td>\n",
       "      <td>0</td>\n",
       "    </tr>\n",
       "    <tr>\n",
       "      <th>4</th>\n",
       "      <td>46136</td>\n",
       "      <td>Male</td>\n",
       "      <td>14.0</td>\n",
       "      <td>0</td>\n",
       "      <td>0</td>\n",
       "      <td>No</td>\n",
       "      <td>Never_worked</td>\n",
       "      <td>Rural</td>\n",
       "      <td>161.28</td>\n",
       "      <td>19.1</td>\n",
       "      <td>NaN</td>\n",
       "      <td>0</td>\n",
       "    </tr>\n",
       "  </tbody>\n",
       "</table>\n",
       "</div>"
      ],
      "text/plain": [
       "      id  gender   age  hypertension  heart_disease ever_married  \\\n",
       "0  30669    Male   3.0             0              0           No   \n",
       "1  30468    Male  58.0             1              0          Yes   \n",
       "2  16523  Female   8.0             0              0           No   \n",
       "3  56543  Female  70.0             0              0          Yes   \n",
       "4  46136    Male  14.0             0              0           No   \n",
       "\n",
       "      work_type Residence_type  avg_glucose_level   bmi   smoking_status  \\\n",
       "0      children          Rural              95.12  18.0              NaN   \n",
       "1       Private          Urban              87.96  39.2     never smoked   \n",
       "2       Private          Urban             110.89  17.6              NaN   \n",
       "3       Private          Rural              69.04  35.9  formerly smoked   \n",
       "4  Never_worked          Rural             161.28  19.1              NaN   \n",
       "\n",
       "   stroke  \n",
       "0       0  \n",
       "1       0  \n",
       "2       0  \n",
       "3       0  \n",
       "4       0  "
      ]
     },
     "execution_count": 2,
     "metadata": {},
     "output_type": "execute_result"
    }
   ],
   "source": [
    "#import the dataset\n",
    "df=pd.read_csv('dataset.csv')\n",
    "df.head()"
   ]
  },
  {
   "cell_type": "markdown",
   "id": "d2de428d",
   "metadata": {},
   "source": [
    "# Pre-processing"
   ]
  },
  {
   "cell_type": "code",
   "execution_count": 3,
   "id": "fea99379",
   "metadata": {
    "scrolled": true
   },
   "outputs": [
    {
     "data": {
      "text/plain": [
       "Index(['id', 'gender', 'age', 'hypertension', 'heart_disease', 'ever_married',\n",
       "       'work_type', 'Residence_type', 'avg_glucose_level', 'bmi',\n",
       "       'smoking_status', 'stroke'],\n",
       "      dtype='object')"
      ]
     },
     "execution_count": 3,
     "metadata": {},
     "output_type": "execute_result"
    }
   ],
   "source": [
    "df.columns"
   ]
  },
  {
   "cell_type": "code",
   "execution_count": 4,
   "id": "a8c29a25",
   "metadata": {},
   "outputs": [
    {
     "data": {
      "text/plain": [
       "(43400, 12)"
      ]
     },
     "execution_count": 4,
     "metadata": {},
     "output_type": "execute_result"
    }
   ],
   "source": [
    "df.shape"
   ]
  },
  {
   "cell_type": "code",
   "execution_count": 5,
   "id": "c297b655",
   "metadata": {},
   "outputs": [
    {
     "data": {
      "text/plain": [
       "id                     int64\n",
       "gender                object\n",
       "age                  float64\n",
       "hypertension           int64\n",
       "heart_disease          int64\n",
       "ever_married          object\n",
       "work_type             object\n",
       "Residence_type        object\n",
       "avg_glucose_level    float64\n",
       "bmi                  float64\n",
       "smoking_status        object\n",
       "stroke                 int64\n",
       "dtype: object"
      ]
     },
     "execution_count": 5,
     "metadata": {},
     "output_type": "execute_result"
    }
   ],
   "source": [
    "df.dtypes"
   ]
  },
  {
   "cell_type": "code",
   "execution_count": 6,
   "id": "656df981",
   "metadata": {},
   "outputs": [
    {
     "data": {
      "text/plain": [
       "id                   0.000000\n",
       "gender               0.000000\n",
       "age                  0.000000\n",
       "hypertension         0.000000\n",
       "heart_disease        0.000000\n",
       "ever_married         0.000000\n",
       "work_type            0.000000\n",
       "Residence_type       0.000000\n",
       "avg_glucose_level    0.000000\n",
       "bmi                  0.033687\n",
       "smoking_status       0.306267\n",
       "stroke               0.000000\n",
       "dtype: float64"
      ]
     },
     "execution_count": 6,
     "metadata": {},
     "output_type": "execute_result"
    }
   ],
   "source": [
    "df.isnull().sum()/len(df)"
   ]
  },
  {
   "cell_type": "markdown",
   "id": "2aaf68cd",
   "metadata": {},
   "source": [
    "## Checking the duplicates"
   ]
  },
  {
   "cell_type": "code",
   "execution_count": 7,
   "id": "768e1717",
   "metadata": {},
   "outputs": [
    {
     "name": "stdout",
     "output_type": "stream",
     "text": [
      "Duplicate Rows :\n"
     ]
    },
    {
     "data": {
      "text/html": [
       "<div>\n",
       "<style scoped>\n",
       "    .dataframe tbody tr th:only-of-type {\n",
       "        vertical-align: middle;\n",
       "    }\n",
       "\n",
       "    .dataframe tbody tr th {\n",
       "        vertical-align: top;\n",
       "    }\n",
       "\n",
       "    .dataframe thead th {\n",
       "        text-align: right;\n",
       "    }\n",
       "</style>\n",
       "<table border=\"1\" class=\"dataframe\">\n",
       "  <thead>\n",
       "    <tr style=\"text-align: right;\">\n",
       "      <th></th>\n",
       "      <th>id</th>\n",
       "      <th>gender</th>\n",
       "      <th>age</th>\n",
       "      <th>hypertension</th>\n",
       "      <th>heart_disease</th>\n",
       "      <th>ever_married</th>\n",
       "      <th>work_type</th>\n",
       "      <th>Residence_type</th>\n",
       "      <th>avg_glucose_level</th>\n",
       "      <th>bmi</th>\n",
       "      <th>smoking_status</th>\n",
       "      <th>stroke</th>\n",
       "    </tr>\n",
       "  </thead>\n",
       "  <tbody>\n",
       "  </tbody>\n",
       "</table>\n",
       "</div>"
      ],
      "text/plain": [
       "Empty DataFrame\n",
       "Columns: [id, gender, age, hypertension, heart_disease, ever_married, work_type, Residence_type, avg_glucose_level, bmi, smoking_status, stroke]\n",
       "Index: []"
      ]
     },
     "execution_count": 7,
     "metadata": {},
     "output_type": "execute_result"
    }
   ],
   "source": [
    "#  check  the duplicate\n",
    "duplicate = df[df.duplicated()]\n",
    "print(\"Duplicate Rows :\")\n",
    " \n",
    "#  Print the resultant Dataframe\n",
    "duplicate"
   ]
  },
  {
   "cell_type": "code",
   "execution_count": 8,
   "id": "bad74b80",
   "metadata": {},
   "outputs": [
    {
     "data": {
      "text/plain": [
       "array(['Male', 'Female', 'Other'], dtype=object)"
      ]
     },
     "execution_count": 8,
     "metadata": {},
     "output_type": "execute_result"
    }
   ],
   "source": [
    "df.gender.unique()"
   ]
  },
  {
   "cell_type": "code",
   "execution_count": null,
   "id": "4609eb2a",
   "metadata": {},
   "outputs": [],
   "source": []
  },
  {
   "cell_type": "markdown",
   "id": "02cc935b",
   "metadata": {},
   "source": [
    "## EDA and Visualization"
   ]
  },
  {
   "cell_type": "code",
   "execution_count": 9,
   "id": "f45da59e",
   "metadata": {},
   "outputs": [
    {
     "name": "stdout",
     "output_type": "stream",
     "text": [
      "Female    25665\n",
      "Male      17724\n",
      "Other        11\n",
      "Name: gender, dtype: int64\n",
      "********************\n"
     ]
    },
    {
     "data": {
      "image/png": "[encoded data removed]",
      "text/plain": [
       "<Figure size 504x504 with 1 Axes>"
      ]
     },
     "metadata": {},
     "output_type": "display_data"
    }
   ],
   "source": [
    "plt.figure(figsize=(7,7))\n",
    "df['gender'].value_counts().plot(kind='pie',autopct = '%.2f' , rotatelabels = True,explode = [0,0,1])\n",
    "print(df.gender.value_counts())\n",
    "print('*'*20)\n",
    "plt.show()"
   ]
  },
  {
   "cell_type": "markdown",
   "id": "5d7b3bb4",
   "metadata": {},
   "source": [
    "### From the Above count plot, we observe the ratio for males and females. the count for males in the dataset are 17724 and the count for female in the dataset are 25665"
   ]
  },
  {
   "cell_type": "code",
   "execution_count": 10,
   "id": "81493223",
   "metadata": {},
   "outputs": [
    {
     "data": {
      "text/plain": [
       "104"
      ]
     },
     "execution_count": 10,
     "metadata": {},
     "output_type": "execute_result"
    }
   ],
   "source": [
    "df.age.nunique()"
   ]
  },
  {
   "cell_type": "code",
   "execution_count": 11,
   "id": "2f68d2f0",
   "metadata": {},
   "outputs": [],
   "source": [
    "df['Age Category'] = pd.cut(df['age'], bins=range(0, 101, 10), right=False)"
   ]
  },
  {
   "cell_type": "code",
   "execution_count": 12,
   "id": "5d9fc8fb",
   "metadata": {},
   "outputs": [],
   "source": [
    "age_counts = df['Age Category'].value_counts().sort_index()\n"
   ]
  },
  {
   "cell_type": "code",
   "execution_count": 13,
   "id": "95e928fa",
   "metadata": {},
   "outputs": [
    {
     "data": {
      "image/png": "[encoded data removed]",
      "text/plain": [
       "<Figure size 432x288 with 1 Axes>"
      ]
     },
     "metadata": {
      "needs_background": "light"
     },
     "output_type": "display_data"
    }
   ],
   "source": [
    "age_counts.plot(kind='bar', width=0.8)\n",
    "plt.xlabel('Age Category')\n",
    "plt.ylabel('Count')\n",
    "plt.title('Age Distribution')\n",
    "plt.xticks(rotation=45)  # Rotate the x-axis labels for better readability\n",
    "plt.show()\n"
   ]
  },
  {
   "cell_type": "markdown",
   "id": "51c54d3e",
   "metadata": {},
   "source": [
    "### From the above bar plot, we observe the age category, and we observe that the age category in the dataset is the 40 to 60 age group."
   ]
  },
  {
   "cell_type": "code",
   "execution_count": 14,
   "id": "3c42fe56",
   "metadata": {},
   "outputs": [
    {
     "data": {
      "text/plain": [
       "Index(['id', 'gender', 'age', 'hypertension', 'heart_disease', 'ever_married',\n",
       "       'work_type', 'Residence_type', 'avg_glucose_level', 'bmi',\n",
       "       'smoking_status', 'stroke', 'Age Category'],\n",
       "      dtype='object')"
      ]
     },
     "execution_count": 14,
     "metadata": {},
     "output_type": "execute_result"
    }
   ],
   "source": [
    "df.columns"
   ]
  },
  {
   "cell_type": "code",
   "execution_count": 15,
   "id": "3ed8c8ec",
   "metadata": {},
   "outputs": [
    {
     "data": {
      "text/plain": [
       "2"
      ]
     },
     "execution_count": 15,
     "metadata": {},
     "output_type": "execute_result"
    }
   ],
   "source": [
    "df.hypertension.nunique()"
   ]
  },
  {
   "cell_type": "code",
   "execution_count": 16,
   "id": "f8083d66",
   "metadata": {},
   "outputs": [
    {
     "name": "stdout",
     "output_type": "stream",
     "text": [
      "0    39339\n",
      "1     4061\n",
      "Name: hypertension, dtype: int64\n",
      "********************\n"
     ]
    },
    {
     "data": {
      "image/png": "[encoded data removed]",
      "text/plain": [
       "<Figure size 504x504 with 1 Axes>"
      ]
     },
     "metadata": {},
     "output_type": "display_data"
    }
   ],
   "source": [
    "plt.figure(figsize=(7,7))\n",
    "df['hypertension'].value_counts().plot(kind='pie',autopct = '%.2f' , rotatelabels = True,explode = [0,0.1])\n",
    "print(df.hypertension.value_counts())\n",
    "print('*'*20)\n",
    "plt.show()"
   ]
  },
  {
   "cell_type": "markdown",
   "id": "92ebb240",
   "metadata": {},
   "source": [
    "### In the dataset, we have assumed 0 is the population with no hypertension, and the count for that is 39339, and 1 is the population with hypertension, with a count of 4061."
   ]
  },
  {
   "cell_type": "code",
   "execution_count": 17,
   "id": "36f192ec",
   "metadata": {},
   "outputs": [
    {
     "data": {
      "text/plain": [
       "2"
      ]
     },
     "execution_count": 17,
     "metadata": {},
     "output_type": "execute_result"
    }
   ],
   "source": [
    "df.heart_disease.nunique()"
   ]
  },
  {
   "cell_type": "code",
   "execution_count": 18,
   "id": "b8c34854",
   "metadata": {},
   "outputs": [
    {
     "name": "stdout",
     "output_type": "stream",
     "text": [
      "0    41338\n",
      "1     2062\n",
      "Name: heart_disease, dtype: int64\n",
      "********************\n"
     ]
    },
    {
     "data": {
      "image/png": "[encoded data removed]",
      "text/plain": [
       "<Figure size 504x504 with 1 Axes>"
      ]
     },
     "metadata": {},
     "output_type": "display_data"
    }
   ],
   "source": [
    "plt.figure(figsize=(7,7))\n",
    "df['heart_disease'].value_counts().plot(kind='pie',autopct = '%.2f' , rotatelabels = True,explode = [0,0.1])\n",
    "print(df.heart_disease.value_counts())\n",
    "print('*'*20)\n",
    "plt.show()"
   ]
  },
  {
   "cell_type": "markdown",
   "id": "a8e51213",
   "metadata": {},
   "source": [
    "### In the dataset, we have assumed 0 is the population with no heart disease, and the count for that is 41338, and 1 is the population with heart disease, with a count of 2062."
   ]
  },
  {
   "cell_type": "code",
   "execution_count": null,
   "id": "a10eae26",
   "metadata": {},
   "outputs": [],
   "source": []
  },
  {
   "cell_type": "code",
   "execution_count": 19,
   "id": "8f57ee00",
   "metadata": {},
   "outputs": [
    {
     "data": {
      "text/plain": [
       "Index(['id', 'gender', 'age', 'hypertension', 'heart_disease', 'ever_married',\n",
       "       'work_type', 'Residence_type', 'avg_glucose_level', 'bmi',\n",
       "       'smoking_status', 'stroke', 'Age Category'],\n",
       "      dtype='object')"
      ]
     },
     "execution_count": 19,
     "metadata": {},
     "output_type": "execute_result"
    }
   ],
   "source": [
    "df.columns"
   ]
  },
  {
   "cell_type": "code",
   "execution_count": 20,
   "id": "ed925398",
   "metadata": {},
   "outputs": [
    {
     "data": {
      "text/plain": [
       "2"
      ]
     },
     "execution_count": 20,
     "metadata": {},
     "output_type": "execute_result"
    }
   ],
   "source": [
    "df.ever_married.nunique()"
   ]
  },
  {
   "cell_type": "code",
   "execution_count": 21,
   "id": "69b53117",
   "metadata": {},
   "outputs": [
    {
     "name": "stdout",
     "output_type": "stream",
     "text": [
      "Yes    27938\n",
      "No     15462\n",
      "Name: ever_married, dtype: int64\n",
      "********************\n"
     ]
    },
    {
     "data": {
      "image/png": "[encoded data removed]",
      "text/plain": [
       "<Figure size 504x504 with 1 Axes>"
      ]
     },
     "metadata": {},
     "output_type": "display_data"
    }
   ],
   "source": [
    "plt.figure(figsize=(7,7))\n",
    "df['ever_married'].value_counts().plot(kind='pie',autopct = '%.2f' , rotatelabels = True,explode = [0,0.1])\n",
    "print(df.ever_married.value_counts())\n",
    "print('*'*20)\n",
    "plt.show()"
   ]
  },
  {
   "cell_type": "markdown",
   "id": "04683259",
   "metadata": {},
   "source": [
    "### In the dataset, we have the married category, in which 65% of people are married and 35% are single."
   ]
  },
  {
   "cell_type": "code",
   "execution_count": null,
   "id": "02504e97",
   "metadata": {},
   "outputs": [],
   "source": []
  },
  {
   "cell_type": "code",
   "execution_count": 22,
   "id": "9ef180ea",
   "metadata": {},
   "outputs": [
    {
     "data": {
      "text/plain": [
       "Index(['id', 'gender', 'age', 'hypertension', 'heart_disease', 'ever_married',\n",
       "       'work_type', 'Residence_type', 'avg_glucose_level', 'bmi',\n",
       "       'smoking_status', 'stroke', 'Age Category'],\n",
       "      dtype='object')"
      ]
     },
     "execution_count": 22,
     "metadata": {},
     "output_type": "execute_result"
    }
   ],
   "source": [
    "df.columns"
   ]
  },
  {
   "cell_type": "code",
   "execution_count": 23,
   "id": "2f9be855",
   "metadata": {},
   "outputs": [
    {
     "data": {
      "text/plain": [
       "5"
      ]
     },
     "execution_count": 23,
     "metadata": {},
     "output_type": "execute_result"
    }
   ],
   "source": [
    "df.work_type.nunique()"
   ]
  },
  {
   "cell_type": "code",
   "execution_count": 24,
   "id": "f1b311d5",
   "metadata": {},
   "outputs": [
    {
     "name": "stdout",
     "output_type": "stream",
     "text": [
      "********************\n",
      "Private          24834\n",
      "Self-employed     6793\n",
      "children          6156\n",
      "Govt_job          5440\n",
      "Never_worked       177\n",
      "Name: work_type, dtype: int64\n",
      "********************\n"
     ]
    },
    {
     "data": {
      "image/png": "[encoded data removed]",
      "text/plain": [
       "<Figure size 1440x360 with 1 Axes>"
      ]
     },
     "metadata": {
      "needs_background": "light"
     },
     "output_type": "display_data"
    }
   ],
   "source": [
    "# Seeing which car sold most\n",
    "plt.figure(figsize=(20,5))\n",
    "sns.countplot(x='work_type' , data=df)\n",
    "plt.title('types of the work')\n",
    "print('*'*20)\n",
    "print(df['work_type'].value_counts())\n",
    "print('*'*20)\n",
    "plt.show()"
   ]
  },
  {
   "cell_type": "markdown",
   "id": "23fccc40",
   "metadata": {},
   "source": [
    "## From the above bar graph, we observe that most people are in private occupations, followed by self-employed and government jobs."
   ]
  },
  {
   "cell_type": "code",
   "execution_count": null,
   "id": "08831592",
   "metadata": {},
   "outputs": [],
   "source": []
  },
  {
   "cell_type": "code",
   "execution_count": 25,
   "id": "38c09b59",
   "metadata": {},
   "outputs": [
    {
     "data": {
      "text/plain": [
       "Index(['id', 'gender', 'age', 'hypertension', 'heart_disease', 'ever_married',\n",
       "       'work_type', 'Residence_type', 'avg_glucose_level', 'bmi',\n",
       "       'smoking_status', 'stroke', 'Age Category'],\n",
       "      dtype='object')"
      ]
     },
     "execution_count": 25,
     "metadata": {},
     "output_type": "execute_result"
    }
   ],
   "source": [
    "df.columns"
   ]
  },
  {
   "cell_type": "code",
   "execution_count": 26,
   "id": "9491a143",
   "metadata": {},
   "outputs": [
    {
     "data": {
      "text/plain": [
       "2"
      ]
     },
     "execution_count": 26,
     "metadata": {},
     "output_type": "execute_result"
    }
   ],
   "source": [
    "df.Residence_type.nunique()"
   ]
  },
  {
   "cell_type": "code",
   "execution_count": 27,
   "id": "6ebe7880",
   "metadata": {},
   "outputs": [
    {
     "name": "stdout",
     "output_type": "stream",
     "text": [
      "Yes    27938\n",
      "No     15462\n",
      "Name: ever_married, dtype: int64\n",
      "********************\n"
     ]
    },
    {
     "data": {
      "image/png": "[encoded data removed]",
      "text/plain": [
       "<Figure size 504x504 with 1 Axes>"
      ]
     },
     "metadata": {},
     "output_type": "display_data"
    }
   ],
   "source": [
    "plt.figure(figsize=(7,7))\n",
    "df['Residence_type'].value_counts().plot(kind='pie',autopct = '%.2f' , rotatelabels = True,explode = [0,0.1])\n",
    "print(df.ever_married.value_counts())\n",
    "print('*'*20)\n",
    "plt.show()"
   ]
  },
  {
   "cell_type": "markdown",
   "id": "a6d6e39e",
   "metadata": {},
   "source": [
    "### From the above graph, we observe that people from both areas are almost equal."
   ]
  },
  {
   "cell_type": "code",
   "execution_count": null,
   "id": "57691329",
   "metadata": {},
   "outputs": [],
   "source": []
  },
  {
   "cell_type": "code",
   "execution_count": 174,
   "id": "44a9ed67",
   "metadata": {},
   "outputs": [],
   "source": [
    "# Filling the null values "
   ]
  },
  {
   "cell_type": "code",
   "execution_count": 28,
   "id": "3df3f7c7",
   "metadata": {},
   "outputs": [
    {
     "data": {
      "text/html": [
       "<div>\n",
       "<style scoped>\n",
       "    .dataframe tbody tr th:only-of-type {\n",
       "        vertical-align: middle;\n",
       "    }\n",
       "\n",
       "    .dataframe tbody tr th {\n",
       "        vertical-align: top;\n",
       "    }\n",
       "\n",
       "    .dataframe thead th {\n",
       "        text-align: right;\n",
       "    }\n",
       "</style>\n",
       "<table border=\"1\" class=\"dataframe\">\n",
       "  <thead>\n",
       "    <tr style=\"text-align: right;\">\n",
       "      <th></th>\n",
       "      <th>id</th>\n",
       "      <th>gender</th>\n",
       "      <th>age</th>\n",
       "      <th>hypertension</th>\n",
       "      <th>heart_disease</th>\n",
       "      <th>ever_married</th>\n",
       "      <th>work_type</th>\n",
       "      <th>Residence_type</th>\n",
       "      <th>avg_glucose_level</th>\n",
       "      <th>bmi</th>\n",
       "      <th>smoking_status</th>\n",
       "      <th>stroke</th>\n",
       "      <th>Age Category</th>\n",
       "    </tr>\n",
       "  </thead>\n",
       "  <tbody>\n",
       "    <tr>\n",
       "      <th>0</th>\n",
       "      <td>30669</td>\n",
       "      <td>Male</td>\n",
       "      <td>3.0</td>\n",
       "      <td>0</td>\n",
       "      <td>0</td>\n",
       "      <td>No</td>\n",
       "      <td>children</td>\n",
       "      <td>Rural</td>\n",
       "      <td>95.12</td>\n",
       "      <td>18.0</td>\n",
       "      <td>NaN</td>\n",
       "      <td>0</td>\n",
       "      <td>[0, 10)</td>\n",
       "    </tr>\n",
       "    <tr>\n",
       "      <th>2</th>\n",
       "      <td>16523</td>\n",
       "      <td>Female</td>\n",
       "      <td>8.0</td>\n",
       "      <td>0</td>\n",
       "      <td>0</td>\n",
       "      <td>No</td>\n",
       "      <td>Private</td>\n",
       "      <td>Urban</td>\n",
       "      <td>110.89</td>\n",
       "      <td>17.6</td>\n",
       "      <td>NaN</td>\n",
       "      <td>0</td>\n",
       "      <td>[0, 10)</td>\n",
       "    </tr>\n",
       "    <tr>\n",
       "      <th>4</th>\n",
       "      <td>46136</td>\n",
       "      <td>Male</td>\n",
       "      <td>14.0</td>\n",
       "      <td>0</td>\n",
       "      <td>0</td>\n",
       "      <td>No</td>\n",
       "      <td>Never_worked</td>\n",
       "      <td>Rural</td>\n",
       "      <td>161.28</td>\n",
       "      <td>19.1</td>\n",
       "      <td>NaN</td>\n",
       "      <td>0</td>\n",
       "      <td>[10, 20)</td>\n",
       "    </tr>\n",
       "    <tr>\n",
       "      <th>5</th>\n",
       "      <td>32257</td>\n",
       "      <td>Female</td>\n",
       "      <td>47.0</td>\n",
       "      <td>0</td>\n",
       "      <td>0</td>\n",
       "      <td>Yes</td>\n",
       "      <td>Private</td>\n",
       "      <td>Urban</td>\n",
       "      <td>210.95</td>\n",
       "      <td>50.1</td>\n",
       "      <td>NaN</td>\n",
       "      <td>0</td>\n",
       "      <td>[40, 50)</td>\n",
       "    </tr>\n",
       "    <tr>\n",
       "      <th>10</th>\n",
       "      <td>10460</td>\n",
       "      <td>Female</td>\n",
       "      <td>79.0</td>\n",
       "      <td>0</td>\n",
       "      <td>0</td>\n",
       "      <td>Yes</td>\n",
       "      <td>Govt_job</td>\n",
       "      <td>Urban</td>\n",
       "      <td>77.08</td>\n",
       "      <td>35.0</td>\n",
       "      <td>NaN</td>\n",
       "      <td>0</td>\n",
       "      <td>[70, 80)</td>\n",
       "    </tr>\n",
       "    <tr>\n",
       "      <th>...</th>\n",
       "      <td>...</td>\n",
       "      <td>...</td>\n",
       "      <td>...</td>\n",
       "      <td>...</td>\n",
       "      <td>...</td>\n",
       "      <td>...</td>\n",
       "      <td>...</td>\n",
       "      <td>...</td>\n",
       "      <td>...</td>\n",
       "      <td>...</td>\n",
       "      <td>...</td>\n",
       "      <td>...</td>\n",
       "      <td>...</td>\n",
       "    </tr>\n",
       "    <tr>\n",
       "      <th>43382</th>\n",
       "      <td>35179</td>\n",
       "      <td>Female</td>\n",
       "      <td>9.0</td>\n",
       "      <td>0</td>\n",
       "      <td>0</td>\n",
       "      <td>No</td>\n",
       "      <td>children</td>\n",
       "      <td>Urban</td>\n",
       "      <td>68.49</td>\n",
       "      <td>16.8</td>\n",
       "      <td>NaN</td>\n",
       "      <td>0</td>\n",
       "      <td>[0, 10)</td>\n",
       "    </tr>\n",
       "    <tr>\n",
       "      <th>43385</th>\n",
       "      <td>5366</td>\n",
       "      <td>Female</td>\n",
       "      <td>66.0</td>\n",
       "      <td>0</td>\n",
       "      <td>0</td>\n",
       "      <td>Yes</td>\n",
       "      <td>Self-employed</td>\n",
       "      <td>Urban</td>\n",
       "      <td>92.10</td>\n",
       "      <td>24.8</td>\n",
       "      <td>NaN</td>\n",
       "      <td>0</td>\n",
       "      <td>[60, 70)</td>\n",
       "    </tr>\n",
       "    <tr>\n",
       "      <th>43389</th>\n",
       "      <td>30759</td>\n",
       "      <td>Male</td>\n",
       "      <td>14.0</td>\n",
       "      <td>0</td>\n",
       "      <td>0</td>\n",
       "      <td>No</td>\n",
       "      <td>children</td>\n",
       "      <td>Urban</td>\n",
       "      <td>82.48</td>\n",
       "      <td>24.8</td>\n",
       "      <td>NaN</td>\n",
       "      <td>0</td>\n",
       "      <td>[10, 20)</td>\n",
       "    </tr>\n",
       "    <tr>\n",
       "      <th>43391</th>\n",
       "      <td>30077</td>\n",
       "      <td>Male</td>\n",
       "      <td>6.0</td>\n",
       "      <td>0</td>\n",
       "      <td>0</td>\n",
       "      <td>No</td>\n",
       "      <td>children</td>\n",
       "      <td>Urban</td>\n",
       "      <td>77.48</td>\n",
       "      <td>19.1</td>\n",
       "      <td>NaN</td>\n",
       "      <td>0</td>\n",
       "      <td>[0, 10)</td>\n",
       "    </tr>\n",
       "    <tr>\n",
       "      <th>43392</th>\n",
       "      <td>45266</td>\n",
       "      <td>Female</td>\n",
       "      <td>18.0</td>\n",
       "      <td>0</td>\n",
       "      <td>0</td>\n",
       "      <td>No</td>\n",
       "      <td>Private</td>\n",
       "      <td>Urban</td>\n",
       "      <td>131.96</td>\n",
       "      <td>22.8</td>\n",
       "      <td>NaN</td>\n",
       "      <td>0</td>\n",
       "      <td>[10, 20)</td>\n",
       "    </tr>\n",
       "  </tbody>\n",
       "</table>\n",
       "<p>13292 rows × 13 columns</p>\n",
       "</div>"
      ],
      "text/plain": [
       "          id  gender   age  hypertension  heart_disease ever_married  \\\n",
       "0      30669    Male   3.0             0              0           No   \n",
       "2      16523  Female   8.0             0              0           No   \n",
       "4      46136    Male  14.0             0              0           No   \n",
       "5      32257  Female  47.0             0              0          Yes   \n",
       "10     10460  Female  79.0             0              0          Yes   \n",
       "...      ...     ...   ...           ...            ...          ...   \n",
       "43382  35179  Female   9.0             0              0           No   \n",
       "43385   5366  Female  66.0             0              0          Yes   \n",
       "43389  30759    Male  14.0             0              0           No   \n",
       "43391  30077    Male   6.0             0              0           No   \n",
       "43392  45266  Female  18.0             0              0           No   \n",
       "\n",
       "           work_type Residence_type  avg_glucose_level   bmi smoking_status  \\\n",
       "0           children          Rural              95.12  18.0            NaN   \n",
       "2            Private          Urban             110.89  17.6            NaN   \n",
       "4       Never_worked          Rural             161.28  19.1            NaN   \n",
       "5            Private          Urban             210.95  50.1            NaN   \n",
       "10          Govt_job          Urban              77.08  35.0            NaN   \n",
       "...              ...            ...                ...   ...            ...   \n",
       "43382       children          Urban              68.49  16.8            NaN   \n",
       "43385  Self-employed          Urban              92.10  24.8            NaN   \n",
       "43389       children          Urban              82.48  24.8            NaN   \n",
       "43391       children          Urban              77.48  19.1            NaN   \n",
       "43392        Private          Urban             131.96  22.8            NaN   \n",
       "\n",
       "       stroke Age Category  \n",
       "0           0      [0, 10)  \n",
       "2           0      [0, 10)  \n",
       "4           0     [10, 20)  \n",
       "5           0     [40, 50)  \n",
       "10          0     [70, 80)  \n",
       "...       ...          ...  \n",
       "43382       0      [0, 10)  \n",
       "43385       0     [60, 70)  \n",
       "43389       0     [10, 20)  \n",
       "43391       0      [0, 10)  \n",
       "43392       0     [10, 20)  \n",
       "\n",
       "[13292 rows x 13 columns]"
      ]
     },
     "execution_count": 28,
     "metadata": {},
     "output_type": "execute_result"
    }
   ],
   "source": [
    "nan_values = df['smoking_status'].isna()\n",
    "df[nan_values]"
   ]
  },
  {
   "cell_type": "code",
   "execution_count": 29,
   "id": "797d2034",
   "metadata": {},
   "outputs": [
    {
     "data": {
      "text/html": [
       "<div>\n",
       "<style scoped>\n",
       "    .dataframe tbody tr th:only-of-type {\n",
       "        vertical-align: middle;\n",
       "    }\n",
       "\n",
       "    .dataframe tbody tr th {\n",
       "        vertical-align: top;\n",
       "    }\n",
       "\n",
       "    .dataframe thead th {\n",
       "        text-align: right;\n",
       "    }\n",
       "</style>\n",
       "<table border=\"1\" class=\"dataframe\">\n",
       "  <thead>\n",
       "    <tr style=\"text-align: right;\">\n",
       "      <th></th>\n",
       "      <th>id</th>\n",
       "      <th>gender</th>\n",
       "      <th>age</th>\n",
       "      <th>hypertension</th>\n",
       "      <th>heart_disease</th>\n",
       "      <th>ever_married</th>\n",
       "      <th>work_type</th>\n",
       "      <th>Residence_type</th>\n",
       "      <th>avg_glucose_level</th>\n",
       "      <th>bmi</th>\n",
       "      <th>smoking_status</th>\n",
       "      <th>stroke</th>\n",
       "      <th>Age Category</th>\n",
       "    </tr>\n",
       "  </thead>\n",
       "  <tbody>\n",
       "    <tr>\n",
       "      <th>0</th>\n",
       "      <td>30669</td>\n",
       "      <td>Male</td>\n",
       "      <td>3.00</td>\n",
       "      <td>0</td>\n",
       "      <td>0</td>\n",
       "      <td>No</td>\n",
       "      <td>children</td>\n",
       "      <td>Rural</td>\n",
       "      <td>95.12</td>\n",
       "      <td>18.0</td>\n",
       "      <td>NaN</td>\n",
       "      <td>0</td>\n",
       "      <td>[0, 10)</td>\n",
       "    </tr>\n",
       "    <tr>\n",
       "      <th>2</th>\n",
       "      <td>16523</td>\n",
       "      <td>Female</td>\n",
       "      <td>8.00</td>\n",
       "      <td>0</td>\n",
       "      <td>0</td>\n",
       "      <td>No</td>\n",
       "      <td>Private</td>\n",
       "      <td>Urban</td>\n",
       "      <td>110.89</td>\n",
       "      <td>17.6</td>\n",
       "      <td>NaN</td>\n",
       "      <td>0</td>\n",
       "      <td>[0, 10)</td>\n",
       "    </tr>\n",
       "    <tr>\n",
       "      <th>4</th>\n",
       "      <td>46136</td>\n",
       "      <td>Male</td>\n",
       "      <td>14.00</td>\n",
       "      <td>0</td>\n",
       "      <td>0</td>\n",
       "      <td>No</td>\n",
       "      <td>Never_worked</td>\n",
       "      <td>Rural</td>\n",
       "      <td>161.28</td>\n",
       "      <td>19.1</td>\n",
       "      <td>NaN</td>\n",
       "      <td>0</td>\n",
       "      <td>[10, 20)</td>\n",
       "    </tr>\n",
       "    <tr>\n",
       "      <th>33</th>\n",
       "      <td>33759</td>\n",
       "      <td>Female</td>\n",
       "      <td>3.00</td>\n",
       "      <td>0</td>\n",
       "      <td>0</td>\n",
       "      <td>No</td>\n",
       "      <td>children</td>\n",
       "      <td>Urban</td>\n",
       "      <td>73.74</td>\n",
       "      <td>16.0</td>\n",
       "      <td>NaN</td>\n",
       "      <td>0</td>\n",
       "      <td>[0, 10)</td>\n",
       "    </tr>\n",
       "    <tr>\n",
       "      <th>35</th>\n",
       "      <td>26325</td>\n",
       "      <td>Male</td>\n",
       "      <td>14.00</td>\n",
       "      <td>0</td>\n",
       "      <td>0</td>\n",
       "      <td>No</td>\n",
       "      <td>Govt_job</td>\n",
       "      <td>Urban</td>\n",
       "      <td>82.34</td>\n",
       "      <td>31.6</td>\n",
       "      <td>NaN</td>\n",
       "      <td>0</td>\n",
       "      <td>[10, 20)</td>\n",
       "    </tr>\n",
       "    <tr>\n",
       "      <th>...</th>\n",
       "      <td>...</td>\n",
       "      <td>...</td>\n",
       "      <td>...</td>\n",
       "      <td>...</td>\n",
       "      <td>...</td>\n",
       "      <td>...</td>\n",
       "      <td>...</td>\n",
       "      <td>...</td>\n",
       "      <td>...</td>\n",
       "      <td>...</td>\n",
       "      <td>...</td>\n",
       "      <td>...</td>\n",
       "      <td>...</td>\n",
       "    </tr>\n",
       "    <tr>\n",
       "      <th>43369</th>\n",
       "      <td>62703</td>\n",
       "      <td>Male</td>\n",
       "      <td>1.72</td>\n",
       "      <td>0</td>\n",
       "      <td>0</td>\n",
       "      <td>No</td>\n",
       "      <td>children</td>\n",
       "      <td>Rural</td>\n",
       "      <td>81.38</td>\n",
       "      <td>17.8</td>\n",
       "      <td>NaN</td>\n",
       "      <td>0</td>\n",
       "      <td>[0, 10)</td>\n",
       "    </tr>\n",
       "    <tr>\n",
       "      <th>43376</th>\n",
       "      <td>65913</td>\n",
       "      <td>Female</td>\n",
       "      <td>3.00</td>\n",
       "      <td>0</td>\n",
       "      <td>0</td>\n",
       "      <td>No</td>\n",
       "      <td>children</td>\n",
       "      <td>Rural</td>\n",
       "      <td>83.32</td>\n",
       "      <td>21.3</td>\n",
       "      <td>NaN</td>\n",
       "      <td>0</td>\n",
       "      <td>[0, 10)</td>\n",
       "    </tr>\n",
       "    <tr>\n",
       "      <th>43382</th>\n",
       "      <td>35179</td>\n",
       "      <td>Female</td>\n",
       "      <td>9.00</td>\n",
       "      <td>0</td>\n",
       "      <td>0</td>\n",
       "      <td>No</td>\n",
       "      <td>children</td>\n",
       "      <td>Urban</td>\n",
       "      <td>68.49</td>\n",
       "      <td>16.8</td>\n",
       "      <td>NaN</td>\n",
       "      <td>0</td>\n",
       "      <td>[0, 10)</td>\n",
       "    </tr>\n",
       "    <tr>\n",
       "      <th>43389</th>\n",
       "      <td>30759</td>\n",
       "      <td>Male</td>\n",
       "      <td>14.00</td>\n",
       "      <td>0</td>\n",
       "      <td>0</td>\n",
       "      <td>No</td>\n",
       "      <td>children</td>\n",
       "      <td>Urban</td>\n",
       "      <td>82.48</td>\n",
       "      <td>24.8</td>\n",
       "      <td>NaN</td>\n",
       "      <td>0</td>\n",
       "      <td>[10, 20)</td>\n",
       "    </tr>\n",
       "    <tr>\n",
       "      <th>43391</th>\n",
       "      <td>30077</td>\n",
       "      <td>Male</td>\n",
       "      <td>6.00</td>\n",
       "      <td>0</td>\n",
       "      <td>0</td>\n",
       "      <td>No</td>\n",
       "      <td>children</td>\n",
       "      <td>Urban</td>\n",
       "      <td>77.48</td>\n",
       "      <td>19.1</td>\n",
       "      <td>NaN</td>\n",
       "      <td>0</td>\n",
       "      <td>[0, 10)</td>\n",
       "    </tr>\n",
       "  </tbody>\n",
       "</table>\n",
       "<p>6118 rows × 13 columns</p>\n",
       "</div>"
      ],
      "text/plain": [
       "          id  gender    age  hypertension  heart_disease ever_married  \\\n",
       "0      30669    Male   3.00             0              0           No   \n",
       "2      16523  Female   8.00             0              0           No   \n",
       "4      46136    Male  14.00             0              0           No   \n",
       "33     33759  Female   3.00             0              0           No   \n",
       "35     26325    Male  14.00             0              0           No   \n",
       "...      ...     ...    ...           ...            ...          ...   \n",
       "43369  62703    Male   1.72             0              0           No   \n",
       "43376  65913  Female   3.00             0              0           No   \n",
       "43382  35179  Female   9.00             0              0           No   \n",
       "43389  30759    Male  14.00             0              0           No   \n",
       "43391  30077    Male   6.00             0              0           No   \n",
       "\n",
       "          work_type Residence_type  avg_glucose_level   bmi smoking_status  \\\n",
       "0          children          Rural              95.12  18.0            NaN   \n",
       "2           Private          Urban             110.89  17.6            NaN   \n",
       "4      Never_worked          Rural             161.28  19.1            NaN   \n",
       "33         children          Urban              73.74  16.0            NaN   \n",
       "35         Govt_job          Urban              82.34  31.6            NaN   \n",
       "...             ...            ...                ...   ...            ...   \n",
       "43369      children          Rural              81.38  17.8            NaN   \n",
       "43376      children          Rural              83.32  21.3            NaN   \n",
       "43382      children          Urban              68.49  16.8            NaN   \n",
       "43389      children          Urban              82.48  24.8            NaN   \n",
       "43391      children          Urban              77.48  19.1            NaN   \n",
       "\n",
       "       stroke Age Category  \n",
       "0           0      [0, 10)  \n",
       "2           0      [0, 10)  \n",
       "4           0     [10, 20)  \n",
       "33          0      [0, 10)  \n",
       "35          0     [10, 20)  \n",
       "...       ...          ...  \n",
       "43369       0      [0, 10)  \n",
       "43376       0      [0, 10)  \n",
       "43382       0      [0, 10)  \n",
       "43389       0     [10, 20)  \n",
       "43391       0      [0, 10)  \n",
       "\n",
       "[6118 rows x 13 columns]"
      ]
     },
     "execution_count": 29,
     "metadata": {},
     "output_type": "execute_result"
    }
   ],
   "source": [
    "\n",
    "df.loc[(df['smoking_status'].isna()) & (df['age'] < 18)]\n"
   ]
  },
  {
   "cell_type": "code",
   "execution_count": 30,
   "id": "8376b6ed",
   "metadata": {},
   "outputs": [
    {
     "data": {
      "text/html": [
       "<div>\n",
       "<style scoped>\n",
       "    .dataframe tbody tr th:only-of-type {\n",
       "        vertical-align: middle;\n",
       "    }\n",
       "\n",
       "    .dataframe tbody tr th {\n",
       "        vertical-align: top;\n",
       "    }\n",
       "\n",
       "    .dataframe thead th {\n",
       "        text-align: right;\n",
       "    }\n",
       "</style>\n",
       "<table border=\"1\" class=\"dataframe\">\n",
       "  <thead>\n",
       "    <tr style=\"text-align: right;\">\n",
       "      <th></th>\n",
       "      <th>id</th>\n",
       "      <th>gender</th>\n",
       "      <th>age</th>\n",
       "      <th>hypertension</th>\n",
       "      <th>heart_disease</th>\n",
       "      <th>ever_married</th>\n",
       "      <th>work_type</th>\n",
       "      <th>Residence_type</th>\n",
       "      <th>avg_glucose_level</th>\n",
       "      <th>bmi</th>\n",
       "      <th>smoking_status</th>\n",
       "      <th>stroke</th>\n",
       "      <th>Age Category</th>\n",
       "    </tr>\n",
       "  </thead>\n",
       "  <tbody>\n",
       "    <tr>\n",
       "      <th>5</th>\n",
       "      <td>32257</td>\n",
       "      <td>Female</td>\n",
       "      <td>47.0</td>\n",
       "      <td>0</td>\n",
       "      <td>0</td>\n",
       "      <td>Yes</td>\n",
       "      <td>Private</td>\n",
       "      <td>Urban</td>\n",
       "      <td>210.95</td>\n",
       "      <td>50.1</td>\n",
       "      <td>NaN</td>\n",
       "      <td>0</td>\n",
       "      <td>[40, 50)</td>\n",
       "    </tr>\n",
       "    <tr>\n",
       "      <th>10</th>\n",
       "      <td>10460</td>\n",
       "      <td>Female</td>\n",
       "      <td>79.0</td>\n",
       "      <td>0</td>\n",
       "      <td>0</td>\n",
       "      <td>Yes</td>\n",
       "      <td>Govt_job</td>\n",
       "      <td>Urban</td>\n",
       "      <td>77.08</td>\n",
       "      <td>35.0</td>\n",
       "      <td>NaN</td>\n",
       "      <td>0</td>\n",
       "      <td>[70, 80)</td>\n",
       "    </tr>\n",
       "    <tr>\n",
       "      <th>20</th>\n",
       "      <td>29217</td>\n",
       "      <td>Female</td>\n",
       "      <td>65.0</td>\n",
       "      <td>1</td>\n",
       "      <td>0</td>\n",
       "      <td>Yes</td>\n",
       "      <td>Private</td>\n",
       "      <td>Rural</td>\n",
       "      <td>75.70</td>\n",
       "      <td>41.8</td>\n",
       "      <td>NaN</td>\n",
       "      <td>0</td>\n",
       "      <td>[60, 70)</td>\n",
       "    </tr>\n",
       "    <tr>\n",
       "      <th>30</th>\n",
       "      <td>67210</td>\n",
       "      <td>Male</td>\n",
       "      <td>27.0</td>\n",
       "      <td>0</td>\n",
       "      <td>0</td>\n",
       "      <td>Yes</td>\n",
       "      <td>Self-employed</td>\n",
       "      <td>Urban</td>\n",
       "      <td>82.90</td>\n",
       "      <td>25.0</td>\n",
       "      <td>NaN</td>\n",
       "      <td>0</td>\n",
       "      <td>[20, 30)</td>\n",
       "    </tr>\n",
       "    <tr>\n",
       "      <th>31</th>\n",
       "      <td>29908</td>\n",
       "      <td>Female</td>\n",
       "      <td>47.0</td>\n",
       "      <td>0</td>\n",
       "      <td>0</td>\n",
       "      <td>Yes</td>\n",
       "      <td>Private</td>\n",
       "      <td>Urban</td>\n",
       "      <td>103.26</td>\n",
       "      <td>25.4</td>\n",
       "      <td>NaN</td>\n",
       "      <td>0</td>\n",
       "      <td>[40, 50)</td>\n",
       "    </tr>\n",
       "    <tr>\n",
       "      <th>...</th>\n",
       "      <td>...</td>\n",
       "      <td>...</td>\n",
       "      <td>...</td>\n",
       "      <td>...</td>\n",
       "      <td>...</td>\n",
       "      <td>...</td>\n",
       "      <td>...</td>\n",
       "      <td>...</td>\n",
       "      <td>...</td>\n",
       "      <td>...</td>\n",
       "      <td>...</td>\n",
       "      <td>...</td>\n",
       "      <td>...</td>\n",
       "    </tr>\n",
       "    <tr>\n",
       "      <th>43367</th>\n",
       "      <td>45683</td>\n",
       "      <td>Male</td>\n",
       "      <td>62.0</td>\n",
       "      <td>0</td>\n",
       "      <td>1</td>\n",
       "      <td>Yes</td>\n",
       "      <td>Govt_job</td>\n",
       "      <td>Urban</td>\n",
       "      <td>71.90</td>\n",
       "      <td>26.9</td>\n",
       "      <td>NaN</td>\n",
       "      <td>0</td>\n",
       "      <td>[60, 70)</td>\n",
       "    </tr>\n",
       "    <tr>\n",
       "      <th>43368</th>\n",
       "      <td>50503</td>\n",
       "      <td>Female</td>\n",
       "      <td>34.0</td>\n",
       "      <td>0</td>\n",
       "      <td>0</td>\n",
       "      <td>Yes</td>\n",
       "      <td>Private</td>\n",
       "      <td>Urban</td>\n",
       "      <td>85.86</td>\n",
       "      <td>40.1</td>\n",
       "      <td>NaN</td>\n",
       "      <td>0</td>\n",
       "      <td>[30, 40)</td>\n",
       "    </tr>\n",
       "    <tr>\n",
       "      <th>43372</th>\n",
       "      <td>45066</td>\n",
       "      <td>Male</td>\n",
       "      <td>36.0</td>\n",
       "      <td>1</td>\n",
       "      <td>0</td>\n",
       "      <td>Yes</td>\n",
       "      <td>Private</td>\n",
       "      <td>Urban</td>\n",
       "      <td>149.22</td>\n",
       "      <td>33.4</td>\n",
       "      <td>NaN</td>\n",
       "      <td>0</td>\n",
       "      <td>[30, 40)</td>\n",
       "    </tr>\n",
       "    <tr>\n",
       "      <th>43379</th>\n",
       "      <td>13530</td>\n",
       "      <td>Male</td>\n",
       "      <td>47.0</td>\n",
       "      <td>0</td>\n",
       "      <td>1</td>\n",
       "      <td>Yes</td>\n",
       "      <td>Govt_job</td>\n",
       "      <td>Urban</td>\n",
       "      <td>89.25</td>\n",
       "      <td>29.0</td>\n",
       "      <td>NaN</td>\n",
       "      <td>0</td>\n",
       "      <td>[40, 50)</td>\n",
       "    </tr>\n",
       "    <tr>\n",
       "      <th>43385</th>\n",
       "      <td>5366</td>\n",
       "      <td>Female</td>\n",
       "      <td>66.0</td>\n",
       "      <td>0</td>\n",
       "      <td>0</td>\n",
       "      <td>Yes</td>\n",
       "      <td>Self-employed</td>\n",
       "      <td>Urban</td>\n",
       "      <td>92.10</td>\n",
       "      <td>24.8</td>\n",
       "      <td>NaN</td>\n",
       "      <td>0</td>\n",
       "      <td>[60, 70)</td>\n",
       "    </tr>\n",
       "  </tbody>\n",
       "</table>\n",
       "<p>6981 rows × 13 columns</p>\n",
       "</div>"
      ],
      "text/plain": [
       "          id  gender   age  hypertension  heart_disease ever_married  \\\n",
       "5      32257  Female  47.0             0              0          Yes   \n",
       "10     10460  Female  79.0             0              0          Yes   \n",
       "20     29217  Female  65.0             1              0          Yes   \n",
       "30     67210    Male  27.0             0              0          Yes   \n",
       "31     29908  Female  47.0             0              0          Yes   \n",
       "...      ...     ...   ...           ...            ...          ...   \n",
       "43367  45683    Male  62.0             0              1          Yes   \n",
       "43368  50503  Female  34.0             0              0          Yes   \n",
       "43372  45066    Male  36.0             1              0          Yes   \n",
       "43379  13530    Male  47.0             0              1          Yes   \n",
       "43385   5366  Female  66.0             0              0          Yes   \n",
       "\n",
       "           work_type Residence_type  avg_glucose_level   bmi smoking_status  \\\n",
       "5            Private          Urban             210.95  50.1            NaN   \n",
       "10          Govt_job          Urban              77.08  35.0            NaN   \n",
       "20           Private          Rural              75.70  41.8            NaN   \n",
       "30     Self-employed          Urban              82.90  25.0            NaN   \n",
       "31           Private          Urban             103.26  25.4            NaN   \n",
       "...              ...            ...                ...   ...            ...   \n",
       "43367       Govt_job          Urban              71.90  26.9            NaN   \n",
       "43368        Private          Urban              85.86  40.1            NaN   \n",
       "43372        Private          Urban             149.22  33.4            NaN   \n",
       "43379       Govt_job          Urban              89.25  29.0            NaN   \n",
       "43385  Self-employed          Urban              92.10  24.8            NaN   \n",
       "\n",
       "       stroke Age Category  \n",
       "5           0     [40, 50)  \n",
       "10          0     [70, 80)  \n",
       "20          0     [60, 70)  \n",
       "30          0     [20, 30)  \n",
       "31          0     [40, 50)  \n",
       "...       ...          ...  \n",
       "43367       0     [60, 70)  \n",
       "43368       0     [30, 40)  \n",
       "43372       0     [30, 40)  \n",
       "43379       0     [40, 50)  \n",
       "43385       0     [60, 70)  \n",
       "\n",
       "[6981 rows x 13 columns]"
      ]
     },
     "execution_count": 30,
     "metadata": {},
     "output_type": "execute_result"
    }
   ],
   "source": [
    "\n",
    "df.loc[(df['smoking_status'].isna()) & (df['age'] > 18)]\n"
   ]
  },
  {
   "cell_type": "code",
   "execution_count": 31,
   "id": "de65ed82",
   "metadata": {},
   "outputs": [
    {
     "data": {
      "text/plain": [
       "array([nan, 'never smoked', 'formerly smoked', 'smokes'], dtype=object)"
      ]
     },
     "execution_count": 31,
     "metadata": {},
     "output_type": "execute_result"
    }
   ],
   "source": [
    "df.smoking_status.unique()"
   ]
  },
  {
   "cell_type": "code",
   "execution_count": 32,
   "id": "909a7b50",
   "metadata": {},
   "outputs": [
    {
     "data": {
      "text/html": [
       "<div>\n",
       "<style scoped>\n",
       "    .dataframe tbody tr th:only-of-type {\n",
       "        vertical-align: middle;\n",
       "    }\n",
       "\n",
       "    .dataframe tbody tr th {\n",
       "        vertical-align: top;\n",
       "    }\n",
       "\n",
       "    .dataframe thead th {\n",
       "        text-align: right;\n",
       "    }\n",
       "</style>\n",
       "<table border=\"1\" class=\"dataframe\">\n",
       "  <thead>\n",
       "    <tr style=\"text-align: right;\">\n",
       "      <th></th>\n",
       "      <th>id</th>\n",
       "      <th>gender</th>\n",
       "      <th>age</th>\n",
       "      <th>hypertension</th>\n",
       "      <th>heart_disease</th>\n",
       "      <th>ever_married</th>\n",
       "      <th>work_type</th>\n",
       "      <th>Residence_type</th>\n",
       "      <th>avg_glucose_level</th>\n",
       "      <th>bmi</th>\n",
       "      <th>smoking_status</th>\n",
       "      <th>stroke</th>\n",
       "      <th>Age Category</th>\n",
       "    </tr>\n",
       "  </thead>\n",
       "  <tbody>\n",
       "    <tr>\n",
       "      <th>0</th>\n",
       "      <td>30669</td>\n",
       "      <td>Male</td>\n",
       "      <td>3.0</td>\n",
       "      <td>0</td>\n",
       "      <td>0</td>\n",
       "      <td>No</td>\n",
       "      <td>children</td>\n",
       "      <td>Rural</td>\n",
       "      <td>95.12</td>\n",
       "      <td>18.0</td>\n",
       "      <td>never smoked</td>\n",
       "      <td>0</td>\n",
       "      <td>[0, 10)</td>\n",
       "    </tr>\n",
       "    <tr>\n",
       "      <th>1</th>\n",
       "      <td>30468</td>\n",
       "      <td>Male</td>\n",
       "      <td>58.0</td>\n",
       "      <td>1</td>\n",
       "      <td>0</td>\n",
       "      <td>Yes</td>\n",
       "      <td>Private</td>\n",
       "      <td>Urban</td>\n",
       "      <td>87.96</td>\n",
       "      <td>39.2</td>\n",
       "      <td>never smoked</td>\n",
       "      <td>0</td>\n",
       "      <td>[50, 60)</td>\n",
       "    </tr>\n",
       "    <tr>\n",
       "      <th>2</th>\n",
       "      <td>16523</td>\n",
       "      <td>Female</td>\n",
       "      <td>8.0</td>\n",
       "      <td>0</td>\n",
       "      <td>0</td>\n",
       "      <td>No</td>\n",
       "      <td>Private</td>\n",
       "      <td>Urban</td>\n",
       "      <td>110.89</td>\n",
       "      <td>17.6</td>\n",
       "      <td>never smoked</td>\n",
       "      <td>0</td>\n",
       "      <td>[0, 10)</td>\n",
       "    </tr>\n",
       "    <tr>\n",
       "      <th>3</th>\n",
       "      <td>56543</td>\n",
       "      <td>Female</td>\n",
       "      <td>70.0</td>\n",
       "      <td>0</td>\n",
       "      <td>0</td>\n",
       "      <td>Yes</td>\n",
       "      <td>Private</td>\n",
       "      <td>Rural</td>\n",
       "      <td>69.04</td>\n",
       "      <td>35.9</td>\n",
       "      <td>formerly smoked</td>\n",
       "      <td>0</td>\n",
       "      <td>[70, 80)</td>\n",
       "    </tr>\n",
       "    <tr>\n",
       "      <th>4</th>\n",
       "      <td>46136</td>\n",
       "      <td>Male</td>\n",
       "      <td>14.0</td>\n",
       "      <td>0</td>\n",
       "      <td>0</td>\n",
       "      <td>No</td>\n",
       "      <td>Never_worked</td>\n",
       "      <td>Rural</td>\n",
       "      <td>161.28</td>\n",
       "      <td>19.1</td>\n",
       "      <td>never smoked</td>\n",
       "      <td>0</td>\n",
       "      <td>[10, 20)</td>\n",
       "    </tr>\n",
       "  </tbody>\n",
       "</table>\n",
       "</div>"
      ],
      "text/plain": [
       "      id  gender   age  hypertension  heart_disease ever_married  \\\n",
       "0  30669    Male   3.0             0              0           No   \n",
       "1  30468    Male  58.0             1              0          Yes   \n",
       "2  16523  Female   8.0             0              0           No   \n",
       "3  56543  Female  70.0             0              0          Yes   \n",
       "4  46136    Male  14.0             0              0           No   \n",
       "\n",
       "      work_type Residence_type  avg_glucose_level   bmi   smoking_status  \\\n",
       "0      children          Rural              95.12  18.0     never smoked   \n",
       "1       Private          Urban              87.96  39.2     never smoked   \n",
       "2       Private          Urban             110.89  17.6     never smoked   \n",
       "3       Private          Rural              69.04  35.9  formerly smoked   \n",
       "4  Never_worked          Rural             161.28  19.1     never smoked   \n",
       "\n",
       "   stroke Age Category  \n",
       "0       0      [0, 10)  \n",
       "1       0     [50, 60)  \n",
       "2       0      [0, 10)  \n",
       "3       0     [70, 80)  \n",
       "4       0     [10, 20)  "
      ]
     },
     "execution_count": 32,
     "metadata": {},
     "output_type": "execute_result"
    }
   ],
   "source": [
    "# Define a function to impute 'smoking_status' based on age\n",
    "def impute_smoking_status(row):\n",
    "    if pd.isna(row['smoking_status']):\n",
    "        if row['age'] > 25:\n",
    "            return 'smokes'\n",
    "        elif 19 <= row['age'] <= 25:\n",
    "            return 'formerly smoked'\n",
    "        else:\n",
    "            return 'never smoked'\n",
    "    else:\n",
    "        return row['smoking_status']\n",
    "\n",
    "# Apply the impute_smoking_status function to each row\n",
    "df['smoking_status'] = df.apply(impute_smoking_status, axis=1)\n",
    "\n",
    "df.head()\n"
   ]
  },
  {
   "cell_type": "code",
   "execution_count": 173,
   "id": "a6039e67",
   "metadata": {},
   "outputs": [
    {
     "name": "stdout",
     "output_type": "stream",
     "text": [
      "********************\n",
      "1    19786\n",
      "2    10350\n",
      "0     6403\n",
      "Name: smoking_status, dtype: int64\n",
      "********************\n"
     ]
    },
    {
     "data": {
      "image/png": "[encoded data removed]",
      "text/plain": [
       "<Figure size 1440x360 with 1 Axes>"
      ]
     },
     "metadata": {
      "needs_background": "light"
     },
     "output_type": "display_data"
    }
   ],
   "source": [
    "# Seeing which car sold most\n",
    "plt.figure(figsize=(20,5))\n",
    "sns.countplot(x='smoking_status' , data=df)\n",
    "plt.title('types of the smoking status')\n",
    "print('*'*20)\n",
    "print(df['smoking_status'].value_counts())\n",
    "print('*'*20)\n",
    "plt.show()"
   ]
  },
  {
   "cell_type": "markdown",
   "id": "0052b524",
   "metadata": {},
   "source": [
    "### For this, we have 3 categories: never smoked, formerly smoked, and smoked. So in this, we have null values too. I have tested null values, like if the age group is between 0 and 18 never smokes, then 19 to 25 formerly smoke, and after that, the person smokes."
   ]
  },
  {
   "cell_type": "code",
   "execution_count": null,
   "id": "f93183ca",
   "metadata": {},
   "outputs": [],
   "source": []
  },
  {
   "cell_type": "code",
   "execution_count": 34,
   "id": "432b82fa",
   "metadata": {},
   "outputs": [
    {
     "data": {
      "text/plain": [
       "Index(['id', 'gender', 'age', 'hypertension', 'heart_disease', 'ever_married',\n",
       "       'work_type', 'Residence_type', 'avg_glucose_level', 'bmi',\n",
       "       'smoking_status', 'stroke', 'Age Category'],\n",
       "      dtype='object')"
      ]
     },
     "execution_count": 34,
     "metadata": {},
     "output_type": "execute_result"
    }
   ],
   "source": [
    "df.columns"
   ]
  },
  {
   "cell_type": "code",
   "execution_count": 35,
   "id": "01a79dca",
   "metadata": {},
   "outputs": [
    {
     "data": {
      "text/plain": [
       "28.605038390004545"
      ]
     },
     "execution_count": 35,
     "metadata": {},
     "output_type": "execute_result"
    }
   ],
   "source": [
    "df['bmi'].mean()"
   ]
  },
  {
   "cell_type": "code",
   "execution_count": 36,
   "id": "54defa33",
   "metadata": {},
   "outputs": [],
   "source": [
    "df['bmi'].fillna(2283.3004408418697 , inplace=True)"
   ]
  },
  {
   "cell_type": "code",
   "execution_count": 37,
   "id": "a014d434",
   "metadata": {},
   "outputs": [
    {
     "data": {
      "text/plain": [
       "id                      int64\n",
       "gender                 object\n",
       "age                   float64\n",
       "hypertension            int64\n",
       "heart_disease           int64\n",
       "ever_married           object\n",
       "work_type              object\n",
       "Residence_type         object\n",
       "avg_glucose_level     float64\n",
       "bmi                   float64\n",
       "smoking_status         object\n",
       "stroke                  int64\n",
       "Age Category         category\n",
       "dtype: object"
      ]
     },
     "execution_count": 37,
     "metadata": {},
     "output_type": "execute_result"
    }
   ],
   "source": [
    "df.dtypes"
   ]
  },
  {
   "cell_type": "code",
   "execution_count": 38,
   "id": "903f1823",
   "metadata": {},
   "outputs": [
    {
     "data": {
      "text/plain": [
       "id                   0\n",
       "gender               0\n",
       "age                  0\n",
       "hypertension         0\n",
       "heart_disease        0\n",
       "ever_married         0\n",
       "work_type            0\n",
       "Residence_type       0\n",
       "avg_glucose_level    0\n",
       "bmi                  0\n",
       "smoking_status       0\n",
       "stroke               0\n",
       "Age Category         0\n",
       "dtype: int64"
      ]
     },
     "execution_count": 38,
     "metadata": {},
     "output_type": "execute_result"
    }
   ],
   "source": [
    "df.isnull().sum()"
   ]
  },
  {
   "cell_type": "code",
   "execution_count": 39,
   "id": "3401e5f3",
   "metadata": {},
   "outputs": [
    {
     "data": {
      "text/plain": [
       "0    42617\n",
       "1      783\n",
       "Name: stroke, dtype: int64"
      ]
     },
     "execution_count": 39,
     "metadata": {},
     "output_type": "execute_result"
    }
   ],
   "source": [
    "df['stroke'].value_counts()"
   ]
  },
  {
   "cell_type": "code",
   "execution_count": 40,
   "id": "934c36d9",
   "metadata": {},
   "outputs": [
    {
     "name": "stdout",
     "output_type": "stream",
     "text": [
      "0    42617\n",
      "1      783\n",
      "Name: stroke, dtype: int64\n",
      "********************\n"
     ]
    },
    {
     "data": {
      "image/png": "[encoded data removed]",
      "text/plain": [
       "<Figure size 504x504 with 1 Axes>"
      ]
     },
     "metadata": {},
     "output_type": "display_data"
    }
   ],
   "source": [
    "plt.figure(figsize=(7,7))\n",
    "df['stroke'].value_counts().plot(kind='pie',autopct = '%.2f' , rotatelabels = True,explode = [0,0.1])\n",
    "print(df.stroke.value_counts())\n",
    "print('*'*20)\n",
    "plt.show()"
   ]
  },
  {
   "cell_type": "markdown",
   "id": "7c168487",
   "metadata": {},
   "source": [
    "### From the above chart, we observe and assume that 0 is a non-stroke person with almost 98%, and 2% is a stroke person. So we can say that our data is an imbalanced data set."
   ]
  },
  {
   "cell_type": "code",
   "execution_count": null,
   "id": "72e7b8c8",
   "metadata": {},
   "outputs": [],
   "source": []
  },
  {
   "cell_type": "code",
   "execution_count": 41,
   "id": "f72e7287",
   "metadata": {},
   "outputs": [
    {
     "data": {
      "text/plain": [
       "<AxesSubplot:xlabel='gender', ylabel='count'>"
      ]
     },
     "execution_count": 41,
     "metadata": {},
     "output_type": "execute_result"
    },
    {
     "data": {
      "image/png": "[encoded data removed]",
      "text/plain": [
       "<Figure size 720x360 with 1 Axes>"
      ]
     },
     "metadata": {
      "needs_background": "light"
     },
     "output_type": "display_data"
    }
   ],
   "source": [
    "\n",
    "plt.figure(figsize=(10,5))\n",
    "sns.countplot(x=\"gender\", hue=\"stroke\" , data=df)\n"
   ]
  },
  {
   "cell_type": "code",
   "execution_count": 42,
   "id": "b6d6fd6b",
   "metadata": {},
   "outputs": [
    {
     "data": {
      "text/plain": [
       "<AxesSubplot:xlabel='ever_married', ylabel='count'>"
      ]
     },
     "execution_count": 42,
     "metadata": {},
     "output_type": "execute_result"
    },
    {
     "data": {
      "image/png": "[encoded data removed]",
      "text/plain": [
       "<Figure size 720x360 with 1 Axes>"
      ]
     },
     "metadata": {
      "needs_background": "light"
     },
     "output_type": "display_data"
    }
   ],
   "source": [
    "\n",
    "plt.figure(figsize=(10,5))\n",
    "sns.countplot(x=\"ever_married\" , hue=\"stroke\" , data=df)"
   ]
  },
  {
   "cell_type": "code",
   "execution_count": 43,
   "id": "cca8b194",
   "metadata": {},
   "outputs": [
    {
     "data": {
      "text/plain": [
       "<AxesSubplot:xlabel='work_type', ylabel='count'>"
      ]
     },
     "execution_count": 43,
     "metadata": {},
     "output_type": "execute_result"
    },
    {
     "data": {
      "image/png": "[encoded data removed]",
      "text/plain": [
       "<Figure size 720x360 with 1 Axes>"
      ]
     },
     "metadata": {
      "needs_background": "light"
     },
     "output_type": "display_data"
    }
   ],
   "source": [
    "\n",
    "plt.figure(figsize=(10,5))\n",
    "sns.countplot(x='work_type' , hue=\"stroke\" , data=df)"
   ]
  },
  {
   "cell_type": "code",
   "execution_count": 44,
   "id": "ffc4f3e3",
   "metadata": {},
   "outputs": [
    {
     "data": {
      "text/plain": [
       "<AxesSubplot:xlabel='Residence_type', ylabel='count'>"
      ]
     },
     "execution_count": 44,
     "metadata": {},
     "output_type": "execute_result"
    },
    {
     "data": {
      "image/png": "[encoded data removed]",
      "text/plain": [
       "<Figure size 720x360 with 1 Axes>"
      ]
     },
     "metadata": {
      "needs_background": "light"
     },
     "output_type": "display_data"
    }
   ],
   "source": [
    "\n",
    "\n",
    "plt.figure(figsize=(10,5))\n",
    "sns.countplot(x=\"Residence_type\" , hue=\"stroke\" , data=df)"
   ]
  },
  {
   "cell_type": "code",
   "execution_count": 45,
   "id": "0326eb2f",
   "metadata": {},
   "outputs": [
    {
     "data": {
      "text/plain": [
       "<AxesSubplot:xlabel='smoking_status', ylabel='count'>"
      ]
     },
     "execution_count": 45,
     "metadata": {},
     "output_type": "execute_result"
    },
    {
     "data": {
      "image/png": "[encoded data removed]",
      "text/plain": [
       "<Figure size 720x360 with 1 Axes>"
      ]
     },
     "metadata": {
      "needs_background": "light"
     },
     "output_type": "display_data"
    }
   ],
   "source": [
    "\n",
    "\n",
    "plt.figure(figsize=(10,5))\n",
    "sns.countplot(x=\"smoking_status\" , hue=\"stroke\" , data=df)"
   ]
  },
  {
   "cell_type": "code",
   "execution_count": 46,
   "id": "639ce440",
   "metadata": {},
   "outputs": [
    {
     "data": {
      "text/html": [
       "<div>\n",
       "<style scoped>\n",
       "    .dataframe tbody tr th:only-of-type {\n",
       "        vertical-align: middle;\n",
       "    }\n",
       "\n",
       "    .dataframe tbody tr th {\n",
       "        vertical-align: top;\n",
       "    }\n",
       "\n",
       "    .dataframe thead th {\n",
       "        text-align: right;\n",
       "    }\n",
       "</style>\n",
       "<table border=\"1\" class=\"dataframe\">\n",
       "  <thead>\n",
       "    <tr style=\"text-align: right;\">\n",
       "      <th></th>\n",
       "      <th>id</th>\n",
       "      <th>age</th>\n",
       "      <th>hypertension</th>\n",
       "      <th>heart_disease</th>\n",
       "      <th>avg_glucose_level</th>\n",
       "      <th>bmi</th>\n",
       "      <th>stroke</th>\n",
       "    </tr>\n",
       "  </thead>\n",
       "  <tbody>\n",
       "    <tr>\n",
       "      <th>count</th>\n",
       "      <td>43400.000000</td>\n",
       "      <td>43400.000000</td>\n",
       "      <td>43400.000000</td>\n",
       "      <td>43400.000000</td>\n",
       "      <td>43400.000000</td>\n",
       "      <td>43400.000000</td>\n",
       "      <td>43400.000000</td>\n",
       "    </tr>\n",
       "    <tr>\n",
       "      <th>mean</th>\n",
       "      <td>36326.142350</td>\n",
       "      <td>42.217894</td>\n",
       "      <td>0.093571</td>\n",
       "      <td>0.047512</td>\n",
       "      <td>104.482750</td>\n",
       "      <td>104.558142</td>\n",
       "      <td>0.018041</td>\n",
       "    </tr>\n",
       "    <tr>\n",
       "      <th>std</th>\n",
       "      <td>21072.134879</td>\n",
       "      <td>22.519649</td>\n",
       "      <td>0.291235</td>\n",
       "      <td>0.212733</td>\n",
       "      <td>43.111751</td>\n",
       "      <td>406.871468</td>\n",
       "      <td>0.133103</td>\n",
       "    </tr>\n",
       "    <tr>\n",
       "      <th>min</th>\n",
       "      <td>1.000000</td>\n",
       "      <td>0.080000</td>\n",
       "      <td>0.000000</td>\n",
       "      <td>0.000000</td>\n",
       "      <td>55.000000</td>\n",
       "      <td>10.100000</td>\n",
       "      <td>0.000000</td>\n",
       "    </tr>\n",
       "    <tr>\n",
       "      <th>25%</th>\n",
       "      <td>18038.500000</td>\n",
       "      <td>24.000000</td>\n",
       "      <td>0.000000</td>\n",
       "      <td>0.000000</td>\n",
       "      <td>77.540000</td>\n",
       "      <td>23.400000</td>\n",
       "      <td>0.000000</td>\n",
       "    </tr>\n",
       "    <tr>\n",
       "      <th>50%</th>\n",
       "      <td>36351.500000</td>\n",
       "      <td>44.000000</td>\n",
       "      <td>0.000000</td>\n",
       "      <td>0.000000</td>\n",
       "      <td>91.580000</td>\n",
       "      <td>28.100000</td>\n",
       "      <td>0.000000</td>\n",
       "    </tr>\n",
       "    <tr>\n",
       "      <th>75%</th>\n",
       "      <td>54514.250000</td>\n",
       "      <td>60.000000</td>\n",
       "      <td>0.000000</td>\n",
       "      <td>0.000000</td>\n",
       "      <td>112.070000</td>\n",
       "      <td>33.600000</td>\n",
       "      <td>0.000000</td>\n",
       "    </tr>\n",
       "    <tr>\n",
       "      <th>max</th>\n",
       "      <td>72943.000000</td>\n",
       "      <td>82.000000</td>\n",
       "      <td>1.000000</td>\n",
       "      <td>1.000000</td>\n",
       "      <td>291.050000</td>\n",
       "      <td>2283.300441</td>\n",
       "      <td>1.000000</td>\n",
       "    </tr>\n",
       "  </tbody>\n",
       "</table>\n",
       "</div>"
      ],
      "text/plain": [
       "                 id           age  hypertension  heart_disease  \\\n",
       "count  43400.000000  43400.000000  43400.000000   43400.000000   \n",
       "mean   36326.142350     42.217894      0.093571       0.047512   \n",
       "std    21072.134879     22.519649      0.291235       0.212733   \n",
       "min        1.000000      0.080000      0.000000       0.000000   \n",
       "25%    18038.500000     24.000000      0.000000       0.000000   \n",
       "50%    36351.500000     44.000000      0.000000       0.000000   \n",
       "75%    54514.250000     60.000000      0.000000       0.000000   \n",
       "max    72943.000000     82.000000      1.000000       1.000000   \n",
       "\n",
       "       avg_glucose_level           bmi        stroke  \n",
       "count       43400.000000  43400.000000  43400.000000  \n",
       "mean          104.482750    104.558142      0.018041  \n",
       "std            43.111751    406.871468      0.133103  \n",
       "min            55.000000     10.100000      0.000000  \n",
       "25%            77.540000     23.400000      0.000000  \n",
       "50%            91.580000     28.100000      0.000000  \n",
       "75%           112.070000     33.600000      0.000000  \n",
       "max           291.050000   2283.300441      1.000000  "
      ]
     },
     "execution_count": 46,
     "metadata": {},
     "output_type": "execute_result"
    }
   ],
   "source": [
    "#describe dataset\n",
    "df.describe()"
   ]
  },
  {
   "cell_type": "markdown",
   "id": "507d5fbb",
   "metadata": {},
   "source": [
    "### Observation\n",
    "\n",
    "** There are no null values present in the dataset.\n",
    "\n",
    "** In the age column, we have some data scattered, as the standard deviation is almost half of its mean.\n",
    "\n",
    "** In the hypertension column and the heart disease column, we have some data scattered as the standard deviation is greater than the mean.\n",
    "\n",
    "** The AVG glucose level looks fine.\n",
    "\n",
    "** There are scatter data points in the BMI column."
   ]
  },
  {
   "cell_type": "code",
   "execution_count": null,
   "id": "c6df9dda",
   "metadata": {},
   "outputs": [],
   "source": []
  },
  {
   "cell_type": "markdown",
   "id": "58538f2f",
   "metadata": {},
   "source": [
    "# Applying Encoder technique"
   ]
  },
  {
   "cell_type": "code",
   "execution_count": 47,
   "id": "4fdc9fad",
   "metadata": {},
   "outputs": [
    {
     "data": {
      "text/plain": [
       "id                      int64\n",
       "gender                 object\n",
       "age                   float64\n",
       "hypertension            int64\n",
       "heart_disease           int64\n",
       "ever_married           object\n",
       "work_type              object\n",
       "Residence_type         object\n",
       "avg_glucose_level     float64\n",
       "bmi                   float64\n",
       "smoking_status         object\n",
       "stroke                  int64\n",
       "Age Category         category\n",
       "dtype: object"
      ]
     },
     "execution_count": 47,
     "metadata": {},
     "output_type": "execute_result"
    }
   ],
   "source": [
    "df.dtypes"
   ]
  },
  {
   "cell_type": "code",
   "execution_count": 48,
   "id": "4f96ebdf",
   "metadata": {},
   "outputs": [],
   "source": [
    "from sklearn.preprocessing import LabelEncoder"
   ]
  },
  {
   "cell_type": "code",
   "execution_count": 49,
   "id": "2b5a4210",
   "metadata": {},
   "outputs": [],
   "source": [
    "le=LabelEncoder()\n",
    "df1=le.fit_transform(df['gender'])\n",
    "pd.Series(df1)\n",
    "df['gender']=df1"
   ]
  },
  {
   "cell_type": "code",
   "execution_count": 50,
   "id": "294c90b5",
   "metadata": {},
   "outputs": [],
   "source": [
    "df2=le.fit_transform(df['ever_married'])\n",
    "pd.Series(df2)\n",
    "df['ever_married']=df2"
   ]
  },
  {
   "cell_type": "code",
   "execution_count": 51,
   "id": "0a842123",
   "metadata": {},
   "outputs": [],
   "source": [
    "df3=le.fit_transform(df['work_type'])\n",
    "pd.Series(df3)\n",
    "df['work_type']=df3"
   ]
  },
  {
   "cell_type": "code",
   "execution_count": 52,
   "id": "8e87f2cd",
   "metadata": {},
   "outputs": [],
   "source": [
    "df4=le.fit_transform(df['Residence_type'])\n",
    "pd.Series(df4)\n",
    "df['Residence_type']=df4"
   ]
  },
  {
   "cell_type": "code",
   "execution_count": 53,
   "id": "98bd6119",
   "metadata": {},
   "outputs": [],
   "source": [
    "df5=le.fit_transform(df['smoking_status'])\n",
    "pd.Series(df5)\n",
    "df['smoking_status']=df5"
   ]
  },
  {
   "cell_type": "code",
   "execution_count": 54,
   "id": "60ca3059",
   "metadata": {},
   "outputs": [
    {
     "data": {
      "text/plain": [
       "id                      int64\n",
       "gender                  int32\n",
       "age                   float64\n",
       "hypertension            int64\n",
       "heart_disease           int64\n",
       "ever_married            int32\n",
       "work_type               int32\n",
       "Residence_type          int32\n",
       "avg_glucose_level     float64\n",
       "bmi                   float64\n",
       "smoking_status          int32\n",
       "stroke                  int64\n",
       "Age Category         category\n",
       "dtype: object"
      ]
     },
     "execution_count": 54,
     "metadata": {},
     "output_type": "execute_result"
    }
   ],
   "source": [
    "df.dtypes"
   ]
  },
  {
   "cell_type": "code",
   "execution_count": null,
   "id": "42142300",
   "metadata": {},
   "outputs": [],
   "source": []
  },
  {
   "cell_type": "markdown",
   "id": "d4e05d43",
   "metadata": {},
   "source": [
    "# Splitting the label and feature to apply SMOTE"
   ]
  },
  {
   "cell_type": "code",
   "execution_count": 55,
   "id": "76b6e591",
   "metadata": {},
   "outputs": [],
   "source": [
    "# seperate label n feature\n",
    "X=df.drop(['id' , 'stroke' , 'Age Category'], axis=1)\n",
    "y=df.stroke"
   ]
  },
  {
   "cell_type": "code",
   "execution_count": 56,
   "id": "d578d90c",
   "metadata": {},
   "outputs": [],
   "source": [
    "from sklearn.model_selection import train_test_split,GridSearchCV"
   ]
  },
  {
   "cell_type": "code",
   "execution_count": 57,
   "id": "f60b87f1",
   "metadata": {},
   "outputs": [],
   "source": [
    "X_train,X_test,y_train,y_test=train_test_split(X,y,train_size=0.75,random_state=41)"
   ]
  },
  {
   "cell_type": "code",
   "execution_count": 58,
   "id": "e2a6f972",
   "metadata": {},
   "outputs": [
    {
     "data": {
      "text/plain": [
       "Counter({0: 31955, 1: 595})"
      ]
     },
     "execution_count": 58,
     "metadata": {},
     "output_type": "execute_result"
    }
   ],
   "source": [
    "#to see how much data is going to y_train set\n",
    "from collections import Counter\n",
    "Counter(y_train)"
   ]
  },
  {
   "cell_type": "code",
   "execution_count": 59,
   "id": "b4fcfaba",
   "metadata": {},
   "outputs": [],
   "source": [
    "#balancing the dataset using upsampling or Oversampling technique (SMOTE)\n",
    "from imblearn.over_sampling import SMOTE\n"
   ]
  },
  {
   "cell_type": "code",
   "execution_count": null,
   "id": "bf327baa",
   "metadata": {},
   "outputs": [],
   "source": []
  },
  {
   "cell_type": "markdown",
   "id": "7a30ecba",
   "metadata": {},
   "source": [
    "# Import SMOTE"
   ]
  },
  {
   "cell_type": "code",
   "execution_count": 60,
   "id": "740599fd",
   "metadata": {},
   "outputs": [
    {
     "name": "stdout",
     "output_type": "stream",
     "text": [
      "the number of classes before fit:  Counter({0: 31955, 1: 595})\n",
      "the number of classes after fit:  Counter({0: 31955, 1: 23966})\n"
     ]
    }
   ],
   "source": [
    "# coding for SMOTE\n",
    "ove_smp=SMOTE(0.75)  # how much extra data you want\n",
    "X_train_ns,y_train_ns=ove_smp.fit_resample(X_train,y_train)\n",
    "print('the number of classes before fit: ',format(Counter(y_train)))\n",
    "print('the number of classes after fit: ',format(Counter(y_train_ns)))\n",
    "\n",
    "\n",
    "# and for future we pass X_train_ns,X_test,y_train_ns,y_test=train_test_split"
   ]
  },
  {
   "cell_type": "code",
   "execution_count": null,
   "id": "5e73e4fb",
   "metadata": {},
   "outputs": [],
   "source": []
  },
  {
   "cell_type": "code",
   "execution_count": null,
   "id": "d34d5914",
   "metadata": {},
   "outputs": [],
   "source": []
  },
  {
   "cell_type": "markdown",
   "id": "54a46f66",
   "metadata": {},
   "source": [
    "# Plotting the heatmap to observe Co-relation"
   ]
  },
  {
   "cell_type": "code",
   "execution_count": 61,
   "id": "e3e24ea3",
   "metadata": {},
   "outputs": [
    {
     "data": {
      "text/plain": [
       "(12, 12)"
      ]
     },
     "execution_count": 61,
     "metadata": {},
     "output_type": "execute_result"
    }
   ],
   "source": [
    "corr=df.corr()\n",
    "corr.shape"
   ]
  },
  {
   "cell_type": "code",
   "execution_count": 62,
   "id": "106107fe",
   "metadata": {},
   "outputs": [
    {
     "data": {
      "image/png": "[encoded data removed]",
      "text/plain": [
       "<Figure size 1080x720 with 2 Axes>"
      ]
     },
     "metadata": {
      "needs_background": "light"
     },
     "output_type": "display_data"
    }
   ],
   "source": [
    "corr=df.corr().abs()\n",
    "plt.figure(figsize=(15,10))\n",
    "sns.heatmap(corr,annot=True)\n",
    "plt.show()"
   ]
  },
  {
   "cell_type": "markdown",
   "id": "0d852804",
   "metadata": {},
   "source": [
    "### From the above heatmap, we observe that there is no such issue of multicollinearity."
   ]
  },
  {
   "cell_type": "code",
   "execution_count": null,
   "id": "36a8d558",
   "metadata": {},
   "outputs": [],
   "source": []
  },
  {
   "cell_type": "code",
   "execution_count": null,
   "id": "81baaade",
   "metadata": {},
   "outputs": [],
   "source": []
  },
  {
   "cell_type": "markdown",
   "id": "56253c50",
   "metadata": {},
   "source": [
    "# Plotting Histogram plot to see how data is distributed on an interval scale"
   ]
  },
  {
   "cell_type": "code",
   "execution_count": 63,
   "id": "d071b216",
   "metadata": {},
   "outputs": [
    {
     "data": {
      "image/png": "[encoded data removed]",
      "text/plain": [
       "<Figure size 1440x1080 with 10 Axes>"
      ]
     },
     "metadata": {},
     "output_type": "display_data"
    }
   ],
   "source": [
    "# now lets see how data is distributed for every column \n",
    "\n",
    "plt.figure(figsize=(20,15) , facecolor = 'yellow')\n",
    "plotnumber = 1\n",
    "\n",
    "for column in X:\n",
    "    if plotnumber <= 12:\n",
    "        ax = plt.subplot(4,3,plotnumber)\n",
    "        sns.histplot (X[column])\n",
    "        plt.xlabel(column , fontsize=10)\n",
    "        \n",
    "    plotnumber += 1\n",
    "plt.show()"
   ]
  },
  {
   "cell_type": "markdown",
   "id": "957f159b",
   "metadata": {},
   "source": [
    "## So here our continuous data is only age and avg_glucose_level, and we observe skewness."
   ]
  },
  {
   "cell_type": "code",
   "execution_count": null,
   "id": "898c0cf5",
   "metadata": {},
   "outputs": [],
   "source": []
  },
  {
   "cell_type": "code",
   "execution_count": null,
   "id": "bd9dde29",
   "metadata": {},
   "outputs": [],
   "source": []
  },
  {
   "cell_type": "markdown",
   "id": "9562350e",
   "metadata": {},
   "source": [
    "# Plotting Distribution plot to see how data is distributed"
   ]
  },
  {
   "cell_type": "code",
   "execution_count": 64,
   "id": "425ee85c",
   "metadata": {},
   "outputs": [
    {
     "data": {
      "image/png": "[encoded data removed]",
      "text/plain": [
       "<Figure size 1440x1080 with 10 Axes>"
      ]
     },
     "metadata": {},
     "output_type": "display_data"
    }
   ],
   "source": [
    "# now lets see how data is distributed for every column \n",
    "\n",
    "plt.figure(figsize=(20,15) , facecolor = 'yellow')\n",
    "plotnumber = 1\n",
    "\n",
    "for column in X:\n",
    "    if plotnumber <= 20:\n",
    "        ax = plt.subplot(4,5,plotnumber)\n",
    "        sns.distplot (X[column])\n",
    "        plt.xlabel(column , fontsize=10)\n",
    "        \n",
    "    plotnumber += 1\n",
    "plt.show()"
   ]
  },
  {
   "cell_type": "code",
   "execution_count": null,
   "id": "36bca372",
   "metadata": {},
   "outputs": [],
   "source": []
  },
  {
   "cell_type": "code",
   "execution_count": null,
   "id": "163b2327",
   "metadata": {},
   "outputs": [],
   "source": []
  },
  {
   "cell_type": "markdown",
   "id": "23d9674d",
   "metadata": {},
   "source": [
    "# Plotting Scatter plot to see realtion between feature and label"
   ]
  },
  {
   "cell_type": "code",
   "execution_count": 65,
   "id": "115899b4",
   "metadata": {},
   "outputs": [
    {
     "data": {
      "image/png": "[encoded data removed]",
      "text/plain": [
       "<Figure size 1440x1080 with 10 Axes>"
      ]
     },
     "metadata": {},
     "output_type": "display_data"
    }
   ],
   "source": [
    "# so find relationship between feature(X) and label(y) by visulization using scatter plot\n",
    "\n",
    "plt.figure(figsize = (20,15) , facecolor = 'red')\n",
    "plotnumber = 1\n",
    "\n",
    "for column in X:   #here feature is new X so X\n",
    "    if plotnumber <= 20:\n",
    "        ax = plt.subplot(4,5,plotnumber)\n",
    "        plt.scatter(X[column] , y)\n",
    "        plt.xlabel(column , fontsize = 10)\n",
    "        plt.ylabel('W' , fontsize = 10)\n",
    "    plotnumber += 1\n",
    "plt.show()"
   ]
  },
  {
   "cell_type": "code",
   "execution_count": null,
   "id": "119052d6",
   "metadata": {},
   "outputs": [],
   "source": []
  },
  {
   "cell_type": "markdown",
   "id": "32a6b360",
   "metadata": {},
   "source": [
    "# Plotting Regression plot to see realtion between feature and label"
   ]
  },
  {
   "cell_type": "code",
   "execution_count": 66,
   "id": "b3d96f90",
   "metadata": {},
   "outputs": [
    {
     "data": {
      "image/png": "[encoded data removed]",
      "text/plain": [
       "<Figure size 1440x1080 with 10 Axes>"
      ]
     },
     "metadata": {},
     "output_type": "display_data"
    }
   ],
   "source": [
    "# now lets see how data is distributed for every column \n",
    "\n",
    "plt.figure(figsize=(20,15) , facecolor = 'yellow')\n",
    "plotnumber = 1\n",
    "\n",
    "for column in X:\n",
    "    if plotnumber <= 20:\n",
    "        ax = plt.subplot(4,5,plotnumber)\n",
    "        sns.regplot (X[column],y)\n",
    "        plt.xlabel(column , fontsize=10)\n",
    "        \n",
    "    plotnumber += 1\n",
    "plt.show()"
   ]
  },
  {
   "cell_type": "markdown",
   "id": "295013c7",
   "metadata": {},
   "source": [
    "## From the above scatter plot and regression plot, we observe that most of the features are positively related to our label, and some of the features are non-linear."
   ]
  },
  {
   "cell_type": "code",
   "execution_count": null,
   "id": "80a6654b",
   "metadata": {},
   "outputs": [],
   "source": []
  },
  {
   "cell_type": "code",
   "execution_count": null,
   "id": "ec1aaf64",
   "metadata": {},
   "outputs": [],
   "source": []
  },
  {
   "cell_type": "markdown",
   "id": "30b263db",
   "metadata": {},
   "source": [
    "# Plotting Box plot to see outliers are present are not"
   ]
  },
  {
   "cell_type": "code",
   "execution_count": 67,
   "id": "be9ed696",
   "metadata": {},
   "outputs": [
    {
     "data": {
      "image/png": "[encoded data removed]",
      "text/plain": [
       "<Figure size 1440x1080 with 10 Axes>"
      ]
     },
     "metadata": {},
     "output_type": "display_data"
    }
   ],
   "source": [
    "plt.figure(figsize=(20,15) , facecolor = 'red')\n",
    "graph = 1\n",
    "\n",
    "for column in X:\n",
    "    \n",
    "    if graph <= 12:\n",
    "        plt.subplot (4,3,graph)\n",
    "        ax = sns.boxplot(X[column])\n",
    "        plt.xlabel(column , fontsize = 20)\n",
    "        \n",
    "    graph += 1\n",
    "    \n",
    "plt.show()"
   ]
  },
  {
   "cell_type": "markdown",
   "id": "f5d41d3e",
   "metadata": {},
   "source": [
    "## So we observe some outliers in hypertension, heart disease, work type, BMI, and AVG glucose level, and we have to treat them."
   ]
  },
  {
   "cell_type": "code",
   "execution_count": null,
   "id": "67569347",
   "metadata": {},
   "outputs": [],
   "source": []
  },
  {
   "cell_type": "code",
   "execution_count": 68,
   "id": "c0803c82",
   "metadata": {},
   "outputs": [
    {
     "data": {
      "text/plain": [
       "(43400, 13)"
      ]
     },
     "execution_count": 68,
     "metadata": {},
     "output_type": "execute_result"
    }
   ],
   "source": [
    "df.shape"
   ]
  },
  {
   "cell_type": "code",
   "execution_count": null,
   "id": "e7a48852",
   "metadata": {},
   "outputs": [],
   "source": []
  },
  {
   "cell_type": "markdown",
   "id": "9ca418d5",
   "metadata": {},
   "source": [
    "# Treating Outliers with Z-score Method"
   ]
  },
  {
   "cell_type": "code",
   "execution_count": 69,
   "id": "883fc8b6",
   "metadata": {},
   "outputs": [],
   "source": [
    "# we will go with 3 std\n",
    "# from scipy import stats\n",
    "\n",
    "from scipy.stats import zscore"
   ]
  },
  {
   "cell_type": "code",
   "execution_count": 71,
   "id": "3ab3adf3",
   "metadata": {},
   "outputs": [
    {
     "data": {
      "text/html": [
       "<div>\n",
       "<style scoped>\n",
       "    .dataframe tbody tr th:only-of-type {\n",
       "        vertical-align: middle;\n",
       "    }\n",
       "\n",
       "    .dataframe tbody tr th {\n",
       "        vertical-align: top;\n",
       "    }\n",
       "\n",
       "    .dataframe thead th {\n",
       "        text-align: right;\n",
       "    }\n",
       "</style>\n",
       "<table border=\"1\" class=\"dataframe\">\n",
       "  <thead>\n",
       "    <tr style=\"text-align: right;\">\n",
       "      <th></th>\n",
       "      <th>id</th>\n",
       "      <th>gender</th>\n",
       "      <th>age</th>\n",
       "      <th>hypertension</th>\n",
       "      <th>heart_disease</th>\n",
       "      <th>ever_married</th>\n",
       "      <th>work_type</th>\n",
       "      <th>Residence_type</th>\n",
       "      <th>avg_glucose_level</th>\n",
       "      <th>bmi</th>\n",
       "      <th>smoking_status</th>\n",
       "      <th>stroke</th>\n",
       "    </tr>\n",
       "  </thead>\n",
       "  <tbody>\n",
       "    <tr>\n",
       "      <th>count</th>\n",
       "      <td>36539.000000</td>\n",
       "      <td>36539.000000</td>\n",
       "      <td>36539.000000</td>\n",
       "      <td>36539.0</td>\n",
       "      <td>36539.0</td>\n",
       "      <td>36539.000000</td>\n",
       "      <td>36539.000000</td>\n",
       "      <td>36539.000000</td>\n",
       "      <td>36539.000000</td>\n",
       "      <td>36539.000000</td>\n",
       "      <td>36539.000000</td>\n",
       "      <td>36539.000000</td>\n",
       "    </tr>\n",
       "    <tr>\n",
       "      <th>mean</th>\n",
       "      <td>36720.328252</td>\n",
       "      <td>0.394236</td>\n",
       "      <td>38.773917</td>\n",
       "      <td>0.0</td>\n",
       "      <td>0.0</td>\n",
       "      <td>0.599086</td>\n",
       "      <td>2.218096</td>\n",
       "      <td>0.501820</td>\n",
       "      <td>99.068458</td>\n",
       "      <td>28.081059</td>\n",
       "      <td>1.108022</td>\n",
       "      <td>0.009716</td>\n",
       "    </tr>\n",
       "    <tr>\n",
       "      <th>std</th>\n",
       "      <td>20902.289474</td>\n",
       "      <td>0.488693</td>\n",
       "      <td>21.894372</td>\n",
       "      <td>0.0</td>\n",
       "      <td>0.0</td>\n",
       "      <td>0.490090</td>\n",
       "      <td>1.115639</td>\n",
       "      <td>0.500004</td>\n",
       "      <td>35.811194</td>\n",
       "      <td>7.660097</td>\n",
       "      <td>0.668461</td>\n",
       "      <td>0.098089</td>\n",
       "    </tr>\n",
       "    <tr>\n",
       "      <th>min</th>\n",
       "      <td>4.000000</td>\n",
       "      <td>0.000000</td>\n",
       "      <td>0.080000</td>\n",
       "      <td>0.0</td>\n",
       "      <td>0.0</td>\n",
       "      <td>0.000000</td>\n",
       "      <td>0.000000</td>\n",
       "      <td>0.000000</td>\n",
       "      <td>55.000000</td>\n",
       "      <td>10.100000</td>\n",
       "      <td>0.000000</td>\n",
       "      <td>0.000000</td>\n",
       "    </tr>\n",
       "    <tr>\n",
       "      <th>25%</th>\n",
       "      <td>18688.500000</td>\n",
       "      <td>0.000000</td>\n",
       "      <td>21.000000</td>\n",
       "      <td>0.0</td>\n",
       "      <td>0.0</td>\n",
       "      <td>0.000000</td>\n",
       "      <td>2.000000</td>\n",
       "      <td>0.000000</td>\n",
       "      <td>76.830000</td>\n",
       "      <td>22.700000</td>\n",
       "      <td>1.000000</td>\n",
       "      <td>0.000000</td>\n",
       "    </tr>\n",
       "    <tr>\n",
       "      <th>50%</th>\n",
       "      <td>36877.000000</td>\n",
       "      <td>0.000000</td>\n",
       "      <td>39.000000</td>\n",
       "      <td>0.0</td>\n",
       "      <td>0.0</td>\n",
       "      <td>1.000000</td>\n",
       "      <td>2.000000</td>\n",
       "      <td>1.000000</td>\n",
       "      <td>90.170000</td>\n",
       "      <td>27.200000</td>\n",
       "      <td>1.000000</td>\n",
       "      <td>0.000000</td>\n",
       "    </tr>\n",
       "    <tr>\n",
       "      <th>75%</th>\n",
       "      <td>54727.000000</td>\n",
       "      <td>1.000000</td>\n",
       "      <td>55.000000</td>\n",
       "      <td>0.0</td>\n",
       "      <td>0.0</td>\n",
       "      <td>1.000000</td>\n",
       "      <td>3.000000</td>\n",
       "      <td>1.000000</td>\n",
       "      <td>108.100000</td>\n",
       "      <td>32.300000</td>\n",
       "      <td>2.000000</td>\n",
       "      <td>0.000000</td>\n",
       "    </tr>\n",
       "    <tr>\n",
       "      <th>max</th>\n",
       "      <td>72943.000000</td>\n",
       "      <td>1.000000</td>\n",
       "      <td>82.000000</td>\n",
       "      <td>0.0</td>\n",
       "      <td>0.0</td>\n",
       "      <td>1.000000</td>\n",
       "      <td>4.000000</td>\n",
       "      <td>1.000000</td>\n",
       "      <td>233.810000</td>\n",
       "      <td>96.100000</td>\n",
       "      <td>2.000000</td>\n",
       "      <td>1.000000</td>\n",
       "    </tr>\n",
       "  </tbody>\n",
       "</table>\n",
       "</div>"
      ],
      "text/plain": [
       "                 id        gender           age  hypertension  heart_disease  \\\n",
       "count  36539.000000  36539.000000  36539.000000       36539.0        36539.0   \n",
       "mean   36720.328252      0.394236     38.773917           0.0            0.0   \n",
       "std    20902.289474      0.488693     21.894372           0.0            0.0   \n",
       "min        4.000000      0.000000      0.080000           0.0            0.0   \n",
       "25%    18688.500000      0.000000     21.000000           0.0            0.0   \n",
       "50%    36877.000000      0.000000     39.000000           0.0            0.0   \n",
       "75%    54727.000000      1.000000     55.000000           0.0            0.0   \n",
       "max    72943.000000      1.000000     82.000000           0.0            0.0   \n",
       "\n",
       "       ever_married     work_type  Residence_type  avg_glucose_level  \\\n",
       "count  36539.000000  36539.000000    36539.000000       36539.000000   \n",
       "mean       0.599086      2.218096        0.501820          99.068458   \n",
       "std        0.490090      1.115639        0.500004          35.811194   \n",
       "min        0.000000      0.000000        0.000000          55.000000   \n",
       "25%        0.000000      2.000000        0.000000          76.830000   \n",
       "50%        1.000000      2.000000        1.000000          90.170000   \n",
       "75%        1.000000      3.000000        1.000000         108.100000   \n",
       "max        1.000000      4.000000        1.000000         233.810000   \n",
       "\n",
       "                bmi  smoking_status        stroke  \n",
       "count  36539.000000    36539.000000  36539.000000  \n",
       "mean      28.081059        1.108022      0.009716  \n",
       "std        7.660097        0.668461      0.098089  \n",
       "min       10.100000        0.000000      0.000000  \n",
       "25%       22.700000        1.000000      0.000000  \n",
       "50%       27.200000        1.000000      0.000000  \n",
       "75%       32.300000        2.000000      0.000000  \n",
       "max       96.100000        2.000000      1.000000  "
      ]
     },
     "execution_count": 71,
     "metadata": {},
     "output_type": "execute_result"
    }
   ],
   "source": [
    "# new code for deleting outlier here we take std = 3\n",
    "z_score = zscore(X)\n",
    "abs_z_score = np.abs(z_score)\n",
    "\n",
    "filtering_entry = (abs_z_score < 3.0 ).all(axis=1)\n",
    "\n",
    "df = df[filtering_entry]\n",
    "\n",
    "df.describe()\n",
    "\n"
   ]
  },
  {
   "cell_type": "code",
   "execution_count": null,
   "id": "ed2ff0ba",
   "metadata": {},
   "outputs": [],
   "source": []
  },
  {
   "cell_type": "markdown",
   "id": "a1351ef6",
   "metadata": {},
   "source": [
    "## Dataloss by removing outliers"
   ]
  },
  {
   "cell_type": "code",
   "execution_count": 72,
   "id": "9192ef28",
   "metadata": {},
   "outputs": [
    {
     "data": {
      "text/plain": [
       "15.808755760368665"
      ]
     },
     "execution_count": 72,
     "metadata": {},
     "output_type": "execute_result"
    }
   ],
   "source": [
    "dataloss=((43400-36539)/43400)*100\n",
    "dataloss"
   ]
  },
  {
   "cell_type": "code",
   "execution_count": null,
   "id": "3c4e7fea",
   "metadata": {},
   "outputs": [],
   "source": []
  },
  {
   "cell_type": "markdown",
   "id": "b84c1ed8",
   "metadata": {},
   "source": [
    "# Finding correlation between feature n lable using CORR method"
   ]
  },
  {
   "cell_type": "code",
   "execution_count": 73,
   "id": "721f90da",
   "metadata": {},
   "outputs": [
    {
     "data": {
      "text/plain": [
       "id                   0.002728\n",
       "gender               0.006307\n",
       "age                  0.126066\n",
       "hypertension              NaN\n",
       "heart_disease             NaN\n",
       "ever_married         0.060533\n",
       "work_type           -0.012861\n",
       "Residence_type       0.002709\n",
       "avg_glucose_level    0.048086\n",
       "bmi                  0.022672\n",
       "smoking_status      -0.003484\n",
       "dtype: float64"
      ]
     },
     "execution_count": 73,
     "metadata": {},
     "output_type": "execute_result"
    }
   ],
   "source": [
    "#  (code type      --   feature corrwith label)\n",
    "\n",
    "df.drop('stroke' , axis =1 ).corrwith (df.stroke)"
   ]
  },
  {
   "cell_type": "code",
   "execution_count": 74,
   "id": "fa384452",
   "metadata": {},
   "outputs": [
    {
     "data": {
      "image/png": "[encoded data removed]",
      "text/plain": [
       "<Figure size 720x504 with 1 Axes>"
      ]
     },
     "metadata": {
      "needs_background": "light"
     },
     "output_type": "display_data"
    }
   ],
   "source": [
    "# convert above numbers into graph for better understanding\n",
    "df.drop('stroke' , axis = 1).corrwith (df.stroke).plot(kind = 'bar' , grid=True , figsize = (10,7) , title = 'correlation with target')\n",
    "\n",
    "plt.show()"
   ]
  },
  {
   "cell_type": "code",
   "execution_count": null,
   "id": "546a0277",
   "metadata": {},
   "outputs": [],
   "source": []
  },
  {
   "cell_type": "markdown",
   "id": "ad181fff",
   "metadata": {},
   "source": [
    "# Scaling the data"
   ]
  },
  {
   "cell_type": "code",
   "execution_count": 75,
   "id": "fab3954f",
   "metadata": {},
   "outputs": [],
   "source": [
    "#scale our data using standard sclar\n",
    "from sklearn.preprocessing import StandardScaler\n",
    "scalar = StandardScaler()\n",
    "X_scaled=scalar.fit_transform(X)"
   ]
  },
  {
   "cell_type": "code",
   "execution_count": null,
   "id": "50cf759f",
   "metadata": {},
   "outputs": [],
   "source": []
  },
  {
   "cell_type": "markdown",
   "id": "2da4c36f",
   "metadata": {},
   "source": [
    "# Checking for the multicollinearity Using VIF"
   ]
  },
  {
   "cell_type": "code",
   "execution_count": 76,
   "id": "2a3ad595",
   "metadata": {},
   "outputs": [
    {
     "data": {
      "text/html": [
       "<div>\n",
       "<style scoped>\n",
       "    .dataframe tbody tr th:only-of-type {\n",
       "        vertical-align: middle;\n",
       "    }\n",
       "\n",
       "    .dataframe tbody tr th {\n",
       "        vertical-align: top;\n",
       "    }\n",
       "\n",
       "    .dataframe thead th {\n",
       "        text-align: right;\n",
       "    }\n",
       "</style>\n",
       "<table border=\"1\" class=\"dataframe\">\n",
       "  <thead>\n",
       "    <tr style=\"text-align: right;\">\n",
       "      <th></th>\n",
       "      <th>vif</th>\n",
       "      <th>features</th>\n",
       "    </tr>\n",
       "  </thead>\n",
       "  <tbody>\n",
       "    <tr>\n",
       "      <th>0</th>\n",
       "      <td>1.014478</td>\n",
       "      <td>gender</td>\n",
       "    </tr>\n",
       "    <tr>\n",
       "      <th>1</th>\n",
       "      <td>2.234210</td>\n",
       "      <td>age</td>\n",
       "    </tr>\n",
       "    <tr>\n",
       "      <th>2</th>\n",
       "      <td>1.103769</td>\n",
       "      <td>hypertension</td>\n",
       "    </tr>\n",
       "    <tr>\n",
       "      <th>3</th>\n",
       "      <td>1.101266</td>\n",
       "      <td>heart_disease</td>\n",
       "    </tr>\n",
       "    <tr>\n",
       "      <th>4</th>\n",
       "      <td>1.990385</td>\n",
       "      <td>ever_married</td>\n",
       "    </tr>\n",
       "    <tr>\n",
       "      <th>5</th>\n",
       "      <td>1.196918</td>\n",
       "      <td>work_type</td>\n",
       "    </tr>\n",
       "    <tr>\n",
       "      <th>6</th>\n",
       "      <td>1.000112</td>\n",
       "      <td>Residence_type</td>\n",
       "    </tr>\n",
       "    <tr>\n",
       "      <th>7</th>\n",
       "      <td>1.087155</td>\n",
       "      <td>avg_glucose_level</td>\n",
       "    </tr>\n",
       "    <tr>\n",
       "      <th>8</th>\n",
       "      <td>1.032613</td>\n",
       "      <td>bmi</td>\n",
       "    </tr>\n",
       "    <tr>\n",
       "      <th>9</th>\n",
       "      <td>1.011321</td>\n",
       "      <td>smoking_status</td>\n",
       "    </tr>\n",
       "  </tbody>\n",
       "</table>\n",
       "</div>"
      ],
      "text/plain": [
       "        vif           features\n",
       "0  1.014478             gender\n",
       "1  2.234210                age\n",
       "2  1.103769       hypertension\n",
       "3  1.101266      heart_disease\n",
       "4  1.990385       ever_married\n",
       "5  1.196918          work_type\n",
       "6  1.000112     Residence_type\n",
       "7  1.087155  avg_glucose_level\n",
       "8  1.032613                bmi\n",
       "9  1.011321     smoking_status"
      ]
     },
     "execution_count": 76,
     "metadata": {},
     "output_type": "execute_result"
    }
   ],
   "source": [
    "# now we check for multicolinearity using VIF\n",
    "from statsmodels.stats.outliers_influence import variance_inflation_factor\n",
    "vif=pd.DataFrame()  #creating empty dataframe\n",
    "\n",
    "vif['vif']=[variance_inflation_factor(X_scaled , i) for i in range(X_scaled.shape[1])]  \n",
    "\n",
    "\n",
    "# for above code first it will execute for statement and shape[1] give all columns and store in i then it will pass to vif \n",
    "##  in that we already have X_scaled so it will compare feature vs feature\n",
    "\n",
    "vif['features']=X.columns  # seperate column for column features\n",
    "\n",
    "vif"
   ]
  },
  {
   "cell_type": "markdown",
   "id": "b907a931",
   "metadata": {},
   "source": [
    "## We assume that for this particular problem, the VIF should not be greater than 5, and since we have no values greater than 5, there is no problem of multicollinearity."
   ]
  },
  {
   "cell_type": "code",
   "execution_count": null,
   "id": "c21a3ecc",
   "metadata": {},
   "outputs": [],
   "source": []
  },
  {
   "cell_type": "code",
   "execution_count": 77,
   "id": "f6577318",
   "metadata": {},
   "outputs": [],
   "source": [
    "df.drop(['hypertension','heart_disease'],axis=1,inplace = True)"
   ]
  },
  {
   "cell_type": "code",
   "execution_count": 78,
   "id": "2ccd2318",
   "metadata": {},
   "outputs": [
    {
     "data": {
      "text/plain": [
       "(36539, 11)"
      ]
     },
     "execution_count": 78,
     "metadata": {},
     "output_type": "execute_result"
    }
   ],
   "source": [
    "df.shape"
   ]
  },
  {
   "cell_type": "code",
   "execution_count": 79,
   "id": "ac605539",
   "metadata": {},
   "outputs": [
    {
     "data": {
      "text/plain": [
       "Index(['id', 'gender', 'age', 'ever_married', 'work_type', 'Residence_type',\n",
       "       'avg_glucose_level', 'bmi', 'smoking_status', 'stroke', 'Age Category'],\n",
       "      dtype='object')"
      ]
     },
     "execution_count": 79,
     "metadata": {},
     "output_type": "execute_result"
    }
   ],
   "source": [
    "df.columns"
   ]
  },
  {
   "cell_type": "code",
   "execution_count": 80,
   "id": "276b6f1a",
   "metadata": {},
   "outputs": [],
   "source": [
    "#Model BUilding\n",
    "new_X = df[['gender','age','ever_married','work_type','Residence_type','avg_glucose_level','bmi','smoking_status']]"
   ]
  },
  {
   "cell_type": "code",
   "execution_count": 81,
   "id": "4c36b00c",
   "metadata": {},
   "outputs": [
    {
     "data": {
      "text/plain": [
       "(36539, 8)"
      ]
     },
     "execution_count": 81,
     "metadata": {},
     "output_type": "execute_result"
    }
   ],
   "source": [
    "new_X.shape"
   ]
  },
  {
   "cell_type": "code",
   "execution_count": 83,
   "id": "55a25f28",
   "metadata": {},
   "outputs": [],
   "source": [
    "y=df.stroke"
   ]
  },
  {
   "cell_type": "code",
   "execution_count": 84,
   "id": "97c8c6e7",
   "metadata": {},
   "outputs": [
    {
     "data": {
      "text/plain": [
       "(36539,)"
      ]
     },
     "execution_count": 84,
     "metadata": {},
     "output_type": "execute_result"
    }
   ],
   "source": [
    "y.shape"
   ]
  },
  {
   "cell_type": "code",
   "execution_count": null,
   "id": "58b26050",
   "metadata": {},
   "outputs": [],
   "source": []
  },
  {
   "cell_type": "code",
   "execution_count": 85,
   "id": "628bb8c9",
   "metadata": {},
   "outputs": [],
   "source": [
    "scalar = StandardScaler()\n",
    "X_scalar = scalar.fit_transform(new_X)"
   ]
  },
  {
   "cell_type": "code",
   "execution_count": 86,
   "id": "668fbabb",
   "metadata": {},
   "outputs": [
    {
     "data": {
      "text/plain": [
       "(36539, 8)"
      ]
     },
     "execution_count": 86,
     "metadata": {},
     "output_type": "execute_result"
    }
   ],
   "source": [
    "X_scalar.shape"
   ]
  },
  {
   "cell_type": "code",
   "execution_count": null,
   "id": "eed7a6fa",
   "metadata": {},
   "outputs": [],
   "source": []
  },
  {
   "cell_type": "markdown",
   "id": "aceb79e4",
   "metadata": {},
   "source": [
    "# DecisionTreeClassifier"
   ]
  },
  {
   "cell_type": "code",
   "execution_count": 87,
   "id": "2f2bcdef",
   "metadata": {},
   "outputs": [],
   "source": [
    "#import necessary librarys\n",
    "import pandas as pd\n",
    "import numpy as np\n",
    "from sklearn.tree import DecisionTreeClassifier #if regression then regressor\n",
    "from sklearn.model_selection import train_test_split,GridSearchCV\n",
    "from sklearn.preprocessing import StandardScaler\n",
    "from sklearn.metrics import accuracy_score,confusion_matrix,roc_curve,roc_auc_score,classification_report\n",
    "import matplotlib.pyplot as plt\n",
    "import seaborn as sns\n",
    "\n",
    "import warnings\n",
    "warnings.filterwarnings('ignore')\n"
   ]
  },
  {
   "cell_type": "code",
   "execution_count": 88,
   "id": "f8cbead4",
   "metadata": {
    "scrolled": true
   },
   "outputs": [
    {
     "name": "stdout",
     "output_type": "stream",
     "text": [
      "Testing Accuracy 0.978544061302682 RandomState 1\n",
      "\n",
      "\n",
      "MAXINING TESTING SCORE 0.978544061302682 ON RANDOM STATE OF 1\n",
      "Testing Accuracy 0.9787629994526547 RandomState 2\n",
      "\n",
      "\n",
      "MAXINING TESTING SCORE 0.9787629994526547 ON RANDOM STATE OF 2\n",
      "Testing Accuracy 0.9796387520525451 RandomState 3\n",
      "\n",
      "\n",
      "MAXINING TESTING SCORE 0.9796387520525451 ON RANDOM STATE OF 3\n",
      "Testing Accuracy 0.9795292829775588 RandomState 4\n",
      "\n",
      "\n",
      "Testing Accuracy 0.9775588396278051 RandomState 5\n",
      "\n",
      "\n",
      "Testing Accuracy 0.9786535303776683 RandomState 6\n",
      "\n",
      "\n",
      "Testing Accuracy 0.9794198139025725 RandomState 7\n",
      "\n",
      "\n",
      "Testing Accuracy 0.9766830870279146 RandomState 8\n",
      "\n",
      "\n",
      "Testing Accuracy 0.9805145046524357 RandomState 9\n",
      "\n",
      "\n",
      "MAXINING TESTING SCORE 0.9805145046524357 ON RANDOM STATE OF 9\n",
      "Testing Accuracy 0.9792008757525998 RandomState 10\n",
      "\n",
      "\n",
      "Testing Accuracy 0.9786535303776683 RandomState 11\n",
      "\n",
      "\n",
      "Testing Accuracy 0.9796387520525451 RandomState 12\n",
      "\n",
      "\n",
      "Testing Accuracy 0.9783251231527094 RandomState 13\n",
      "\n",
      "\n",
      "Testing Accuracy 0.978544061302682 RandomState 14\n",
      "\n",
      "\n",
      "Testing Accuracy 0.978215654077723 RandomState 15\n",
      "\n",
      "\n",
      "Testing Accuracy 0.9779967159277504 RandomState 16\n",
      "\n",
      "\n",
      "Testing Accuracy 0.9789819376026273 RandomState 17\n",
      "\n",
      "\n",
      "Testing Accuracy 0.9820470717022441 RandomState 18\n",
      "\n",
      "\n",
      "MAXINING TESTING SCORE 0.9820470717022441 ON RANDOM STATE OF 18\n",
      "Testing Accuracy 0.9769020251778873 RandomState 19\n",
      "\n",
      "\n",
      "Testing Accuracy 0.9778872468527641 RandomState 20\n",
      "\n",
      "\n",
      "Testing Accuracy 0.9777777777777777 RandomState 21\n",
      "\n",
      "\n",
      "Testing Accuracy 0.9820470717022441 RandomState 22\n",
      "\n",
      "\n",
      "Testing Accuracy 0.9776683087027914 RandomState 23\n",
      "\n",
      "\n",
      "Testing Accuracy 0.9794198139025725 RandomState 24\n",
      "\n",
      "\n",
      "Testing Accuracy 0.9765736179529283 RandomState 25\n",
      "\n",
      "\n",
      "Testing Accuracy 0.9778872468527641 RandomState 26\n",
      "\n",
      "\n",
      "Testing Accuracy 0.9786535303776683 RandomState 27\n",
      "\n",
      "\n",
      "Testing Accuracy 0.976464148877942 RandomState 28\n",
      "\n",
      "\n",
      "Testing Accuracy 0.9800766283524904 RandomState 29\n",
      "\n",
      "\n",
      "Testing Accuracy 0.9799671592775041 RandomState 30\n",
      "\n",
      "\n",
      "Testing Accuracy 0.9796387520525451 RandomState 31\n",
      "\n",
      "\n",
      "Testing Accuracy 0.9797482211275315 RandomState 32\n",
      "\n",
      "\n",
      "Testing Accuracy 0.978872468527641 RandomState 33\n",
      "\n",
      "\n",
      "Testing Accuracy 0.9783251231527094 RandomState 34\n",
      "\n",
      "\n",
      "Testing Accuracy 0.9789819376026273 RandomState 35\n",
      "\n",
      "\n",
      "Testing Accuracy 0.9786535303776683 RandomState 36\n",
      "\n",
      "\n",
      "Testing Accuracy 0.978544061302682 RandomState 37\n",
      "\n",
      "\n",
      "Testing Accuracy 0.9786535303776683 RandomState 38\n",
      "\n",
      "\n",
      "Testing Accuracy 0.9763546798029556 RandomState 39\n",
      "\n",
      "\n",
      "Testing Accuracy 0.9771209633278599 RandomState 40\n",
      "\n",
      "\n",
      "Testing Accuracy 0.9797482211275315 RandomState 41\n",
      "\n",
      "\n",
      "Testing Accuracy 0.9763546798029556 RandomState 42\n",
      "\n",
      "\n",
      "Testing Accuracy 0.9810618500273672 RandomState 43\n",
      "\n",
      "\n",
      "Testing Accuracy 0.9755883962780515 RandomState 44\n",
      "\n",
      "\n",
      "Testing Accuracy 0.9760262725779967 RandomState 45\n",
      "\n",
      "\n",
      "Testing Accuracy 0.978215654077723 RandomState 46\n",
      "\n",
      "\n",
      "Testing Accuracy 0.9775588396278051 RandomState 47\n",
      "\n",
      "\n",
      "Testing Accuracy 0.9769020251778873 RandomState 48\n",
      "\n",
      "\n",
      "Testing Accuracy 0.9748221127531472 RandomState 49\n",
      "\n",
      "\n",
      "Testing Accuracy 0.9772304324028462 RandomState 50\n",
      "\n",
      "\n",
      "Testing Accuracy 0.9779967159277504 RandomState 51\n",
      "\n",
      "\n",
      "Testing Accuracy 0.9790914066776136 RandomState 52\n",
      "\n",
      "\n",
      "Testing Accuracy 0.9784345922276957 RandomState 53\n",
      "\n",
      "\n",
      "Testing Accuracy 0.9786535303776683 RandomState 54\n",
      "\n",
      "\n",
      "Testing Accuracy 0.9820470717022441 RandomState 55\n",
      "\n",
      "\n",
      "Testing Accuracy 0.9783251231527094 RandomState 56\n",
      "\n",
      "\n",
      "Testing Accuracy 0.9792008757525998 RandomState 57\n",
      "\n",
      "\n",
      "Testing Accuracy 0.9784345922276957 RandomState 58\n",
      "\n",
      "\n",
      "Testing Accuracy 0.9805145046524357 RandomState 59\n",
      "\n",
      "\n",
      "Testing Accuracy 0.9794198139025725 RandomState 60\n",
      "\n",
      "\n",
      "Testing Accuracy 0.9794198139025725 RandomState 61\n",
      "\n",
      "\n",
      "Testing Accuracy 0.9793103448275862 RandomState 62\n",
      "\n",
      "\n",
      "Testing Accuracy 0.976135741652983 RandomState 63\n",
      "\n",
      "\n",
      "Testing Accuracy 0.9787629994526547 RandomState 64\n",
      "\n",
      "\n",
      "Testing Accuracy 0.9778872468527641 RandomState 65\n",
      "\n",
      "\n",
      "Testing Accuracy 0.9792008757525998 RandomState 66\n",
      "\n",
      "\n",
      "Testing Accuracy 0.9784345922276957 RandomState 67\n",
      "\n",
      "\n",
      "Testing Accuracy 0.9798576902025178 RandomState 68\n",
      "\n",
      "\n",
      "Testing Accuracy 0.9804050355774494 RandomState 69\n",
      "\n",
      "\n",
      "Testing Accuracy 0.978544061302682 RandomState 70\n",
      "\n",
      "\n",
      "Testing Accuracy 0.9776683087027914 RandomState 71\n",
      "\n",
      "\n",
      "Testing Accuracy 0.9779967159277504 RandomState 72\n",
      "\n",
      "\n",
      "Testing Accuracy 0.9794198139025725 RandomState 73\n",
      "\n",
      "\n",
      "Testing Accuracy 0.9792008757525998 RandomState 74\n",
      "\n",
      "\n",
      "Testing Accuracy 0.9786535303776683 RandomState 75\n",
      "\n",
      "\n",
      "Testing Accuracy 0.9778872468527641 RandomState 76\n",
      "\n",
      "\n",
      "Testing Accuracy 0.9789819376026273 RandomState 77\n",
      "\n",
      "\n",
      "Testing Accuracy 0.9794198139025725 RandomState 78\n",
      "\n",
      "\n",
      "Testing Accuracy 0.978872468527641 RandomState 79\n",
      "\n",
      "\n",
      "Testing Accuracy 0.9809523809523809 RandomState 80\n",
      "\n",
      "\n",
      "Testing Accuracy 0.9807334428024084 RandomState 81\n",
      "\n",
      "\n",
      "Testing Accuracy 0.9800766283524904 RandomState 82\n",
      "\n",
      "\n",
      "Testing Accuracy 0.9792008757525998 RandomState 83\n",
      "\n",
      "\n",
      "Testing Accuracy 0.9809523809523809 RandomState 84\n",
      "\n",
      "\n",
      "Testing Accuracy 0.9804050355774494 RandomState 85\n",
      "\n",
      "\n",
      "Testing Accuracy 0.978544061302682 RandomState 86\n",
      "\n",
      "\n",
      "Testing Accuracy 0.9793103448275862 RandomState 87\n",
      "\n",
      "\n",
      "Testing Accuracy 0.9812807881773399 RandomState 88\n",
      "\n",
      "\n",
      "Testing Accuracy 0.9779967159277504 RandomState 89\n",
      "\n",
      "\n",
      "Testing Accuracy 0.9801860974274768 RandomState 90\n",
      "\n",
      "\n",
      "Testing Accuracy 0.9792008757525998 RandomState 91\n",
      "\n",
      "\n",
      "Testing Accuracy 0.978544061302682 RandomState 92\n",
      "\n",
      "\n",
      "Testing Accuracy 0.9783251231527094 RandomState 93\n",
      "\n",
      "\n",
      "Testing Accuracy 0.9794198139025725 RandomState 94\n",
      "\n",
      "\n",
      "Testing Accuracy 0.9812807881773399 RandomState 95\n",
      "\n",
      "\n",
      "Testing Accuracy 0.9797482211275315 RandomState 96\n",
      "\n",
      "\n",
      "Testing Accuracy 0.978215654077723 RandomState 97\n",
      "\n",
      "\n",
      "Testing Accuracy 0.9797482211275315 RandomState 98\n",
      "\n",
      "\n",
      "Testing Accuracy 0.9813902572523262 RandomState 99\n",
      "\n",
      "\n"
     ]
    }
   ],
   "source": [
    "#Finding the Best Random State\n",
    "MaxAccu=0\n",
    "MaxRS=0\n",
    "\n",
    "for i in range (1,100):\n",
    "    X_train_ns,X_test,y_train_ns,y_test=train_test_split(X_scalar,y,test_size=0.25,random_state=i)\n",
    "    dt=DecisionTreeClassifier()\n",
    "    dt.fit(X_train_ns,y_train_ns)\n",
    "    \n",
    "    y_pred=dt.predict(X_test)\n",
    "    accuracy=accuracy_score(y_test,y_pred)\n",
    "    print ('Testing Accuracy' , accuracy , 'RandomState' ,i)\n",
    "    print('\\n')\n",
    "    \n",
    "    \n",
    "    if accuracy>MaxAccu:\n",
    "        MaxAccu=accuracy\n",
    "        MaxRS=i\n",
    "        print('MAXINING TESTING SCORE' , MaxAccu , 'ON RANDOM STATE OF' , i)"
   ]
  },
  {
   "cell_type": "code",
   "execution_count": 89,
   "id": "0730d472",
   "metadata": {},
   "outputs": [
    {
     "name": "stdout",
     "output_type": "stream",
     "text": [
      "Best Accuracy is  0.9820470717022441 On Random State 18\n"
     ]
    }
   ],
   "source": [
    "print('Best Accuracy is ' , MaxAccu , 'On Random State' , MaxRS)"
   ]
  },
  {
   "cell_type": "code",
   "execution_count": null,
   "id": "3f958b20",
   "metadata": {},
   "outputs": [],
   "source": []
  },
  {
   "cell_type": "markdown",
   "id": "01744b08",
   "metadata": {},
   "source": [
    "## Training the Model"
   ]
  },
  {
   "cell_type": "code",
   "execution_count": 91,
   "id": "35003783",
   "metadata": {},
   "outputs": [],
   "source": [
    "# train test split\n",
    "X_train_ns,X_test,y_train_ns,y_test=train_test_split(X_scalar,y,test_size=0.25,random_state=18)"
   ]
  },
  {
   "cell_type": "code",
   "execution_count": 92,
   "id": "de240ad0",
   "metadata": {},
   "outputs": [],
   "source": [
    "#write one function and call as many time as you want\n",
    "def metric_score (clf,X_train_ns,X_test,y_train_ns,y_test,train=True):\n",
    "    if train:\n",
    "        y_pred = clf.predict(X_train_ns)\n",
    "        print ('====Training Score====')\n",
    "        print (f\"Accuracy score : {accuracy_score(y_train_ns,y_pred)*100:2f}%\")\n",
    "        \n",
    "    elif train==False:\n",
    "        pred = clf.predict(X_test)\n",
    "        print ('====Testing Score====')\n",
    "        print (f\"Accuracy score : {accuracy_score(y_test,pred)*100:2f}%\")\n",
    "        \n",
    "        print ('\\n \\n Classification report \\n ' , classification_report(y_test,pred,digits=2))"
   ]
  },
  {
   "cell_type": "code",
   "execution_count": 93,
   "id": "30809521",
   "metadata": {},
   "outputs": [
    {
     "data": {
      "text/html": [
       "<style>#sk-container-id-1 {color: black;background-color: white;}#sk-container-id-1 pre{padding: 0;}#sk-container-id-1 div.sk-toggleable {background-color: white;}#sk-container-id-1 label.sk-toggleable__label {cursor: pointer;display: block;width: 100%;margin-bottom: 0;padding: 0.3em;box-sizing: border-box;text-align: center;}#sk-container-id-1 label.sk-toggleable__label-arrow:before {content: \"▸\";float: left;margin-right: 0.25em;color: #696969;}#sk-container-id-1 label.sk-toggleable__label-arrow:hover:before {color: black;}#sk-container-id-1 div.sk-estimator:hover label.sk-toggleable__label-arrow:before {color: black;}#sk-container-id-1 div.sk-toggleable__content {max-height: 0;max-width: 0;overflow: hidden;text-align: left;background-color: #f0f8ff;}#sk-container-id-1 div.sk-toggleable__content pre {margin: 0.2em;color: black;border-radius: 0.25em;background-color: #f0f8ff;}#sk-container-id-1 input.sk-toggleable__control:checked~div.sk-toggleable__content {max-height: 200px;max-width: 100%;overflow: auto;}#sk-container-id-1 input.sk-toggleable__control:checked~label.sk-toggleable__label-arrow:before {content: \"▾\";}#sk-container-id-1 div.sk-estimator input.sk-toggleable__control:checked~label.sk-toggleable__label {background-color: #d4ebff;}#sk-container-id-1 div.sk-label input.sk-toggleable__control:checked~label.sk-toggleable__label {background-color: #d4ebff;}#sk-container-id-1 input.sk-hidden--visually {border: 0;clip: rect(1px 1px 1px 1px);clip: rect(1px, 1px, 1px, 1px);height: 1px;margin: -1px;overflow: hidden;padding: 0;position: absolute;width: 1px;}#sk-container-id-1 div.sk-estimator {font-family: monospace;background-color: #f0f8ff;border: 1px dotted black;border-radius: 0.25em;box-sizing: border-box;margin-bottom: 0.5em;}#sk-container-id-1 div.sk-estimator:hover {background-color: #d4ebff;}#sk-container-id-1 div.sk-parallel-item::after {content: \"\";width: 100%;border-bottom: 1px solid gray;flex-grow: 1;}#sk-container-id-1 div.sk-label:hover label.sk-toggleable__label {background-color: #d4ebff;}#sk-container-id-1 div.sk-serial::before {content: \"\";position: absolute;border-left: 1px solid gray;box-sizing: border-box;top: 0;bottom: 0;left: 50%;z-index: 0;}#sk-container-id-1 div.sk-serial {display: flex;flex-direction: column;align-items: center;background-color: white;padding-right: 0.2em;padding-left: 0.2em;position: relative;}#sk-container-id-1 div.sk-item {position: relative;z-index: 1;}#sk-container-id-1 div.sk-parallel {display: flex;align-items: stretch;justify-content: center;background-color: white;position: relative;}#sk-container-id-1 div.sk-item::before, #sk-container-id-1 div.sk-parallel-item::before {content: \"\";position: absolute;border-left: 1px solid gray;box-sizing: border-box;top: 0;bottom: 0;left: 50%;z-index: -1;}#sk-container-id-1 div.sk-parallel-item {display: flex;flex-direction: column;z-index: 1;position: relative;background-color: white;}#sk-container-id-1 div.sk-parallel-item:first-child::after {align-self: flex-end;width: 50%;}#sk-container-id-1 div.sk-parallel-item:last-child::after {align-self: flex-start;width: 50%;}#sk-container-id-1 div.sk-parallel-item:only-child::after {width: 0;}#sk-container-id-1 div.sk-dashed-wrapped {border: 1px dashed gray;margin: 0 0.4em 0.5em 0.4em;box-sizing: border-box;padding-bottom: 0.4em;background-color: white;}#sk-container-id-1 div.sk-label label {font-family: monospace;font-weight: bold;display: inline-block;line-height: 1.2em;}#sk-container-id-1 div.sk-label-container {text-align: center;}#sk-container-id-1 div.sk-container {/* jupyter's `normalize.less` sets `[hidden] { display: none; }` but bootstrap.min.css set `[hidden] { display: none !important; }` so we also need the `!important` here to be able to override the default hidden behavior on the sphinx rendered scikit-learn.org. See: https://github.com/scikit-learn/scikit-learn/issues/21755 */display: inline-block !important;position: relative;}#sk-container-id-1 div.sk-text-repr-fallback {display: none;}</style><div id=\"sk-container-id-1\" class=\"sk-top-container\"><div class=\"sk-text-repr-fallback\"><pre>DecisionTreeClassifier()</pre><b>In a Jupyter environment, please rerun this cell to show the HTML representation or trust the notebook. <br />On GitHub, the HTML representation is unable to render, please try loading this page with nbviewer.org.</b></div><div class=\"sk-container\" hidden><div class=\"sk-item\"><div class=\"sk-estimator sk-toggleable\"><input class=\"sk-toggleable__control sk-hidden--visually\" id=\"sk-estimator-id-1\" type=\"checkbox\" checked><label for=\"sk-estimator-id-1\" class=\"sk-toggleable__label sk-toggleable__label-arrow\">DecisionTreeClassifier</label><div class=\"sk-toggleable__content\"><pre>DecisionTreeClassifier()</pre></div></div></div></div></div>"
      ],
      "text/plain": [
       "DecisionTreeClassifier()"
      ]
     },
     "execution_count": 93,
     "metadata": {},
     "output_type": "execute_result"
    }
   ],
   "source": [
    "# model initilization\n",
    "clf_dt = DecisionTreeClassifier()\n",
    "clf_dt.fit(X_train_ns,y_train_ns)"
   ]
  },
  {
   "cell_type": "code",
   "execution_count": 94,
   "id": "c87ca5b3",
   "metadata": {},
   "outputs": [
    {
     "name": "stdout",
     "output_type": "stream",
     "text": [
      "====Training Score====\n",
      "Accuracy score : 100.000000%\n",
      "====Testing Score====\n",
      "Accuracy score : 98.128079%\n",
      "\n",
      " \n",
      " Classification report \n",
      "                precision    recall  f1-score   support\n",
      "\n",
      "           0       0.99      0.99      0.99      9047\n",
      "           1       0.04      0.05      0.04        88\n",
      "\n",
      "    accuracy                           0.98      9135\n",
      "   macro avg       0.52      0.52      0.52      9135\n",
      "weighted avg       0.98      0.98      0.98      9135\n",
      "\n"
     ]
    }
   ],
   "source": [
    "# call the function\n",
    "metric_score (clf_dt,X_train_ns,X_test,y_train_ns,y_test,train = True)\n",
    "metric_score (clf_dt,X_train_ns,X_test,y_train_ns,y_test,train=False)"
   ]
  },
  {
   "cell_type": "markdown",
   "id": "58de3d39",
   "metadata": {},
   "source": [
    "# Model Score\n",
    "    Training Score = 100.000000%\n",
    "    Testing Score = 98.128079%\n"
   ]
  },
  {
   "cell_type": "code",
   "execution_count": null,
   "id": "0d64ac1a",
   "metadata": {},
   "outputs": [],
   "source": []
  },
  {
   "cell_type": "code",
   "execution_count": null,
   "id": "da6b132a",
   "metadata": {},
   "outputs": [],
   "source": []
  },
  {
   "cell_type": "markdown",
   "id": "ae4c07ce",
   "metadata": {},
   "source": [
    "# Hyperparameter For DecisionTree Classifier"
   ]
  },
  {
   "cell_type": "code",
   "execution_count": 95,
   "id": "56b0c691",
   "metadata": {},
   "outputs": [],
   "source": [
    "# we are tuning 4 important hyperparameter rightnow we are passing the different value for both parameter\n",
    "grid_param = {\n",
    "                'criterion':['gini','entropy'],\n",
    "                'max_depth':range(1,30),\n",
    "                'min_samples_leaf':range(1,5),\n",
    "                'min_samples_split':range(5,10),\n",
    "                'max_leaf_nodes':range(1,10)\n",
    "}"
   ]
  },
  {
   "cell_type": "code",
   "execution_count": 96,
   "id": "94844ef1",
   "metadata": {},
   "outputs": [],
   "source": [
    "# here we are define some parameter and ask gridsearchcv which one is best\n",
    "grid_search = GridSearchCV (estimator = clf_dt,param_grid=grid_param,cv=5,n_jobs=-1)"
   ]
  },
  {
   "cell_type": "code",
   "execution_count": 97,
   "id": "11e0b58f",
   "metadata": {},
   "outputs": [
    {
     "data": {
      "text/html": [
       "<style>#sk-container-id-2 {color: black;background-color: white;}#sk-container-id-2 pre{padding: 0;}#sk-container-id-2 div.sk-toggleable {background-color: white;}#sk-container-id-2 label.sk-toggleable__label {cursor: pointer;display: block;width: 100%;margin-bottom: 0;padding: 0.3em;box-sizing: border-box;text-align: center;}#sk-container-id-2 label.sk-toggleable__label-arrow:before {content: \"▸\";float: left;margin-right: 0.25em;color: #696969;}#sk-container-id-2 label.sk-toggleable__label-arrow:hover:before {color: black;}#sk-container-id-2 div.sk-estimator:hover label.sk-toggleable__label-arrow:before {color: black;}#sk-container-id-2 div.sk-toggleable__content {max-height: 0;max-width: 0;overflow: hidden;text-align: left;background-color: #f0f8ff;}#sk-container-id-2 div.sk-toggleable__content pre {margin: 0.2em;color: black;border-radius: 0.25em;background-color: #f0f8ff;}#sk-container-id-2 input.sk-toggleable__control:checked~div.sk-toggleable__content {max-height: 200px;max-width: 100%;overflow: auto;}#sk-container-id-2 input.sk-toggleable__control:checked~label.sk-toggleable__label-arrow:before {content: \"▾\";}#sk-container-id-2 div.sk-estimator input.sk-toggleable__control:checked~label.sk-toggleable__label {background-color: #d4ebff;}#sk-container-id-2 div.sk-label input.sk-toggleable__control:checked~label.sk-toggleable__label {background-color: #d4ebff;}#sk-container-id-2 input.sk-hidden--visually {border: 0;clip: rect(1px 1px 1px 1px);clip: rect(1px, 1px, 1px, 1px);height: 1px;margin: -1px;overflow: hidden;padding: 0;position: absolute;width: 1px;}#sk-container-id-2 div.sk-estimator {font-family: monospace;background-color: #f0f8ff;border: 1px dotted black;border-radius: 0.25em;box-sizing: border-box;margin-bottom: 0.5em;}#sk-container-id-2 div.sk-estimator:hover {background-color: #d4ebff;}#sk-container-id-2 div.sk-parallel-item::after {content: \"\";width: 100%;border-bottom: 1px solid gray;flex-grow: 1;}#sk-container-id-2 div.sk-label:hover label.sk-toggleable__label {background-color: #d4ebff;}#sk-container-id-2 div.sk-serial::before {content: \"\";position: absolute;border-left: 1px solid gray;box-sizing: border-box;top: 0;bottom: 0;left: 50%;z-index: 0;}#sk-container-id-2 div.sk-serial {display: flex;flex-direction: column;align-items: center;background-color: white;padding-right: 0.2em;padding-left: 0.2em;position: relative;}#sk-container-id-2 div.sk-item {position: relative;z-index: 1;}#sk-container-id-2 div.sk-parallel {display: flex;align-items: stretch;justify-content: center;background-color: white;position: relative;}#sk-container-id-2 div.sk-item::before, #sk-container-id-2 div.sk-parallel-item::before {content: \"\";position: absolute;border-left: 1px solid gray;box-sizing: border-box;top: 0;bottom: 0;left: 50%;z-index: -1;}#sk-container-id-2 div.sk-parallel-item {display: flex;flex-direction: column;z-index: 1;position: relative;background-color: white;}#sk-container-id-2 div.sk-parallel-item:first-child::after {align-self: flex-end;width: 50%;}#sk-container-id-2 div.sk-parallel-item:last-child::after {align-self: flex-start;width: 50%;}#sk-container-id-2 div.sk-parallel-item:only-child::after {width: 0;}#sk-container-id-2 div.sk-dashed-wrapped {border: 1px dashed gray;margin: 0 0.4em 0.5em 0.4em;box-sizing: border-box;padding-bottom: 0.4em;background-color: white;}#sk-container-id-2 div.sk-label label {font-family: monospace;font-weight: bold;display: inline-block;line-height: 1.2em;}#sk-container-id-2 div.sk-label-container {text-align: center;}#sk-container-id-2 div.sk-container {/* jupyter's `normalize.less` sets `[hidden] { display: none; }` but bootstrap.min.css set `[hidden] { display: none !important; }` so we also need the `!important` here to be able to override the default hidden behavior on the sphinx rendered scikit-learn.org. See: https://github.com/scikit-learn/scikit-learn/issues/21755 */display: inline-block !important;position: relative;}#sk-container-id-2 div.sk-text-repr-fallback {display: none;}</style><div id=\"sk-container-id-2\" class=\"sk-top-container\"><div class=\"sk-text-repr-fallback\"><pre>GridSearchCV(cv=5, estimator=DecisionTreeClassifier(), n_jobs=-1,\n",
       "             param_grid={&#x27;criterion&#x27;: [&#x27;gini&#x27;, &#x27;entropy&#x27;],\n",
       "                         &#x27;max_depth&#x27;: range(1, 30),\n",
       "                         &#x27;max_leaf_nodes&#x27;: range(1, 10),\n",
       "                         &#x27;min_samples_leaf&#x27;: range(1, 5),\n",
       "                         &#x27;min_samples_split&#x27;: range(5, 10)})</pre><b>In a Jupyter environment, please rerun this cell to show the HTML representation or trust the notebook. <br />On GitHub, the HTML representation is unable to render, please try loading this page with nbviewer.org.</b></div><div class=\"sk-container\" hidden><div class=\"sk-item sk-dashed-wrapped\"><div class=\"sk-label-container\"><div class=\"sk-label sk-toggleable\"><input class=\"sk-toggleable__control sk-hidden--visually\" id=\"sk-estimator-id-2\" type=\"checkbox\" ><label for=\"sk-estimator-id-2\" class=\"sk-toggleable__label sk-toggleable__label-arrow\">GridSearchCV</label><div class=\"sk-toggleable__content\"><pre>GridSearchCV(cv=5, estimator=DecisionTreeClassifier(), n_jobs=-1,\n",
       "             param_grid={&#x27;criterion&#x27;: [&#x27;gini&#x27;, &#x27;entropy&#x27;],\n",
       "                         &#x27;max_depth&#x27;: range(1, 30),\n",
       "                         &#x27;max_leaf_nodes&#x27;: range(1, 10),\n",
       "                         &#x27;min_samples_leaf&#x27;: range(1, 5),\n",
       "                         &#x27;min_samples_split&#x27;: range(5, 10)})</pre></div></div></div><div class=\"sk-parallel\"><div class=\"sk-parallel-item\"><div class=\"sk-item\"><div class=\"sk-label-container\"><div class=\"sk-label sk-toggleable\"><input class=\"sk-toggleable__control sk-hidden--visually\" id=\"sk-estimator-id-3\" type=\"checkbox\" ><label for=\"sk-estimator-id-3\" class=\"sk-toggleable__label sk-toggleable__label-arrow\">estimator: DecisionTreeClassifier</label><div class=\"sk-toggleable__content\"><pre>DecisionTreeClassifier()</pre></div></div></div><div class=\"sk-serial\"><div class=\"sk-item\"><div class=\"sk-estimator sk-toggleable\"><input class=\"sk-toggleable__control sk-hidden--visually\" id=\"sk-estimator-id-4\" type=\"checkbox\" ><label for=\"sk-estimator-id-4\" class=\"sk-toggleable__label sk-toggleable__label-arrow\">DecisionTreeClassifier</label><div class=\"sk-toggleable__content\"><pre>DecisionTreeClassifier()</pre></div></div></div></div></div></div></div></div></div></div>"
      ],
      "text/plain": [
       "GridSearchCV(cv=5, estimator=DecisionTreeClassifier(), n_jobs=-1,\n",
       "             param_grid={'criterion': ['gini', 'entropy'],\n",
       "                         'max_depth': range(1, 30),\n",
       "                         'max_leaf_nodes': range(1, 10),\n",
       "                         'min_samples_leaf': range(1, 5),\n",
       "                         'min_samples_split': range(5, 10)})"
      ]
     },
     "execution_count": 97,
     "metadata": {},
     "output_type": "execute_result"
    }
   ],
   "source": [
    "#pass dataset to train \n",
    "grid_search.fit(X_train_ns,y_train_ns)"
   ]
  },
  {
   "cell_type": "code",
   "execution_count": 98,
   "id": "b8190ef5",
   "metadata": {},
   "outputs": [
    {
     "name": "stdout",
     "output_type": "stream",
     "text": [
      "{'criterion': 'gini', 'max_depth': 1, 'max_leaf_nodes': 2, 'min_samples_leaf': 1, 'min_samples_split': 5}\n"
     ]
    }
   ],
   "source": [
    "# see best parameters\n",
    "best_parameters = grid_search.best_params_\n",
    "print(best_parameters)"
   ]
  },
  {
   "cell_type": "code",
   "execution_count": 101,
   "id": "b6f75179",
   "metadata": {},
   "outputs": [
    {
     "data": {
      "text/html": [
       "<style>#sk-container-id-4 {color: black;background-color: white;}#sk-container-id-4 pre{padding: 0;}#sk-container-id-4 div.sk-toggleable {background-color: white;}#sk-container-id-4 label.sk-toggleable__label {cursor: pointer;display: block;width: 100%;margin-bottom: 0;padding: 0.3em;box-sizing: border-box;text-align: center;}#sk-container-id-4 label.sk-toggleable__label-arrow:before {content: \"▸\";float: left;margin-right: 0.25em;color: #696969;}#sk-container-id-4 label.sk-toggleable__label-arrow:hover:before {color: black;}#sk-container-id-4 div.sk-estimator:hover label.sk-toggleable__label-arrow:before {color: black;}#sk-container-id-4 div.sk-toggleable__content {max-height: 0;max-width: 0;overflow: hidden;text-align: left;background-color: #f0f8ff;}#sk-container-id-4 div.sk-toggleable__content pre {margin: 0.2em;color: black;border-radius: 0.25em;background-color: #f0f8ff;}#sk-container-id-4 input.sk-toggleable__control:checked~div.sk-toggleable__content {max-height: 200px;max-width: 100%;overflow: auto;}#sk-container-id-4 input.sk-toggleable__control:checked~label.sk-toggleable__label-arrow:before {content: \"▾\";}#sk-container-id-4 div.sk-estimator input.sk-toggleable__control:checked~label.sk-toggleable__label {background-color: #d4ebff;}#sk-container-id-4 div.sk-label input.sk-toggleable__control:checked~label.sk-toggleable__label {background-color: #d4ebff;}#sk-container-id-4 input.sk-hidden--visually {border: 0;clip: rect(1px 1px 1px 1px);clip: rect(1px, 1px, 1px, 1px);height: 1px;margin: -1px;overflow: hidden;padding: 0;position: absolute;width: 1px;}#sk-container-id-4 div.sk-estimator {font-family: monospace;background-color: #f0f8ff;border: 1px dotted black;border-radius: 0.25em;box-sizing: border-box;margin-bottom: 0.5em;}#sk-container-id-4 div.sk-estimator:hover {background-color: #d4ebff;}#sk-container-id-4 div.sk-parallel-item::after {content: \"\";width: 100%;border-bottom: 1px solid gray;flex-grow: 1;}#sk-container-id-4 div.sk-label:hover label.sk-toggleable__label {background-color: #d4ebff;}#sk-container-id-4 div.sk-serial::before {content: \"\";position: absolute;border-left: 1px solid gray;box-sizing: border-box;top: 0;bottom: 0;left: 50%;z-index: 0;}#sk-container-id-4 div.sk-serial {display: flex;flex-direction: column;align-items: center;background-color: white;padding-right: 0.2em;padding-left: 0.2em;position: relative;}#sk-container-id-4 div.sk-item {position: relative;z-index: 1;}#sk-container-id-4 div.sk-parallel {display: flex;align-items: stretch;justify-content: center;background-color: white;position: relative;}#sk-container-id-4 div.sk-item::before, #sk-container-id-4 div.sk-parallel-item::before {content: \"\";position: absolute;border-left: 1px solid gray;box-sizing: border-box;top: 0;bottom: 0;left: 50%;z-index: -1;}#sk-container-id-4 div.sk-parallel-item {display: flex;flex-direction: column;z-index: 1;position: relative;background-color: white;}#sk-container-id-4 div.sk-parallel-item:first-child::after {align-self: flex-end;width: 50%;}#sk-container-id-4 div.sk-parallel-item:last-child::after {align-self: flex-start;width: 50%;}#sk-container-id-4 div.sk-parallel-item:only-child::after {width: 0;}#sk-container-id-4 div.sk-dashed-wrapped {border: 1px dashed gray;margin: 0 0.4em 0.5em 0.4em;box-sizing: border-box;padding-bottom: 0.4em;background-color: white;}#sk-container-id-4 div.sk-label label {font-family: monospace;font-weight: bold;display: inline-block;line-height: 1.2em;}#sk-container-id-4 div.sk-label-container {text-align: center;}#sk-container-id-4 div.sk-container {/* jupyter's `normalize.less` sets `[hidden] { display: none; }` but bootstrap.min.css set `[hidden] { display: none !important; }` so we also need the `!important` here to be able to override the default hidden behavior on the sphinx rendered scikit-learn.org. See: https://github.com/scikit-learn/scikit-learn/issues/21755 */display: inline-block !important;position: relative;}#sk-container-id-4 div.sk-text-repr-fallback {display: none;}</style><div id=\"sk-container-id-4\" class=\"sk-top-container\"><div class=\"sk-text-repr-fallback\"><pre>DecisionTreeClassifier(max_depth=1, min_samples_split=5)</pre><b>In a Jupyter environment, please rerun this cell to show the HTML representation or trust the notebook. <br />On GitHub, the HTML representation is unable to render, please try loading this page with nbviewer.org.</b></div><div class=\"sk-container\" hidden><div class=\"sk-item\"><div class=\"sk-estimator sk-toggleable\"><input class=\"sk-toggleable__control sk-hidden--visually\" id=\"sk-estimator-id-6\" type=\"checkbox\" checked><label for=\"sk-estimator-id-6\" class=\"sk-toggleable__label sk-toggleable__label-arrow\">DecisionTreeClassifier</label><div class=\"sk-toggleable__content\"><pre>DecisionTreeClassifier(max_depth=1, min_samples_split=5)</pre></div></div></div></div></div>"
      ],
      "text/plain": [
       "DecisionTreeClassifier(max_depth=1, min_samples_split=5)"
      ]
     },
     "execution_count": 101,
     "metadata": {},
     "output_type": "execute_result"
    }
   ],
   "source": [
    "#initiate what new parameter we got\n",
    "\n",
    "clf_dt=DecisionTreeClassifier(criterion= 'gini', max_depth = 1, min_samples_leaf= 1, min_samples_split= 5)\n",
    "clf_dt.fit(X_train_ns,y_train_ns)\n",
    "\n",
    "#i tried different combination and i find this is best parameter so using this instead of gridsearch parameters"
   ]
  },
  {
   "cell_type": "code",
   "execution_count": 102,
   "id": "380094f1",
   "metadata": {},
   "outputs": [
    {
     "name": "stdout",
     "output_type": "stream",
     "text": [
      "====Training Score====\n",
      "Accuracy score : 99.025690%\n",
      "====Testing Score====\n",
      "Accuracy score : 99.036672%\n",
      "\n",
      " \n",
      " Classification report \n",
      "                precision    recall  f1-score   support\n",
      "\n",
      "           0       0.99      1.00      1.00      9047\n",
      "           1       0.00      0.00      0.00        88\n",
      "\n",
      "    accuracy                           0.99      9135\n",
      "   macro avg       0.50      0.50      0.50      9135\n",
      "weighted avg       0.98      0.99      0.99      9135\n",
      "\n"
     ]
    }
   ],
   "source": [
    "# call the function\n",
    "metric_score (clf_dt,X_train_ns,X_test,y_train_ns,y_test,train = True)\n",
    "metric_score (clf_dt,X_train_ns,X_test,y_train_ns,y_test,train=False)"
   ]
  },
  {
   "cell_type": "markdown",
   "id": "44a9297b",
   "metadata": {},
   "source": [
    "# Model Scores With Hyperparameter Tuning\n",
    "       Training Score = 99.025690%\n",
    "       Testing Score = 99.036672%"
   ]
  },
  {
   "cell_type": "code",
   "execution_count": null,
   "id": "d8796100",
   "metadata": {},
   "outputs": [],
   "source": []
  },
  {
   "cell_type": "code",
   "execution_count": null,
   "id": "4ab9a4cc",
   "metadata": {},
   "outputs": [],
   "source": []
  },
  {
   "cell_type": "markdown",
   "id": "6e6c3c62",
   "metadata": {},
   "source": [
    "# Cross Validation score for DecisionTree Classifier"
   ]
  },
  {
   "cell_type": "code",
   "execution_count": 103,
   "id": "ba0072c0",
   "metadata": {},
   "outputs": [
    {
     "data": {
      "text/plain": [
       "array([0.99031199, 0.99031199, 0.99031199, 0.99031199, 0.99014778,\n",
       "       0.9903104 ])"
      ]
     },
     "execution_count": 103,
     "metadata": {},
     "output_type": "execute_result"
    }
   ],
   "source": [
    "from sklearn.model_selection import cross_val_score\n",
    "cross_val_score(clf_dt,X_scalar,y,cv=6)"
   ]
  },
  {
   "cell_type": "code",
   "execution_count": 104,
   "id": "c8a88ab7",
   "metadata": {},
   "outputs": [
    {
     "data": {
      "text/plain": [
       "0.990284354416962"
      ]
     },
     "execution_count": 104,
     "metadata": {},
     "output_type": "execute_result"
    }
   ],
   "source": [
    "cross_val_score(clf_dt,X_scalar,y,cv=6).mean()"
   ]
  },
  {
   "cell_type": "code",
   "execution_count": null,
   "id": "4649639f",
   "metadata": {},
   "outputs": [],
   "source": []
  },
  {
   "cell_type": "markdown",
   "id": "8af325e5",
   "metadata": {},
   "source": [
    "# Confusion Matrix DecisionTree Classifier"
   ]
  },
  {
   "cell_type": "code",
   "execution_count": 105,
   "id": "a67e9e73",
   "metadata": {},
   "outputs": [
    {
     "data": {
      "text/plain": [
       "array([[9047,    0],\n",
       "       [  88,    0]], dtype=int64)"
      ]
     },
     "execution_count": 105,
     "metadata": {},
     "output_type": "execute_result"
    }
   ],
   "source": [
    "### if you want to check confusion matrix\n",
    "\n",
    "y_pred=clf_dt.predict(X_test)\n",
    "cfm=confusion_matrix(y_test,y_pred)\n",
    "cfm"
   ]
  },
  {
   "cell_type": "code",
   "execution_count": null,
   "id": "b53f8a59",
   "metadata": {},
   "outputs": [],
   "source": []
  },
  {
   "cell_type": "markdown",
   "id": "b1bca499",
   "metadata": {},
   "source": [
    "# RandomForestClassifier"
   ]
  },
  {
   "cell_type": "code",
   "execution_count": 106,
   "id": "f2dd1d4a",
   "metadata": {},
   "outputs": [],
   "source": [
    "#import necessary library\n",
    "\n",
    "import pandas as pd\n",
    "import numpy as np\n",
    "from sklearn.model_selection import train_test_split,GridSearchCV\n",
    "from sklearn.preprocessing import StandardScaler\n",
    "from sklearn.ensemble import RandomForestClassifier #RandomForestRegressor if regression problem\n",
    "from sklearn.metrics import accuracy_score,confusion_matrix,classification_report\n",
    "import matplotlib.pyplot as plt\n",
    "import seaborn as sns\n",
    "\n",
    "import warnings\n",
    "warnings.filterwarnings('ignore')"
   ]
  },
  {
   "cell_type": "code",
   "execution_count": 107,
   "id": "f29fc31c",
   "metadata": {
    "scrolled": true
   },
   "outputs": [
    {
     "name": "stdout",
     "output_type": "stream",
     "text": [
      "Testing Accuracy 0.9908045977011494 RandomState 1\n",
      "\n",
      "\n",
      "MAXINING TESTING SCORE 0.9908045977011494 ON RANDOM STATE OF 1\n",
      "Testing Accuracy 0.9897099069512862 RandomState 2\n",
      "\n",
      "\n",
      "Testing Accuracy 0.9906951286261632 RandomState 3\n",
      "\n",
      "\n",
      "Testing Accuracy 0.9906951286261632 RandomState 4\n",
      "\n",
      "\n",
      "Testing Accuracy 0.9902572523262179 RandomState 5\n",
      "\n",
      "\n",
      "Testing Accuracy 0.9894909688013136 RandomState 6\n",
      "\n",
      "\n",
      "Testing Accuracy 0.9897099069512862 RandomState 7\n",
      "\n",
      "\n",
      "Testing Accuracy 0.9890530925013684 RandomState 8\n",
      "\n",
      "\n",
      "Testing Accuracy 0.9920087575259989 RandomState 9\n",
      "\n",
      "\n",
      "MAXINING TESTING SCORE 0.9920087575259989 ON RANDOM STATE OF 9\n",
      "Testing Accuracy 0.9914614121510673 RandomState 10\n",
      "\n",
      "\n",
      "Testing Accuracy 0.9893814997263273 RandomState 11\n",
      "\n",
      "\n",
      "Testing Accuracy 0.9900383141762452 RandomState 12\n",
      "\n",
      "\n",
      "Testing Accuracy 0.9891625615763546 RandomState 13\n",
      "\n",
      "\n",
      "Testing Accuracy 0.9891625615763546 RandomState 14\n",
      "\n",
      "\n",
      "Testing Accuracy 0.9894909688013136 RandomState 15\n",
      "\n",
      "\n",
      "Testing Accuracy 0.9908045977011494 RandomState 16\n",
      "\n",
      "\n",
      "Testing Accuracy 0.9908045977011494 RandomState 17\n",
      "\n",
      "\n",
      "Testing Accuracy 0.9903667214012042 RandomState 18\n",
      "\n",
      "\n",
      "Testing Accuracy 0.9901477832512315 RandomState 19\n",
      "\n",
      "\n",
      "Testing Accuracy 0.9896004378762999 RandomState 20\n",
      "\n",
      "\n",
      "Testing Accuracy 0.9901477832512315 RandomState 21\n",
      "\n",
      "\n",
      "Testing Accuracy 0.9903667214012042 RandomState 22\n",
      "\n",
      "\n",
      "Testing Accuracy 0.9897099069512862 RandomState 23\n",
      "\n",
      "\n",
      "Testing Accuracy 0.9899288451012589 RandomState 24\n",
      "\n",
      "\n",
      "Testing Accuracy 0.989272030651341 RandomState 25\n",
      "\n",
      "\n",
      "Testing Accuracy 0.9906951286261632 RandomState 26\n",
      "\n",
      "\n",
      "Testing Accuracy 0.9908045977011494 RandomState 27\n",
      "\n",
      "\n",
      "Testing Accuracy 0.989272030651341 RandomState 28\n",
      "\n",
      "\n",
      "Testing Accuracy 0.9908045977011494 RandomState 29\n",
      "\n",
      "\n",
      "Testing Accuracy 0.9905856595511768 RandomState 30\n",
      "\n",
      "\n",
      "Testing Accuracy 0.9908045977011494 RandomState 31\n",
      "\n",
      "\n",
      "Testing Accuracy 0.9901477832512315 RandomState 32\n",
      "\n",
      "\n",
      "Testing Accuracy 0.9906951286261632 RandomState 33\n",
      "\n",
      "\n",
      "Testing Accuracy 0.9903667214012042 RandomState 34\n",
      "\n",
      "\n",
      "Testing Accuracy 0.9893814997263273 RandomState 35\n",
      "\n",
      "\n",
      "Testing Accuracy 0.9908045977011494 RandomState 36\n",
      "\n",
      "\n",
      "Testing Accuracy 0.989272030651341 RandomState 37\n",
      "\n",
      "\n",
      "Testing Accuracy 0.989272030651341 RandomState 38\n",
      "\n",
      "\n",
      "Testing Accuracy 0.9899288451012589 RandomState 39\n",
      "\n",
      "\n",
      "Testing Accuracy 0.9894909688013136 RandomState 40\n",
      "\n",
      "\n",
      "Testing Accuracy 0.9902572523262179 RandomState 41\n",
      "\n",
      "\n",
      "Testing Accuracy 0.9900383141762452 RandomState 42\n",
      "\n",
      "\n",
      "Testing Accuracy 0.9901477832512315 RandomState 43\n",
      "\n",
      "\n",
      "Testing Accuracy 0.9896004378762999 RandomState 44\n",
      "\n",
      "\n",
      "Testing Accuracy 0.9901477832512315 RandomState 45\n",
      "\n",
      "\n",
      "Testing Accuracy 0.9898193760262726 RandomState 46\n",
      "\n",
      "\n",
      "Testing Accuracy 0.9908045977011494 RandomState 47\n",
      "\n",
      "\n",
      "Testing Accuracy 0.9898193760262726 RandomState 48\n",
      "\n",
      "\n",
      "Testing Accuracy 0.9889436234263821 RandomState 49\n",
      "\n",
      "\n",
      "Testing Accuracy 0.9902572523262179 RandomState 50\n",
      "\n",
      "\n",
      "Testing Accuracy 0.989272030651341 RandomState 51\n",
      "\n",
      "\n",
      "Testing Accuracy 0.991023535851122 RandomState 52\n",
      "\n",
      "\n",
      "Testing Accuracy 0.9893814997263273 RandomState 53\n",
      "\n",
      "\n",
      "Testing Accuracy 0.9902572523262179 RandomState 54\n",
      "\n",
      "\n",
      "Testing Accuracy 0.9922276956759716 RandomState 55\n",
      "\n",
      "\n",
      "MAXINING TESTING SCORE 0.9922276956759716 ON RANDOM STATE OF 55\n",
      "Testing Accuracy 0.9894909688013136 RandomState 56\n",
      "\n",
      "\n",
      "Testing Accuracy 0.9897099069512862 RandomState 57\n",
      "\n",
      "\n",
      "Testing Accuracy 0.9887246852764094 RandomState 58\n",
      "\n",
      "\n",
      "Testing Accuracy 0.9911330049261083 RandomState 59\n",
      "\n",
      "\n",
      "Testing Accuracy 0.9906951286261632 RandomState 60\n",
      "\n",
      "\n",
      "Testing Accuracy 0.9885057471264368 RandomState 61\n",
      "\n",
      "\n",
      "Testing Accuracy 0.9899288451012589 RandomState 62\n",
      "\n",
      "\n",
      "Testing Accuracy 0.9900383141762452 RandomState 63\n",
      "\n",
      "\n",
      "Testing Accuracy 0.9888341543513958 RandomState 64\n",
      "\n",
      "\n",
      "Testing Accuracy 0.9902572523262179 RandomState 65\n",
      "\n",
      "\n",
      "Testing Accuracy 0.9905856595511768 RandomState 66\n",
      "\n",
      "\n",
      "Testing Accuracy 0.9905856595511768 RandomState 67\n",
      "\n",
      "\n",
      "Testing Accuracy 0.9922276956759716 RandomState 68\n",
      "\n",
      "\n",
      "Testing Accuracy 0.9927750410509031 RandomState 69\n",
      "\n",
      "\n",
      "MAXINING TESTING SCORE 0.9927750410509031 ON RANDOM STATE OF 69\n",
      "Testing Accuracy 0.9902572523262179 RandomState 70\n",
      "\n",
      "\n",
      "Testing Accuracy 0.9903667214012042 RandomState 71\n",
      "\n",
      "\n",
      "Testing Accuracy 0.9897099069512862 RandomState 72\n",
      "\n",
      "\n",
      "Testing Accuracy 0.9906951286261632 RandomState 73\n",
      "\n",
      "\n",
      "Testing Accuracy 0.9898193760262726 RandomState 74\n",
      "\n",
      "\n",
      "Testing Accuracy 0.9899288451012589 RandomState 75\n",
      "\n",
      "\n",
      "Testing Accuracy 0.9887246852764094 RandomState 76\n",
      "\n",
      "\n",
      "Testing Accuracy 0.991023535851122 RandomState 77\n",
      "\n",
      "\n",
      "Testing Accuracy 0.9885057471264368 RandomState 78\n",
      "\n",
      "\n",
      "Testing Accuracy 0.9897099069512862 RandomState 79\n",
      "\n",
      "\n",
      "Testing Accuracy 0.9905856595511768 RandomState 80\n",
      "\n",
      "\n",
      "Testing Accuracy 0.9909140667761357 RandomState 81\n",
      "\n",
      "\n",
      "Testing Accuracy 0.9903667214012042 RandomState 82\n",
      "\n",
      "\n",
      "Testing Accuracy 0.9914614121510673 RandomState 83\n",
      "\n",
      "\n",
      "Testing Accuracy 0.989272030651341 RandomState 84\n",
      "\n",
      "\n",
      "Testing Accuracy 0.9905856595511768 RandomState 85\n",
      "\n",
      "\n",
      "Testing Accuracy 0.9900383141762452 RandomState 86\n",
      "\n",
      "\n",
      "Testing Accuracy 0.9904761904761905 RandomState 87\n",
      "\n",
      "\n",
      "Testing Accuracy 0.989272030651341 RandomState 88\n",
      "\n",
      "\n",
      "Testing Accuracy 0.9896004378762999 RandomState 89\n",
      "\n",
      "\n",
      "Testing Accuracy 0.9906951286261632 RandomState 90\n",
      "\n",
      "\n",
      "Testing Accuracy 0.9890530925013684 RandomState 91\n",
      "\n",
      "\n",
      "Testing Accuracy 0.991351943076081 RandomState 92\n",
      "\n",
      "\n",
      "Testing Accuracy 0.9906951286261632 RandomState 93\n",
      "\n",
      "\n",
      "Testing Accuracy 0.9901477832512315 RandomState 94\n",
      "\n",
      "\n",
      "Testing Accuracy 0.9902572523262179 RandomState 95\n",
      "\n",
      "\n",
      "Testing Accuracy 0.9904761904761905 RandomState 96\n",
      "\n",
      "\n",
      "Testing Accuracy 0.9893814997263273 RandomState 97\n",
      "\n",
      "\n",
      "Testing Accuracy 0.9896004378762999 RandomState 98\n",
      "\n",
      "\n",
      "Testing Accuracy 0.9918992884510126 RandomState 99\n",
      "\n",
      "\n"
     ]
    }
   ],
   "source": [
    "#Finding the Best Random State\n",
    "MaxAccu=0\n",
    "MaxRS=0\n",
    "\n",
    "for i in range (1,100):\n",
    "    X_train_ns,X_test,y_train_ns,y_test=train_test_split(X_scalar,y,test_size=0.25,random_state=i)\n",
    "    rf = RandomForestClassifier()\n",
    "    rf.fit(X_train_ns,y_train_ns)\n",
    "    \n",
    "    y_pred=rf.predict(X_test)\n",
    "    accuracy=accuracy_score(y_test,y_pred)\n",
    "    print ('Testing Accuracy' , accuracy , 'RandomState' ,i)\n",
    "    print('\\n')\n",
    "    \n",
    "    \n",
    "    if accuracy>MaxAccu:\n",
    "        MaxAccu=accuracy\n",
    "        MaxRS=i\n",
    "        print('MAXINING TESTING SCORE' , MaxAccu , 'ON RANDOM STATE OF' , i)"
   ]
  },
  {
   "cell_type": "code",
   "execution_count": 108,
   "id": "c15fc9ef",
   "metadata": {},
   "outputs": [
    {
     "name": "stdout",
     "output_type": "stream",
     "text": [
      "Best Accuracy is  0.9927750410509031 On Random State 69\n"
     ]
    }
   ],
   "source": [
    "print('Best Accuracy is ' , MaxAccu , 'On Random State' , MaxRS)"
   ]
  },
  {
   "cell_type": "markdown",
   "id": "4ae8f064",
   "metadata": {},
   "source": [
    "## training the model"
   ]
  },
  {
   "cell_type": "code",
   "execution_count": 109,
   "id": "dde75869",
   "metadata": {},
   "outputs": [],
   "source": [
    "# train test split\n",
    "X_train_ns,X_test,y_train_ns,y_test=train_test_split(X_scalar,y,test_size=0.25,random_state=69)"
   ]
  },
  {
   "cell_type": "code",
   "execution_count": 110,
   "id": "17996712",
   "metadata": {},
   "outputs": [],
   "source": [
    "#write one function and call as many time as you want\n",
    "def metric_score (clf,X_train_ns,X_test,y_train_ns,y_test,train=True):\n",
    "    if train:\n",
    "        y_pred = clf.predict(X_train_ns)\n",
    "        print ('====Training Score====')\n",
    "        print (f\"Accuracy score : {accuracy_score(y_train_ns,y_pred)*100:2f}%\")\n",
    "        \n",
    "    elif train==False:\n",
    "        pred = clf.predict(X_test)\n",
    "        print ('====Testing Score====')\n",
    "        print (f\"Accuracy score : {accuracy_score(y_test,pred)*100:2f}%\")\n",
    "        \n",
    "        print ('\\n \\n Classification report \\n ' , classification_report(y_test,pred,digits=2))"
   ]
  },
  {
   "cell_type": "code",
   "execution_count": 111,
   "id": "010939cb",
   "metadata": {},
   "outputs": [
    {
     "data": {
      "text/html": [
       "<style>#sk-container-id-5 {color: black;background-color: white;}#sk-container-id-5 pre{padding: 0;}#sk-container-id-5 div.sk-toggleable {background-color: white;}#sk-container-id-5 label.sk-toggleable__label {cursor: pointer;display: block;width: 100%;margin-bottom: 0;padding: 0.3em;box-sizing: border-box;text-align: center;}#sk-container-id-5 label.sk-toggleable__label-arrow:before {content: \"▸\";float: left;margin-right: 0.25em;color: #696969;}#sk-container-id-5 label.sk-toggleable__label-arrow:hover:before {color: black;}#sk-container-id-5 div.sk-estimator:hover label.sk-toggleable__label-arrow:before {color: black;}#sk-container-id-5 div.sk-toggleable__content {max-height: 0;max-width: 0;overflow: hidden;text-align: left;background-color: #f0f8ff;}#sk-container-id-5 div.sk-toggleable__content pre {margin: 0.2em;color: black;border-radius: 0.25em;background-color: #f0f8ff;}#sk-container-id-5 input.sk-toggleable__control:checked~div.sk-toggleable__content {max-height: 200px;max-width: 100%;overflow: auto;}#sk-container-id-5 input.sk-toggleable__control:checked~label.sk-toggleable__label-arrow:before {content: \"▾\";}#sk-container-id-5 div.sk-estimator input.sk-toggleable__control:checked~label.sk-toggleable__label {background-color: #d4ebff;}#sk-container-id-5 div.sk-label input.sk-toggleable__control:checked~label.sk-toggleable__label {background-color: #d4ebff;}#sk-container-id-5 input.sk-hidden--visually {border: 0;clip: rect(1px 1px 1px 1px);clip: rect(1px, 1px, 1px, 1px);height: 1px;margin: -1px;overflow: hidden;padding: 0;position: absolute;width: 1px;}#sk-container-id-5 div.sk-estimator {font-family: monospace;background-color: #f0f8ff;border: 1px dotted black;border-radius: 0.25em;box-sizing: border-box;margin-bottom: 0.5em;}#sk-container-id-5 div.sk-estimator:hover {background-color: #d4ebff;}#sk-container-id-5 div.sk-parallel-item::after {content: \"\";width: 100%;border-bottom: 1px solid gray;flex-grow: 1;}#sk-container-id-5 div.sk-label:hover label.sk-toggleable__label {background-color: #d4ebff;}#sk-container-id-5 div.sk-serial::before {content: \"\";position: absolute;border-left: 1px solid gray;box-sizing: border-box;top: 0;bottom: 0;left: 50%;z-index: 0;}#sk-container-id-5 div.sk-serial {display: flex;flex-direction: column;align-items: center;background-color: white;padding-right: 0.2em;padding-left: 0.2em;position: relative;}#sk-container-id-5 div.sk-item {position: relative;z-index: 1;}#sk-container-id-5 div.sk-parallel {display: flex;align-items: stretch;justify-content: center;background-color: white;position: relative;}#sk-container-id-5 div.sk-item::before, #sk-container-id-5 div.sk-parallel-item::before {content: \"\";position: absolute;border-left: 1px solid gray;box-sizing: border-box;top: 0;bottom: 0;left: 50%;z-index: -1;}#sk-container-id-5 div.sk-parallel-item {display: flex;flex-direction: column;z-index: 1;position: relative;background-color: white;}#sk-container-id-5 div.sk-parallel-item:first-child::after {align-self: flex-end;width: 50%;}#sk-container-id-5 div.sk-parallel-item:last-child::after {align-self: flex-start;width: 50%;}#sk-container-id-5 div.sk-parallel-item:only-child::after {width: 0;}#sk-container-id-5 div.sk-dashed-wrapped {border: 1px dashed gray;margin: 0 0.4em 0.5em 0.4em;box-sizing: border-box;padding-bottom: 0.4em;background-color: white;}#sk-container-id-5 div.sk-label label {font-family: monospace;font-weight: bold;display: inline-block;line-height: 1.2em;}#sk-container-id-5 div.sk-label-container {text-align: center;}#sk-container-id-5 div.sk-container {/* jupyter's `normalize.less` sets `[hidden] { display: none; }` but bootstrap.min.css set `[hidden] { display: none !important; }` so we also need the `!important` here to be able to override the default hidden behavior on the sphinx rendered scikit-learn.org. See: https://github.com/scikit-learn/scikit-learn/issues/21755 */display: inline-block !important;position: relative;}#sk-container-id-5 div.sk-text-repr-fallback {display: none;}</style><div id=\"sk-container-id-5\" class=\"sk-top-container\"><div class=\"sk-text-repr-fallback\"><pre>RandomForestClassifier()</pre><b>In a Jupyter environment, please rerun this cell to show the HTML representation or trust the notebook. <br />On GitHub, the HTML representation is unable to render, please try loading this page with nbviewer.org.</b></div><div class=\"sk-container\" hidden><div class=\"sk-item\"><div class=\"sk-estimator sk-toggleable\"><input class=\"sk-toggleable__control sk-hidden--visually\" id=\"sk-estimator-id-7\" type=\"checkbox\" checked><label for=\"sk-estimator-id-7\" class=\"sk-toggleable__label sk-toggleable__label-arrow\">RandomForestClassifier</label><div class=\"sk-toggleable__content\"><pre>RandomForestClassifier()</pre></div></div></div></div></div>"
      ],
      "text/plain": [
       "RandomForestClassifier()"
      ]
     },
     "execution_count": 111,
     "metadata": {},
     "output_type": "execute_result"
    }
   ],
   "source": [
    "# model initilization\n",
    "clf_rf = RandomForestClassifier()\n",
    "clf_rf.fit(X_train_ns,y_train_ns)\n"
   ]
  },
  {
   "cell_type": "code",
   "execution_count": 112,
   "id": "84a6ed9b",
   "metadata": {
    "scrolled": true
   },
   "outputs": [
    {
     "name": "stdout",
     "output_type": "stream",
     "text": [
      "====Training Score====\n",
      "Accuracy score : 100.000000%\n",
      "====Testing Score====\n",
      "Accuracy score : 99.277504%\n",
      "\n",
      " \n",
      " Classification report \n",
      "                precision    recall  f1-score   support\n",
      "\n",
      "           0       0.99      1.00      1.00      9069\n",
      "           1       0.00      0.00      0.00        66\n",
      "\n",
      "    accuracy                           0.99      9135\n",
      "   macro avg       0.50      0.50      0.50      9135\n",
      "weighted avg       0.99      0.99      0.99      9135\n",
      "\n"
     ]
    }
   ],
   "source": [
    "# call the function\n",
    "metric_score (clf_rf,X_train_ns,X_test,y_train_ns,y_test,train = True)\n",
    "metric_score (clf_rf,X_train_ns,X_test,y_train_ns,y_test,train=False)"
   ]
  },
  {
   "cell_type": "markdown",
   "id": "ea47b761",
   "metadata": {},
   "source": [
    "# Model Scores\n",
    "    Training Score = 100.000000%\n",
    "    Testing Score = 99.277504%\n"
   ]
  },
  {
   "cell_type": "code",
   "execution_count": null,
   "id": "97305e8a",
   "metadata": {},
   "outputs": [],
   "source": []
  },
  {
   "cell_type": "markdown",
   "id": "50cbfd56",
   "metadata": {},
   "source": [
    "# Hyperparameter For RandomForestClassifier"
   ]
  },
  {
   "cell_type": "code",
   "execution_count": 113,
   "id": "d06d8034",
   "metadata": {},
   "outputs": [],
   "source": [
    "# we are tuning 4 important hyperparameter rightnow we are passing the different value for both parameter\n",
    "params_grid = {'n_estimators' : range(1,5),\n",
    "               'criterion' : ['entropy' , 'gini'],\n",
    "               'max_depth' : range(1,30),\n",
    "               'min_samples_split' :range(5,10),\n",
    "               'min_samples_leaf':range(1,10)}"
   ]
  },
  {
   "cell_type": "code",
   "execution_count": 114,
   "id": "c1b78b71",
   "metadata": {},
   "outputs": [],
   "source": [
    "# here we are define some parameter and ask gridsearchcv which one is best\n",
    "grd = GridSearchCV(clf_rf,param_grid = params_grid)\n"
   ]
  },
  {
   "cell_type": "code",
   "execution_count": 115,
   "id": "857c6e55",
   "metadata": {},
   "outputs": [
    {
     "data": {
      "text/html": [
       "<style>#sk-container-id-6 {color: black;background-color: white;}#sk-container-id-6 pre{padding: 0;}#sk-container-id-6 div.sk-toggleable {background-color: white;}#sk-container-id-6 label.sk-toggleable__label {cursor: pointer;display: block;width: 100%;margin-bottom: 0;padding: 0.3em;box-sizing: border-box;text-align: center;}#sk-container-id-6 label.sk-toggleable__label-arrow:before {content: \"▸\";float: left;margin-right: 0.25em;color: #696969;}#sk-container-id-6 label.sk-toggleable__label-arrow:hover:before {color: black;}#sk-container-id-6 div.sk-estimator:hover label.sk-toggleable__label-arrow:before {color: black;}#sk-container-id-6 div.sk-toggleable__content {max-height: 0;max-width: 0;overflow: hidden;text-align: left;background-color: #f0f8ff;}#sk-container-id-6 div.sk-toggleable__content pre {margin: 0.2em;color: black;border-radius: 0.25em;background-color: #f0f8ff;}#sk-container-id-6 input.sk-toggleable__control:checked~div.sk-toggleable__content {max-height: 200px;max-width: 100%;overflow: auto;}#sk-container-id-6 input.sk-toggleable__control:checked~label.sk-toggleable__label-arrow:before {content: \"▾\";}#sk-container-id-6 div.sk-estimator input.sk-toggleable__control:checked~label.sk-toggleable__label {background-color: #d4ebff;}#sk-container-id-6 div.sk-label input.sk-toggleable__control:checked~label.sk-toggleable__label {background-color: #d4ebff;}#sk-container-id-6 input.sk-hidden--visually {border: 0;clip: rect(1px 1px 1px 1px);clip: rect(1px, 1px, 1px, 1px);height: 1px;margin: -1px;overflow: hidden;padding: 0;position: absolute;width: 1px;}#sk-container-id-6 div.sk-estimator {font-family: monospace;background-color: #f0f8ff;border: 1px dotted black;border-radius: 0.25em;box-sizing: border-box;margin-bottom: 0.5em;}#sk-container-id-6 div.sk-estimator:hover {background-color: #d4ebff;}#sk-container-id-6 div.sk-parallel-item::after {content: \"\";width: 100%;border-bottom: 1px solid gray;flex-grow: 1;}#sk-container-id-6 div.sk-label:hover label.sk-toggleable__label {background-color: #d4ebff;}#sk-container-id-6 div.sk-serial::before {content: \"\";position: absolute;border-left: 1px solid gray;box-sizing: border-box;top: 0;bottom: 0;left: 50%;z-index: 0;}#sk-container-id-6 div.sk-serial {display: flex;flex-direction: column;align-items: center;background-color: white;padding-right: 0.2em;padding-left: 0.2em;position: relative;}#sk-container-id-6 div.sk-item {position: relative;z-index: 1;}#sk-container-id-6 div.sk-parallel {display: flex;align-items: stretch;justify-content: center;background-color: white;position: relative;}#sk-container-id-6 div.sk-item::before, #sk-container-id-6 div.sk-parallel-item::before {content: \"\";position: absolute;border-left: 1px solid gray;box-sizing: border-box;top: 0;bottom: 0;left: 50%;z-index: -1;}#sk-container-id-6 div.sk-parallel-item {display: flex;flex-direction: column;z-index: 1;position: relative;background-color: white;}#sk-container-id-6 div.sk-parallel-item:first-child::after {align-self: flex-end;width: 50%;}#sk-container-id-6 div.sk-parallel-item:last-child::after {align-self: flex-start;width: 50%;}#sk-container-id-6 div.sk-parallel-item:only-child::after {width: 0;}#sk-container-id-6 div.sk-dashed-wrapped {border: 1px dashed gray;margin: 0 0.4em 0.5em 0.4em;box-sizing: border-box;padding-bottom: 0.4em;background-color: white;}#sk-container-id-6 div.sk-label label {font-family: monospace;font-weight: bold;display: inline-block;line-height: 1.2em;}#sk-container-id-6 div.sk-label-container {text-align: center;}#sk-container-id-6 div.sk-container {/* jupyter's `normalize.less` sets `[hidden] { display: none; }` but bootstrap.min.css set `[hidden] { display: none !important; }` so we also need the `!important` here to be able to override the default hidden behavior on the sphinx rendered scikit-learn.org. See: https://github.com/scikit-learn/scikit-learn/issues/21755 */display: inline-block !important;position: relative;}#sk-container-id-6 div.sk-text-repr-fallback {display: none;}</style><div id=\"sk-container-id-6\" class=\"sk-top-container\"><div class=\"sk-text-repr-fallback\"><pre>GridSearchCV(estimator=RandomForestClassifier(),\n",
       "             param_grid={&#x27;criterion&#x27;: [&#x27;entropy&#x27;, &#x27;gini&#x27;],\n",
       "                         &#x27;max_depth&#x27;: range(1, 30),\n",
       "                         &#x27;min_samples_leaf&#x27;: range(1, 10),\n",
       "                         &#x27;min_samples_split&#x27;: range(5, 10),\n",
       "                         &#x27;n_estimators&#x27;: range(1, 5)})</pre><b>In a Jupyter environment, please rerun this cell to show the HTML representation or trust the notebook. <br />On GitHub, the HTML representation is unable to render, please try loading this page with nbviewer.org.</b></div><div class=\"sk-container\" hidden><div class=\"sk-item sk-dashed-wrapped\"><div class=\"sk-label-container\"><div class=\"sk-label sk-toggleable\"><input class=\"sk-toggleable__control sk-hidden--visually\" id=\"sk-estimator-id-8\" type=\"checkbox\" ><label for=\"sk-estimator-id-8\" class=\"sk-toggleable__label sk-toggleable__label-arrow\">GridSearchCV</label><div class=\"sk-toggleable__content\"><pre>GridSearchCV(estimator=RandomForestClassifier(),\n",
       "             param_grid={&#x27;criterion&#x27;: [&#x27;entropy&#x27;, &#x27;gini&#x27;],\n",
       "                         &#x27;max_depth&#x27;: range(1, 30),\n",
       "                         &#x27;min_samples_leaf&#x27;: range(1, 10),\n",
       "                         &#x27;min_samples_split&#x27;: range(5, 10),\n",
       "                         &#x27;n_estimators&#x27;: range(1, 5)})</pre></div></div></div><div class=\"sk-parallel\"><div class=\"sk-parallel-item\"><div class=\"sk-item\"><div class=\"sk-label-container\"><div class=\"sk-label sk-toggleable\"><input class=\"sk-toggleable__control sk-hidden--visually\" id=\"sk-estimator-id-9\" type=\"checkbox\" ><label for=\"sk-estimator-id-9\" class=\"sk-toggleable__label sk-toggleable__label-arrow\">estimator: RandomForestClassifier</label><div class=\"sk-toggleable__content\"><pre>RandomForestClassifier()</pre></div></div></div><div class=\"sk-serial\"><div class=\"sk-item\"><div class=\"sk-estimator sk-toggleable\"><input class=\"sk-toggleable__control sk-hidden--visually\" id=\"sk-estimator-id-10\" type=\"checkbox\" ><label for=\"sk-estimator-id-10\" class=\"sk-toggleable__label sk-toggleable__label-arrow\">RandomForestClassifier</label><div class=\"sk-toggleable__content\"><pre>RandomForestClassifier()</pre></div></div></div></div></div></div></div></div></div></div>"
      ],
      "text/plain": [
       "GridSearchCV(estimator=RandomForestClassifier(),\n",
       "             param_grid={'criterion': ['entropy', 'gini'],\n",
       "                         'max_depth': range(1, 30),\n",
       "                         'min_samples_leaf': range(1, 10),\n",
       "                         'min_samples_split': range(5, 10),\n",
       "                         'n_estimators': range(1, 5)})"
      ]
     },
     "execution_count": 115,
     "metadata": {},
     "output_type": "execute_result"
    }
   ],
   "source": [
    "#pass dataset to train \n",
    "grd.fit(X_train_ns,y_train_ns)"
   ]
  },
  {
   "cell_type": "code",
   "execution_count": 116,
   "id": "57494258",
   "metadata": {},
   "outputs": [
    {
     "name": "stdout",
     "output_type": "stream",
     "text": [
      "Best parameters :  {'criterion': 'gini', 'max_depth': 23, 'min_samples_leaf': 2, 'min_samples_split': 7, 'n_estimators': 4}\n"
     ]
    }
   ],
   "source": [
    "print ('Best parameters : ' , grd.best_params_) #printing best parameters"
   ]
  },
  {
   "cell_type": "code",
   "execution_count": 119,
   "id": "2b17c587",
   "metadata": {},
   "outputs": [
    {
     "data": {
      "text/html": [
       "<style>#sk-container-id-8 {color: black;background-color: white;}#sk-container-id-8 pre{padding: 0;}#sk-container-id-8 div.sk-toggleable {background-color: white;}#sk-container-id-8 label.sk-toggleable__label {cursor: pointer;display: block;width: 100%;margin-bottom: 0;padding: 0.3em;box-sizing: border-box;text-align: center;}#sk-container-id-8 label.sk-toggleable__label-arrow:before {content: \"▸\";float: left;margin-right: 0.25em;color: #696969;}#sk-container-id-8 label.sk-toggleable__label-arrow:hover:before {color: black;}#sk-container-id-8 div.sk-estimator:hover label.sk-toggleable__label-arrow:before {color: black;}#sk-container-id-8 div.sk-toggleable__content {max-height: 0;max-width: 0;overflow: hidden;text-align: left;background-color: #f0f8ff;}#sk-container-id-8 div.sk-toggleable__content pre {margin: 0.2em;color: black;border-radius: 0.25em;background-color: #f0f8ff;}#sk-container-id-8 input.sk-toggleable__control:checked~div.sk-toggleable__content {max-height: 200px;max-width: 100%;overflow: auto;}#sk-container-id-8 input.sk-toggleable__control:checked~label.sk-toggleable__label-arrow:before {content: \"▾\";}#sk-container-id-8 div.sk-estimator input.sk-toggleable__control:checked~label.sk-toggleable__label {background-color: #d4ebff;}#sk-container-id-8 div.sk-label input.sk-toggleable__control:checked~label.sk-toggleable__label {background-color: #d4ebff;}#sk-container-id-8 input.sk-hidden--visually {border: 0;clip: rect(1px 1px 1px 1px);clip: rect(1px, 1px, 1px, 1px);height: 1px;margin: -1px;overflow: hidden;padding: 0;position: absolute;width: 1px;}#sk-container-id-8 div.sk-estimator {font-family: monospace;background-color: #f0f8ff;border: 1px dotted black;border-radius: 0.25em;box-sizing: border-box;margin-bottom: 0.5em;}#sk-container-id-8 div.sk-estimator:hover {background-color: #d4ebff;}#sk-container-id-8 div.sk-parallel-item::after {content: \"\";width: 100%;border-bottom: 1px solid gray;flex-grow: 1;}#sk-container-id-8 div.sk-label:hover label.sk-toggleable__label {background-color: #d4ebff;}#sk-container-id-8 div.sk-serial::before {content: \"\";position: absolute;border-left: 1px solid gray;box-sizing: border-box;top: 0;bottom: 0;left: 50%;z-index: 0;}#sk-container-id-8 div.sk-serial {display: flex;flex-direction: column;align-items: center;background-color: white;padding-right: 0.2em;padding-left: 0.2em;position: relative;}#sk-container-id-8 div.sk-item {position: relative;z-index: 1;}#sk-container-id-8 div.sk-parallel {display: flex;align-items: stretch;justify-content: center;background-color: white;position: relative;}#sk-container-id-8 div.sk-item::before, #sk-container-id-8 div.sk-parallel-item::before {content: \"\";position: absolute;border-left: 1px solid gray;box-sizing: border-box;top: 0;bottom: 0;left: 50%;z-index: -1;}#sk-container-id-8 div.sk-parallel-item {display: flex;flex-direction: column;z-index: 1;position: relative;background-color: white;}#sk-container-id-8 div.sk-parallel-item:first-child::after {align-self: flex-end;width: 50%;}#sk-container-id-8 div.sk-parallel-item:last-child::after {align-self: flex-start;width: 50%;}#sk-container-id-8 div.sk-parallel-item:only-child::after {width: 0;}#sk-container-id-8 div.sk-dashed-wrapped {border: 1px dashed gray;margin: 0 0.4em 0.5em 0.4em;box-sizing: border-box;padding-bottom: 0.4em;background-color: white;}#sk-container-id-8 div.sk-label label {font-family: monospace;font-weight: bold;display: inline-block;line-height: 1.2em;}#sk-container-id-8 div.sk-label-container {text-align: center;}#sk-container-id-8 div.sk-container {/* jupyter's `normalize.less` sets `[hidden] { display: none; }` but bootstrap.min.css set `[hidden] { display: none !important; }` so we also need the `!important` here to be able to override the default hidden behavior on the sphinx rendered scikit-learn.org. See: https://github.com/scikit-learn/scikit-learn/issues/21755 */display: inline-block !important;position: relative;}#sk-container-id-8 div.sk-text-repr-fallback {display: none;}</style><div id=\"sk-container-id-8\" class=\"sk-top-container\"><div class=\"sk-text-repr-fallback\"><pre>RandomForestClassifier(max_depth=23, min_samples_leaf=2, min_samples_split=7,\n",
       "                       n_estimators=4)</pre><b>In a Jupyter environment, please rerun this cell to show the HTML representation or trust the notebook. <br />On GitHub, the HTML representation is unable to render, please try loading this page with nbviewer.org.</b></div><div class=\"sk-container\" hidden><div class=\"sk-item\"><div class=\"sk-estimator sk-toggleable\"><input class=\"sk-toggleable__control sk-hidden--visually\" id=\"sk-estimator-id-12\" type=\"checkbox\" checked><label for=\"sk-estimator-id-12\" class=\"sk-toggleable__label sk-toggleable__label-arrow\">RandomForestClassifier</label><div class=\"sk-toggleable__content\"><pre>RandomForestClassifier(max_depth=23, min_samples_leaf=2, min_samples_split=7,\n",
       "                       n_estimators=4)</pre></div></div></div></div></div>"
      ],
      "text/plain": [
       "RandomForestClassifier(max_depth=23, min_samples_leaf=2, min_samples_split=7,\n",
       "                       n_estimators=4)"
      ]
     },
     "execution_count": 119,
     "metadata": {},
     "output_type": "execute_result"
    }
   ],
   "source": [
    "#initiate what new parameter we got\n",
    "rf=RandomForestClassifier(criterion= 'gini', max_depth = 23, min_samples_leaf=2, min_samples_split= 7,n_estimators= 4)\n",
    "rf.fit(X_train_ns,y_train_ns)\n",
    "\n",
    "#i tried different combination and i find this is best parameter so using this instead of gridsearch parameters"
   ]
  },
  {
   "cell_type": "code",
   "execution_count": 120,
   "id": "fe3663bf",
   "metadata": {},
   "outputs": [
    {
     "name": "stdout",
     "output_type": "stream",
     "text": [
      "====Training Score====\n",
      "Accuracy score : 98.974602%\n",
      "====Testing Score====\n",
      "Accuracy score : 99.266557%\n",
      "\n",
      " \n",
      " Classification report \n",
      "                precision    recall  f1-score   support\n",
      "\n",
      "           0       0.99      1.00      1.00      9069\n",
      "           1       0.00      0.00      0.00        66\n",
      "\n",
      "    accuracy                           0.99      9135\n",
      "   macro avg       0.50      0.50      0.50      9135\n",
      "weighted avg       0.99      0.99      0.99      9135\n",
      "\n"
     ]
    }
   ],
   "source": [
    "# call the function\n",
    "metric_score (rf,X_train_ns,X_test,y_train_ns,y_test,train = True)\n",
    "metric_score (rf,X_train_ns,X_test,y_train_ns,y_test,train=False)"
   ]
  },
  {
   "cell_type": "markdown",
   "id": "03630ca5",
   "metadata": {},
   "source": [
    "# Model Scores With Hyperparameter Tuning\n",
    "    Training Score = 98.974602%\n",
    "    Testing Score = 99.266557%"
   ]
  },
  {
   "cell_type": "code",
   "execution_count": null,
   "id": "17ad7fa6",
   "metadata": {},
   "outputs": [],
   "source": []
  },
  {
   "cell_type": "markdown",
   "id": "783012b3",
   "metadata": {},
   "source": [
    "# Cross Validation score for RandomForestClassifier"
   ]
  },
  {
   "cell_type": "code",
   "execution_count": 121,
   "id": "0a37e798",
   "metadata": {},
   "outputs": [
    {
     "data": {
      "text/plain": [
       "array([0.99014778, 0.99031199, 0.99014778, 0.99031199, 0.99014778,\n",
       "       0.9903104 ])"
      ]
     },
     "execution_count": 121,
     "metadata": {},
     "output_type": "execute_result"
    }
   ],
   "source": [
    "from sklearn.model_selection import cross_val_score\n",
    "cross_val_score(rf,X_scalar,y,cv=6)"
   ]
  },
  {
   "cell_type": "code",
   "execution_count": 122,
   "id": "38d92e86",
   "metadata": {},
   "outputs": [
    {
     "data": {
      "text/plain": [
       "0.990174885341976"
      ]
     },
     "execution_count": 122,
     "metadata": {},
     "output_type": "execute_result"
    }
   ],
   "source": [
    "cross_val_score(rf,X_scalar,y,cv=6).mean()"
   ]
  },
  {
   "cell_type": "code",
   "execution_count": null,
   "id": "68d6b72a",
   "metadata": {},
   "outputs": [],
   "source": []
  },
  {
   "cell_type": "markdown",
   "id": "30922fe0",
   "metadata": {},
   "source": [
    "# Confusion Matrix RandomForestClassifier"
   ]
  },
  {
   "cell_type": "code",
   "execution_count": 123,
   "id": "f244a5ae",
   "metadata": {},
   "outputs": [
    {
     "data": {
      "text/plain": [
       "array([[9069,    0],\n",
       "       [  66,    0]], dtype=int64)"
      ]
     },
     "execution_count": 123,
     "metadata": {},
     "output_type": "execute_result"
    }
   ],
   "source": [
    "### if you want to check confusion matrix\n",
    "\n",
    "y_pred=clf_rf.predict(X_test)\n",
    "cfm=confusion_matrix(y_test,y_pred)\n",
    "cfm"
   ]
  },
  {
   "cell_type": "code",
   "execution_count": null,
   "id": "6201c711",
   "metadata": {},
   "outputs": [],
   "source": []
  },
  {
   "cell_type": "code",
   "execution_count": null,
   "id": "fac32ee8",
   "metadata": {},
   "outputs": [],
   "source": []
  },
  {
   "cell_type": "markdown",
   "id": "178858d0",
   "metadata": {},
   "source": [
    "# Support Vector Machine Model"
   ]
  },
  {
   "cell_type": "code",
   "execution_count": 124,
   "id": "ad5fc96c",
   "metadata": {},
   "outputs": [],
   "source": [
    "# Import necessary model #\n",
    "import pandas as pd\n",
    "import numpy as np\n",
    "import matplotlib.pyplot as plt\n",
    "import seaborn as sns\n",
    "from sklearn.model_selection import train_test_split\n",
    "from sklearn.metrics import confusion_matrix , classification_report , accuracy_score\n",
    "from sklearn.decomposition import PCA\n",
    "from sklearn.preprocessing import StandardScaler\n",
    "\n",
    "import warnings\n",
    "warnings.filterwarnings('ignore')\n",
    "# svc model \n",
    "# for classification\n",
    "from sklearn.svm import SVC"
   ]
  },
  {
   "cell_type": "code",
   "execution_count": 125,
   "id": "4c1b8eb0",
   "metadata": {
    "scrolled": true
   },
   "outputs": [
    {
     "name": "stdout",
     "output_type": "stream",
     "text": [
      "Testing Accuracy 0.9909140667761357 RandomState 1\n",
      "\n",
      "\n",
      "MAXINING TESTING SCORE 0.9909140667761357 ON RANDOM STATE OF 1\n",
      "Testing Accuracy 0.9897099069512862 RandomState 2\n",
      "\n",
      "\n",
      "Testing Accuracy 0.9906951286261632 RandomState 3\n",
      "\n",
      "\n",
      "Testing Accuracy 0.9906951286261632 RandomState 4\n",
      "\n",
      "\n",
      "Testing Accuracy 0.9902572523262179 RandomState 5\n",
      "\n",
      "\n",
      "Testing Accuracy 0.9894909688013136 RandomState 6\n",
      "\n",
      "\n",
      "Testing Accuracy 0.9897099069512862 RandomState 7\n",
      "\n",
      "\n",
      "Testing Accuracy 0.9890530925013684 RandomState 8\n",
      "\n",
      "\n",
      "Testing Accuracy 0.9920087575259989 RandomState 9\n",
      "\n",
      "\n",
      "MAXINING TESTING SCORE 0.9920087575259989 ON RANDOM STATE OF 9\n",
      "Testing Accuracy 0.9914614121510673 RandomState 10\n",
      "\n",
      "\n",
      "Testing Accuracy 0.9893814997263273 RandomState 11\n",
      "\n",
      "\n",
      "Testing Accuracy 0.9902572523262179 RandomState 12\n",
      "\n",
      "\n",
      "Testing Accuracy 0.989272030651341 RandomState 13\n",
      "\n",
      "\n",
      "Testing Accuracy 0.9890530925013684 RandomState 14\n",
      "\n",
      "\n",
      "Testing Accuracy 0.9896004378762999 RandomState 15\n",
      "\n",
      "\n",
      "Testing Accuracy 0.9909140667761357 RandomState 16\n",
      "\n",
      "\n",
      "Testing Accuracy 0.991023535851122 RandomState 17\n",
      "\n",
      "\n",
      "Testing Accuracy 0.9903667214012042 RandomState 18\n",
      "\n",
      "\n",
      "Testing Accuracy 0.9902572523262179 RandomState 19\n",
      "\n",
      "\n",
      "Testing Accuracy 0.9897099069512862 RandomState 20\n",
      "\n",
      "\n",
      "Testing Accuracy 0.9901477832512315 RandomState 21\n",
      "\n",
      "\n",
      "Testing Accuracy 0.9903667214012042 RandomState 22\n",
      "\n",
      "\n",
      "Testing Accuracy 0.9897099069512862 RandomState 23\n",
      "\n",
      "\n",
      "Testing Accuracy 0.9900383141762452 RandomState 24\n",
      "\n",
      "\n",
      "Testing Accuracy 0.9891625615763546 RandomState 25\n",
      "\n",
      "\n",
      "Testing Accuracy 0.9908045977011494 RandomState 26\n",
      "\n",
      "\n",
      "Testing Accuracy 0.9908045977011494 RandomState 27\n",
      "\n",
      "\n",
      "Testing Accuracy 0.989272030651341 RandomState 28\n",
      "\n",
      "\n",
      "Testing Accuracy 0.9909140667761357 RandomState 29\n",
      "\n",
      "\n",
      "Testing Accuracy 0.9906951286261632 RandomState 30\n",
      "\n",
      "\n",
      "Testing Accuracy 0.9909140667761357 RandomState 31\n",
      "\n",
      "\n",
      "Testing Accuracy 0.9902572523262179 RandomState 32\n",
      "\n",
      "\n",
      "Testing Accuracy 0.9909140667761357 RandomState 33\n",
      "\n",
      "\n",
      "Testing Accuracy 0.9904761904761905 RandomState 34\n",
      "\n",
      "\n",
      "Testing Accuracy 0.9894909688013136 RandomState 35\n",
      "\n",
      "\n",
      "Testing Accuracy 0.9908045977011494 RandomState 36\n",
      "\n",
      "\n",
      "Testing Accuracy 0.9894909688013136 RandomState 37\n",
      "\n",
      "\n",
      "Testing Accuracy 0.989272030651341 RandomState 38\n",
      "\n",
      "\n",
      "Testing Accuracy 0.9899288451012589 RandomState 39\n",
      "\n",
      "\n",
      "Testing Accuracy 0.9894909688013136 RandomState 40\n",
      "\n",
      "\n",
      "Testing Accuracy 0.9904761904761905 RandomState 41\n",
      "\n",
      "\n",
      "Testing Accuracy 0.9901477832512315 RandomState 42\n",
      "\n",
      "\n",
      "Testing Accuracy 0.9901477832512315 RandomState 43\n",
      "\n",
      "\n",
      "Testing Accuracy 0.9896004378762999 RandomState 44\n",
      "\n",
      "\n",
      "Testing Accuracy 0.9901477832512315 RandomState 45\n",
      "\n",
      "\n",
      "Testing Accuracy 0.9899288451012589 RandomState 46\n",
      "\n",
      "\n",
      "Testing Accuracy 0.9908045977011494 RandomState 47\n",
      "\n",
      "\n",
      "Testing Accuracy 0.9898193760262726 RandomState 48\n",
      "\n",
      "\n",
      "Testing Accuracy 0.9889436234263821 RandomState 49\n",
      "\n",
      "\n",
      "Testing Accuracy 0.9902572523262179 RandomState 50\n",
      "\n",
      "\n",
      "Testing Accuracy 0.9893814997263273 RandomState 51\n",
      "\n",
      "\n",
      "Testing Accuracy 0.9909140667761357 RandomState 52\n",
      "\n",
      "\n",
      "Testing Accuracy 0.9894909688013136 RandomState 53\n",
      "\n",
      "\n",
      "Testing Accuracy 0.9902572523262179 RandomState 54\n",
      "\n",
      "\n",
      "Testing Accuracy 0.9922276956759716 RandomState 55\n",
      "\n",
      "\n",
      "MAXINING TESTING SCORE 0.9922276956759716 ON RANDOM STATE OF 55\n",
      "Testing Accuracy 0.9896004378762999 RandomState 56\n",
      "\n",
      "\n",
      "Testing Accuracy 0.9898193760262726 RandomState 57\n",
      "\n",
      "\n",
      "Testing Accuracy 0.9887246852764094 RandomState 58\n",
      "\n",
      "\n",
      "Testing Accuracy 0.9911330049261083 RandomState 59\n",
      "\n",
      "\n",
      "Testing Accuracy 0.9906951286261632 RandomState 60\n",
      "\n",
      "\n",
      "Testing Accuracy 0.9885057471264368 RandomState 61\n",
      "\n",
      "\n",
      "Testing Accuracy 0.9900383141762452 RandomState 62\n",
      "\n",
      "\n",
      "Testing Accuracy 0.9900383141762452 RandomState 63\n",
      "\n",
      "\n",
      "Testing Accuracy 0.9889436234263821 RandomState 64\n",
      "\n",
      "\n",
      "Testing Accuracy 0.9902572523262179 RandomState 65\n",
      "\n",
      "\n",
      "Testing Accuracy 0.9906951286261632 RandomState 66\n",
      "\n",
      "\n",
      "Testing Accuracy 0.9905856595511768 RandomState 67\n",
      "\n",
      "\n",
      "Testing Accuracy 0.9922276956759716 RandomState 68\n",
      "\n",
      "\n",
      "Testing Accuracy 0.9927750410509031 RandomState 69\n",
      "\n",
      "\n",
      "MAXINING TESTING SCORE 0.9927750410509031 ON RANDOM STATE OF 69\n",
      "Testing Accuracy 0.9902572523262179 RandomState 70\n",
      "\n",
      "\n",
      "Testing Accuracy 0.9904761904761905 RandomState 71\n",
      "\n",
      "\n",
      "Testing Accuracy 0.9897099069512862 RandomState 72\n",
      "\n",
      "\n",
      "Testing Accuracy 0.9905856595511768 RandomState 73\n",
      "\n",
      "\n",
      "Testing Accuracy 0.9898193760262726 RandomState 74\n",
      "\n",
      "\n",
      "Testing Accuracy 0.9900383141762452 RandomState 75\n",
      "\n",
      "\n",
      "Testing Accuracy 0.9887246852764094 RandomState 76\n",
      "\n",
      "\n",
      "Testing Accuracy 0.991023535851122 RandomState 77\n",
      "\n",
      "\n",
      "Testing Accuracy 0.9883962780514505 RandomState 78\n",
      "\n",
      "\n",
      "Testing Accuracy 0.9897099069512862 RandomState 79\n",
      "\n",
      "\n",
      "Testing Accuracy 0.9905856595511768 RandomState 80\n",
      "\n",
      "\n",
      "Testing Accuracy 0.991023535851122 RandomState 81\n",
      "\n",
      "\n",
      "Testing Accuracy 0.9904761904761905 RandomState 82\n",
      "\n",
      "\n",
      "Testing Accuracy 0.991351943076081 RandomState 83\n",
      "\n",
      "\n",
      "Testing Accuracy 0.989272030651341 RandomState 84\n",
      "\n",
      "\n",
      "Testing Accuracy 0.9905856595511768 RandomState 85\n",
      "\n",
      "\n",
      "Testing Accuracy 0.9900383141762452 RandomState 86\n",
      "\n",
      "\n",
      "Testing Accuracy 0.9905856595511768 RandomState 87\n",
      "\n",
      "\n",
      "Testing Accuracy 0.989272030651341 RandomState 88\n",
      "\n",
      "\n",
      "Testing Accuracy 0.9896004378762999 RandomState 89\n",
      "\n",
      "\n",
      "Testing Accuracy 0.9906951286261632 RandomState 90\n",
      "\n",
      "\n",
      "Testing Accuracy 0.989272030651341 RandomState 91\n",
      "\n",
      "\n",
      "Testing Accuracy 0.991351943076081 RandomState 92\n",
      "\n",
      "\n",
      "Testing Accuracy 0.9908045977011494 RandomState 93\n",
      "\n",
      "\n",
      "Testing Accuracy 0.9903667214012042 RandomState 94\n",
      "\n",
      "\n",
      "Testing Accuracy 0.9903667214012042 RandomState 95\n",
      "\n",
      "\n",
      "Testing Accuracy 0.9904761904761905 RandomState 96\n",
      "\n",
      "\n",
      "Testing Accuracy 0.9893814997263273 RandomState 97\n",
      "\n",
      "\n",
      "Testing Accuracy 0.9897099069512862 RandomState 98\n",
      "\n",
      "\n",
      "Testing Accuracy 0.9920087575259989 RandomState 99\n",
      "\n",
      "\n"
     ]
    }
   ],
   "source": [
    "#Finding the Best Random State\n",
    "MaxAccu=0\n",
    "MaxRS=0\n",
    "\n",
    "for i in range (1,100):\n",
    "    X_train_ns,X_test,y_train_ns,y_test=train_test_split(X_scalar,y,test_size=0.25,random_state=i)\n",
    "    svc=SVC()\n",
    "    svc.fit(X_train_ns,y_train_ns)\n",
    "    \n",
    "    y_pred=svc.predict(X_test)\n",
    "    accuracy=accuracy_score(y_test,y_pred)\n",
    "    print ('Testing Accuracy' , accuracy , 'RandomState' ,i)\n",
    "    print('\\n')\n",
    "    \n",
    "    \n",
    "    if accuracy>MaxAccu:\n",
    "        MaxAccu=accuracy\n",
    "        MaxRS=i\n",
    "        print('MAXINING TESTING SCORE' , MaxAccu , 'ON RANDOM STATE OF' , i)"
   ]
  },
  {
   "cell_type": "code",
   "execution_count": 126,
   "id": "20e0239d",
   "metadata": {},
   "outputs": [
    {
     "name": "stdout",
     "output_type": "stream",
     "text": [
      "Best Accuracy is  0.9927750410509031 On Random State 69\n"
     ]
    }
   ],
   "source": [
    "print('Best Accuracy is ' , MaxAccu , 'On Random State' , MaxRS)"
   ]
  },
  {
   "cell_type": "markdown",
   "id": "4624cacf",
   "metadata": {},
   "source": [
    "## Training the model"
   ]
  },
  {
   "cell_type": "code",
   "execution_count": 127,
   "id": "24a83660",
   "metadata": {},
   "outputs": [],
   "source": [
    "# train test split\n",
    "X_train_ns,X_test,y_train_ns,y_test=train_test_split(X_scalar,y,test_size=0.25,random_state=69)"
   ]
  },
  {
   "cell_type": "code",
   "execution_count": 128,
   "id": "67045647",
   "metadata": {},
   "outputs": [],
   "source": [
    "#write one function and call as many time as you want\n",
    "def metric_score (clf,X_train_ns,X_test,y_train_ns,y_test,train=True):\n",
    "    if train:\n",
    "        y_pred = clf.predict(X_train_ns)\n",
    "        print ('====Training Score====')\n",
    "        print (f\"Accuracy score : {accuracy_score(y_train_ns,y_pred)*100:2f}%\")\n",
    "        \n",
    "    elif train==False:\n",
    "        pred = clf.predict(X_test)\n",
    "        print ('====Testing Score====')\n",
    "        print (f\"Accuracy score : {accuracy_score(y_test,pred)*100:2f}%\")\n",
    "        \n",
    "        print ('\\n \\n Classification report \\n ' , classification_report(y_test,pred,digits=2))"
   ]
  },
  {
   "cell_type": "code",
   "execution_count": 129,
   "id": "96fdafe4",
   "metadata": {},
   "outputs": [
    {
     "data": {
      "text/html": [
       "<style>#sk-container-id-9 {color: black;background-color: white;}#sk-container-id-9 pre{padding: 0;}#sk-container-id-9 div.sk-toggleable {background-color: white;}#sk-container-id-9 label.sk-toggleable__label {cursor: pointer;display: block;width: 100%;margin-bottom: 0;padding: 0.3em;box-sizing: border-box;text-align: center;}#sk-container-id-9 label.sk-toggleable__label-arrow:before {content: \"▸\";float: left;margin-right: 0.25em;color: #696969;}#sk-container-id-9 label.sk-toggleable__label-arrow:hover:before {color: black;}#sk-container-id-9 div.sk-estimator:hover label.sk-toggleable__label-arrow:before {color: black;}#sk-container-id-9 div.sk-toggleable__content {max-height: 0;max-width: 0;overflow: hidden;text-align: left;background-color: #f0f8ff;}#sk-container-id-9 div.sk-toggleable__content pre {margin: 0.2em;color: black;border-radius: 0.25em;background-color: #f0f8ff;}#sk-container-id-9 input.sk-toggleable__control:checked~div.sk-toggleable__content {max-height: 200px;max-width: 100%;overflow: auto;}#sk-container-id-9 input.sk-toggleable__control:checked~label.sk-toggleable__label-arrow:before {content: \"▾\";}#sk-container-id-9 div.sk-estimator input.sk-toggleable__control:checked~label.sk-toggleable__label {background-color: #d4ebff;}#sk-container-id-9 div.sk-label input.sk-toggleable__control:checked~label.sk-toggleable__label {background-color: #d4ebff;}#sk-container-id-9 input.sk-hidden--visually {border: 0;clip: rect(1px 1px 1px 1px);clip: rect(1px, 1px, 1px, 1px);height: 1px;margin: -1px;overflow: hidden;padding: 0;position: absolute;width: 1px;}#sk-container-id-9 div.sk-estimator {font-family: monospace;background-color: #f0f8ff;border: 1px dotted black;border-radius: 0.25em;box-sizing: border-box;margin-bottom: 0.5em;}#sk-container-id-9 div.sk-estimator:hover {background-color: #d4ebff;}#sk-container-id-9 div.sk-parallel-item::after {content: \"\";width: 100%;border-bottom: 1px solid gray;flex-grow: 1;}#sk-container-id-9 div.sk-label:hover label.sk-toggleable__label {background-color: #d4ebff;}#sk-container-id-9 div.sk-serial::before {content: \"\";position: absolute;border-left: 1px solid gray;box-sizing: border-box;top: 0;bottom: 0;left: 50%;z-index: 0;}#sk-container-id-9 div.sk-serial {display: flex;flex-direction: column;align-items: center;background-color: white;padding-right: 0.2em;padding-left: 0.2em;position: relative;}#sk-container-id-9 div.sk-item {position: relative;z-index: 1;}#sk-container-id-9 div.sk-parallel {display: flex;align-items: stretch;justify-content: center;background-color: white;position: relative;}#sk-container-id-9 div.sk-item::before, #sk-container-id-9 div.sk-parallel-item::before {content: \"\";position: absolute;border-left: 1px solid gray;box-sizing: border-box;top: 0;bottom: 0;left: 50%;z-index: -1;}#sk-container-id-9 div.sk-parallel-item {display: flex;flex-direction: column;z-index: 1;position: relative;background-color: white;}#sk-container-id-9 div.sk-parallel-item:first-child::after {align-self: flex-end;width: 50%;}#sk-container-id-9 div.sk-parallel-item:last-child::after {align-self: flex-start;width: 50%;}#sk-container-id-9 div.sk-parallel-item:only-child::after {width: 0;}#sk-container-id-9 div.sk-dashed-wrapped {border: 1px dashed gray;margin: 0 0.4em 0.5em 0.4em;box-sizing: border-box;padding-bottom: 0.4em;background-color: white;}#sk-container-id-9 div.sk-label label {font-family: monospace;font-weight: bold;display: inline-block;line-height: 1.2em;}#sk-container-id-9 div.sk-label-container {text-align: center;}#sk-container-id-9 div.sk-container {/* jupyter's `normalize.less` sets `[hidden] { display: none; }` but bootstrap.min.css set `[hidden] { display: none !important; }` so we also need the `!important` here to be able to override the default hidden behavior on the sphinx rendered scikit-learn.org. See: https://github.com/scikit-learn/scikit-learn/issues/21755 */display: inline-block !important;position: relative;}#sk-container-id-9 div.sk-text-repr-fallback {display: none;}</style><div id=\"sk-container-id-9\" class=\"sk-top-container\"><div class=\"sk-text-repr-fallback\"><pre>SVC()</pre><b>In a Jupyter environment, please rerun this cell to show the HTML representation or trust the notebook. <br />On GitHub, the HTML representation is unable to render, please try loading this page with nbviewer.org.</b></div><div class=\"sk-container\" hidden><div class=\"sk-item\"><div class=\"sk-estimator sk-toggleable\"><input class=\"sk-toggleable__control sk-hidden--visually\" id=\"sk-estimator-id-13\" type=\"checkbox\" checked><label for=\"sk-estimator-id-13\" class=\"sk-toggleable__label sk-toggleable__label-arrow\">SVC</label><div class=\"sk-toggleable__content\"><pre>SVC()</pre></div></div></div></div></div>"
      ],
      "text/plain": [
       "SVC()"
      ]
     },
     "execution_count": 129,
     "metadata": {},
     "output_type": "execute_result"
    }
   ],
   "source": [
    "clf_svc=SVC()\n",
    "clf_svc.fit(X_train_ns,y_train_ns)"
   ]
  },
  {
   "cell_type": "code",
   "execution_count": 130,
   "id": "64b38523",
   "metadata": {},
   "outputs": [
    {
     "name": "stdout",
     "output_type": "stream",
     "text": [
      "====Training Score====\n",
      "Accuracy score : 98.945409%\n",
      "====Testing Score====\n",
      "Accuracy score : 99.277504%\n",
      "\n",
      " \n",
      " Classification report \n",
      "                precision    recall  f1-score   support\n",
      "\n",
      "           0       0.99      1.00      1.00      9069\n",
      "           1       0.00      0.00      0.00        66\n",
      "\n",
      "    accuracy                           0.99      9135\n",
      "   macro avg       0.50      0.50      0.50      9135\n",
      "weighted avg       0.99      0.99      0.99      9135\n",
      "\n"
     ]
    }
   ],
   "source": [
    "# call the function\n",
    "metric_score (clf_svc,X_train_ns,X_test,y_train_ns,y_test,train = True)\n",
    "metric_score (clf_svc,X_train_ns,X_test,y_train_ns,y_test,train=False)"
   ]
  },
  {
   "cell_type": "markdown",
   "id": "ffc04feb",
   "metadata": {},
   "source": [
    "# Model Scores\n",
    "    Training Score = 98.945409%\n",
    "    Testing Score = 99.277504%"
   ]
  },
  {
   "cell_type": "code",
   "execution_count": null,
   "id": "65dc5e49",
   "metadata": {},
   "outputs": [],
   "source": []
  },
  {
   "cell_type": "code",
   "execution_count": null,
   "id": "94c3fa5a",
   "metadata": {},
   "outputs": [],
   "source": []
  },
  {
   "cell_type": "markdown",
   "id": "b315c438",
   "metadata": {},
   "source": [
    "# Hyperparameter Tuning for SVC"
   ]
  },
  {
   "cell_type": "code",
   "execution_count": 131,
   "id": "a7f0d197",
   "metadata": {},
   "outputs": [],
   "source": [
    "## HYPERPARAMETER TUNING ##\n",
    "# here we tune only 2 parameter c and gamma\n",
    "# where c = how much error we allow model to do \n",
    "# gamma = it decide how much curvature we want in a decision boundary \n",
    "\n",
    "from sklearn.model_selection import GridSearchCV"
   ]
  },
  {
   "cell_type": "code",
   "execution_count": 132,
   "id": "0612d7cb",
   "metadata": {},
   "outputs": [],
   "source": [
    "param_grid={'C':[1,5,10,20],\n",
    "           'gamma':[0.001,0.01,0.02,0.002]}"
   ]
  },
  {
   "cell_type": "code",
   "execution_count": 133,
   "id": "d12ed9fe",
   "metadata": {},
   "outputs": [],
   "source": [
    "# here we are define some parameter and ask gridsearchcv which one is best\n",
    "gridsearch=GridSearchCV(svc,param_grid)"
   ]
  },
  {
   "cell_type": "code",
   "execution_count": 134,
   "id": "b1a928b0",
   "metadata": {},
   "outputs": [
    {
     "data": {
      "text/html": [
       "<style>#sk-container-id-10 {color: black;background-color: white;}#sk-container-id-10 pre{padding: 0;}#sk-container-id-10 div.sk-toggleable {background-color: white;}#sk-container-id-10 label.sk-toggleable__label {cursor: pointer;display: block;width: 100%;margin-bottom: 0;padding: 0.3em;box-sizing: border-box;text-align: center;}#sk-container-id-10 label.sk-toggleable__label-arrow:before {content: \"▸\";float: left;margin-right: 0.25em;color: #696969;}#sk-container-id-10 label.sk-toggleable__label-arrow:hover:before {color: black;}#sk-container-id-10 div.sk-estimator:hover label.sk-toggleable__label-arrow:before {color: black;}#sk-container-id-10 div.sk-toggleable__content {max-height: 0;max-width: 0;overflow: hidden;text-align: left;background-color: #f0f8ff;}#sk-container-id-10 div.sk-toggleable__content pre {margin: 0.2em;color: black;border-radius: 0.25em;background-color: #f0f8ff;}#sk-container-id-10 input.sk-toggleable__control:checked~div.sk-toggleable__content {max-height: 200px;max-width: 100%;overflow: auto;}#sk-container-id-10 input.sk-toggleable__control:checked~label.sk-toggleable__label-arrow:before {content: \"▾\";}#sk-container-id-10 div.sk-estimator input.sk-toggleable__control:checked~label.sk-toggleable__label {background-color: #d4ebff;}#sk-container-id-10 div.sk-label input.sk-toggleable__control:checked~label.sk-toggleable__label {background-color: #d4ebff;}#sk-container-id-10 input.sk-hidden--visually {border: 0;clip: rect(1px 1px 1px 1px);clip: rect(1px, 1px, 1px, 1px);height: 1px;margin: -1px;overflow: hidden;padding: 0;position: absolute;width: 1px;}#sk-container-id-10 div.sk-estimator {font-family: monospace;background-color: #f0f8ff;border: 1px dotted black;border-radius: 0.25em;box-sizing: border-box;margin-bottom: 0.5em;}#sk-container-id-10 div.sk-estimator:hover {background-color: #d4ebff;}#sk-container-id-10 div.sk-parallel-item::after {content: \"\";width: 100%;border-bottom: 1px solid gray;flex-grow: 1;}#sk-container-id-10 div.sk-label:hover label.sk-toggleable__label {background-color: #d4ebff;}#sk-container-id-10 div.sk-serial::before {content: \"\";position: absolute;border-left: 1px solid gray;box-sizing: border-box;top: 0;bottom: 0;left: 50%;z-index: 0;}#sk-container-id-10 div.sk-serial {display: flex;flex-direction: column;align-items: center;background-color: white;padding-right: 0.2em;padding-left: 0.2em;position: relative;}#sk-container-id-10 div.sk-item {position: relative;z-index: 1;}#sk-container-id-10 div.sk-parallel {display: flex;align-items: stretch;justify-content: center;background-color: white;position: relative;}#sk-container-id-10 div.sk-item::before, #sk-container-id-10 div.sk-parallel-item::before {content: \"\";position: absolute;border-left: 1px solid gray;box-sizing: border-box;top: 0;bottom: 0;left: 50%;z-index: -1;}#sk-container-id-10 div.sk-parallel-item {display: flex;flex-direction: column;z-index: 1;position: relative;background-color: white;}#sk-container-id-10 div.sk-parallel-item:first-child::after {align-self: flex-end;width: 50%;}#sk-container-id-10 div.sk-parallel-item:last-child::after {align-self: flex-start;width: 50%;}#sk-container-id-10 div.sk-parallel-item:only-child::after {width: 0;}#sk-container-id-10 div.sk-dashed-wrapped {border: 1px dashed gray;margin: 0 0.4em 0.5em 0.4em;box-sizing: border-box;padding-bottom: 0.4em;background-color: white;}#sk-container-id-10 div.sk-label label {font-family: monospace;font-weight: bold;display: inline-block;line-height: 1.2em;}#sk-container-id-10 div.sk-label-container {text-align: center;}#sk-container-id-10 div.sk-container {/* jupyter's `normalize.less` sets `[hidden] { display: none; }` but bootstrap.min.css set `[hidden] { display: none !important; }` so we also need the `!important` here to be able to override the default hidden behavior on the sphinx rendered scikit-learn.org. See: https://github.com/scikit-learn/scikit-learn/issues/21755 */display: inline-block !important;position: relative;}#sk-container-id-10 div.sk-text-repr-fallback {display: none;}</style><div id=\"sk-container-id-10\" class=\"sk-top-container\"><div class=\"sk-text-repr-fallback\"><pre>GridSearchCV(estimator=SVC(),\n",
       "             param_grid={&#x27;C&#x27;: [1, 5, 10, 20],\n",
       "                         &#x27;gamma&#x27;: [0.001, 0.01, 0.02, 0.002]})</pre><b>In a Jupyter environment, please rerun this cell to show the HTML representation or trust the notebook. <br />On GitHub, the HTML representation is unable to render, please try loading this page with nbviewer.org.</b></div><div class=\"sk-container\" hidden><div class=\"sk-item sk-dashed-wrapped\"><div class=\"sk-label-container\"><div class=\"sk-label sk-toggleable\"><input class=\"sk-toggleable__control sk-hidden--visually\" id=\"sk-estimator-id-14\" type=\"checkbox\" ><label for=\"sk-estimator-id-14\" class=\"sk-toggleable__label sk-toggleable__label-arrow\">GridSearchCV</label><div class=\"sk-toggleable__content\"><pre>GridSearchCV(estimator=SVC(),\n",
       "             param_grid={&#x27;C&#x27;: [1, 5, 10, 20],\n",
       "                         &#x27;gamma&#x27;: [0.001, 0.01, 0.02, 0.002]})</pre></div></div></div><div class=\"sk-parallel\"><div class=\"sk-parallel-item\"><div class=\"sk-item\"><div class=\"sk-label-container\"><div class=\"sk-label sk-toggleable\"><input class=\"sk-toggleable__control sk-hidden--visually\" id=\"sk-estimator-id-15\" type=\"checkbox\" ><label for=\"sk-estimator-id-15\" class=\"sk-toggleable__label sk-toggleable__label-arrow\">estimator: SVC</label><div class=\"sk-toggleable__content\"><pre>SVC()</pre></div></div></div><div class=\"sk-serial\"><div class=\"sk-item\"><div class=\"sk-estimator sk-toggleable\"><input class=\"sk-toggleable__control sk-hidden--visually\" id=\"sk-estimator-id-16\" type=\"checkbox\" ><label for=\"sk-estimator-id-16\" class=\"sk-toggleable__label sk-toggleable__label-arrow\">SVC</label><div class=\"sk-toggleable__content\"><pre>SVC()</pre></div></div></div></div></div></div></div></div></div></div>"
      ],
      "text/plain": [
       "GridSearchCV(estimator=SVC(),\n",
       "             param_grid={'C': [1, 5, 10, 20],\n",
       "                         'gamma': [0.001, 0.01, 0.02, 0.002]})"
      ]
     },
     "execution_count": 134,
     "metadata": {},
     "output_type": "execute_result"
    }
   ],
   "source": [
    "#pass dataset to train \n",
    "gridsearch.fit(X_train_ns,y_train_ns)"
   ]
  },
  {
   "cell_type": "code",
   "execution_count": 135,
   "id": "a7cc9dc3",
   "metadata": {},
   "outputs": [
    {
     "data": {
      "text/plain": [
       "{'C': 1, 'gamma': 0.001}"
      ]
     },
     "execution_count": 135,
     "metadata": {},
     "output_type": "execute_result"
    }
   ],
   "source": [
    "#best parameters\n",
    "gridsearch.best_params_"
   ]
  },
  {
   "cell_type": "code",
   "execution_count": 138,
   "id": "2360f85c",
   "metadata": {},
   "outputs": [
    {
     "data": {
      "text/html": [
       "<style>#sk-container-id-12 {color: black;background-color: white;}#sk-container-id-12 pre{padding: 0;}#sk-container-id-12 div.sk-toggleable {background-color: white;}#sk-container-id-12 label.sk-toggleable__label {cursor: pointer;display: block;width: 100%;margin-bottom: 0;padding: 0.3em;box-sizing: border-box;text-align: center;}#sk-container-id-12 label.sk-toggleable__label-arrow:before {content: \"▸\";float: left;margin-right: 0.25em;color: #696969;}#sk-container-id-12 label.sk-toggleable__label-arrow:hover:before {color: black;}#sk-container-id-12 div.sk-estimator:hover label.sk-toggleable__label-arrow:before {color: black;}#sk-container-id-12 div.sk-toggleable__content {max-height: 0;max-width: 0;overflow: hidden;text-align: left;background-color: #f0f8ff;}#sk-container-id-12 div.sk-toggleable__content pre {margin: 0.2em;color: black;border-radius: 0.25em;background-color: #f0f8ff;}#sk-container-id-12 input.sk-toggleable__control:checked~div.sk-toggleable__content {max-height: 200px;max-width: 100%;overflow: auto;}#sk-container-id-12 input.sk-toggleable__control:checked~label.sk-toggleable__label-arrow:before {content: \"▾\";}#sk-container-id-12 div.sk-estimator input.sk-toggleable__control:checked~label.sk-toggleable__label {background-color: #d4ebff;}#sk-container-id-12 div.sk-label input.sk-toggleable__control:checked~label.sk-toggleable__label {background-color: #d4ebff;}#sk-container-id-12 input.sk-hidden--visually {border: 0;clip: rect(1px 1px 1px 1px);clip: rect(1px, 1px, 1px, 1px);height: 1px;margin: -1px;overflow: hidden;padding: 0;position: absolute;width: 1px;}#sk-container-id-12 div.sk-estimator {font-family: monospace;background-color: #f0f8ff;border: 1px dotted black;border-radius: 0.25em;box-sizing: border-box;margin-bottom: 0.5em;}#sk-container-id-12 div.sk-estimator:hover {background-color: #d4ebff;}#sk-container-id-12 div.sk-parallel-item::after {content: \"\";width: 100%;border-bottom: 1px solid gray;flex-grow: 1;}#sk-container-id-12 div.sk-label:hover label.sk-toggleable__label {background-color: #d4ebff;}#sk-container-id-12 div.sk-serial::before {content: \"\";position: absolute;border-left: 1px solid gray;box-sizing: border-box;top: 0;bottom: 0;left: 50%;z-index: 0;}#sk-container-id-12 div.sk-serial {display: flex;flex-direction: column;align-items: center;background-color: white;padding-right: 0.2em;padding-left: 0.2em;position: relative;}#sk-container-id-12 div.sk-item {position: relative;z-index: 1;}#sk-container-id-12 div.sk-parallel {display: flex;align-items: stretch;justify-content: center;background-color: white;position: relative;}#sk-container-id-12 div.sk-item::before, #sk-container-id-12 div.sk-parallel-item::before {content: \"\";position: absolute;border-left: 1px solid gray;box-sizing: border-box;top: 0;bottom: 0;left: 50%;z-index: -1;}#sk-container-id-12 div.sk-parallel-item {display: flex;flex-direction: column;z-index: 1;position: relative;background-color: white;}#sk-container-id-12 div.sk-parallel-item:first-child::after {align-self: flex-end;width: 50%;}#sk-container-id-12 div.sk-parallel-item:last-child::after {align-self: flex-start;width: 50%;}#sk-container-id-12 div.sk-parallel-item:only-child::after {width: 0;}#sk-container-id-12 div.sk-dashed-wrapped {border: 1px dashed gray;margin: 0 0.4em 0.5em 0.4em;box-sizing: border-box;padding-bottom: 0.4em;background-color: white;}#sk-container-id-12 div.sk-label label {font-family: monospace;font-weight: bold;display: inline-block;line-height: 1.2em;}#sk-container-id-12 div.sk-label-container {text-align: center;}#sk-container-id-12 div.sk-container {/* jupyter's `normalize.less` sets `[hidden] { display: none; }` but bootstrap.min.css set `[hidden] { display: none !important; }` so we also need the `!important` here to be able to override the default hidden behavior on the sphinx rendered scikit-learn.org. See: https://github.com/scikit-learn/scikit-learn/issues/21755 */display: inline-block !important;position: relative;}#sk-container-id-12 div.sk-text-repr-fallback {display: none;}</style><div id=\"sk-container-id-12\" class=\"sk-top-container\"><div class=\"sk-text-repr-fallback\"><pre>SVC(C=1, gamma=0.001)</pre><b>In a Jupyter environment, please rerun this cell to show the HTML representation or trust the notebook. <br />On GitHub, the HTML representation is unable to render, please try loading this page with nbviewer.org.</b></div><div class=\"sk-container\" hidden><div class=\"sk-item\"><div class=\"sk-estimator sk-toggleable\"><input class=\"sk-toggleable__control sk-hidden--visually\" id=\"sk-estimator-id-18\" type=\"checkbox\" checked><label for=\"sk-estimator-id-18\" class=\"sk-toggleable__label sk-toggleable__label-arrow\">SVC</label><div class=\"sk-toggleable__content\"><pre>SVC(C=1, gamma=0.001)</pre></div></div></div></div></div>"
      ],
      "text/plain": [
       "SVC(C=1, gamma=0.001)"
      ]
     },
     "execution_count": 138,
     "metadata": {},
     "output_type": "execute_result"
    }
   ],
   "source": [
    "# update our model and train again for new score \n",
    "svc=SVC(C=1,gamma=0.001)\n",
    "svc.fit(X_train_ns,y_train_ns)"
   ]
  },
  {
   "cell_type": "code",
   "execution_count": 139,
   "id": "0a64318f",
   "metadata": {},
   "outputs": [
    {
     "name": "stdout",
     "output_type": "stream",
     "text": [
      "====Training Score====\n",
      "Accuracy score : 98.945409%\n",
      "====Testing Score====\n",
      "Accuracy score : 99.277504%\n",
      "\n",
      " \n",
      " Classification report \n",
      "                precision    recall  f1-score   support\n",
      "\n",
      "           0       0.99      1.00      1.00      9069\n",
      "           1       0.00      0.00      0.00        66\n",
      "\n",
      "    accuracy                           0.99      9135\n",
      "   macro avg       0.50      0.50      0.50      9135\n",
      "weighted avg       0.99      0.99      0.99      9135\n",
      "\n"
     ]
    }
   ],
   "source": [
    "# call the function\n",
    "metric_score (svc,X_train_ns,X_test,y_train_ns,y_test,train = True)\n",
    "metric_score (svc,X_train_ns,X_test,y_train_ns,y_test,train=False)"
   ]
  },
  {
   "cell_type": "markdown",
   "id": "667ad2ec",
   "metadata": {},
   "source": [
    "# Model Scores With Hyperparameter Tuning\n",
    "    Training Score = 98.945409%\n",
    "    Testing Score = 99.277504%\n"
   ]
  },
  {
   "cell_type": "code",
   "execution_count": null,
   "id": "5ff8c01d",
   "metadata": {},
   "outputs": [],
   "source": []
  },
  {
   "cell_type": "code",
   "execution_count": null,
   "id": "e2f8992f",
   "metadata": {},
   "outputs": [],
   "source": []
  },
  {
   "cell_type": "markdown",
   "id": "cb44898b",
   "metadata": {},
   "source": [
    "# Cross Validation score for SVC"
   ]
  },
  {
   "cell_type": "code",
   "execution_count": 140,
   "id": "6014f4c9",
   "metadata": {},
   "outputs": [
    {
     "data": {
      "text/plain": [
       "array([0.99031199, 0.99031199, 0.99031199, 0.99031199, 0.99014778,\n",
       "       0.9903104 ])"
      ]
     },
     "execution_count": 140,
     "metadata": {},
     "output_type": "execute_result"
    }
   ],
   "source": [
    "from sklearn.model_selection import cross_val_score\n",
    "cross_val_score(svc,X_scalar,y,cv=6)"
   ]
  },
  {
   "cell_type": "code",
   "execution_count": 141,
   "id": "9c83b2ed",
   "metadata": {},
   "outputs": [
    {
     "data": {
      "text/plain": [
       "0.990284354416962"
      ]
     },
     "execution_count": 141,
     "metadata": {},
     "output_type": "execute_result"
    }
   ],
   "source": [
    "cross_val_score(svc,X_scalar,y,cv=6).mean()"
   ]
  },
  {
   "cell_type": "code",
   "execution_count": null,
   "id": "cb1eec4f",
   "metadata": {},
   "outputs": [],
   "source": []
  },
  {
   "cell_type": "markdown",
   "id": "9eb7d545",
   "metadata": {},
   "source": [
    "# Confusion Matrix for SVC"
   ]
  },
  {
   "cell_type": "code",
   "execution_count": 142,
   "id": "0a3f5b58",
   "metadata": {},
   "outputs": [
    {
     "data": {
      "text/plain": [
       "array([[9069,    0],\n",
       "       [  66,    0]], dtype=int64)"
      ]
     },
     "execution_count": 142,
     "metadata": {},
     "output_type": "execute_result"
    }
   ],
   "source": [
    "### if you want to check confusion matrix\n",
    "\n",
    "y_pred=svc.predict(X_test)\n",
    "cfm=confusion_matrix(y_test,y_pred)\n",
    "cfm"
   ]
  },
  {
   "cell_type": "code",
   "execution_count": null,
   "id": "b9a1138e",
   "metadata": {},
   "outputs": [],
   "source": []
  },
  {
   "cell_type": "code",
   "execution_count": null,
   "id": "1cb3e2a9",
   "metadata": {},
   "outputs": [],
   "source": []
  },
  {
   "cell_type": "markdown",
   "id": "fab1fbf1",
   "metadata": {},
   "source": [
    "# KNeighborsClassifier Model"
   ]
  },
  {
   "cell_type": "code",
   "execution_count": 143,
   "id": "f882bafe",
   "metadata": {},
   "outputs": [],
   "source": [
    "#import necessary library\n",
    "\n",
    "import pandas as pd\n",
    "import numpy as np \n",
    "from sklearn.preprocessing import StandardScaler\n",
    "from sklearn.model_selection import train_test_split\n",
    "from sklearn.metrics import confusion_matrix,classification_report,accuracy_score\n",
    "from sklearn.neighbors import KNeighborsClassifier\n",
    "import seaborn as sns\n",
    "import matplotlib.pyplot as plt\n",
    "\n",
    "import warnings\n",
    "warnings.filterwarnings('ignore')"
   ]
  },
  {
   "cell_type": "code",
   "execution_count": 144,
   "id": "e432732e",
   "metadata": {},
   "outputs": [
    {
     "name": "stdout",
     "output_type": "stream",
     "text": [
      "Testing Accuracy 0.9912424740010947 RandomState 1\n",
      "\n",
      "\n",
      "MAXINING TESTING SCORE 0.9912424740010947 ON RANDOM STATE OF 1\n",
      "Testing Accuracy 0.9898193760262726 RandomState 2\n",
      "\n",
      "\n",
      "Testing Accuracy 0.9909140667761357 RandomState 3\n",
      "\n",
      "\n",
      "Testing Accuracy 0.9905856595511768 RandomState 4\n",
      "\n",
      "\n",
      "Testing Accuracy 0.9903667214012042 RandomState 5\n",
      "\n",
      "\n",
      "Testing Accuracy 0.9898193760262726 RandomState 6\n",
      "\n",
      "\n",
      "Testing Accuracy 0.9899288451012589 RandomState 7\n",
      "\n",
      "\n",
      "Testing Accuracy 0.9893814997263273 RandomState 8\n",
      "\n",
      "\n",
      "Testing Accuracy 0.9924466338259442 RandomState 9\n",
      "\n",
      "\n",
      "MAXINING TESTING SCORE 0.9924466338259442 ON RANDOM STATE OF 9\n",
      "Testing Accuracy 0.9915708812260536 RandomState 10\n",
      "\n",
      "\n",
      "Testing Accuracy 0.9894909688013136 RandomState 11\n",
      "\n",
      "\n",
      "Testing Accuracy 0.9905856595511768 RandomState 12\n",
      "\n",
      "\n",
      "Testing Accuracy 0.9896004378762999 RandomState 13\n",
      "\n",
      "\n",
      "Testing Accuracy 0.989272030651341 RandomState 14\n",
      "\n",
      "\n",
      "Testing Accuracy 0.9898193760262726 RandomState 15\n",
      "\n",
      "\n",
      "Testing Accuracy 0.9912424740010947 RandomState 16\n",
      "\n",
      "\n",
      "Testing Accuracy 0.991023535851122 RandomState 17\n",
      "\n",
      "\n",
      "Testing Accuracy 0.9903667214012042 RandomState 18\n",
      "\n",
      "\n",
      "Testing Accuracy 0.9902572523262179 RandomState 19\n",
      "\n",
      "\n",
      "Testing Accuracy 0.9898193760262726 RandomState 20\n",
      "\n",
      "\n",
      "Testing Accuracy 0.9902572523262179 RandomState 21\n",
      "\n",
      "\n",
      "Testing Accuracy 0.9906951286261632 RandomState 22\n",
      "\n",
      "\n",
      "Testing Accuracy 0.9900383141762452 RandomState 23\n",
      "\n",
      "\n",
      "Testing Accuracy 0.9906951286261632 RandomState 24\n",
      "\n",
      "\n",
      "Testing Accuracy 0.989272030651341 RandomState 25\n",
      "\n",
      "\n",
      "Testing Accuracy 0.991351943076081 RandomState 26\n",
      "\n",
      "\n",
      "Testing Accuracy 0.9911330049261083 RandomState 27\n",
      "\n",
      "\n",
      "Testing Accuracy 0.9894909688013136 RandomState 28\n",
      "\n",
      "\n",
      "Testing Accuracy 0.991023535851122 RandomState 29\n",
      "\n",
      "\n",
      "Testing Accuracy 0.9909140667761357 RandomState 30\n",
      "\n",
      "\n",
      "Testing Accuracy 0.9912424740010947 RandomState 31\n",
      "\n",
      "\n",
      "Testing Accuracy 0.9902572523262179 RandomState 32\n",
      "\n",
      "\n",
      "Testing Accuracy 0.9912424740010947 RandomState 33\n",
      "\n",
      "\n",
      "Testing Accuracy 0.9906951286261632 RandomState 34\n",
      "\n",
      "\n",
      "Testing Accuracy 0.9896004378762999 RandomState 35\n",
      "\n",
      "\n",
      "Testing Accuracy 0.991023535851122 RandomState 36\n",
      "\n",
      "\n",
      "Testing Accuracy 0.9898193760262726 RandomState 37\n",
      "\n",
      "\n",
      "Testing Accuracy 0.9893814997263273 RandomState 38\n",
      "\n",
      "\n",
      "Testing Accuracy 0.9900383141762452 RandomState 39\n",
      "\n",
      "\n",
      "Testing Accuracy 0.9897099069512862 RandomState 40\n",
      "\n",
      "\n",
      "Testing Accuracy 0.9909140667761357 RandomState 41\n",
      "\n",
      "\n",
      "Testing Accuracy 0.9901477832512315 RandomState 42\n",
      "\n",
      "\n",
      "Testing Accuracy 0.9903667214012042 RandomState 43\n",
      "\n",
      "\n",
      "Testing Accuracy 0.9899288451012589 RandomState 44\n",
      "\n",
      "\n",
      "Testing Accuracy 0.9905856595511768 RandomState 45\n",
      "\n",
      "\n",
      "Testing Accuracy 0.9903667214012042 RandomState 46\n",
      "\n",
      "\n",
      "Testing Accuracy 0.9909140667761357 RandomState 47\n",
      "\n",
      "\n",
      "Testing Accuracy 0.9898193760262726 RandomState 48\n",
      "\n",
      "\n",
      "Testing Accuracy 0.9888341543513958 RandomState 49\n",
      "\n",
      "\n",
      "Testing Accuracy 0.9903667214012042 RandomState 50\n",
      "\n",
      "\n",
      "Testing Accuracy 0.9898193760262726 RandomState 51\n",
      "\n",
      "\n",
      "Testing Accuracy 0.991023535851122 RandomState 52\n",
      "\n",
      "\n",
      "Testing Accuracy 0.9894909688013136 RandomState 53\n",
      "\n",
      "\n",
      "Testing Accuracy 0.9903667214012042 RandomState 54\n",
      "\n",
      "\n",
      "Testing Accuracy 0.9923371647509579 RandomState 55\n",
      "\n",
      "\n",
      "Testing Accuracy 0.9894909688013136 RandomState 56\n",
      "\n",
      "\n",
      "Testing Accuracy 0.9901477832512315 RandomState 57\n",
      "\n",
      "\n",
      "Testing Accuracy 0.9890530925013684 RandomState 58\n",
      "\n",
      "\n",
      "Testing Accuracy 0.991351943076081 RandomState 59\n",
      "\n",
      "\n",
      "Testing Accuracy 0.9908045977011494 RandomState 60\n",
      "\n",
      "\n",
      "Testing Accuracy 0.9887246852764094 RandomState 61\n",
      "\n",
      "\n",
      "Testing Accuracy 0.9902572523262179 RandomState 62\n",
      "\n",
      "\n",
      "Testing Accuracy 0.9903667214012042 RandomState 63\n",
      "\n",
      "\n",
      "Testing Accuracy 0.9890530925013684 RandomState 64\n",
      "\n",
      "\n",
      "Testing Accuracy 0.9906951286261632 RandomState 65\n",
      "\n",
      "\n",
      "Testing Accuracy 0.9906951286261632 RandomState 66\n",
      "\n",
      "\n",
      "Testing Accuracy 0.9904761904761905 RandomState 67\n",
      "\n",
      "\n",
      "Testing Accuracy 0.9924466338259442 RandomState 68\n",
      "\n",
      "\n",
      "Testing Accuracy 0.9926655719759168 RandomState 69\n",
      "\n",
      "\n",
      "MAXINING TESTING SCORE 0.9926655719759168 ON RANDOM STATE OF 69\n",
      "Testing Accuracy 0.9904761904761905 RandomState 70\n",
      "\n",
      "\n",
      "Testing Accuracy 0.9906951286261632 RandomState 71\n",
      "\n",
      "\n",
      "Testing Accuracy 0.9899288451012589 RandomState 72\n",
      "\n",
      "\n",
      "Testing Accuracy 0.9906951286261632 RandomState 73\n",
      "\n",
      "\n",
      "Testing Accuracy 0.9902572523262179 RandomState 74\n",
      "\n",
      "\n",
      "Testing Accuracy 0.9900383141762452 RandomState 75\n",
      "\n",
      "\n",
      "Testing Accuracy 0.989272030651341 RandomState 76\n",
      "\n",
      "\n",
      "Testing Accuracy 0.991023535851122 RandomState 77\n",
      "\n",
      "\n",
      "Testing Accuracy 0.9889436234263821 RandomState 78\n",
      "\n",
      "\n",
      "Testing Accuracy 0.9898193760262726 RandomState 79\n",
      "\n",
      "\n",
      "Testing Accuracy 0.9904761904761905 RandomState 80\n",
      "\n",
      "\n",
      "Testing Accuracy 0.9911330049261083 RandomState 81\n",
      "\n",
      "\n",
      "Testing Accuracy 0.9908045977011494 RandomState 82\n",
      "\n",
      "\n",
      "Testing Accuracy 0.9915708812260536 RandomState 83\n",
      "\n",
      "\n",
      "Testing Accuracy 0.9893814997263273 RandomState 84\n",
      "\n",
      "\n",
      "Testing Accuracy 0.9906951286261632 RandomState 85\n",
      "\n",
      "\n",
      "Testing Accuracy 0.9902572523262179 RandomState 86\n",
      "\n",
      "\n",
      "Testing Accuracy 0.991023535851122 RandomState 87\n",
      "\n",
      "\n",
      "Testing Accuracy 0.9893814997263273 RandomState 88\n",
      "\n",
      "\n",
      "Testing Accuracy 0.9898193760262726 RandomState 89\n",
      "\n",
      "\n",
      "Testing Accuracy 0.9906951286261632 RandomState 90\n",
      "\n",
      "\n",
      "Testing Accuracy 0.9897099069512862 RandomState 91\n",
      "\n",
      "\n",
      "Testing Accuracy 0.9915708812260536 RandomState 92\n",
      "\n",
      "\n",
      "Testing Accuracy 0.9909140667761357 RandomState 93\n",
      "\n",
      "\n",
      "Testing Accuracy 0.9904761904761905 RandomState 94\n",
      "\n",
      "\n",
      "Testing Accuracy 0.9909140667761357 RandomState 95\n",
      "\n",
      "\n",
      "Testing Accuracy 0.9905856595511768 RandomState 96\n",
      "\n",
      "\n",
      "Testing Accuracy 0.9896004378762999 RandomState 97\n",
      "\n",
      "\n",
      "Testing Accuracy 0.9897099069512862 RandomState 98\n",
      "\n",
      "\n",
      "Testing Accuracy 0.9924466338259442 RandomState 99\n",
      "\n",
      "\n"
     ]
    }
   ],
   "source": [
    "#Finding the Best Random State\n",
    "MaxAccu=0\n",
    "MaxRS=0\n",
    "\n",
    "for i in range (1,100):\n",
    "    X_train,X_test,y_train,y_test=train_test_split(X_scalar,y,test_size=0.25,random_state=i)\n",
    "    knn = KNeighborsClassifier()\n",
    "    knn.fit(X_train,y_train)\n",
    "    \n",
    "    y_pred=rf.predict(X_test)\n",
    "    accuracy=accuracy_score(y_test,y_pred)\n",
    "    print ('Testing Accuracy' , accuracy , 'RandomState' ,i)\n",
    "    print('\\n')\n",
    "    \n",
    "    \n",
    "    if accuracy>MaxAccu:\n",
    "        MaxAccu=accuracy\n",
    "        MaxRS=i\n",
    "        print('MAXINING TESTING SCORE' , MaxAccu , 'ON RANDOM STATE OF' , i)"
   ]
  },
  {
   "cell_type": "code",
   "execution_count": 145,
   "id": "54106c00",
   "metadata": {},
   "outputs": [
    {
     "name": "stdout",
     "output_type": "stream",
     "text": [
      "Best Accuracy is  0.9926655719759168 On Random State 69\n"
     ]
    }
   ],
   "source": [
    "print('Best Accuracy is ' , MaxAccu , 'On Random State' , MaxRS)"
   ]
  },
  {
   "cell_type": "markdown",
   "id": "bb356509",
   "metadata": {},
   "source": [
    "## Traning th model"
   ]
  },
  {
   "cell_type": "code",
   "execution_count": 146,
   "id": "e0393f87",
   "metadata": {},
   "outputs": [],
   "source": [
    "X_train_ns,X_test,y_train_ns,y_test=train_test_split(X_scalar,y,test_size=0.25,random_state=69)"
   ]
  },
  {
   "cell_type": "code",
   "execution_count": 147,
   "id": "6ded54a7",
   "metadata": {},
   "outputs": [],
   "source": [
    "#write one function and call as many time as you want\n",
    "def metric_score (clf,X_train_ns,X_test,y_train_ns,y_test,train=True):\n",
    "    if train:\n",
    "        pred = clf.predict(X_train_ns)\n",
    "        print ('====Training Score====')\n",
    "        print (f\"Accuracy score : {accuracy_score(y_train_ns,pred)*100:2f}%\")\n",
    "        \n",
    "    elif train==False:\n",
    "        y_pred = clf.predict(X_test)\n",
    "        print ('====Testing Score====')\n",
    "        print (f\"Accuracy score : {accuracy_score(y_test,y_pred)*100:2f}%\")\n",
    "        \n",
    "        print ('\\n \\n Classification report \\n ' , classification_report(y_test,y_pred,digits=2))"
   ]
  },
  {
   "cell_type": "code",
   "execution_count": 148,
   "id": "631c1091",
   "metadata": {},
   "outputs": [
    {
     "data": {
      "text/html": [
       "<style>#sk-container-id-13 {color: black;background-color: white;}#sk-container-id-13 pre{padding: 0;}#sk-container-id-13 div.sk-toggleable {background-color: white;}#sk-container-id-13 label.sk-toggleable__label {cursor: pointer;display: block;width: 100%;margin-bottom: 0;padding: 0.3em;box-sizing: border-box;text-align: center;}#sk-container-id-13 label.sk-toggleable__label-arrow:before {content: \"▸\";float: left;margin-right: 0.25em;color: #696969;}#sk-container-id-13 label.sk-toggleable__label-arrow:hover:before {color: black;}#sk-container-id-13 div.sk-estimator:hover label.sk-toggleable__label-arrow:before {color: black;}#sk-container-id-13 div.sk-toggleable__content {max-height: 0;max-width: 0;overflow: hidden;text-align: left;background-color: #f0f8ff;}#sk-container-id-13 div.sk-toggleable__content pre {margin: 0.2em;color: black;border-radius: 0.25em;background-color: #f0f8ff;}#sk-container-id-13 input.sk-toggleable__control:checked~div.sk-toggleable__content {max-height: 200px;max-width: 100%;overflow: auto;}#sk-container-id-13 input.sk-toggleable__control:checked~label.sk-toggleable__label-arrow:before {content: \"▾\";}#sk-container-id-13 div.sk-estimator input.sk-toggleable__control:checked~label.sk-toggleable__label {background-color: #d4ebff;}#sk-container-id-13 div.sk-label input.sk-toggleable__control:checked~label.sk-toggleable__label {background-color: #d4ebff;}#sk-container-id-13 input.sk-hidden--visually {border: 0;clip: rect(1px 1px 1px 1px);clip: rect(1px, 1px, 1px, 1px);height: 1px;margin: -1px;overflow: hidden;padding: 0;position: absolute;width: 1px;}#sk-container-id-13 div.sk-estimator {font-family: monospace;background-color: #f0f8ff;border: 1px dotted black;border-radius: 0.25em;box-sizing: border-box;margin-bottom: 0.5em;}#sk-container-id-13 div.sk-estimator:hover {background-color: #d4ebff;}#sk-container-id-13 div.sk-parallel-item::after {content: \"\";width: 100%;border-bottom: 1px solid gray;flex-grow: 1;}#sk-container-id-13 div.sk-label:hover label.sk-toggleable__label {background-color: #d4ebff;}#sk-container-id-13 div.sk-serial::before {content: \"\";position: absolute;border-left: 1px solid gray;box-sizing: border-box;top: 0;bottom: 0;left: 50%;z-index: 0;}#sk-container-id-13 div.sk-serial {display: flex;flex-direction: column;align-items: center;background-color: white;padding-right: 0.2em;padding-left: 0.2em;position: relative;}#sk-container-id-13 div.sk-item {position: relative;z-index: 1;}#sk-container-id-13 div.sk-parallel {display: flex;align-items: stretch;justify-content: center;background-color: white;position: relative;}#sk-container-id-13 div.sk-item::before, #sk-container-id-13 div.sk-parallel-item::before {content: \"\";position: absolute;border-left: 1px solid gray;box-sizing: border-box;top: 0;bottom: 0;left: 50%;z-index: -1;}#sk-container-id-13 div.sk-parallel-item {display: flex;flex-direction: column;z-index: 1;position: relative;background-color: white;}#sk-container-id-13 div.sk-parallel-item:first-child::after {align-self: flex-end;width: 50%;}#sk-container-id-13 div.sk-parallel-item:last-child::after {align-self: flex-start;width: 50%;}#sk-container-id-13 div.sk-parallel-item:only-child::after {width: 0;}#sk-container-id-13 div.sk-dashed-wrapped {border: 1px dashed gray;margin: 0 0.4em 0.5em 0.4em;box-sizing: border-box;padding-bottom: 0.4em;background-color: white;}#sk-container-id-13 div.sk-label label {font-family: monospace;font-weight: bold;display: inline-block;line-height: 1.2em;}#sk-container-id-13 div.sk-label-container {text-align: center;}#sk-container-id-13 div.sk-container {/* jupyter's `normalize.less` sets `[hidden] { display: none; }` but bootstrap.min.css set `[hidden] { display: none !important; }` so we also need the `!important` here to be able to override the default hidden behavior on the sphinx rendered scikit-learn.org. See: https://github.com/scikit-learn/scikit-learn/issues/21755 */display: inline-block !important;position: relative;}#sk-container-id-13 div.sk-text-repr-fallback {display: none;}</style><div id=\"sk-container-id-13\" class=\"sk-top-container\"><div class=\"sk-text-repr-fallback\"><pre>KNeighborsClassifier()</pre><b>In a Jupyter environment, please rerun this cell to show the HTML representation or trust the notebook. <br />On GitHub, the HTML representation is unable to render, please try loading this page with nbviewer.org.</b></div><div class=\"sk-container\" hidden><div class=\"sk-item\"><div class=\"sk-estimator sk-toggleable\"><input class=\"sk-toggleable__control sk-hidden--visually\" id=\"sk-estimator-id-19\" type=\"checkbox\" checked><label for=\"sk-estimator-id-19\" class=\"sk-toggleable__label sk-toggleable__label-arrow\">KNeighborsClassifier</label><div class=\"sk-toggleable__content\"><pre>KNeighborsClassifier()</pre></div></div></div></div></div>"
      ],
      "text/plain": [
       "KNeighborsClassifier()"
      ]
     },
     "execution_count": 148,
     "metadata": {},
     "output_type": "execute_result"
    }
   ],
   "source": [
    "# model initilization\n",
    "clf_knn = KNeighborsClassifier()\n",
    "clf_knn.fit(X_train_ns,y_train_ns)\n"
   ]
  },
  {
   "cell_type": "code",
   "execution_count": 149,
   "id": "be7eb6e8",
   "metadata": {},
   "outputs": [
    {
     "name": "stdout",
     "output_type": "stream",
     "text": [
      "====Training Score====\n",
      "Accuracy score : 98.949059%\n",
      "====Testing Score====\n",
      "Accuracy score : 99.277504%\n",
      "\n",
      " \n",
      " Classification report \n",
      "                precision    recall  f1-score   support\n",
      "\n",
      "           0       0.99      1.00      1.00      9069\n",
      "           1       0.00      0.00      0.00        66\n",
      "\n",
      "    accuracy                           0.99      9135\n",
      "   macro avg       0.50      0.50      0.50      9135\n",
      "weighted avg       0.99      0.99      0.99      9135\n",
      "\n"
     ]
    }
   ],
   "source": [
    "# call the function\n",
    "metric_score (clf_knn,X_train_ns,X_test,y_train_ns,y_test,train = True)\n",
    "metric_score (clf_knn,X_train_ns,X_test,y_train_ns,y_test,train=False)"
   ]
  },
  {
   "cell_type": "markdown",
   "id": "a1c8b708",
   "metadata": {},
   "source": [
    "# Model Scores\n",
    "    Training Score =98.949059%\n",
    "    Testing Score =  99.277504%"
   ]
  },
  {
   "cell_type": "code",
   "execution_count": null,
   "id": "84b0c9cc",
   "metadata": {},
   "outputs": [],
   "source": []
  },
  {
   "cell_type": "markdown",
   "id": "a971613d",
   "metadata": {},
   "source": [
    "# Hyperparameter For KNeighborsClassifier"
   ]
  },
  {
   "cell_type": "code",
   "execution_count": 150,
   "id": "a841e7ac",
   "metadata": {},
   "outputs": [],
   "source": [
    "from sklearn.model_selection import GridSearchCV\n",
    "param_grid={'algorithm':['kd_tree','brute'],\n",
    "            'leaf_size':[3,5,6,7,8],\n",
    "            'n_neighbors':[3,5,7,9,11,13]}"
   ]
  },
  {
   "cell_type": "code",
   "execution_count": 151,
   "id": "1edcf949",
   "metadata": {},
   "outputs": [],
   "source": [
    "# now call grid search and say that we are going to use knn model\n",
    "\n",
    "gridsearch=GridSearchCV(estimator=clf_knn , param_grid=param_grid)"
   ]
  },
  {
   "cell_type": "code",
   "execution_count": 152,
   "id": "4a308d4d",
   "metadata": {},
   "outputs": [
    {
     "data": {
      "text/html": [
       "<style>#sk-container-id-14 {color: black;background-color: white;}#sk-container-id-14 pre{padding: 0;}#sk-container-id-14 div.sk-toggleable {background-color: white;}#sk-container-id-14 label.sk-toggleable__label {cursor: pointer;display: block;width: 100%;margin-bottom: 0;padding: 0.3em;box-sizing: border-box;text-align: center;}#sk-container-id-14 label.sk-toggleable__label-arrow:before {content: \"▸\";float: left;margin-right: 0.25em;color: #696969;}#sk-container-id-14 label.sk-toggleable__label-arrow:hover:before {color: black;}#sk-container-id-14 div.sk-estimator:hover label.sk-toggleable__label-arrow:before {color: black;}#sk-container-id-14 div.sk-toggleable__content {max-height: 0;max-width: 0;overflow: hidden;text-align: left;background-color: #f0f8ff;}#sk-container-id-14 div.sk-toggleable__content pre {margin: 0.2em;color: black;border-radius: 0.25em;background-color: #f0f8ff;}#sk-container-id-14 input.sk-toggleable__control:checked~div.sk-toggleable__content {max-height: 200px;max-width: 100%;overflow: auto;}#sk-container-id-14 input.sk-toggleable__control:checked~label.sk-toggleable__label-arrow:before {content: \"▾\";}#sk-container-id-14 div.sk-estimator input.sk-toggleable__control:checked~label.sk-toggleable__label {background-color: #d4ebff;}#sk-container-id-14 div.sk-label input.sk-toggleable__control:checked~label.sk-toggleable__label {background-color: #d4ebff;}#sk-container-id-14 input.sk-hidden--visually {border: 0;clip: rect(1px 1px 1px 1px);clip: rect(1px, 1px, 1px, 1px);height: 1px;margin: -1px;overflow: hidden;padding: 0;position: absolute;width: 1px;}#sk-container-id-14 div.sk-estimator {font-family: monospace;background-color: #f0f8ff;border: 1px dotted black;border-radius: 0.25em;box-sizing: border-box;margin-bottom: 0.5em;}#sk-container-id-14 div.sk-estimator:hover {background-color: #d4ebff;}#sk-container-id-14 div.sk-parallel-item::after {content: \"\";width: 100%;border-bottom: 1px solid gray;flex-grow: 1;}#sk-container-id-14 div.sk-label:hover label.sk-toggleable__label {background-color: #d4ebff;}#sk-container-id-14 div.sk-serial::before {content: \"\";position: absolute;border-left: 1px solid gray;box-sizing: border-box;top: 0;bottom: 0;left: 50%;z-index: 0;}#sk-container-id-14 div.sk-serial {display: flex;flex-direction: column;align-items: center;background-color: white;padding-right: 0.2em;padding-left: 0.2em;position: relative;}#sk-container-id-14 div.sk-item {position: relative;z-index: 1;}#sk-container-id-14 div.sk-parallel {display: flex;align-items: stretch;justify-content: center;background-color: white;position: relative;}#sk-container-id-14 div.sk-item::before, #sk-container-id-14 div.sk-parallel-item::before {content: \"\";position: absolute;border-left: 1px solid gray;box-sizing: border-box;top: 0;bottom: 0;left: 50%;z-index: -1;}#sk-container-id-14 div.sk-parallel-item {display: flex;flex-direction: column;z-index: 1;position: relative;background-color: white;}#sk-container-id-14 div.sk-parallel-item:first-child::after {align-self: flex-end;width: 50%;}#sk-container-id-14 div.sk-parallel-item:last-child::after {align-self: flex-start;width: 50%;}#sk-container-id-14 div.sk-parallel-item:only-child::after {width: 0;}#sk-container-id-14 div.sk-dashed-wrapped {border: 1px dashed gray;margin: 0 0.4em 0.5em 0.4em;box-sizing: border-box;padding-bottom: 0.4em;background-color: white;}#sk-container-id-14 div.sk-label label {font-family: monospace;font-weight: bold;display: inline-block;line-height: 1.2em;}#sk-container-id-14 div.sk-label-container {text-align: center;}#sk-container-id-14 div.sk-container {/* jupyter's `normalize.less` sets `[hidden] { display: none; }` but bootstrap.min.css set `[hidden] { display: none !important; }` so we also need the `!important` here to be able to override the default hidden behavior on the sphinx rendered scikit-learn.org. See: https://github.com/scikit-learn/scikit-learn/issues/21755 */display: inline-block !important;position: relative;}#sk-container-id-14 div.sk-text-repr-fallback {display: none;}</style><div id=\"sk-container-id-14\" class=\"sk-top-container\"><div class=\"sk-text-repr-fallback\"><pre>GridSearchCV(estimator=KNeighborsClassifier(),\n",
       "             param_grid={&#x27;algorithm&#x27;: [&#x27;kd_tree&#x27;, &#x27;brute&#x27;],\n",
       "                         &#x27;leaf_size&#x27;: [3, 5, 6, 7, 8],\n",
       "                         &#x27;n_neighbors&#x27;: [3, 5, 7, 9, 11, 13]})</pre><b>In a Jupyter environment, please rerun this cell to show the HTML representation or trust the notebook. <br />On GitHub, the HTML representation is unable to render, please try loading this page with nbviewer.org.</b></div><div class=\"sk-container\" hidden><div class=\"sk-item sk-dashed-wrapped\"><div class=\"sk-label-container\"><div class=\"sk-label sk-toggleable\"><input class=\"sk-toggleable__control sk-hidden--visually\" id=\"sk-estimator-id-20\" type=\"checkbox\" ><label for=\"sk-estimator-id-20\" class=\"sk-toggleable__label sk-toggleable__label-arrow\">GridSearchCV</label><div class=\"sk-toggleable__content\"><pre>GridSearchCV(estimator=KNeighborsClassifier(),\n",
       "             param_grid={&#x27;algorithm&#x27;: [&#x27;kd_tree&#x27;, &#x27;brute&#x27;],\n",
       "                         &#x27;leaf_size&#x27;: [3, 5, 6, 7, 8],\n",
       "                         &#x27;n_neighbors&#x27;: [3, 5, 7, 9, 11, 13]})</pre></div></div></div><div class=\"sk-parallel\"><div class=\"sk-parallel-item\"><div class=\"sk-item\"><div class=\"sk-label-container\"><div class=\"sk-label sk-toggleable\"><input class=\"sk-toggleable__control sk-hidden--visually\" id=\"sk-estimator-id-21\" type=\"checkbox\" ><label for=\"sk-estimator-id-21\" class=\"sk-toggleable__label sk-toggleable__label-arrow\">estimator: KNeighborsClassifier</label><div class=\"sk-toggleable__content\"><pre>KNeighborsClassifier()</pre></div></div></div><div class=\"sk-serial\"><div class=\"sk-item\"><div class=\"sk-estimator sk-toggleable\"><input class=\"sk-toggleable__control sk-hidden--visually\" id=\"sk-estimator-id-22\" type=\"checkbox\" ><label for=\"sk-estimator-id-22\" class=\"sk-toggleable__label sk-toggleable__label-arrow\">KNeighborsClassifier</label><div class=\"sk-toggleable__content\"><pre>KNeighborsClassifier()</pre></div></div></div></div></div></div></div></div></div></div>"
      ],
      "text/plain": [
       "GridSearchCV(estimator=KNeighborsClassifier(),\n",
       "             param_grid={'algorithm': ['kd_tree', 'brute'],\n",
       "                         'leaf_size': [3, 5, 6, 7, 8],\n",
       "                         'n_neighbors': [3, 5, 7, 9, 11, 13]})"
      ]
     },
     "execution_count": 152,
     "metadata": {},
     "output_type": "execute_result"
    }
   ],
   "source": [
    "#give the data to object\n",
    "gridsearch.fit(X_train_ns,y_train_ns)"
   ]
  },
  {
   "cell_type": "code",
   "execution_count": 153,
   "id": "37485662",
   "metadata": {},
   "outputs": [
    {
     "data": {
      "text/plain": [
       "{'algorithm': 'kd_tree', 'leaf_size': 3, 'n_neighbors': 9}"
      ]
     },
     "execution_count": 153,
     "metadata": {},
     "output_type": "execute_result"
    }
   ],
   "source": [
    "#see the best paramater\n",
    "gridsearch.best_params_"
   ]
  },
  {
   "cell_type": "code",
   "execution_count": 156,
   "id": "3e2a7b0d",
   "metadata": {},
   "outputs": [
    {
     "data": {
      "text/html": [
       "<style>#sk-container-id-16 {color: black;background-color: white;}#sk-container-id-16 pre{padding: 0;}#sk-container-id-16 div.sk-toggleable {background-color: white;}#sk-container-id-16 label.sk-toggleable__label {cursor: pointer;display: block;width: 100%;margin-bottom: 0;padding: 0.3em;box-sizing: border-box;text-align: center;}#sk-container-id-16 label.sk-toggleable__label-arrow:before {content: \"▸\";float: left;margin-right: 0.25em;color: #696969;}#sk-container-id-16 label.sk-toggleable__label-arrow:hover:before {color: black;}#sk-container-id-16 div.sk-estimator:hover label.sk-toggleable__label-arrow:before {color: black;}#sk-container-id-16 div.sk-toggleable__content {max-height: 0;max-width: 0;overflow: hidden;text-align: left;background-color: #f0f8ff;}#sk-container-id-16 div.sk-toggleable__content pre {margin: 0.2em;color: black;border-radius: 0.25em;background-color: #f0f8ff;}#sk-container-id-16 input.sk-toggleable__control:checked~div.sk-toggleable__content {max-height: 200px;max-width: 100%;overflow: auto;}#sk-container-id-16 input.sk-toggleable__control:checked~label.sk-toggleable__label-arrow:before {content: \"▾\";}#sk-container-id-16 div.sk-estimator input.sk-toggleable__control:checked~label.sk-toggleable__label {background-color: #d4ebff;}#sk-container-id-16 div.sk-label input.sk-toggleable__control:checked~label.sk-toggleable__label {background-color: #d4ebff;}#sk-container-id-16 input.sk-hidden--visually {border: 0;clip: rect(1px 1px 1px 1px);clip: rect(1px, 1px, 1px, 1px);height: 1px;margin: -1px;overflow: hidden;padding: 0;position: absolute;width: 1px;}#sk-container-id-16 div.sk-estimator {font-family: monospace;background-color: #f0f8ff;border: 1px dotted black;border-radius: 0.25em;box-sizing: border-box;margin-bottom: 0.5em;}#sk-container-id-16 div.sk-estimator:hover {background-color: #d4ebff;}#sk-container-id-16 div.sk-parallel-item::after {content: \"\";width: 100%;border-bottom: 1px solid gray;flex-grow: 1;}#sk-container-id-16 div.sk-label:hover label.sk-toggleable__label {background-color: #d4ebff;}#sk-container-id-16 div.sk-serial::before {content: \"\";position: absolute;border-left: 1px solid gray;box-sizing: border-box;top: 0;bottom: 0;left: 50%;z-index: 0;}#sk-container-id-16 div.sk-serial {display: flex;flex-direction: column;align-items: center;background-color: white;padding-right: 0.2em;padding-left: 0.2em;position: relative;}#sk-container-id-16 div.sk-item {position: relative;z-index: 1;}#sk-container-id-16 div.sk-parallel {display: flex;align-items: stretch;justify-content: center;background-color: white;position: relative;}#sk-container-id-16 div.sk-item::before, #sk-container-id-16 div.sk-parallel-item::before {content: \"\";position: absolute;border-left: 1px solid gray;box-sizing: border-box;top: 0;bottom: 0;left: 50%;z-index: -1;}#sk-container-id-16 div.sk-parallel-item {display: flex;flex-direction: column;z-index: 1;position: relative;background-color: white;}#sk-container-id-16 div.sk-parallel-item:first-child::after {align-self: flex-end;width: 50%;}#sk-container-id-16 div.sk-parallel-item:last-child::after {align-self: flex-start;width: 50%;}#sk-container-id-16 div.sk-parallel-item:only-child::after {width: 0;}#sk-container-id-16 div.sk-dashed-wrapped {border: 1px dashed gray;margin: 0 0.4em 0.5em 0.4em;box-sizing: border-box;padding-bottom: 0.4em;background-color: white;}#sk-container-id-16 div.sk-label label {font-family: monospace;font-weight: bold;display: inline-block;line-height: 1.2em;}#sk-container-id-16 div.sk-label-container {text-align: center;}#sk-container-id-16 div.sk-container {/* jupyter's `normalize.less` sets `[hidden] { display: none; }` but bootstrap.min.css set `[hidden] { display: none !important; }` so we also need the `!important` here to be able to override the default hidden behavior on the sphinx rendered scikit-learn.org. See: https://github.com/scikit-learn/scikit-learn/issues/21755 */display: inline-block !important;position: relative;}#sk-container-id-16 div.sk-text-repr-fallback {display: none;}</style><div id=\"sk-container-id-16\" class=\"sk-top-container\"><div class=\"sk-text-repr-fallback\"><pre>KNeighborsClassifier(algorithm=&#x27;kd_tree&#x27;, leaf_size=3, n_neighbors=9)</pre><b>In a Jupyter environment, please rerun this cell to show the HTML representation or trust the notebook. <br />On GitHub, the HTML representation is unable to render, please try loading this page with nbviewer.org.</b></div><div class=\"sk-container\" hidden><div class=\"sk-item\"><div class=\"sk-estimator sk-toggleable\"><input class=\"sk-toggleable__control sk-hidden--visually\" id=\"sk-estimator-id-24\" type=\"checkbox\" checked><label for=\"sk-estimator-id-24\" class=\"sk-toggleable__label sk-toggleable__label-arrow\">KNeighborsClassifier</label><div class=\"sk-toggleable__content\"><pre>KNeighborsClassifier(algorithm=&#x27;kd_tree&#x27;, leaf_size=3, n_neighbors=9)</pre></div></div></div></div></div>"
      ],
      "text/plain": [
       "KNeighborsClassifier(algorithm='kd_tree', leaf_size=3, n_neighbors=9)"
      ]
     },
     "execution_count": 156,
     "metadata": {},
     "output_type": "execute_result"
    }
   ],
   "source": [
    "# we will use the best parameter in our knn algorithm and check if accuracy is increase or not\n",
    "clf_knn=KNeighborsClassifier(algorithm = 'kd_tree', leaf_size = 3, n_neighbors = 9)\n",
    "\n",
    "clf_knn.fit(X_train_ns,y_train_ns)"
   ]
  },
  {
   "cell_type": "code",
   "execution_count": 157,
   "id": "fe80a6a7",
   "metadata": {},
   "outputs": [
    {
     "name": "stdout",
     "output_type": "stream",
     "text": [
      "====Training Score====\n",
      "Accuracy score : 98.945409%\n",
      "====Testing Score====\n",
      "Accuracy score : 99.277504%\n",
      "\n",
      " \n",
      " Classification report \n",
      "                precision    recall  f1-score   support\n",
      "\n",
      "           0       0.99      1.00      1.00      9069\n",
      "           1       0.00      0.00      0.00        66\n",
      "\n",
      "    accuracy                           0.99      9135\n",
      "   macro avg       0.50      0.50      0.50      9135\n",
      "weighted avg       0.99      0.99      0.99      9135\n",
      "\n"
     ]
    }
   ],
   "source": [
    "# call the function\n",
    "metric_score (clf_knn,X_train_ns,X_test,y_train_ns,y_test,train = True)\n",
    "metric_score (clf_knn,X_train_ns,X_test,y_train_ns,y_test,train=False)"
   ]
  },
  {
   "cell_type": "markdown",
   "id": "29009859",
   "metadata": {},
   "source": [
    "# Model Scores With Hyperparameter Tuning\n",
    "    Training Score = 98.945409%\n",
    "    Testing Score = 99.277504%"
   ]
  },
  {
   "cell_type": "code",
   "execution_count": null,
   "id": "c9a03499",
   "metadata": {},
   "outputs": [],
   "source": []
  },
  {
   "cell_type": "markdown",
   "id": "bbbad5cc",
   "metadata": {},
   "source": [
    "# Cross Validation score for KNN"
   ]
  },
  {
   "cell_type": "code",
   "execution_count": 158,
   "id": "43796458",
   "metadata": {},
   "outputs": [
    {
     "data": {
      "text/plain": [
       "array([0.99031199, 0.99031199, 0.99031199, 0.99031199, 0.99014778,\n",
       "       0.9903104 ])"
      ]
     },
     "execution_count": 158,
     "metadata": {},
     "output_type": "execute_result"
    }
   ],
   "source": [
    "from sklearn.model_selection import cross_val_score\n",
    "cross_val_score(clf_knn,X_scalar,y,cv=6)"
   ]
  },
  {
   "cell_type": "code",
   "execution_count": 159,
   "id": "3b14d447",
   "metadata": {},
   "outputs": [
    {
     "data": {
      "text/plain": [
       "0.990284354416962"
      ]
     },
     "execution_count": 159,
     "metadata": {},
     "output_type": "execute_result"
    }
   ],
   "source": [
    "cross_val_score(clf_knn,X_scalar,y,cv=6).mean()"
   ]
  },
  {
   "cell_type": "code",
   "execution_count": null,
   "id": "733624ac",
   "metadata": {},
   "outputs": [],
   "source": []
  },
  {
   "cell_type": "markdown",
   "id": "d98734fe",
   "metadata": {},
   "source": [
    "# Confusion Matric for KNN"
   ]
  },
  {
   "cell_type": "code",
   "execution_count": 160,
   "id": "62b1d33b",
   "metadata": {},
   "outputs": [
    {
     "data": {
      "text/plain": [
       "array([[9069,    0],\n",
       "       [  66,    0]], dtype=int64)"
      ]
     },
     "execution_count": 160,
     "metadata": {},
     "output_type": "execute_result"
    }
   ],
   "source": [
    "### if you want to check confusion matrix\n",
    "\n",
    "y_pred=clf_knn.predict(X_test)\n",
    "cfm=confusion_matrix(y_test,y_pred)\n",
    "cfm"
   ]
  },
  {
   "cell_type": "code",
   "execution_count": null,
   "id": "2c742c3f",
   "metadata": {},
   "outputs": [],
   "source": []
  },
  {
   "cell_type": "code",
   "execution_count": null,
   "id": "a30ede6e",
   "metadata": {},
   "outputs": [],
   "source": []
  },
  {
   "cell_type": "code",
   "execution_count": null,
   "id": "04a1fe81",
   "metadata": {},
   "outputs": [],
   "source": []
  },
  {
   "cell_type": "markdown",
   "id": "75e94506",
   "metadata": {},
   "source": [
    "# Plot AUC-ROC curve for above 4-Models"
   ]
  },
  {
   "cell_type": "code",
   "execution_count": 162,
   "id": "8668b321",
   "metadata": {},
   "outputs": [],
   "source": [
    "from sklearn.metrics import roc_curve"
   ]
  },
  {
   "cell_type": "code",
   "execution_count": 163,
   "id": "d0187193",
   "metadata": {},
   "outputs": [],
   "source": [
    "from sklearn.metrics import roc_auc_score,roc_curve\n",
    "#from sklearn.metrics import plot_roc_curve"
   ]
  },
  {
   "cell_type": "code",
   "execution_count": null,
   "id": "fe4740c0",
   "metadata": {},
   "outputs": [],
   "source": []
  },
  {
   "cell_type": "markdown",
   "id": "ec747cb9",
   "metadata": {},
   "source": [
    "# AUC-ROC Curve for Training Data"
   ]
  },
  {
   "cell_type": "code",
   "execution_count": 168,
   "id": "2903eac8",
   "metadata": {},
   "outputs": [
    {
     "data": {
      "image/png": "[encoded data removed]",
      "text/plain": [
       "<Figure size 432x288 with 1 Axes>"
      ]
     },
     "metadata": {
      "needs_background": "light"
     },
     "output_type": "display_data"
    }
   ],
   "source": [
    "from sklearn.metrics import RocCurveDisplay\n",
    "disp = RocCurveDisplay.from_estimator(svc,X_train_ns,y_train_ns)\n",
    "rfc_disp = RocCurveDisplay.from_estimator(rf,X_train_ns,y_train_ns,ax=disp.ax_)\n",
    "dt_disp = RocCurveDisplay.from_estimator(clf_dt,X_train_ns,y_train_ns,ax=disp.ax_)\n",
    "knn_disp = RocCurveDisplay.from_estimator(clf_knn,X_train_ns,y_train_ns,ax=disp.ax_)"
   ]
  },
  {
   "cell_type": "code",
   "execution_count": null,
   "id": "58a9d00d",
   "metadata": {},
   "outputs": [],
   "source": []
  },
  {
   "cell_type": "code",
   "execution_count": null,
   "id": "8d94b12e",
   "metadata": {},
   "outputs": [],
   "source": []
  },
  {
   "cell_type": "markdown",
   "id": "fa385838",
   "metadata": {},
   "source": [
    "# AUC-ROC Curve for Testing Data"
   ]
  },
  {
   "cell_type": "code",
   "execution_count": 169,
   "id": "bf1a1080",
   "metadata": {},
   "outputs": [
    {
     "data": {
      "image/png": "[encoded data removed]",
      "text/plain": [
       "<Figure size 432x288 with 1 Axes>"
      ]
     },
     "metadata": {
      "needs_background": "light"
     },
     "output_type": "display_data"
    }
   ],
   "source": [
    "from sklearn.metrics import RocCurveDisplay\n",
    "disp = RocCurveDisplay.from_estimator(svc,X_test,y_test)\n",
    "rfc_disp = RocCurveDisplay.from_estimator(rf,X_test,y_test,ax=disp.ax_)\n",
    "dt_disp = RocCurveDisplay.from_estimator(clf_dt,X_test,y_test,ax=disp.ax_)\n",
    "knn_disp = RocCurveDisplay.from_estimator(clf_knn,X_test,y_test,ax=disp.ax_)"
   ]
  },
  {
   "cell_type": "markdown",
   "id": "92b96f42",
   "metadata": {},
   "source": [
    "## So from the above AUC ROC curve, we can observe that the SVC model is the best suited model for this particular problem as it captures and understands 68% of the training data, and on the testing data, it performs well as compared to other models, and its performance is 67% on the testing data. So selecting SVC as the best-performing model"
   ]
  },
  {
   "cell_type": "code",
   "execution_count": null,
   "id": "03718265",
   "metadata": {},
   "outputs": [],
   "source": []
  },
  {
   "cell_type": "code",
   "execution_count": null,
   "id": "f72e60dc",
   "metadata": {},
   "outputs": [],
   "source": []
  },
  {
   "cell_type": "markdown",
   "id": "72dc6982",
   "metadata": {},
   "source": [
    "# Saving the SVC model"
   ]
  },
  {
   "cell_type": "code",
   "execution_count": 171,
   "id": "2317f251",
   "metadata": {},
   "outputs": [],
   "source": [
    "# now we save this is modeland transfer to other by using pickel\n",
    "\n",
    "#first save this model to the local file system \n",
    "import pickle\n",
    "pickle.dump(svc , open ('Stroke_prediction_model' , 'wb'))"
   ]
  },
  {
   "cell_type": "code",
   "execution_count": null,
   "id": "bdc34f08",
   "metadata": {},
   "outputs": [],
   "source": []
  },
  {
   "cell_type": "code",
   "execution_count": null,
   "id": "e9d4f959",
   "metadata": {},
   "outputs": [],
   "source": []
  },
  {
   "cell_type": "code",
   "execution_count": null,
   "id": "bcb31221",
   "metadata": {},
   "outputs": [],
   "source": []
  },
  {
   "cell_type": "code",
   "execution_count": null,
   "id": "7157bbb4",
   "metadata": {},
   "outputs": [],
   "source": []
  },
  {
   "cell_type": "code",
   "execution_count": null,
   "id": "e33f0acc",
   "metadata": {},
   "outputs": [],
   "source": []
  },
  {
   "cell_type": "code",
   "execution_count": null,
   "id": "91387f3d",
   "metadata": {},
   "outputs": [],
   "source": []
  },
  {
   "cell_type": "code",
   "execution_count": null,
   "id": "bd37692e",
   "metadata": {},
   "outputs": [],
   "source": []
  },
  {
   "cell_type": "code",
   "execution_count": null,
   "id": "5c7d6ead",
   "metadata": {},
   "outputs": [],
   "source": []
  },
  {
   "cell_type": "code",
   "execution_count": null,
   "id": "f2c98102",
   "metadata": {},
   "outputs": [],
   "source": []
  },
  {
   "cell_type": "code",
   "execution_count": null,
   "id": "1ee5b87d",
   "metadata": {},
   "outputs": [],
   "source": []
  },
  {
   "cell_type": "code",
   "execution_count": null,
   "id": "30cc2ec2",
   "metadata": {},
   "outputs": [],
   "source": []
  },
  {
   "cell_type": "code",
   "execution_count": null,
   "id": "ec5754e5",
   "metadata": {},
   "outputs": [],
   "source": []
  },
  {
   "cell_type": "code",
   "execution_count": null,
   "id": "dbe5790e",
   "metadata": {},
   "outputs": [],
   "source": []
  }
 ],
 "metadata": {
  "kernelspec": {
   "display_name": "Python 3 (ipykernel)",
   "language": "python",
   "name": "python3"
  },
  "language_info": {
   "codemirror_mode": {
    "name": "ipython",
    "version": 3
   },
   "file_extension": ".py",
   "mimetype": "text/x-python",
   "name": "python",
   "nbconvert_exporter": "python",
   "pygments_lexer": "ipython3",
   "version": "3.9.7"
  }
 },
 "nbformat": 4,
 "nbformat_minor": 5
}
