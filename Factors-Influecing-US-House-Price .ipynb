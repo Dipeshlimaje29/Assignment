{
 "cells": [
  {
   "cell_type": "markdown",
   "id": "c38a2ff8",
   "metadata": {},
   "source": [
    "# Factors-Influecing-US-House-Price "
   ]
  },
  {
   "cell_type": "code",
   "execution_count": 1,
   "id": "f9ac4385",
   "metadata": {},
   "outputs": [],
   "source": [
    "# import library for EDA\n",
    "import numpy as np\n",
    "import pandas as pd\n",
    "\n",
    "import matplotlib.pyplot as plt\n",
    "%matplotlib inline\n",
    "import seaborn as sns"
   ]
  },
  {
   "cell_type": "code",
   "execution_count": null,
   "id": "e60b98f7",
   "metadata": {},
   "outputs": [],
   "source": []
  },
  {
   "cell_type": "markdown",
   "id": "caf9aaa4",
   "metadata": {},
   "source": [
    "# Collecting the data"
   ]
  },
  {
   "cell_type": "code",
   "execution_count": 2,
   "id": "04544816",
   "metadata": {},
   "outputs": [
    {
     "data": {
      "text/html": [
       "<div>\n",
       "<style scoped>\n",
       "    .dataframe tbody tr th:only-of-type {\n",
       "        vertical-align: middle;\n",
       "    }\n",
       "\n",
       "    .dataframe tbody tr th {\n",
       "        vertical-align: top;\n",
       "    }\n",
       "\n",
       "    .dataframe thead th {\n",
       "        text-align: right;\n",
       "    }\n",
       "</style>\n",
       "<table border=\"1\" class=\"dataframe\">\n",
       "  <thead>\n",
       "    <tr style=\"text-align: right;\">\n",
       "      <th></th>\n",
       "      <th>observation_date</th>\n",
       "      <th>working_population</th>\n",
       "      <th>Year</th>\n",
       "      <th>Month</th>\n",
       "    </tr>\n",
       "  </thead>\n",
       "  <tbody>\n",
       "    <tr>\n",
       "      <th>0</th>\n",
       "      <td>01-01-2003</td>\n",
       "      <td>185635346.4</td>\n",
       "      <td>2003</td>\n",
       "      <td>1</td>\n",
       "    </tr>\n",
       "    <tr>\n",
       "      <th>1</th>\n",
       "      <td>01-02-2003</td>\n",
       "      <td>185869692.3</td>\n",
       "      <td>2003</td>\n",
       "      <td>1</td>\n",
       "    </tr>\n",
       "    <tr>\n",
       "      <th>2</th>\n",
       "      <td>01-03-2003</td>\n",
       "      <td>186085118.2</td>\n",
       "      <td>2003</td>\n",
       "      <td>1</td>\n",
       "    </tr>\n",
       "    <tr>\n",
       "      <th>3</th>\n",
       "      <td>01-04-2003</td>\n",
       "      <td>186470754.0</td>\n",
       "      <td>2003</td>\n",
       "      <td>1</td>\n",
       "    </tr>\n",
       "    <tr>\n",
       "      <th>4</th>\n",
       "      <td>01-05-2003</td>\n",
       "      <td>186649078.0</td>\n",
       "      <td>2003</td>\n",
       "      <td>1</td>\n",
       "    </tr>\n",
       "  </tbody>\n",
       "</table>\n",
       "</div>"
      ],
      "text/plain": [
       "  observation_date  working_population  Year  Month\n",
       "0       01-01-2003         185635346.4  2003      1\n",
       "1       01-02-2003         185869692.3  2003      1\n",
       "2       01-03-2003         186085118.2  2003      1\n",
       "3       01-04-2003         186470754.0  2003      1\n",
       "4       01-05-2003         186649078.0  2003      1"
      ]
     },
     "execution_count": 2,
     "metadata": {},
     "output_type": "execute_result"
    }
   ],
   "source": [
    "#import the dataset\n",
    "df=pd.read_csv('working_population.csv')\n",
    "df[\"Year\"] = pd.DatetimeIndex(df[\"observation_date\"]).year\n",
    "df[\"Month\"] = pd.DatetimeIndex(df[\"observation_date\"]).month\n",
    "df.head()\n"
   ]
  },
  {
   "cell_type": "code",
   "execution_count": 3,
   "id": "270a7864",
   "metadata": {},
   "outputs": [
    {
     "data": {
      "text/html": [
       "<div>\n",
       "<style scoped>\n",
       "    .dataframe tbody tr th:only-of-type {\n",
       "        vertical-align: middle;\n",
       "    }\n",
       "\n",
       "    .dataframe tbody tr th {\n",
       "        vertical-align: top;\n",
       "    }\n",
       "\n",
       "    .dataframe thead th {\n",
       "        text-align: right;\n",
       "    }\n",
       "</style>\n",
       "<table border=\"1\" class=\"dataframe\">\n",
       "  <thead>\n",
       "    <tr style=\"text-align: right;\">\n",
       "      <th></th>\n",
       "      <th>observation_date</th>\n",
       "      <th>Unemployment_Rate</th>\n",
       "    </tr>\n",
       "  </thead>\n",
       "  <tbody>\n",
       "    <tr>\n",
       "      <th>240</th>\n",
       "      <td>2023-01-01</td>\n",
       "      <td>3.4</td>\n",
       "    </tr>\n",
       "    <tr>\n",
       "      <th>241</th>\n",
       "      <td>2023-02-01</td>\n",
       "      <td>3.6</td>\n",
       "    </tr>\n",
       "    <tr>\n",
       "      <th>242</th>\n",
       "      <td>2023-03-01</td>\n",
       "      <td>3.5</td>\n",
       "    </tr>\n",
       "    <tr>\n",
       "      <th>243</th>\n",
       "      <td>2023-04-01</td>\n",
       "      <td>3.4</td>\n",
       "    </tr>\n",
       "    <tr>\n",
       "      <th>244</th>\n",
       "      <td>2023-05-01</td>\n",
       "      <td>3.7</td>\n",
       "    </tr>\n",
       "  </tbody>\n",
       "</table>\n",
       "</div>"
      ],
      "text/plain": [
       "    observation_date  Unemployment_Rate\n",
       "240       2023-01-01                3.4\n",
       "241       2023-02-01                3.6\n",
       "242       2023-03-01                3.5\n",
       "243       2023-04-01                3.4\n",
       "244       2023-05-01                3.7"
      ]
     },
     "execution_count": 3,
     "metadata": {},
     "output_type": "execute_result"
    }
   ],
   "source": [
    "df1 = pd.read_csv('Unemployment_Rate.csv')\n",
    "df1.tail()"
   ]
  },
  {
   "cell_type": "code",
   "execution_count": 4,
   "id": "4c84b498",
   "metadata": {},
   "outputs": [],
   "source": [
    "# Convert the 'Date' column to datetime type\n",
    "df1['observation_date'] = pd.to_datetime(df['observation_date'])\n",
    "# Convert the 'Date' column to the 'dd-mm-yyyy' format\n",
    "df1['Date_formatted'] = df1['observation_date'].dt.strftime('%m-%d-%Y')"
   ]
  },
  {
   "cell_type": "code",
   "execution_count": 5,
   "id": "9dac3e29",
   "metadata": {},
   "outputs": [
    {
     "data": {
      "text/html": [
       "<div>\n",
       "<style scoped>\n",
       "    .dataframe tbody tr th:only-of-type {\n",
       "        vertical-align: middle;\n",
       "    }\n",
       "\n",
       "    .dataframe tbody tr th {\n",
       "        vertical-align: top;\n",
       "    }\n",
       "\n",
       "    .dataframe thead th {\n",
       "        text-align: right;\n",
       "    }\n",
       "</style>\n",
       "<table border=\"1\" class=\"dataframe\">\n",
       "  <thead>\n",
       "    <tr style=\"text-align: right;\">\n",
       "      <th></th>\n",
       "      <th>observation_date</th>\n",
       "      <th>Unemployment_Rate</th>\n",
       "      <th>Date_formatted</th>\n",
       "    </tr>\n",
       "  </thead>\n",
       "  <tbody>\n",
       "    <tr>\n",
       "      <th>0</th>\n",
       "      <td>2003-01-01</td>\n",
       "      <td>5.8</td>\n",
       "      <td>01-01-2003</td>\n",
       "    </tr>\n",
       "    <tr>\n",
       "      <th>1</th>\n",
       "      <td>2003-01-02</td>\n",
       "      <td>5.9</td>\n",
       "      <td>01-02-2003</td>\n",
       "    </tr>\n",
       "    <tr>\n",
       "      <th>2</th>\n",
       "      <td>2003-01-03</td>\n",
       "      <td>5.9</td>\n",
       "      <td>01-03-2003</td>\n",
       "    </tr>\n",
       "    <tr>\n",
       "      <th>3</th>\n",
       "      <td>2003-01-04</td>\n",
       "      <td>6.0</td>\n",
       "      <td>01-04-2003</td>\n",
       "    </tr>\n",
       "    <tr>\n",
       "      <th>4</th>\n",
       "      <td>2003-01-05</td>\n",
       "      <td>6.1</td>\n",
       "      <td>01-05-2003</td>\n",
       "    </tr>\n",
       "    <tr>\n",
       "      <th>...</th>\n",
       "      <td>...</td>\n",
       "      <td>...</td>\n",
       "      <td>...</td>\n",
       "    </tr>\n",
       "    <tr>\n",
       "      <th>240</th>\n",
       "      <td>2023-01-01</td>\n",
       "      <td>3.4</td>\n",
       "      <td>01-01-2023</td>\n",
       "    </tr>\n",
       "    <tr>\n",
       "      <th>241</th>\n",
       "      <td>2023-01-02</td>\n",
       "      <td>3.6</td>\n",
       "      <td>01-02-2023</td>\n",
       "    </tr>\n",
       "    <tr>\n",
       "      <th>242</th>\n",
       "      <td>2023-01-03</td>\n",
       "      <td>3.5</td>\n",
       "      <td>01-03-2023</td>\n",
       "    </tr>\n",
       "    <tr>\n",
       "      <th>243</th>\n",
       "      <td>2023-01-04</td>\n",
       "      <td>3.4</td>\n",
       "      <td>01-04-2023</td>\n",
       "    </tr>\n",
       "    <tr>\n",
       "      <th>244</th>\n",
       "      <td>2023-01-05</td>\n",
       "      <td>3.7</td>\n",
       "      <td>01-05-2023</td>\n",
       "    </tr>\n",
       "  </tbody>\n",
       "</table>\n",
       "<p>245 rows × 3 columns</p>\n",
       "</div>"
      ],
      "text/plain": [
       "    observation_date  Unemployment_Rate Date_formatted\n",
       "0         2003-01-01                5.8     01-01-2003\n",
       "1         2003-01-02                5.9     01-02-2003\n",
       "2         2003-01-03                5.9     01-03-2003\n",
       "3         2003-01-04                6.0     01-04-2003\n",
       "4         2003-01-05                6.1     01-05-2003\n",
       "..               ...                ...            ...\n",
       "240       2023-01-01                3.4     01-01-2023\n",
       "241       2023-01-02                3.6     01-02-2023\n",
       "242       2023-01-03                3.5     01-03-2023\n",
       "243       2023-01-04                3.4     01-04-2023\n",
       "244       2023-01-05                3.7     01-05-2023\n",
       "\n",
       "[245 rows x 3 columns]"
      ]
     },
     "execution_count": 5,
     "metadata": {},
     "output_type": "execute_result"
    }
   ],
   "source": [
    "df1"
   ]
  },
  {
   "cell_type": "code",
   "execution_count": 6,
   "id": "ac69a15d",
   "metadata": {},
   "outputs": [],
   "source": [
    "df1=df1.drop(['observation_date'],axis=1)"
   ]
  },
  {
   "cell_type": "code",
   "execution_count": 7,
   "id": "101e7e6c",
   "metadata": {},
   "outputs": [
    {
     "data": {
      "text/html": [
       "<div>\n",
       "<style scoped>\n",
       "    .dataframe tbody tr th:only-of-type {\n",
       "        vertical-align: middle;\n",
       "    }\n",
       "\n",
       "    .dataframe tbody tr th {\n",
       "        vertical-align: top;\n",
       "    }\n",
       "\n",
       "    .dataframe thead th {\n",
       "        text-align: right;\n",
       "    }\n",
       "</style>\n",
       "<table border=\"1\" class=\"dataframe\">\n",
       "  <thead>\n",
       "    <tr style=\"text-align: right;\">\n",
       "      <th></th>\n",
       "      <th>Unemployment_Rate</th>\n",
       "      <th>Date_formatted</th>\n",
       "    </tr>\n",
       "  </thead>\n",
       "  <tbody>\n",
       "    <tr>\n",
       "      <th>0</th>\n",
       "      <td>5.8</td>\n",
       "      <td>01-01-2003</td>\n",
       "    </tr>\n",
       "    <tr>\n",
       "      <th>1</th>\n",
       "      <td>5.9</td>\n",
       "      <td>01-02-2003</td>\n",
       "    </tr>\n",
       "    <tr>\n",
       "      <th>2</th>\n",
       "      <td>5.9</td>\n",
       "      <td>01-03-2003</td>\n",
       "    </tr>\n",
       "    <tr>\n",
       "      <th>3</th>\n",
       "      <td>6.0</td>\n",
       "      <td>01-04-2003</td>\n",
       "    </tr>\n",
       "    <tr>\n",
       "      <th>4</th>\n",
       "      <td>6.1</td>\n",
       "      <td>01-05-2003</td>\n",
       "    </tr>\n",
       "    <tr>\n",
       "      <th>...</th>\n",
       "      <td>...</td>\n",
       "      <td>...</td>\n",
       "    </tr>\n",
       "    <tr>\n",
       "      <th>240</th>\n",
       "      <td>3.4</td>\n",
       "      <td>01-01-2023</td>\n",
       "    </tr>\n",
       "    <tr>\n",
       "      <th>241</th>\n",
       "      <td>3.6</td>\n",
       "      <td>01-02-2023</td>\n",
       "    </tr>\n",
       "    <tr>\n",
       "      <th>242</th>\n",
       "      <td>3.5</td>\n",
       "      <td>01-03-2023</td>\n",
       "    </tr>\n",
       "    <tr>\n",
       "      <th>243</th>\n",
       "      <td>3.4</td>\n",
       "      <td>01-04-2023</td>\n",
       "    </tr>\n",
       "    <tr>\n",
       "      <th>244</th>\n",
       "      <td>3.7</td>\n",
       "      <td>01-05-2023</td>\n",
       "    </tr>\n",
       "  </tbody>\n",
       "</table>\n",
       "<p>245 rows × 2 columns</p>\n",
       "</div>"
      ],
      "text/plain": [
       "     Unemployment_Rate Date_formatted\n",
       "0                  5.8     01-01-2003\n",
       "1                  5.9     01-02-2003\n",
       "2                  5.9     01-03-2003\n",
       "3                  6.0     01-04-2003\n",
       "4                  6.1     01-05-2003\n",
       "..                 ...            ...\n",
       "240                3.4     01-01-2023\n",
       "241                3.6     01-02-2023\n",
       "242                3.5     01-03-2023\n",
       "243                3.4     01-04-2023\n",
       "244                3.7     01-05-2023\n",
       "\n",
       "[245 rows x 2 columns]"
      ]
     },
     "execution_count": 7,
     "metadata": {},
     "output_type": "execute_result"
    }
   ],
   "source": [
    "df1"
   ]
  },
  {
   "cell_type": "code",
   "execution_count": 8,
   "id": "9d882b5e",
   "metadata": {},
   "outputs": [
    {
     "data": {
      "text/html": [
       "<div>\n",
       "<style scoped>\n",
       "    .dataframe tbody tr th:only-of-type {\n",
       "        vertical-align: middle;\n",
       "    }\n",
       "\n",
       "    .dataframe tbody tr th {\n",
       "        vertical-align: top;\n",
       "    }\n",
       "\n",
       "    .dataframe thead th {\n",
       "        text-align: right;\n",
       "    }\n",
       "</style>\n",
       "<table border=\"1\" class=\"dataframe\">\n",
       "  <thead>\n",
       "    <tr style=\"text-align: right;\">\n",
       "      <th></th>\n",
       "      <th>Unemployment_Rate</th>\n",
       "      <th>observation_date</th>\n",
       "    </tr>\n",
       "  </thead>\n",
       "  <tbody>\n",
       "    <tr>\n",
       "      <th>0</th>\n",
       "      <td>5.8</td>\n",
       "      <td>01-01-2003</td>\n",
       "    </tr>\n",
       "    <tr>\n",
       "      <th>1</th>\n",
       "      <td>5.9</td>\n",
       "      <td>01-02-2003</td>\n",
       "    </tr>\n",
       "    <tr>\n",
       "      <th>2</th>\n",
       "      <td>5.9</td>\n",
       "      <td>01-03-2003</td>\n",
       "    </tr>\n",
       "    <tr>\n",
       "      <th>3</th>\n",
       "      <td>6.0</td>\n",
       "      <td>01-04-2003</td>\n",
       "    </tr>\n",
       "    <tr>\n",
       "      <th>4</th>\n",
       "      <td>6.1</td>\n",
       "      <td>01-05-2003</td>\n",
       "    </tr>\n",
       "    <tr>\n",
       "      <th>...</th>\n",
       "      <td>...</td>\n",
       "      <td>...</td>\n",
       "    </tr>\n",
       "    <tr>\n",
       "      <th>240</th>\n",
       "      <td>3.4</td>\n",
       "      <td>01-01-2023</td>\n",
       "    </tr>\n",
       "    <tr>\n",
       "      <th>241</th>\n",
       "      <td>3.6</td>\n",
       "      <td>01-02-2023</td>\n",
       "    </tr>\n",
       "    <tr>\n",
       "      <th>242</th>\n",
       "      <td>3.5</td>\n",
       "      <td>01-03-2023</td>\n",
       "    </tr>\n",
       "    <tr>\n",
       "      <th>243</th>\n",
       "      <td>3.4</td>\n",
       "      <td>01-04-2023</td>\n",
       "    </tr>\n",
       "    <tr>\n",
       "      <th>244</th>\n",
       "      <td>3.7</td>\n",
       "      <td>01-05-2023</td>\n",
       "    </tr>\n",
       "  </tbody>\n",
       "</table>\n",
       "<p>245 rows × 2 columns</p>\n",
       "</div>"
      ],
      "text/plain": [
       "     Unemployment_Rate observation_date\n",
       "0                  5.8       01-01-2003\n",
       "1                  5.9       01-02-2003\n",
       "2                  5.9       01-03-2003\n",
       "3                  6.0       01-04-2003\n",
       "4                  6.1       01-05-2003\n",
       "..                 ...              ...\n",
       "240                3.4       01-01-2023\n",
       "241                3.6       01-02-2023\n",
       "242                3.5       01-03-2023\n",
       "243                3.4       01-04-2023\n",
       "244                3.7       01-05-2023\n",
       "\n",
       "[245 rows x 2 columns]"
      ]
     },
     "execution_count": 8,
     "metadata": {},
     "output_type": "execute_result"
    }
   ],
   "source": [
    "df1 = df1.rename(columns={'Date_formatted': 'observation_date'})\n",
    "df1"
   ]
  },
  {
   "cell_type": "code",
   "execution_count": null,
   "id": "cc6bd8e8",
   "metadata": {
    "scrolled": true
   },
   "outputs": [],
   "source": []
  },
  {
   "cell_type": "code",
   "execution_count": 9,
   "id": "a52b11fe",
   "metadata": {},
   "outputs": [
    {
     "data": {
      "text/html": [
       "<div>\n",
       "<style scoped>\n",
       "    .dataframe tbody tr th:only-of-type {\n",
       "        vertical-align: middle;\n",
       "    }\n",
       "\n",
       "    .dataframe tbody tr th {\n",
       "        vertical-align: top;\n",
       "    }\n",
       "\n",
       "    .dataframe thead th {\n",
       "        text-align: right;\n",
       "    }\n",
       "</style>\n",
       "<table border=\"1\" class=\"dataframe\">\n",
       "  <thead>\n",
       "    <tr style=\"text-align: right;\">\n",
       "      <th></th>\n",
       "      <th>observation_date</th>\n",
       "      <th>producer_price_index</th>\n",
       "    </tr>\n",
       "  </thead>\n",
       "  <tbody>\n",
       "    <tr>\n",
       "      <th>0</th>\n",
       "      <td>01-01-1973</td>\n",
       "      <td>44.1</td>\n",
       "    </tr>\n",
       "    <tr>\n",
       "      <th>1</th>\n",
       "      <td>01-02-1973</td>\n",
       "      <td>44.4</td>\n",
       "    </tr>\n",
       "    <tr>\n",
       "      <th>2</th>\n",
       "      <td>01-03-1973</td>\n",
       "      <td>44.6</td>\n",
       "    </tr>\n",
       "    <tr>\n",
       "      <th>3</th>\n",
       "      <td>01-04-1973</td>\n",
       "      <td>44.6</td>\n",
       "    </tr>\n",
       "    <tr>\n",
       "      <th>4</th>\n",
       "      <td>01-05-1973</td>\n",
       "      <td>44.7</td>\n",
       "    </tr>\n",
       "  </tbody>\n",
       "</table>\n",
       "</div>"
      ],
      "text/plain": [
       "  observation_date  producer_price_index\n",
       "0       01-01-1973                  44.1\n",
       "1       01-02-1973                  44.4\n",
       "2       01-03-1973                  44.6\n",
       "3       01-04-1973                  44.6\n",
       "4       01-05-1973                  44.7"
      ]
     },
     "execution_count": 9,
     "metadata": {},
     "output_type": "execute_result"
    }
   ],
   "source": [
    "df3 = pd.read_csv('producer_price_index.csv')\n",
    "df3.head()"
   ]
  },
  {
   "cell_type": "code",
   "execution_count": 10,
   "id": "8ccf9e62",
   "metadata": {},
   "outputs": [
    {
     "data": {
      "text/html": [
       "<div>\n",
       "<style scoped>\n",
       "    .dataframe tbody tr th:only-of-type {\n",
       "        vertical-align: middle;\n",
       "    }\n",
       "\n",
       "    .dataframe tbody tr th {\n",
       "        vertical-align: top;\n",
       "    }\n",
       "\n",
       "    .dataframe thead th {\n",
       "        text-align: right;\n",
       "    }\n",
       "</style>\n",
       "<table border=\"1\" class=\"dataframe\">\n",
       "  <thead>\n",
       "    <tr style=\"text-align: right;\">\n",
       "      <th></th>\n",
       "      <th>observation_date</th>\n",
       "      <th>cpi</th>\n",
       "    </tr>\n",
       "  </thead>\n",
       "  <tbody>\n",
       "    <tr>\n",
       "      <th>0</th>\n",
       "      <td>01-01-2003</td>\n",
       "      <td>2.787553</td>\n",
       "    </tr>\n",
       "    <tr>\n",
       "      <th>1</th>\n",
       "      <td>01-02-2003</td>\n",
       "      <td>2.704659</td>\n",
       "    </tr>\n",
       "    <tr>\n",
       "      <th>2</th>\n",
       "      <td>01-03-2003</td>\n",
       "      <td>2.627787</td>\n",
       "    </tr>\n",
       "    <tr>\n",
       "      <th>3</th>\n",
       "      <td>01-04-2003</td>\n",
       "      <td>2.459349</td>\n",
       "    </tr>\n",
       "    <tr>\n",
       "      <th>4</th>\n",
       "      <td>01-05-2003</td>\n",
       "      <td>2.348341</td>\n",
       "    </tr>\n",
       "  </tbody>\n",
       "</table>\n",
       "</div>"
      ],
      "text/plain": [
       "  observation_date       cpi\n",
       "0       01-01-2003  2.787553\n",
       "1       01-02-2003  2.704659\n",
       "2       01-03-2003  2.627787\n",
       "3       01-04-2003  2.459349\n",
       "4       01-05-2003  2.348341"
      ]
     },
     "execution_count": 10,
     "metadata": {},
     "output_type": "execute_result"
    }
   ],
   "source": [
    "df4 = pd.read_csv('cpi.csv')\n",
    "df4.head()"
   ]
  },
  {
   "cell_type": "code",
   "execution_count": 11,
   "id": "d6ecb09a",
   "metadata": {},
   "outputs": [
    {
     "data": {
      "text/html": [
       "<div>\n",
       "<style scoped>\n",
       "    .dataframe tbody tr th:only-of-type {\n",
       "        vertical-align: middle;\n",
       "    }\n",
       "\n",
       "    .dataframe tbody tr th {\n",
       "        vertical-align: top;\n",
       "    }\n",
       "\n",
       "    .dataframe thead th {\n",
       "        text-align: right;\n",
       "    }\n",
       "</style>\n",
       "<table border=\"1\" class=\"dataframe\">\n",
       "  <thead>\n",
       "    <tr style=\"text-align: right;\">\n",
       "      <th></th>\n",
       "      <th>observation_date</th>\n",
       "      <th>discount_interest_rates</th>\n",
       "    </tr>\n",
       "  </thead>\n",
       "  <tbody>\n",
       "    <tr>\n",
       "      <th>0</th>\n",
       "      <td>01-01-2003</td>\n",
       "      <td>2.25</td>\n",
       "    </tr>\n",
       "    <tr>\n",
       "      <th>1</th>\n",
       "      <td>01-02-2003</td>\n",
       "      <td>2.25</td>\n",
       "    </tr>\n",
       "    <tr>\n",
       "      <th>2</th>\n",
       "      <td>01-03-2003</td>\n",
       "      <td>2.25</td>\n",
       "    </tr>\n",
       "    <tr>\n",
       "      <th>3</th>\n",
       "      <td>01-04-2003</td>\n",
       "      <td>2.25</td>\n",
       "    </tr>\n",
       "    <tr>\n",
       "      <th>4</th>\n",
       "      <td>01-05-2003</td>\n",
       "      <td>2.25</td>\n",
       "    </tr>\n",
       "  </tbody>\n",
       "</table>\n",
       "</div>"
      ],
      "text/plain": [
       "  observation_date  discount_interest_rates\n",
       "0       01-01-2003                     2.25\n",
       "1       01-02-2003                     2.25\n",
       "2       01-03-2003                     2.25\n",
       "3       01-04-2003                     2.25\n",
       "4       01-05-2003                     2.25"
      ]
     },
     "execution_count": 11,
     "metadata": {},
     "output_type": "execute_result"
    }
   ],
   "source": [
    "df5 = pd.read_csv('discount_interest_rates.csv')\n",
    "df5.head()"
   ]
  },
  {
   "cell_type": "code",
   "execution_count": 12,
   "id": "aca173cf",
   "metadata": {},
   "outputs": [
    {
     "data": {
      "text/html": [
       "<div>\n",
       "<style scoped>\n",
       "    .dataframe tbody tr th:only-of-type {\n",
       "        vertical-align: middle;\n",
       "    }\n",
       "\n",
       "    .dataframe tbody tr th {\n",
       "        vertical-align: top;\n",
       "    }\n",
       "\n",
       "    .dataframe thead th {\n",
       "        text-align: right;\n",
       "    }\n",
       "</style>\n",
       "<table border=\"1\" class=\"dataframe\">\n",
       "  <thead>\n",
       "    <tr style=\"text-align: right;\">\n",
       "      <th></th>\n",
       "      <th>observation_date</th>\n",
       "      <th>monthly_supply_houses</th>\n",
       "    </tr>\n",
       "  </thead>\n",
       "  <tbody>\n",
       "    <tr>\n",
       "      <th>0</th>\n",
       "      <td>01-01-2003</td>\n",
       "      <td>4.0</td>\n",
       "    </tr>\n",
       "    <tr>\n",
       "      <th>1</th>\n",
       "      <td>01-02-2003</td>\n",
       "      <td>4.5</td>\n",
       "    </tr>\n",
       "    <tr>\n",
       "      <th>2</th>\n",
       "      <td>01-03-2003</td>\n",
       "      <td>4.1</td>\n",
       "    </tr>\n",
       "    <tr>\n",
       "      <th>3</th>\n",
       "      <td>01-04-2003</td>\n",
       "      <td>4.1</td>\n",
       "    </tr>\n",
       "    <tr>\n",
       "      <th>4</th>\n",
       "      <td>01-05-2003</td>\n",
       "      <td>3.9</td>\n",
       "    </tr>\n",
       "  </tbody>\n",
       "</table>\n",
       "</div>"
      ],
      "text/plain": [
       "  observation_date  monthly_supply_houses\n",
       "0       01-01-2003                    4.0\n",
       "1       01-02-2003                    4.5\n",
       "2       01-03-2003                    4.1\n",
       "3       01-04-2003                    4.1\n",
       "4       01-05-2003                    3.9"
      ]
     },
     "execution_count": 12,
     "metadata": {},
     "output_type": "execute_result"
    }
   ],
   "source": [
    "df6 = pd.read_csv('monthly_supply_houses.csv')\n",
    "df6.head()"
   ]
  },
  {
   "cell_type": "code",
   "execution_count": 13,
   "id": "47c501d0",
   "metadata": {},
   "outputs": [
    {
     "data": {
      "text/html": [
       "<div>\n",
       "<style scoped>\n",
       "    .dataframe tbody tr th:only-of-type {\n",
       "        vertical-align: middle;\n",
       "    }\n",
       "\n",
       "    .dataframe tbody tr th {\n",
       "        vertical-align: top;\n",
       "    }\n",
       "\n",
       "    .dataframe thead th {\n",
       "        text-align: right;\n",
       "    }\n",
       "</style>\n",
       "<table border=\"1\" class=\"dataframe\">\n",
       "  <thead>\n",
       "    <tr style=\"text-align: right;\">\n",
       "      <th></th>\n",
       "      <th>observation_date</th>\n",
       "      <th>price</th>\n",
       "    </tr>\n",
       "  </thead>\n",
       "  <tbody>\n",
       "    <tr>\n",
       "      <th>0</th>\n",
       "      <td>2003-01-01</td>\n",
       "      <td>128.461</td>\n",
       "    </tr>\n",
       "    <tr>\n",
       "      <th>1</th>\n",
       "      <td>2003-02-01</td>\n",
       "      <td>129.355</td>\n",
       "    </tr>\n",
       "    <tr>\n",
       "      <th>2</th>\n",
       "      <td>2003-03-01</td>\n",
       "      <td>130.148</td>\n",
       "    </tr>\n",
       "    <tr>\n",
       "      <th>3</th>\n",
       "      <td>2003-04-01</td>\n",
       "      <td>130.884</td>\n",
       "    </tr>\n",
       "    <tr>\n",
       "      <th>4</th>\n",
       "      <td>2003-05-01</td>\n",
       "      <td>131.735</td>\n",
       "    </tr>\n",
       "  </tbody>\n",
       "</table>\n",
       "</div>"
      ],
      "text/plain": [
       "  observation_date    price\n",
       "0       2003-01-01  128.461\n",
       "1       2003-02-01  129.355\n",
       "2       2003-03-01  130.148\n",
       "3       2003-04-01  130.884\n",
       "4       2003-05-01  131.735"
      ]
     },
     "execution_count": 13,
     "metadata": {},
     "output_type": "execute_result"
    }
   ],
   "source": [
    "df8 = pd.read_csv('price.csv')\n",
    "df8.head()"
   ]
  },
  {
   "cell_type": "code",
   "execution_count": 14,
   "id": "8630c318",
   "metadata": {},
   "outputs": [],
   "source": [
    "# Convert the 'Date' column to datetime type\n",
    "df8['observation_date'] = pd.to_datetime(df['observation_date'])\n",
    "# Convert the 'Date' column to the 'dd-mm-yyyy' format\n",
    "df8['Date_formatted'] = df8['observation_date'].dt.strftime('%m-%d-%Y')"
   ]
  },
  {
   "cell_type": "code",
   "execution_count": 15,
   "id": "44b71867",
   "metadata": {},
   "outputs": [],
   "source": [
    "df8=df8.drop(['observation_date'],axis=1)"
   ]
  },
  {
   "cell_type": "code",
   "execution_count": 16,
   "id": "a5b5cbc5",
   "metadata": {},
   "outputs": [
    {
     "data": {
      "text/html": [
       "<div>\n",
       "<style scoped>\n",
       "    .dataframe tbody tr th:only-of-type {\n",
       "        vertical-align: middle;\n",
       "    }\n",
       "\n",
       "    .dataframe tbody tr th {\n",
       "        vertical-align: top;\n",
       "    }\n",
       "\n",
       "    .dataframe thead th {\n",
       "        text-align: right;\n",
       "    }\n",
       "</style>\n",
       "<table border=\"1\" class=\"dataframe\">\n",
       "  <thead>\n",
       "    <tr style=\"text-align: right;\">\n",
       "      <th></th>\n",
       "      <th>price</th>\n",
       "      <th>observation_date</th>\n",
       "    </tr>\n",
       "  </thead>\n",
       "  <tbody>\n",
       "    <tr>\n",
       "      <th>0</th>\n",
       "      <td>128.461</td>\n",
       "      <td>01-01-2003</td>\n",
       "    </tr>\n",
       "    <tr>\n",
       "      <th>1</th>\n",
       "      <td>129.355</td>\n",
       "      <td>01-02-2003</td>\n",
       "    </tr>\n",
       "    <tr>\n",
       "      <th>2</th>\n",
       "      <td>130.148</td>\n",
       "      <td>01-03-2003</td>\n",
       "    </tr>\n",
       "    <tr>\n",
       "      <th>3</th>\n",
       "      <td>130.884</td>\n",
       "      <td>01-04-2003</td>\n",
       "    </tr>\n",
       "    <tr>\n",
       "      <th>4</th>\n",
       "      <td>131.735</td>\n",
       "      <td>01-05-2003</td>\n",
       "    </tr>\n",
       "    <tr>\n",
       "      <th>...</th>\n",
       "      <td>...</td>\n",
       "      <td>...</td>\n",
       "    </tr>\n",
       "    <tr>\n",
       "      <th>240</th>\n",
       "      <td>297.030</td>\n",
       "      <td>01-01-2023</td>\n",
       "    </tr>\n",
       "    <tr>\n",
       "      <th>241</th>\n",
       "      <td>297.537</td>\n",
       "      <td>01-02-2023</td>\n",
       "    </tr>\n",
       "    <tr>\n",
       "      <th>242</th>\n",
       "      <td>298.637</td>\n",
       "      <td>01-03-2023</td>\n",
       "    </tr>\n",
       "    <tr>\n",
       "      <th>243</th>\n",
       "      <td>300.213</td>\n",
       "      <td>01-04-2023</td>\n",
       "    </tr>\n",
       "    <tr>\n",
       "      <th>244</th>\n",
       "      <td>302.566</td>\n",
       "      <td>01-05-2023</td>\n",
       "    </tr>\n",
       "  </tbody>\n",
       "</table>\n",
       "<p>245 rows × 2 columns</p>\n",
       "</div>"
      ],
      "text/plain": [
       "       price observation_date\n",
       "0    128.461       01-01-2003\n",
       "1    129.355       01-02-2003\n",
       "2    130.148       01-03-2003\n",
       "3    130.884       01-04-2003\n",
       "4    131.735       01-05-2003\n",
       "..       ...              ...\n",
       "240  297.030       01-01-2023\n",
       "241  297.537       01-02-2023\n",
       "242  298.637       01-03-2023\n",
       "243  300.213       01-04-2023\n",
       "244  302.566       01-05-2023\n",
       "\n",
       "[245 rows x 2 columns]"
      ]
     },
     "execution_count": 16,
     "metadata": {},
     "output_type": "execute_result"
    }
   ],
   "source": [
    "df8 = df8.rename(columns={'Date_formatted': 'observation_date'})\n",
    "df8"
   ]
  },
  {
   "cell_type": "code",
   "execution_count": null,
   "id": "af523db7",
   "metadata": {},
   "outputs": [],
   "source": []
  },
  {
   "cell_type": "code",
   "execution_count": 18,
   "id": "dd46d410",
   "metadata": {},
   "outputs": [
    {
     "data": {
      "text/html": [
       "<div>\n",
       "<style scoped>\n",
       "    .dataframe tbody tr th:only-of-type {\n",
       "        vertical-align: middle;\n",
       "    }\n",
       "\n",
       "    .dataframe tbody tr th {\n",
       "        vertical-align: top;\n",
       "    }\n",
       "\n",
       "    .dataframe thead th {\n",
       "        text-align: right;\n",
       "    }\n",
       "</style>\n",
       "<table border=\"1\" class=\"dataframe\">\n",
       "  <thead>\n",
       "    <tr style=\"text-align: right;\">\n",
       "      <th></th>\n",
       "      <th>Unemployment_Rate</th>\n",
       "      <th>observation_date</th>\n",
       "      <th>producer_price_index</th>\n",
       "      <th>cpi</th>\n",
       "      <th>discount_interest_rates</th>\n",
       "      <th>monthly_supply_houses</th>\n",
       "      <th>Year</th>\n",
       "      <th>Month</th>\n",
       "      <th>price</th>\n",
       "    </tr>\n",
       "  </thead>\n",
       "  <tbody>\n",
       "    <tr>\n",
       "      <th>0</th>\n",
       "      <td>5.8</td>\n",
       "      <td>01-01-2003</td>\n",
       "      <td>174.600</td>\n",
       "      <td>2.787553</td>\n",
       "      <td>2.25</td>\n",
       "      <td>4.0</td>\n",
       "      <td>2003</td>\n",
       "      <td>1</td>\n",
       "      <td>128.461</td>\n",
       "    </tr>\n",
       "    <tr>\n",
       "      <th>1</th>\n",
       "      <td>5.9</td>\n",
       "      <td>01-02-2003</td>\n",
       "      <td>175.200</td>\n",
       "      <td>2.704659</td>\n",
       "      <td>2.25</td>\n",
       "      <td>4.5</td>\n",
       "      <td>2003</td>\n",
       "      <td>1</td>\n",
       "      <td>129.355</td>\n",
       "    </tr>\n",
       "    <tr>\n",
       "      <th>2</th>\n",
       "      <td>5.9</td>\n",
       "      <td>01-03-2003</td>\n",
       "      <td>175.500</td>\n",
       "      <td>2.627787</td>\n",
       "      <td>2.25</td>\n",
       "      <td>4.1</td>\n",
       "      <td>2003</td>\n",
       "      <td>1</td>\n",
       "      <td>130.148</td>\n",
       "    </tr>\n",
       "    <tr>\n",
       "      <th>3</th>\n",
       "      <td>6.0</td>\n",
       "      <td>01-04-2003</td>\n",
       "      <td>175.800</td>\n",
       "      <td>2.459349</td>\n",
       "      <td>2.25</td>\n",
       "      <td>4.1</td>\n",
       "      <td>2003</td>\n",
       "      <td>1</td>\n",
       "      <td>130.884</td>\n",
       "    </tr>\n",
       "    <tr>\n",
       "      <th>4</th>\n",
       "      <td>6.1</td>\n",
       "      <td>01-05-2003</td>\n",
       "      <td>176.300</td>\n",
       "      <td>2.348341</td>\n",
       "      <td>2.25</td>\n",
       "      <td>3.9</td>\n",
       "      <td>2003</td>\n",
       "      <td>1</td>\n",
       "      <td>131.735</td>\n",
       "    </tr>\n",
       "    <tr>\n",
       "      <th>...</th>\n",
       "      <td>...</td>\n",
       "      <td>...</td>\n",
       "      <td>...</td>\n",
       "      <td>...</td>\n",
       "      <td>...</td>\n",
       "      <td>...</td>\n",
       "      <td>...</td>\n",
       "      <td>...</td>\n",
       "      <td>...</td>\n",
       "    </tr>\n",
       "    <tr>\n",
       "      <th>219</th>\n",
       "      <td>6.1</td>\n",
       "      <td>01-04-2021</td>\n",
       "      <td>373.500</td>\n",
       "      <td>2.262331</td>\n",
       "      <td>0.25</td>\n",
       "      <td>4.7</td>\n",
       "      <td>2021</td>\n",
       "      <td>1</td>\n",
       "      <td>249.070</td>\n",
       "    </tr>\n",
       "    <tr>\n",
       "      <th>220</th>\n",
       "      <td>5.8</td>\n",
       "      <td>01-05-2021</td>\n",
       "      <td>376.900</td>\n",
       "      <td>2.623164</td>\n",
       "      <td>0.25</td>\n",
       "      <td>5.6</td>\n",
       "      <td>2021</td>\n",
       "      <td>1</td>\n",
       "      <td>253.407</td>\n",
       "    </tr>\n",
       "    <tr>\n",
       "      <th>221</th>\n",
       "      <td>5.9</td>\n",
       "      <td>01-06-2021</td>\n",
       "      <td>378.200</td>\n",
       "      <td>2.588579</td>\n",
       "      <td>0.25</td>\n",
       "      <td>5.8</td>\n",
       "      <td>2021</td>\n",
       "      <td>1</td>\n",
       "      <td>258.358</td>\n",
       "    </tr>\n",
       "    <tr>\n",
       "      <th>222</th>\n",
       "      <td>5.4</td>\n",
       "      <td>01-07-2021</td>\n",
       "      <td>379.467</td>\n",
       "      <td>2.315464</td>\n",
       "      <td>0.25</td>\n",
       "      <td>5.7</td>\n",
       "      <td>2021</td>\n",
       "      <td>1</td>\n",
       "      <td>262.820</td>\n",
       "    </tr>\n",
       "    <tr>\n",
       "      <th>223</th>\n",
       "      <td>5.2</td>\n",
       "      <td>01-08-2021</td>\n",
       "      <td>380.833</td>\n",
       "      <td>2.343064</td>\n",
       "      <td>0.25</td>\n",
       "      <td>6.5</td>\n",
       "      <td>2021</td>\n",
       "      <td>1</td>\n",
       "      <td>266.845</td>\n",
       "    </tr>\n",
       "  </tbody>\n",
       "</table>\n",
       "<p>224 rows × 9 columns</p>\n",
       "</div>"
      ],
      "text/plain": [
       "     Unemployment_Rate observation_date  producer_price_index       cpi  \\\n",
       "0                  5.8       01-01-2003               174.600  2.787553   \n",
       "1                  5.9       01-02-2003               175.200  2.704659   \n",
       "2                  5.9       01-03-2003               175.500  2.627787   \n",
       "3                  6.0       01-04-2003               175.800  2.459349   \n",
       "4                  6.1       01-05-2003               176.300  2.348341   \n",
       "..                 ...              ...                   ...       ...   \n",
       "219                6.1       01-04-2021               373.500  2.262331   \n",
       "220                5.8       01-05-2021               376.900  2.623164   \n",
       "221                5.9       01-06-2021               378.200  2.588579   \n",
       "222                5.4       01-07-2021               379.467  2.315464   \n",
       "223                5.2       01-08-2021               380.833  2.343064   \n",
       "\n",
       "     discount_interest_rates  monthly_supply_houses  Year  Month    price  \n",
       "0                       2.25                    4.0  2003      1  128.461  \n",
       "1                       2.25                    4.5  2003      1  129.355  \n",
       "2                       2.25                    4.1  2003      1  130.148  \n",
       "3                       2.25                    4.1  2003      1  130.884  \n",
       "4                       2.25                    3.9  2003      1  131.735  \n",
       "..                       ...                    ...   ...    ...      ...  \n",
       "219                     0.25                    4.7  2021      1  249.070  \n",
       "220                     0.25                    5.6  2021      1  253.407  \n",
       "221                     0.25                    5.8  2021      1  258.358  \n",
       "222                     0.25                    5.7  2021      1  262.820  \n",
       "223                     0.25                    6.5  2021      1  266.845  \n",
       "\n",
       "[224 rows x 9 columns]"
      ]
     },
     "execution_count": 18,
     "metadata": {},
     "output_type": "execute_result"
    }
   ],
   "source": [
    "# Merge df1 and df2\n",
    "merged_df = pd.merge(df1, df3, on='observation_date')\n",
    "\n",
    "# Continue merging with df3, df4, df5, df6, df8\n",
    "#merged_df = pd.merge(merged_df, df3, on='observation_date', how='inner')\n",
    "merged_df = pd.merge(merged_df, df4, on='observation_date')\n",
    "merged_df = pd.merge(merged_df, df5, on='observation_date')\n",
    "merged_df = pd.merge(merged_df, df6, on='observation_date')\n",
    "merged_df[\"Year\"] = pd.DatetimeIndex(merged_df[\"observation_date\"]).year\n",
    "merged_df[\"Month\"] = pd.DatetimeIndex(merged_df[\"observation_date\"]).month\n",
    "merged_df = pd.merge(merged_df, df8, on='observation_date')\n",
    "\n",
    "\n",
    "# Display the result\n",
    "merged_df\n"
   ]
  },
  {
   "cell_type": "code",
   "execution_count": null,
   "id": "cc15dfb5",
   "metadata": {},
   "outputs": [],
   "source": []
  },
  {
   "cell_type": "markdown",
   "id": "defdc746",
   "metadata": {},
   "source": [
    "# Pre-Processing"
   ]
  },
  {
   "cell_type": "code",
   "execution_count": 19,
   "id": "4b1a0778",
   "metadata": {},
   "outputs": [
    {
     "data": {
      "text/plain": [
       "Unemployment_Rate          0\n",
       "observation_date           0\n",
       "producer_price_index       0\n",
       "cpi                        0\n",
       "discount_interest_rates    0\n",
       "monthly_supply_houses      0\n",
       "Year                       0\n",
       "Month                      0\n",
       "price                      0\n",
       "dtype: int64"
      ]
     },
     "execution_count": 19,
     "metadata": {},
     "output_type": "execute_result"
    }
   ],
   "source": [
    "merged_df.isnull().sum()"
   ]
  },
  {
   "cell_type": "code",
   "execution_count": 20,
   "id": "90fd944b",
   "metadata": {},
   "outputs": [
    {
     "data": {
      "text/plain": [
       "(224, 9)"
      ]
     },
     "execution_count": 20,
     "metadata": {},
     "output_type": "execute_result"
    }
   ],
   "source": [
    "merged_df.shape"
   ]
  },
  {
   "cell_type": "code",
   "execution_count": null,
   "id": "7da1bd5d",
   "metadata": {},
   "outputs": [],
   "source": []
  },
  {
   "cell_type": "code",
   "execution_count": 21,
   "id": "2ca88ae1",
   "metadata": {},
   "outputs": [
    {
     "name": "stdout",
     "output_type": "stream",
     "text": [
      "Duplicate Rows :\n"
     ]
    },
    {
     "data": {
      "text/html": [
       "<div>\n",
       "<style scoped>\n",
       "    .dataframe tbody tr th:only-of-type {\n",
       "        vertical-align: middle;\n",
       "    }\n",
       "\n",
       "    .dataframe tbody tr th {\n",
       "        vertical-align: top;\n",
       "    }\n",
       "\n",
       "    .dataframe thead th {\n",
       "        text-align: right;\n",
       "    }\n",
       "</style>\n",
       "<table border=\"1\" class=\"dataframe\">\n",
       "  <thead>\n",
       "    <tr style=\"text-align: right;\">\n",
       "      <th></th>\n",
       "      <th>Unemployment_Rate</th>\n",
       "      <th>observation_date</th>\n",
       "      <th>producer_price_index</th>\n",
       "      <th>cpi</th>\n",
       "      <th>discount_interest_rates</th>\n",
       "      <th>monthly_supply_houses</th>\n",
       "      <th>Year</th>\n",
       "      <th>Month</th>\n",
       "      <th>price</th>\n",
       "    </tr>\n",
       "  </thead>\n",
       "  <tbody>\n",
       "  </tbody>\n",
       "</table>\n",
       "</div>"
      ],
      "text/plain": [
       "Empty DataFrame\n",
       "Columns: [Unemployment_Rate, observation_date, producer_price_index, cpi, discount_interest_rates, monthly_supply_houses, Year, Month, price]\n",
       "Index: []"
      ]
     },
     "execution_count": 21,
     "metadata": {},
     "output_type": "execute_result"
    }
   ],
   "source": [
    "#  check  the duplicate again\n",
    "duplicate = merged_df[merged_df.duplicated()]\n",
    "print(\"Duplicate Rows :\")\n",
    " \n",
    "#  Print the resultant Dataframe\n",
    "duplicate"
   ]
  },
  {
   "cell_type": "code",
   "execution_count": 22,
   "id": "81f31a47",
   "metadata": {},
   "outputs": [
    {
     "data": {
      "text/html": [
       "<div>\n",
       "<style scoped>\n",
       "    .dataframe tbody tr th:only-of-type {\n",
       "        vertical-align: middle;\n",
       "    }\n",
       "\n",
       "    .dataframe tbody tr th {\n",
       "        vertical-align: top;\n",
       "    }\n",
       "\n",
       "    .dataframe thead th {\n",
       "        text-align: right;\n",
       "    }\n",
       "</style>\n",
       "<table border=\"1\" class=\"dataframe\">\n",
       "  <thead>\n",
       "    <tr style=\"text-align: right;\">\n",
       "      <th></th>\n",
       "      <th>Unemployment_Rate</th>\n",
       "      <th>producer_price_index</th>\n",
       "      <th>cpi</th>\n",
       "      <th>discount_interest_rates</th>\n",
       "      <th>monthly_supply_houses</th>\n",
       "      <th>Year</th>\n",
       "      <th>Month</th>\n",
       "      <th>price</th>\n",
       "    </tr>\n",
       "  </thead>\n",
       "  <tbody>\n",
       "    <tr>\n",
       "      <th>count</th>\n",
       "      <td>224.000000</td>\n",
       "      <td>224.000000</td>\n",
       "      <td>224.000000</td>\n",
       "      <td>224.000000</td>\n",
       "      <td>224.000000</td>\n",
       "      <td>224.000000</td>\n",
       "      <td>224.0</td>\n",
       "      <td>224.000000</td>\n",
       "    </tr>\n",
       "    <tr>\n",
       "      <th>mean</th>\n",
       "      <td>6.168750</td>\n",
       "      <td>273.914286</td>\n",
       "      <td>2.214946</td>\n",
       "      <td>1.946429</td>\n",
       "      <td>6.014732</td>\n",
       "      <td>2011.839286</td>\n",
       "      <td>1.0</td>\n",
       "      <td>172.648402</td>\n",
       "    </tr>\n",
       "    <tr>\n",
       "      <th>std</th>\n",
       "      <td>2.013677</td>\n",
       "      <td>56.618004</td>\n",
       "      <td>0.523737</td>\n",
       "      <td>1.732351</td>\n",
       "      <td>1.918077</td>\n",
       "      <td>5.403127</td>\n",
       "      <td>0.0</td>\n",
       "      <td>29.134351</td>\n",
       "    </tr>\n",
       "    <tr>\n",
       "      <th>min</th>\n",
       "      <td>3.500000</td>\n",
       "      <td>174.600000</td>\n",
       "      <td>0.667614</td>\n",
       "      <td>0.250000</td>\n",
       "      <td>3.300000</td>\n",
       "      <td>2003.000000</td>\n",
       "      <td>1.0</td>\n",
       "      <td>128.461000</td>\n",
       "    </tr>\n",
       "    <tr>\n",
       "      <th>25%</th>\n",
       "      <td>4.700000</td>\n",
       "      <td>234.650000</td>\n",
       "      <td>2.005605</td>\n",
       "      <td>0.750000</td>\n",
       "      <td>4.700000</td>\n",
       "      <td>2007.000000</td>\n",
       "      <td>1.0</td>\n",
       "      <td>147.909250</td>\n",
       "    </tr>\n",
       "    <tr>\n",
       "      <th>50%</th>\n",
       "      <td>5.600000</td>\n",
       "      <td>272.000000</td>\n",
       "      <td>2.259707</td>\n",
       "      <td>1.000000</td>\n",
       "      <td>5.500000</td>\n",
       "      <td>2012.000000</td>\n",
       "      <td>1.0</td>\n",
       "      <td>169.575500</td>\n",
       "    </tr>\n",
       "    <tr>\n",
       "      <th>75%</th>\n",
       "      <td>7.625000</td>\n",
       "      <td>316.175000</td>\n",
       "      <td>2.539549</td>\n",
       "      <td>2.500000</td>\n",
       "      <td>6.750000</td>\n",
       "      <td>2016.250000</td>\n",
       "      <td>1.0</td>\n",
       "      <td>185.992750</td>\n",
       "    </tr>\n",
       "    <tr>\n",
       "      <th>max</th>\n",
       "      <td>14.700000</td>\n",
       "      <td>380.833000</td>\n",
       "      <td>3.291125</td>\n",
       "      <td>6.250000</td>\n",
       "      <td>12.200000</td>\n",
       "      <td>2021.000000</td>\n",
       "      <td>1.0</td>\n",
       "      <td>266.845000</td>\n",
       "    </tr>\n",
       "  </tbody>\n",
       "</table>\n",
       "</div>"
      ],
      "text/plain": [
       "       Unemployment_Rate  producer_price_index         cpi  \\\n",
       "count         224.000000            224.000000  224.000000   \n",
       "mean            6.168750            273.914286    2.214946   \n",
       "std             2.013677             56.618004    0.523737   \n",
       "min             3.500000            174.600000    0.667614   \n",
       "25%             4.700000            234.650000    2.005605   \n",
       "50%             5.600000            272.000000    2.259707   \n",
       "75%             7.625000            316.175000    2.539549   \n",
       "max            14.700000            380.833000    3.291125   \n",
       "\n",
       "       discount_interest_rates  monthly_supply_houses         Year  Month  \\\n",
       "count               224.000000             224.000000   224.000000  224.0   \n",
       "mean                  1.946429               6.014732  2011.839286    1.0   \n",
       "std                   1.732351               1.918077     5.403127    0.0   \n",
       "min                   0.250000               3.300000  2003.000000    1.0   \n",
       "25%                   0.750000               4.700000  2007.000000    1.0   \n",
       "50%                   1.000000               5.500000  2012.000000    1.0   \n",
       "75%                   2.500000               6.750000  2016.250000    1.0   \n",
       "max                   6.250000              12.200000  2021.000000    1.0   \n",
       "\n",
       "            price  \n",
       "count  224.000000  \n",
       "mean   172.648402  \n",
       "std     29.134351  \n",
       "min    128.461000  \n",
       "25%    147.909250  \n",
       "50%    169.575500  \n",
       "75%    185.992750  \n",
       "max    266.845000  "
      ]
     },
     "execution_count": 22,
     "metadata": {},
     "output_type": "execute_result"
    }
   ],
   "source": [
    "merged_df.describe()"
   ]
  },
  {
   "cell_type": "code",
   "execution_count": null,
   "id": "7568ded5",
   "metadata": {},
   "outputs": [],
   "source": []
  },
  {
   "cell_type": "markdown",
   "id": "57a467d9",
   "metadata": {},
   "source": [
    "# EDA"
   ]
  },
  {
   "cell_type": "code",
   "execution_count": 23,
   "id": "9ed1ea9d",
   "metadata": {},
   "outputs": [
    {
     "name": "stdout",
     "output_type": "stream",
     "text": [
      "********************\n",
      "2003    12\n",
      "2013    12\n",
      "2020    12\n",
      "2019    12\n",
      "2018    12\n",
      "2017    12\n",
      "2016    12\n",
      "2015    12\n",
      "2014    12\n",
      "2012    12\n",
      "2004    12\n",
      "2011    12\n",
      "2010    12\n",
      "2009    12\n",
      "2008    12\n",
      "2007    12\n",
      "2006    12\n",
      "2005    12\n",
      "2021     8\n",
      "Name: Year, dtype: int64\n",
      "********************\n"
     ]
    },
    {
     "data": {
      "image/png": "[encoded data removed]",
      "text/plain": [
       "<Figure size 1080x360 with 1 Axes>"
      ]
     },
     "metadata": {
      "needs_background": "light"
     },
     "output_type": "display_data"
    }
   ],
   "source": [
    "# Seeing which car sold most\n",
    "plt.figure(figsize=(15,5))\n",
    "sns.countplot(x='Year' , data=merged_df)\n",
    "plt.title('types of the model')\n",
    "print('*'*20)\n",
    "print(merged_df.Year.value_counts())\n",
    "print('*'*20)\n",
    "plt.show()"
   ]
  },
  {
   "cell_type": "markdown",
   "id": "91376f90",
   "metadata": {},
   "source": [
    "## From above bar chart we can observe in our data set we have data from year january 2003 to August 2021"
   ]
  },
  {
   "cell_type": "code",
   "execution_count": null,
   "id": "795c24e5",
   "metadata": {},
   "outputs": [],
   "source": []
  },
  {
   "cell_type": "code",
   "execution_count": 24,
   "id": "b3777b90",
   "metadata": {},
   "outputs": [
    {
     "data": {
      "text/plain": [
       "Text(0.5, 1.0, 'price vs year')"
      ]
     },
     "execution_count": 24,
     "metadata": {},
     "output_type": "execute_result"
    },
    {
     "data": {
      "image/png": "[encoded data removed]",
      "text/plain": [
       "<Figure size 720x504 with 1 Axes>"
      ]
     },
     "metadata": {
      "needs_background": "light"
     },
     "output_type": "display_data"
    }
   ],
   "source": [
    "plt.figure(figsize=(10,7))\n",
    "sns.lineplot(x='Year' , y='price' , data=merged_df)\n",
    "plt.title('price vs year')"
   ]
  },
  {
   "cell_type": "markdown",
   "id": "0389d29b",
   "metadata": {},
   "source": [
    "## From above line chart we observe price of house was rising till 2007 after that we see sudden downfall in price till 2013 year after that price is continous rising."
   ]
  },
  {
   "cell_type": "code",
   "execution_count": null,
   "id": "46e8da6a",
   "metadata": {},
   "outputs": [],
   "source": []
  },
  {
   "cell_type": "code",
   "execution_count": 25,
   "id": "2c8d56ed",
   "metadata": {},
   "outputs": [
    {
     "data": {
      "text/plain": [
       "Index(['Unemployment_Rate', 'observation_date', 'producer_price_index', 'cpi',\n",
       "       'discount_interest_rates', 'monthly_supply_houses', 'Year', 'Month',\n",
       "       'price'],\n",
       "      dtype='object')"
      ]
     },
     "execution_count": 25,
     "metadata": {},
     "output_type": "execute_result"
    }
   ],
   "source": [
    "merged_df.columns"
   ]
  },
  {
   "cell_type": "code",
   "execution_count": 26,
   "id": "a8fae9e8",
   "metadata": {},
   "outputs": [
    {
     "data": {
      "text/plain": [
       "Text(0.5, 1.0, 'Unemployment_Rate vs year')"
      ]
     },
     "execution_count": 26,
     "metadata": {},
     "output_type": "execute_result"
    },
    {
     "data": {
      "image/png": "[encoded data removed]",
      "text/plain": [
       "<Figure size 720x504 with 1 Axes>"
      ]
     },
     "metadata": {
      "needs_background": "light"
     },
     "output_type": "display_data"
    }
   ],
   "source": [
    "plt.figure(figsize=(10,7))\n",
    "sns.lineplot(x='Year' , y='Unemployment_Rate' , data=merged_df)\n",
    "plt.title('Unemployment_Rate vs year')"
   ]
  },
  {
   "cell_type": "markdown",
   "id": "a2bef288",
   "metadata": {},
   "source": [
    "## The unemployment rate was low till 2007 and there is sudden increase in unemployment rate in year 2008 to 2011 then it is lowering till 2018 and sudden increase after year 2018."
   ]
  },
  {
   "cell_type": "code",
   "execution_count": null,
   "id": "eb41a9a6",
   "metadata": {},
   "outputs": [],
   "source": []
  },
  {
   "cell_type": "code",
   "execution_count": 27,
   "id": "b0dceb86",
   "metadata": {},
   "outputs": [
    {
     "data": {
      "text/plain": [
       "Text(0.5, 1.0, 'producer_price_index vs cpi')"
      ]
     },
     "execution_count": 27,
     "metadata": {},
     "output_type": "execute_result"
    },
    {
     "data": {
      "image/png": "[encoded data removed]",
      "text/plain": [
       "<Figure size 720x504 with 1 Axes>"
      ]
     },
     "metadata": {
      "needs_background": "light"
     },
     "output_type": "display_data"
    }
   ],
   "source": [
    "plt.figure(figsize=(10,7))\n",
    "sns.lineplot(x='producer_price_index' , y='cpi' , data=merged_df)\n",
    "plt.title('producer_price_index vs cpi')"
   ]
  },
  {
   "cell_type": "markdown",
   "id": "58bd6a04",
   "metadata": {},
   "source": [
    "## The graph shows that the PPI and CPI generally trend together, but there are some periods where they diverge. from 2008 to 2010, the PPI fell sharply, while the CPI remained relatively flat. This is because the PPI is more volatile than the CPI, as it is more sensitive to changes in input costs and demand."
   ]
  },
  {
   "cell_type": "code",
   "execution_count": null,
   "id": "88ed9c46",
   "metadata": {},
   "outputs": [],
   "source": []
  },
  {
   "cell_type": "code",
   "execution_count": 28,
   "id": "742fef8b",
   "metadata": {},
   "outputs": [
    {
     "data": {
      "text/plain": [
       "Index(['Unemployment_Rate', 'observation_date', 'producer_price_index', 'cpi',\n",
       "       'discount_interest_rates', 'monthly_supply_houses', 'Year', 'Month',\n",
       "       'price'],\n",
       "      dtype='object')"
      ]
     },
     "execution_count": 28,
     "metadata": {},
     "output_type": "execute_result"
    }
   ],
   "source": [
    "merged_df.columns"
   ]
  },
  {
   "cell_type": "code",
   "execution_count": 29,
   "id": "3d73c4a1",
   "metadata": {},
   "outputs": [
    {
     "data": {
      "text/plain": [
       "Text(0.5, 1.0, 'discount_interest_rates vs Year')"
      ]
     },
     "execution_count": 29,
     "metadata": {},
     "output_type": "execute_result"
    },
    {
     "data": {
      "image/png": "[encoded data removed]",
      "text/plain": [
       "<Figure size 720x504 with 1 Axes>"
      ]
     },
     "metadata": {
      "needs_background": "light"
     },
     "output_type": "display_data"
    }
   ],
   "source": [
    "plt.figure(figsize=(10,7))\n",
    "sns.lineplot(x='discount_interest_rates' , y='Year' , data=merged_df)\n",
    "plt.title('discount_interest_rates vs Year')\n"
   ]
  },
  {
   "cell_type": "markdown",
   "id": "08d75ff6",
   "metadata": {},
   "source": [
    "## The graph shows that the discount rate has been relatively stable over the past 10 years, averaging around 5%. However, there have been some periods of volatility. For example, the discount rate spiked to 7% in 2008 during the financial crisis. It then fell to 0% in 2009 and 2010 as the Fed tried to stimulate the economy. The discount rate has since risen to 4.25% as of December 2023"
   ]
  },
  {
   "cell_type": "code",
   "execution_count": null,
   "id": "85656cd4",
   "metadata": {},
   "outputs": [],
   "source": []
  },
  {
   "cell_type": "markdown",
   "id": "c79af079",
   "metadata": {},
   "source": [
    "# Plotting the heatmap to observe Co-relation"
   ]
  },
  {
   "cell_type": "code",
   "execution_count": 30,
   "id": "8c880cc5",
   "metadata": {},
   "outputs": [
    {
     "data": {
      "text/plain": [
       "(8, 8)"
      ]
     },
     "execution_count": 30,
     "metadata": {},
     "output_type": "execute_result"
    }
   ],
   "source": [
    "corr=merged_df.corr()\n",
    "corr.shape"
   ]
  },
  {
   "cell_type": "code",
   "execution_count": 31,
   "id": "72f186fa",
   "metadata": {},
   "outputs": [
    {
     "data": {
      "image/png": "[encoded data removed]",
      "text/plain": [
       "<Figure size 1440x1080 with 2 Axes>"
      ]
     },
     "metadata": {
      "needs_background": "light"
     },
     "output_type": "display_data"
    }
   ],
   "source": [
    "corr=merged_df.corr().abs()\n",
    "plt.figure(figsize=(20,15))\n",
    "sns.heatmap(corr,annot=True)\n",
    "plt.show()"
   ]
  },
  {
   "cell_type": "markdown",
   "id": "70fd1297",
   "metadata": {},
   "source": [
    "## In above Correlation plot we observe the is could me multi-colinearity exist as the 2 feature which are producer_price_index and year are highly co-related around 99%"
   ]
  },
  {
   "cell_type": "code",
   "execution_count": null,
   "id": "356eb1fc",
   "metadata": {},
   "outputs": [],
   "source": []
  },
  {
   "cell_type": "code",
   "execution_count": 32,
   "id": "67a2e1a9",
   "metadata": {},
   "outputs": [
    {
     "data": {
      "text/plain": [
       "Index(['Unemployment_Rate', 'observation_date', 'producer_price_index', 'cpi',\n",
       "       'discount_interest_rates', 'monthly_supply_houses', 'Year', 'Month',\n",
       "       'price'],\n",
       "      dtype='object')"
      ]
     },
     "execution_count": 32,
     "metadata": {},
     "output_type": "execute_result"
    }
   ],
   "source": [
    "merged_df.columns\n"
   ]
  },
  {
   "cell_type": "code",
   "execution_count": 33,
   "id": "775df39b",
   "metadata": {},
   "outputs": [
    {
     "data": {
      "image/png": "[encoded data removed]",
      "text/plain": [
       "<Figure size 432x288 with 1 Axes>"
      ]
     },
     "metadata": {
      "needs_background": "light"
     },
     "output_type": "display_data"
    }
   ],
   "source": [
    "plt.scatter(merged_df['producer_price_index'],merged_df['Year'])\n",
    "plt.xlabel('producer_price_index')\n",
    "plt.ylabel('Year')\n",
    "plt.title('producer_price_index vs Year')\n",
    "plt.show()"
   ]
  },
  {
   "cell_type": "markdown",
   "id": "d8e1f86f",
   "metadata": {},
   "source": [
    "# So from the above scatter plot we observe there is a trend and we are going to drop one column that contributes less to the label."
   ]
  },
  {
   "cell_type": "code",
   "execution_count": null,
   "id": "8c54c763",
   "metadata": {},
   "outputs": [],
   "source": []
  },
  {
   "cell_type": "code",
   "execution_count": null,
   "id": "24136eb3",
   "metadata": {},
   "outputs": [],
   "source": []
  },
  {
   "cell_type": "markdown",
   "id": "b8f3d331",
   "metadata": {},
   "source": [
    "# Plotting Histogram plot to see how data is distributed on an interval scale."
   ]
  },
  {
   "cell_type": "code",
   "execution_count": 34,
   "id": "a64e72ee",
   "metadata": {},
   "outputs": [
    {
     "data": {
      "image/png": "[encoded data removed]",
      "text/plain": [
       "<Figure size 1440x1080 with 9 Axes>"
      ]
     },
     "metadata": {},
     "output_type": "display_data"
    }
   ],
   "source": [
    "# now lets see how data is distributed for every column \n",
    "\n",
    "plt.figure(figsize=(20,15) , facecolor = 'yellow')\n",
    "plotnumber = 1\n",
    "\n",
    "for column in merged_df:\n",
    "    if plotnumber <= 9:\n",
    "        ax = plt.subplot(3,3,plotnumber)\n",
    "        sns.histplot (merged_df[column])\n",
    "        plt.xlabel(column , fontsize=10)\n",
    "        \n",
    "    plotnumber += 1\n",
    "plt.show()"
   ]
  },
  {
   "cell_type": "code",
   "execution_count": 35,
   "id": "f1e569af",
   "metadata": {},
   "outputs": [],
   "source": [
    "merged_df = merged_df.drop(['observation_date'], axis = 1)"
   ]
  },
  {
   "cell_type": "code",
   "execution_count": null,
   "id": "cd26ee5f",
   "metadata": {},
   "outputs": [],
   "source": []
  },
  {
   "cell_type": "markdown",
   "id": "58fb1fb5",
   "metadata": {},
   "source": [
    "# Plotting Distribution plot to see how data is distributed"
   ]
  },
  {
   "cell_type": "code",
   "execution_count": 36,
   "id": "d61706ea",
   "metadata": {},
   "outputs": [
    {
     "name": "stderr",
     "output_type": "stream",
     "text": [
      "C:\\Users\\Dipesh\\anaconda3\\lib\\site-packages\\seaborn\\distributions.py:2619: FutureWarning: `distplot` is a deprecated function and will be removed in a future version. Please adapt your code to use either `displot` (a figure-level function with similar flexibility) or `histplot` (an axes-level function for histograms).\n",
      "  warnings.warn(msg, FutureWarning)\n",
      "C:\\Users\\Dipesh\\anaconda3\\lib\\site-packages\\seaborn\\distributions.py:2619: FutureWarning: `distplot` is a deprecated function and will be removed in a future version. Please adapt your code to use either `displot` (a figure-level function with similar flexibility) or `histplot` (an axes-level function for histograms).\n",
      "  warnings.warn(msg, FutureWarning)\n",
      "C:\\Users\\Dipesh\\anaconda3\\lib\\site-packages\\seaborn\\distributions.py:2619: FutureWarning: `distplot` is a deprecated function and will be removed in a future version. Please adapt your code to use either `displot` (a figure-level function with similar flexibility) or `histplot` (an axes-level function for histograms).\n",
      "  warnings.warn(msg, FutureWarning)\n",
      "C:\\Users\\Dipesh\\anaconda3\\lib\\site-packages\\seaborn\\distributions.py:2619: FutureWarning: `distplot` is a deprecated function and will be removed in a future version. Please adapt your code to use either `displot` (a figure-level function with similar flexibility) or `histplot` (an axes-level function for histograms).\n",
      "  warnings.warn(msg, FutureWarning)\n",
      "C:\\Users\\Dipesh\\anaconda3\\lib\\site-packages\\seaborn\\distributions.py:2619: FutureWarning: `distplot` is a deprecated function and will be removed in a future version. Please adapt your code to use either `displot` (a figure-level function with similar flexibility) or `histplot` (an axes-level function for histograms).\n",
      "  warnings.warn(msg, FutureWarning)\n",
      "C:\\Users\\Dipesh\\anaconda3\\lib\\site-packages\\seaborn\\distributions.py:2619: FutureWarning: `distplot` is a deprecated function and will be removed in a future version. Please adapt your code to use either `displot` (a figure-level function with similar flexibility) or `histplot` (an axes-level function for histograms).\n",
      "  warnings.warn(msg, FutureWarning)\n",
      "C:\\Users\\Dipesh\\anaconda3\\lib\\site-packages\\seaborn\\distributions.py:2619: FutureWarning: `distplot` is a deprecated function and will be removed in a future version. Please adapt your code to use either `displot` (a figure-level function with similar flexibility) or `histplot` (an axes-level function for histograms).\n",
      "  warnings.warn(msg, FutureWarning)\n",
      "C:\\Users\\Dipesh\\anaconda3\\lib\\site-packages\\seaborn\\distributions.py:316: UserWarning: Dataset has 0 variance; skipping density estimate. Pass `warn_singular=False` to disable this warning.\n",
      "  warnings.warn(msg, UserWarning)\n",
      "C:\\Users\\Dipesh\\anaconda3\\lib\\site-packages\\seaborn\\distributions.py:2619: FutureWarning: `distplot` is a deprecated function and will be removed in a future version. Please adapt your code to use either `displot` (a figure-level function with similar flexibility) or `histplot` (an axes-level function for histograms).\n",
      "  warnings.warn(msg, FutureWarning)\n"
     ]
    },
    {
     "data": {
      "image/png": "[encoded data removed]",
      "text/plain": [
       "<Figure size 1440x1080 with 8 Axes>"
      ]
     },
     "metadata": {},
     "output_type": "display_data"
    }
   ],
   "source": [
    "# now lets see how data is distributed for every column \n",
    "\n",
    "plt.figure(figsize=(20,15) , facecolor = 'yellow')\n",
    "plotnumber = 1\n",
    "\n",
    "for column in merged_df:\n",
    "    if plotnumber <= 9:\n",
    "        ax = plt.subplot(3,3,plotnumber)\n",
    "        sns.distplot (merged_df[column])\n",
    "        plt.xlabel(column , fontsize=10)\n",
    "        \n",
    "    plotnumber += 1\n",
    "plt.show()"
   ]
  },
  {
   "cell_type": "markdown",
   "id": "52a2fbd5",
   "metadata": {},
   "source": [
    "## From above distribution graph we observe there is skewness in the data"
   ]
  },
  {
   "cell_type": "code",
   "execution_count": null,
   "id": "cfddba19",
   "metadata": {},
   "outputs": [],
   "source": []
  },
  {
   "cell_type": "code",
   "execution_count": null,
   "id": "2014c799",
   "metadata": {},
   "outputs": [],
   "source": []
  },
  {
   "cell_type": "markdown",
   "id": "c9343362",
   "metadata": {},
   "source": [
    "## Seperating Feature and Label"
   ]
  },
  {
   "cell_type": "code",
   "execution_count": 37,
   "id": "6b4e7ef4",
   "metadata": {},
   "outputs": [],
   "source": [
    "X = merged_df.drop(['price'],axis = 1)\n",
    "y = merged_df['price']"
   ]
  },
  {
   "cell_type": "code",
   "execution_count": null,
   "id": "37240908",
   "metadata": {},
   "outputs": [],
   "source": []
  },
  {
   "cell_type": "markdown",
   "id": "750438bf",
   "metadata": {},
   "source": [
    "# Plotting Scatter plot to see realtion between feature and label"
   ]
  },
  {
   "cell_type": "code",
   "execution_count": 38,
   "id": "6dc6bed3",
   "metadata": {},
   "outputs": [
    {
     "data": {
      "image/png": "[encoded data removed]",
      "text/plain": [
       "<Figure size 1440x1080 with 7 Axes>"
      ]
     },
     "metadata": {},
     "output_type": "display_data"
    }
   ],
   "source": [
    "# so find relationship between feature(X) and label(y) by visulization using scatter plot\n",
    "\n",
    "plt.figure(figsize = (20,15) , facecolor = 'red')\n",
    "plotnumber = 1\n",
    "\n",
    "for column in X:   #here feature is new X so X\n",
    "    if plotnumber <= 9:\n",
    "        ax = plt.subplot(3,3,plotnumber)\n",
    "        plt.scatter(X[column] , y)\n",
    "        plt.xlabel(column , fontsize = 10)\n",
    "        plt.ylabel('W' , fontsize = 10)\n",
    "    plotnumber += 1\n",
    "plt.show()"
   ]
  },
  {
   "cell_type": "code",
   "execution_count": null,
   "id": "f893369c",
   "metadata": {},
   "outputs": [],
   "source": []
  },
  {
   "cell_type": "markdown",
   "id": "c7ca95b8",
   "metadata": {},
   "source": [
    "# Plotting Regression plot to see realtion between feature and label"
   ]
  },
  {
   "cell_type": "code",
   "execution_count": 39,
   "id": "940ff9d8",
   "metadata": {},
   "outputs": [
    {
     "name": "stderr",
     "output_type": "stream",
     "text": [
      "C:\\Users\\Dipesh\\anaconda3\\lib\\site-packages\\seaborn\\_decorators.py:36: FutureWarning: Pass the following variables as keyword args: x, y. From version 0.12, the only valid positional argument will be `data`, and passing other arguments without an explicit keyword will result in an error or misinterpretation.\n",
      "  warnings.warn(\n",
      "C:\\Users\\Dipesh\\anaconda3\\lib\\site-packages\\seaborn\\_decorators.py:36: FutureWarning: Pass the following variables as keyword args: x, y. From version 0.12, the only valid positional argument will be `data`, and passing other arguments without an explicit keyword will result in an error or misinterpretation.\n",
      "  warnings.warn(\n",
      "C:\\Users\\Dipesh\\anaconda3\\lib\\site-packages\\seaborn\\_decorators.py:36: FutureWarning: Pass the following variables as keyword args: x, y. From version 0.12, the only valid positional argument will be `data`, and passing other arguments without an explicit keyword will result in an error or misinterpretation.\n",
      "  warnings.warn(\n",
      "C:\\Users\\Dipesh\\anaconda3\\lib\\site-packages\\seaborn\\_decorators.py:36: FutureWarning: Pass the following variables as keyword args: x, y. From version 0.12, the only valid positional argument will be `data`, and passing other arguments without an explicit keyword will result in an error or misinterpretation.\n",
      "  warnings.warn(\n",
      "C:\\Users\\Dipesh\\anaconda3\\lib\\site-packages\\seaborn\\_decorators.py:36: FutureWarning: Pass the following variables as keyword args: x, y. From version 0.12, the only valid positional argument will be `data`, and passing other arguments without an explicit keyword will result in an error or misinterpretation.\n",
      "  warnings.warn(\n",
      "C:\\Users\\Dipesh\\anaconda3\\lib\\site-packages\\seaborn\\_decorators.py:36: FutureWarning: Pass the following variables as keyword args: x, y. From version 0.12, the only valid positional argument will be `data`, and passing other arguments without an explicit keyword will result in an error or misinterpretation.\n",
      "  warnings.warn(\n",
      "C:\\Users\\Dipesh\\anaconda3\\lib\\site-packages\\seaborn\\_decorators.py:36: FutureWarning: Pass the following variables as keyword args: x, y. From version 0.12, the only valid positional argument will be `data`, and passing other arguments without an explicit keyword will result in an error or misinterpretation.\n",
      "  warnings.warn(\n"
     ]
    },
    {
     "data": {
      "image/png": "[encoded data removed]",
      "text/plain": [
       "<Figure size 1440x1080 with 7 Axes>"
      ]
     },
     "metadata": {},
     "output_type": "display_data"
    }
   ],
   "source": [
    "# now lets see how data is distributed for every column \n",
    "\n",
    "plt.figure(figsize=(20,15) , facecolor = 'yellow')\n",
    "plotnumber = 1\n",
    "\n",
    "for column in X:\n",
    "    if plotnumber <= 9:\n",
    "        ax = plt.subplot(3,3,plotnumber)\n",
    "        sns.regplot (X[column],y)\n",
    "        plt.xlabel(column , fontsize=10)\n",
    "        \n",
    "    plotnumber += 1\n",
    "plt.show()"
   ]
  },
  {
   "cell_type": "markdown",
   "id": "cb644af5",
   "metadata": {},
   "source": [
    "## From above graph we observe there is positve co-relation between ppi,cpi,year discount intrest rate WRT Price"
   ]
  },
  {
   "cell_type": "code",
   "execution_count": null,
   "id": "a1bdb5d1",
   "metadata": {},
   "outputs": [],
   "source": []
  },
  {
   "cell_type": "code",
   "execution_count": null,
   "id": "249a6d7a",
   "metadata": {},
   "outputs": [],
   "source": []
  },
  {
   "cell_type": "markdown",
   "id": "f1a25b74",
   "metadata": {},
   "source": [
    "## Scaling the data"
   ]
  },
  {
   "cell_type": "code",
   "execution_count": 42,
   "id": "92d207f6",
   "metadata": {},
   "outputs": [],
   "source": [
    "#scale our data using standard sclar\n",
    "from sklearn.preprocessing import StandardScaler\n",
    "scalar = StandardScaler()\n",
    "X_scaled=scalar.fit_transform(X)"
   ]
  },
  {
   "cell_type": "code",
   "execution_count": null,
   "id": "cf1fdc68",
   "metadata": {},
   "outputs": [],
   "source": []
  },
  {
   "cell_type": "markdown",
   "id": "dc9db314",
   "metadata": {},
   "source": [
    "## Checking for the multicollinearity Using VIF "
   ]
  },
  {
   "cell_type": "code",
   "execution_count": 43,
   "id": "b7e8fe9a",
   "metadata": {},
   "outputs": [
    {
     "name": "stderr",
     "output_type": "stream",
     "text": [
      "C:\\Users\\Dipesh\\anaconda3\\lib\\site-packages\\statsmodels\\regression\\linear_model.py:1717: RuntimeWarning: invalid value encountered in double_scalars\n",
      "  return 1 - self.ssr/self.uncentered_tss\n"
     ]
    },
    {
     "data": {
      "text/html": [
       "<div>\n",
       "<style scoped>\n",
       "    .dataframe tbody tr th:only-of-type {\n",
       "        vertical-align: middle;\n",
       "    }\n",
       "\n",
       "    .dataframe tbody tr th {\n",
       "        vertical-align: top;\n",
       "    }\n",
       "\n",
       "    .dataframe thead th {\n",
       "        text-align: right;\n",
       "    }\n",
       "</style>\n",
       "<table border=\"1\" class=\"dataframe\">\n",
       "  <thead>\n",
       "    <tr style=\"text-align: right;\">\n",
       "      <th></th>\n",
       "      <th>vif</th>\n",
       "      <th>features</th>\n",
       "    </tr>\n",
       "  </thead>\n",
       "  <tbody>\n",
       "    <tr>\n",
       "      <th>0</th>\n",
       "      <td>3.027612</td>\n",
       "      <td>Unemployment_Rate</td>\n",
       "    </tr>\n",
       "    <tr>\n",
       "      <th>1</th>\n",
       "      <td>135.818422</td>\n",
       "      <td>producer_price_index</td>\n",
       "    </tr>\n",
       "    <tr>\n",
       "      <th>2</th>\n",
       "      <td>2.068819</td>\n",
       "      <td>cpi</td>\n",
       "    </tr>\n",
       "    <tr>\n",
       "      <th>3</th>\n",
       "      <td>2.783697</td>\n",
       "      <td>discount_interest_rates</td>\n",
       "    </tr>\n",
       "    <tr>\n",
       "      <th>4</th>\n",
       "      <td>2.328039</td>\n",
       "      <td>monthly_supply_houses</td>\n",
       "    </tr>\n",
       "    <tr>\n",
       "      <th>5</th>\n",
       "      <td>143.586722</td>\n",
       "      <td>Year</td>\n",
       "    </tr>\n",
       "    <tr>\n",
       "      <th>6</th>\n",
       "      <td>NaN</td>\n",
       "      <td>Month</td>\n",
       "    </tr>\n",
       "  </tbody>\n",
       "</table>\n",
       "</div>"
      ],
      "text/plain": [
       "          vif                 features\n",
       "0    3.027612        Unemployment_Rate\n",
       "1  135.818422     producer_price_index\n",
       "2    2.068819                      cpi\n",
       "3    2.783697  discount_interest_rates\n",
       "4    2.328039    monthly_supply_houses\n",
       "5  143.586722                     Year\n",
       "6         NaN                    Month"
      ]
     },
     "execution_count": 43,
     "metadata": {},
     "output_type": "execute_result"
    }
   ],
   "source": [
    "# now we check for multicolinearity using VIF\n",
    "from statsmodels.stats.outliers_influence import variance_inflation_factor\n",
    "vif=pd.DataFrame()  #creating empty dataframe\n",
    "\n",
    "vif['vif']=[variance_inflation_factor(X_scaled , i) for i in range(X_scaled.shape[1])]  \n",
    "\n",
    "\n",
    "# for above code first it will execute for statement and shape[1] give all columns and store in i then it will pass to vif \n",
    "##  in that we already have X_scaled so it will compare feature vs feature\n",
    "\n",
    "vif['features']=X.columns  # seperate column for column features\n",
    "\n",
    "vif"
   ]
  },
  {
   "cell_type": "markdown",
   "id": "7790b695",
   "metadata": {},
   "source": [
    "## Dropping Year and month as there is VIF exist"
   ]
  },
  {
   "cell_type": "code",
   "execution_count": null,
   "id": "66c6ece9",
   "metadata": {},
   "outputs": [],
   "source": []
  },
  {
   "cell_type": "code",
   "execution_count": 44,
   "id": "ee76b556",
   "metadata": {},
   "outputs": [],
   "source": [
    "X=X.drop(['Year','Month'],axis=1)"
   ]
  },
  {
   "cell_type": "code",
   "execution_count": 45,
   "id": "c3440407",
   "metadata": {},
   "outputs": [
    {
     "data": {
      "text/html": [
       "<div>\n",
       "<style scoped>\n",
       "    .dataframe tbody tr th:only-of-type {\n",
       "        vertical-align: middle;\n",
       "    }\n",
       "\n",
       "    .dataframe tbody tr th {\n",
       "        vertical-align: top;\n",
       "    }\n",
       "\n",
       "    .dataframe thead th {\n",
       "        text-align: right;\n",
       "    }\n",
       "</style>\n",
       "<table border=\"1\" class=\"dataframe\">\n",
       "  <thead>\n",
       "    <tr style=\"text-align: right;\">\n",
       "      <th></th>\n",
       "      <th>Unemployment_Rate</th>\n",
       "      <th>producer_price_index</th>\n",
       "      <th>cpi</th>\n",
       "      <th>discount_interest_rates</th>\n",
       "      <th>monthly_supply_houses</th>\n",
       "    </tr>\n",
       "  </thead>\n",
       "  <tbody>\n",
       "    <tr>\n",
       "      <th>0</th>\n",
       "      <td>5.8</td>\n",
       "      <td>174.600</td>\n",
       "      <td>2.787553</td>\n",
       "      <td>2.25</td>\n",
       "      <td>4.0</td>\n",
       "    </tr>\n",
       "    <tr>\n",
       "      <th>1</th>\n",
       "      <td>5.9</td>\n",
       "      <td>175.200</td>\n",
       "      <td>2.704659</td>\n",
       "      <td>2.25</td>\n",
       "      <td>4.5</td>\n",
       "    </tr>\n",
       "    <tr>\n",
       "      <th>2</th>\n",
       "      <td>5.9</td>\n",
       "      <td>175.500</td>\n",
       "      <td>2.627787</td>\n",
       "      <td>2.25</td>\n",
       "      <td>4.1</td>\n",
       "    </tr>\n",
       "    <tr>\n",
       "      <th>3</th>\n",
       "      <td>6.0</td>\n",
       "      <td>175.800</td>\n",
       "      <td>2.459349</td>\n",
       "      <td>2.25</td>\n",
       "      <td>4.1</td>\n",
       "    </tr>\n",
       "    <tr>\n",
       "      <th>4</th>\n",
       "      <td>6.1</td>\n",
       "      <td>176.300</td>\n",
       "      <td>2.348341</td>\n",
       "      <td>2.25</td>\n",
       "      <td>3.9</td>\n",
       "    </tr>\n",
       "    <tr>\n",
       "      <th>...</th>\n",
       "      <td>...</td>\n",
       "      <td>...</td>\n",
       "      <td>...</td>\n",
       "      <td>...</td>\n",
       "      <td>...</td>\n",
       "    </tr>\n",
       "    <tr>\n",
       "      <th>219</th>\n",
       "      <td>6.1</td>\n",
       "      <td>373.500</td>\n",
       "      <td>2.262331</td>\n",
       "      <td>0.25</td>\n",
       "      <td>4.7</td>\n",
       "    </tr>\n",
       "    <tr>\n",
       "      <th>220</th>\n",
       "      <td>5.8</td>\n",
       "      <td>376.900</td>\n",
       "      <td>2.623164</td>\n",
       "      <td>0.25</td>\n",
       "      <td>5.6</td>\n",
       "    </tr>\n",
       "    <tr>\n",
       "      <th>221</th>\n",
       "      <td>5.9</td>\n",
       "      <td>378.200</td>\n",
       "      <td>2.588579</td>\n",
       "      <td>0.25</td>\n",
       "      <td>5.8</td>\n",
       "    </tr>\n",
       "    <tr>\n",
       "      <th>222</th>\n",
       "      <td>5.4</td>\n",
       "      <td>379.467</td>\n",
       "      <td>2.315464</td>\n",
       "      <td>0.25</td>\n",
       "      <td>5.7</td>\n",
       "    </tr>\n",
       "    <tr>\n",
       "      <th>223</th>\n",
       "      <td>5.2</td>\n",
       "      <td>380.833</td>\n",
       "      <td>2.343064</td>\n",
       "      <td>0.25</td>\n",
       "      <td>6.5</td>\n",
       "    </tr>\n",
       "  </tbody>\n",
       "</table>\n",
       "<p>224 rows × 5 columns</p>\n",
       "</div>"
      ],
      "text/plain": [
       "     Unemployment_Rate  producer_price_index       cpi  \\\n",
       "0                  5.8               174.600  2.787553   \n",
       "1                  5.9               175.200  2.704659   \n",
       "2                  5.9               175.500  2.627787   \n",
       "3                  6.0               175.800  2.459349   \n",
       "4                  6.1               176.300  2.348341   \n",
       "..                 ...                   ...       ...   \n",
       "219                6.1               373.500  2.262331   \n",
       "220                5.8               376.900  2.623164   \n",
       "221                5.9               378.200  2.588579   \n",
       "222                5.4               379.467  2.315464   \n",
       "223                5.2               380.833  2.343064   \n",
       "\n",
       "     discount_interest_rates  monthly_supply_houses  \n",
       "0                       2.25                    4.0  \n",
       "1                       2.25                    4.5  \n",
       "2                       2.25                    4.1  \n",
       "3                       2.25                    4.1  \n",
       "4                       2.25                    3.9  \n",
       "..                       ...                    ...  \n",
       "219                     0.25                    4.7  \n",
       "220                     0.25                    5.6  \n",
       "221                     0.25                    5.8  \n",
       "222                     0.25                    5.7  \n",
       "223                     0.25                    6.5  \n",
       "\n",
       "[224 rows x 5 columns]"
      ]
     },
     "execution_count": 45,
     "metadata": {},
     "output_type": "execute_result"
    }
   ],
   "source": [
    "X"
   ]
  },
  {
   "cell_type": "code",
   "execution_count": 46,
   "id": "79cde4b1",
   "metadata": {},
   "outputs": [
    {
     "data": {
      "text/plain": [
       "0      128.461\n",
       "1      129.355\n",
       "2      130.148\n",
       "3      130.884\n",
       "4      131.735\n",
       "        ...   \n",
       "219    249.070\n",
       "220    253.407\n",
       "221    258.358\n",
       "222    262.820\n",
       "223    266.845\n",
       "Name: price, Length: 224, dtype: float64"
      ]
     },
     "execution_count": 46,
     "metadata": {},
     "output_type": "execute_result"
    }
   ],
   "source": [
    "y"
   ]
  },
  {
   "cell_type": "code",
   "execution_count": null,
   "id": "5dec74af",
   "metadata": {},
   "outputs": [],
   "source": []
  },
  {
   "cell_type": "markdown",
   "id": "36fb5176",
   "metadata": {},
   "source": [
    "## Finding correlation between feature n lable using CORR method¶"
   ]
  },
  {
   "cell_type": "code",
   "execution_count": 47,
   "id": "c1f4f17a",
   "metadata": {},
   "outputs": [
    {
     "data": {
      "text/plain": [
       "Unemployment_Rate         -0.448526\n",
       "producer_price_index       0.707042\n",
       "cpi                        0.337471\n",
       "discount_interest_rates    0.121913\n",
       "monthly_supply_houses     -0.099524\n",
       "Year                       0.694197\n",
       "Month                           NaN\n",
       "dtype: float64"
      ]
     },
     "execution_count": 47,
     "metadata": {},
     "output_type": "execute_result"
    }
   ],
   "source": [
    "#  (code type      --   feature corrwith label)\n",
    "\n",
    "merged_df.drop('price' , axis =1 ).corrwith (merged_df.price)"
   ]
  },
  {
   "cell_type": "code",
   "execution_count": 48,
   "id": "9db68aba",
   "metadata": {},
   "outputs": [
    {
     "data": {
      "image/png": "[encoded data removed]",
      "text/plain": [
       "<Figure size 720x504 with 1 Axes>"
      ]
     },
     "metadata": {
      "needs_background": "light"
     },
     "output_type": "display_data"
    }
   ],
   "source": [
    "# convert above numbers into graph for better understanding\n",
    "merged_df.drop('price' , axis = 1).corrwith (merged_df.price).plot(kind = 'bar' , grid=True , figsize = (10,7) , title = 'correlation with target')\n",
    "\n",
    "plt.show()"
   ]
  },
  {
   "cell_type": "code",
   "execution_count": null,
   "id": "94aee96a",
   "metadata": {},
   "outputs": [],
   "source": []
  },
  {
   "cell_type": "code",
   "execution_count": null,
   "id": "f3624ab4",
   "metadata": {},
   "outputs": [],
   "source": []
  },
  {
   "cell_type": "markdown",
   "id": "9675a21c",
   "metadata": {},
   "source": [
    "# GradientBoostingRegressor Model"
   ]
  },
  {
   "cell_type": "code",
   "execution_count": 49,
   "id": "5ebeb5ec",
   "metadata": {},
   "outputs": [],
   "source": [
    "# import library\n",
    "\n",
    "import pandas as pd \n",
    "import numpy as np\n",
    "import matplotlib.pyplot as plt\n",
    "import seaborn as sns\n",
    "from sklearn.model_selection import train_test_split\n",
    "from sklearn.feature_selection import SelectPercentile , chi2\n",
    "from sklearn.preprocessing import StandardScaler\n",
    "from sklearn.ensemble import GradientBoostingRegressor\n"
   ]
  },
  {
   "cell_type": "code",
   "execution_count": 50,
   "id": "3ba0ccfa",
   "metadata": {
    "scrolled": true
   },
   "outputs": [
    {
     "name": "stdout",
     "output_type": "stream",
     "text": [
      "Training Score 99.95683458255515 RandomState 0\n",
      "Testing Score 99.54653855045706 RandomState 0\n",
      "\n",
      "\n",
      "MAXINING TESTING SCORE 99.54653855045706 ON RANDOM STATE OF 0\n",
      "Training Score 99.96760488911083 RandomState 1\n",
      "Testing Score 99.09102317808617 RandomState 1\n",
      "\n",
      "\n",
      "Training Score 99.95143237240815 RandomState 2\n",
      "Testing Score 99.21532239617365 RandomState 2\n",
      "\n",
      "\n",
      "Training Score 99.95479105890365 RandomState 3\n",
      "Testing Score 99.09545080307171 RandomState 3\n",
      "\n",
      "\n",
      "Training Score 99.93469434452658 RandomState 4\n",
      "Testing Score 99.5930372117399 RandomState 4\n",
      "\n",
      "\n",
      "MAXINING TESTING SCORE 99.5930372117399 ON RANDOM STATE OF 4\n",
      "Training Score 99.96200286088546 RandomState 5\n",
      "Testing Score 99.09174802406582 RandomState 5\n",
      "\n",
      "\n",
      "Training Score 99.96786188058515 RandomState 6\n",
      "Testing Score 99.31945501375725 RandomState 6\n",
      "\n",
      "\n",
      "Training Score 99.95147763614628 RandomState 7\n",
      "Testing Score 99.34406310256745 RandomState 7\n",
      "\n",
      "\n",
      "Training Score 99.95134860306742 RandomState 8\n",
      "Testing Score 98.67199380669722 RandomState 8\n",
      "\n",
      "\n",
      "Training Score 99.94598633885211 RandomState 9\n",
      "Testing Score 99.45539959691926 RandomState 9\n",
      "\n",
      "\n",
      "Training Score 99.94706521186755 RandomState 10\n",
      "Testing Score 99.15408561039493 RandomState 10\n",
      "\n",
      "\n",
      "Training Score 99.96419157357973 RandomState 11\n",
      "Testing Score 98.81413347767906 RandomState 11\n",
      "\n",
      "\n",
      "Training Score 99.94967687157273 RandomState 12\n",
      "Testing Score 99.38730817491425 RandomState 12\n",
      "\n",
      "\n",
      "Training Score 99.9551110291448 RandomState 13\n",
      "Testing Score 99.0788174474514 RandomState 13\n",
      "\n",
      "\n",
      "Training Score 99.95035331209978 RandomState 14\n",
      "Testing Score 99.43838434123845 RandomState 14\n",
      "\n",
      "\n",
      "Training Score 99.9618104129529 RandomState 15\n",
      "Testing Score 99.6836632607937 RandomState 15\n",
      "\n",
      "\n",
      "MAXINING TESTING SCORE 99.6836632607937 ON RANDOM STATE OF 15\n",
      "Training Score 99.95291307853374 RandomState 16\n",
      "Testing Score 99.18412191525195 RandomState 16\n",
      "\n",
      "\n",
      "Training Score 99.94901298599956 RandomState 17\n",
      "Testing Score 99.56130622057402 RandomState 17\n",
      "\n",
      "\n",
      "Training Score 99.96524651699744 RandomState 18\n",
      "Testing Score 99.3759879211667 RandomState 18\n",
      "\n",
      "\n",
      "Training Score 99.9351027411342 RandomState 19\n",
      "Testing Score 99.56729969329672 RandomState 19\n",
      "\n",
      "\n",
      "Training Score 99.95702868792672 RandomState 20\n",
      "Testing Score 99.51561117159713 RandomState 20\n",
      "\n",
      "\n",
      "Training Score 99.95436062470662 RandomState 21\n",
      "Testing Score 99.30475016913252 RandomState 21\n",
      "\n",
      "\n",
      "Training Score 99.95510309995723 RandomState 22\n",
      "Testing Score 99.39396644281267 RandomState 22\n",
      "\n",
      "\n",
      "Training Score 99.96023768441091 RandomState 23\n",
      "Testing Score 99.07493610982597 RandomState 23\n",
      "\n",
      "\n",
      "Training Score 99.95116244727676 RandomState 24\n",
      "Testing Score 98.49828818493985 RandomState 24\n",
      "\n",
      "\n",
      "Training Score 99.94765925739725 RandomState 25\n",
      "Testing Score 99.35734246974863 RandomState 25\n",
      "\n",
      "\n",
      "Training Score 99.96492511142898 RandomState 26\n",
      "Testing Score 99.19917475203286 RandomState 26\n",
      "\n",
      "\n",
      "Training Score 99.96267141423483 RandomState 27\n",
      "Testing Score 99.45753289449624 RandomState 27\n",
      "\n",
      "\n",
      "Training Score 99.94984929612916 RandomState 28\n",
      "Testing Score 99.18101744348601 RandomState 28\n",
      "\n",
      "\n",
      "Training Score 99.94294027192358 RandomState 29\n",
      "Testing Score 99.3273767071865 RandomState 29\n",
      "\n",
      "\n",
      "Training Score 99.94941864322763 RandomState 30\n",
      "Testing Score 99.55616120366689 RandomState 30\n",
      "\n",
      "\n",
      "Training Score 99.95506195004037 RandomState 31\n",
      "Testing Score 99.47465116915821 RandomState 31\n",
      "\n",
      "\n",
      "Training Score 99.95022952037978 RandomState 32\n",
      "Testing Score 99.2888446183835 RandomState 32\n",
      "\n",
      "\n",
      "Training Score 99.95949706150854 RandomState 33\n",
      "Testing Score 99.54294279976733 RandomState 33\n",
      "\n",
      "\n",
      "Training Score 99.95549024309092 RandomState 34\n",
      "Testing Score 99.13986658221519 RandomState 34\n",
      "\n",
      "\n",
      "Training Score 99.95897792084145 RandomState 35\n",
      "Testing Score 99.00357865601494 RandomState 35\n",
      "\n",
      "\n",
      "Training Score 99.95213450678884 RandomState 36\n",
      "Testing Score 99.4425991131409 RandomState 36\n",
      "\n",
      "\n",
      "Training Score 99.9472308717108 RandomState 37\n",
      "Testing Score 99.61211030257495 RandomState 37\n",
      "\n",
      "\n",
      "Training Score 99.96095161971334 RandomState 38\n",
      "Testing Score 99.46962050149243 RandomState 38\n",
      "\n",
      "\n",
      "Training Score 99.94703992193024 RandomState 39\n",
      "Testing Score 99.40862501590479 RandomState 39\n",
      "\n",
      "\n",
      "Training Score 99.94539813431956 RandomState 40\n",
      "Testing Score 99.612429076689 RandomState 40\n",
      "\n",
      "\n",
      "Training Score 99.95639982573059 RandomState 41\n",
      "Testing Score 99.30119649853064 RandomState 41\n",
      "\n",
      "\n",
      "Training Score 99.95582754075045 RandomState 42\n",
      "Testing Score 98.47682394030862 RandomState 42\n",
      "\n",
      "\n",
      "Training Score 99.95383294589895 RandomState 43\n",
      "Testing Score 98.97891892385739 RandomState 43\n",
      "\n",
      "\n",
      "Training Score 99.94627401318522 RandomState 44\n",
      "Testing Score 99.63615398951174 RandomState 44\n",
      "\n",
      "\n",
      "Training Score 99.95328463324759 RandomState 45\n",
      "Testing Score 99.16782230971674 RandomState 45\n",
      "\n",
      "\n",
      "Training Score 99.95950827032868 RandomState 46\n",
      "Testing Score 99.43585953063165 RandomState 46\n",
      "\n",
      "\n",
      "Training Score 99.9541792675914 RandomState 47\n",
      "Testing Score 99.49133427161959 RandomState 47\n",
      "\n",
      "\n",
      "Training Score 99.95446206000962 RandomState 48\n",
      "Testing Score 99.45025915984547 RandomState 48\n",
      "\n",
      "\n",
      "Training Score 99.94838738505915 RandomState 49\n",
      "Testing Score 99.35501005649081 RandomState 49\n",
      "\n",
      "\n"
     ]
    }
   ],
   "source": [
    "#Best Random State\n",
    "MaxAccu=0\n",
    "MaxRS=0\n",
    "\n",
    "for i in range (0,50):\n",
    "    X_train,X_test,y_train,y_test=train_test_split(X_scaled,y,test_size=0.25,random_state=i)\n",
    "    gbdt=GradientBoostingRegressor()\n",
    "    gbdt.fit(X_train,y_train)\n",
    "    \n",
    "    pred=gbdt.predict(X_train)\n",
    "    training=gbdt.score(X_train,y_train)\n",
    "    print ('Training Score' , training*100 , 'RandomState' ,i)\n",
    "    \n",
    "    y_pred=gbdt.predict(X_test)\n",
    "    testing=gbdt.score(X_test,y_test)\n",
    "    print ('Testing Score' , testing*100 , 'RandomState' ,i)\n",
    "    print('\\n')\n",
    "    \n",
    "    \n",
    "    if testing>MaxAccu:\n",
    "        MaxAccu=testing\n",
    "        MaxRS=i\n",
    "        print('MAXINING TESTING SCORE' , MaxAccu*100 , 'ON RANDOM STATE OF' , i)"
   ]
  },
  {
   "cell_type": "code",
   "execution_count": 51,
   "id": "f3657ee5",
   "metadata": {},
   "outputs": [
    {
     "name": "stdout",
     "output_type": "stream",
     "text": [
      "MAXINING TESTING SCORE 99.6836632607937 ON RANDOM STATE OF 15\n"
     ]
    }
   ],
   "source": [
    "print('MAXINING TESTING SCORE' , MaxAccu*100 , 'ON RANDOM STATE OF' , MaxRS)"
   ]
  },
  {
   "cell_type": "code",
   "execution_count": 52,
   "id": "e3f9cbf2",
   "metadata": {},
   "outputs": [],
   "source": [
    "#splliting our data into train test split and randomstate 15\n",
    "X_train,X_test,y_train,y_test=train_test_split(X_scaled,y,test_size=0.25,random_state=15)"
   ]
  },
  {
   "cell_type": "code",
   "execution_count": 53,
   "id": "66eba152",
   "metadata": {},
   "outputs": [
    {
     "data": {
      "text/html": [
       "<style>#sk-container-id-1 {color: black;background-color: white;}#sk-container-id-1 pre{padding: 0;}#sk-container-id-1 div.sk-toggleable {background-color: white;}#sk-container-id-1 label.sk-toggleable__label {cursor: pointer;display: block;width: 100%;margin-bottom: 0;padding: 0.3em;box-sizing: border-box;text-align: center;}#sk-container-id-1 label.sk-toggleable__label-arrow:before {content: \"▸\";float: left;margin-right: 0.25em;color: #696969;}#sk-container-id-1 label.sk-toggleable__label-arrow:hover:before {color: black;}#sk-container-id-1 div.sk-estimator:hover label.sk-toggleable__label-arrow:before {color: black;}#sk-container-id-1 div.sk-toggleable__content {max-height: 0;max-width: 0;overflow: hidden;text-align: left;background-color: #f0f8ff;}#sk-container-id-1 div.sk-toggleable__content pre {margin: 0.2em;color: black;border-radius: 0.25em;background-color: #f0f8ff;}#sk-container-id-1 input.sk-toggleable__control:checked~div.sk-toggleable__content {max-height: 200px;max-width: 100%;overflow: auto;}#sk-container-id-1 input.sk-toggleable__control:checked~label.sk-toggleable__label-arrow:before {content: \"▾\";}#sk-container-id-1 div.sk-estimator input.sk-toggleable__control:checked~label.sk-toggleable__label {background-color: #d4ebff;}#sk-container-id-1 div.sk-label input.sk-toggleable__control:checked~label.sk-toggleable__label {background-color: #d4ebff;}#sk-container-id-1 input.sk-hidden--visually {border: 0;clip: rect(1px 1px 1px 1px);clip: rect(1px, 1px, 1px, 1px);height: 1px;margin: -1px;overflow: hidden;padding: 0;position: absolute;width: 1px;}#sk-container-id-1 div.sk-estimator {font-family: monospace;background-color: #f0f8ff;border: 1px dotted black;border-radius: 0.25em;box-sizing: border-box;margin-bottom: 0.5em;}#sk-container-id-1 div.sk-estimator:hover {background-color: #d4ebff;}#sk-container-id-1 div.sk-parallel-item::after {content: \"\";width: 100%;border-bottom: 1px solid gray;flex-grow: 1;}#sk-container-id-1 div.sk-label:hover label.sk-toggleable__label {background-color: #d4ebff;}#sk-container-id-1 div.sk-serial::before {content: \"\";position: absolute;border-left: 1px solid gray;box-sizing: border-box;top: 0;bottom: 0;left: 50%;z-index: 0;}#sk-container-id-1 div.sk-serial {display: flex;flex-direction: column;align-items: center;background-color: white;padding-right: 0.2em;padding-left: 0.2em;position: relative;}#sk-container-id-1 div.sk-item {position: relative;z-index: 1;}#sk-container-id-1 div.sk-parallel {display: flex;align-items: stretch;justify-content: center;background-color: white;position: relative;}#sk-container-id-1 div.sk-item::before, #sk-container-id-1 div.sk-parallel-item::before {content: \"\";position: absolute;border-left: 1px solid gray;box-sizing: border-box;top: 0;bottom: 0;left: 50%;z-index: -1;}#sk-container-id-1 div.sk-parallel-item {display: flex;flex-direction: column;z-index: 1;position: relative;background-color: white;}#sk-container-id-1 div.sk-parallel-item:first-child::after {align-self: flex-end;width: 50%;}#sk-container-id-1 div.sk-parallel-item:last-child::after {align-self: flex-start;width: 50%;}#sk-container-id-1 div.sk-parallel-item:only-child::after {width: 0;}#sk-container-id-1 div.sk-dashed-wrapped {border: 1px dashed gray;margin: 0 0.4em 0.5em 0.4em;box-sizing: border-box;padding-bottom: 0.4em;background-color: white;}#sk-container-id-1 div.sk-label label {font-family: monospace;font-weight: bold;display: inline-block;line-height: 1.2em;}#sk-container-id-1 div.sk-label-container {text-align: center;}#sk-container-id-1 div.sk-container {/* jupyter's `normalize.less` sets `[hidden] { display: none; }` but bootstrap.min.css set `[hidden] { display: none !important; }` so we also need the `!important` here to be able to override the default hidden behavior on the sphinx rendered scikit-learn.org. See: https://github.com/scikit-learn/scikit-learn/issues/21755 */display: inline-block !important;position: relative;}#sk-container-id-1 div.sk-text-repr-fallback {display: none;}</style><div id=\"sk-container-id-1\" class=\"sk-top-container\"><div class=\"sk-text-repr-fallback\"><pre>GradientBoostingRegressor()</pre><b>In a Jupyter environment, please rerun this cell to show the HTML representation or trust the notebook. <br />On GitHub, the HTML representation is unable to render, please try loading this page with nbviewer.org.</b></div><div class=\"sk-container\" hidden><div class=\"sk-item\"><div class=\"sk-estimator sk-toggleable\"><input class=\"sk-toggleable__control sk-hidden--visually\" id=\"sk-estimator-id-1\" type=\"checkbox\" checked><label for=\"sk-estimator-id-1\" class=\"sk-toggleable__label sk-toggleable__label-arrow\">GradientBoostingRegressor</label><div class=\"sk-toggleable__content\"><pre>GradientBoostingRegressor()</pre></div></div></div></div></div>"
      ],
      "text/plain": [
       "GradientBoostingRegressor()"
      ]
     },
     "execution_count": 53,
     "metadata": {},
     "output_type": "execute_result"
    }
   ],
   "source": [
    "# initiate GradientBoostingClassifier\n",
    "gbdt= GradientBoostingRegressor()\n",
    "gbdt.fit(X_train , y_train)"
   ]
  },
  {
   "cell_type": "code",
   "execution_count": 54,
   "id": "6a5378a5",
   "metadata": {},
   "outputs": [],
   "source": [
    " # model prediction on training dataset\n",
    "y_pred = gbdt.predict(X_train)"
   ]
  },
  {
   "cell_type": "code",
   "execution_count": 55,
   "id": "0bab0a19",
   "metadata": {},
   "outputs": [
    {
     "name": "stdout",
     "output_type": "stream",
     "text": [
      "R Squared Score :  0.999618104129529\n"
     ]
    }
   ],
   "source": [
    "from sklearn.metrics import r2_score\n",
    "import sklearn.metrics as metrics\n",
    "accuracy = metrics.r2_score (y_train , y_pred)\n",
    "print ('R Squared Score : ' , accuracy)"
   ]
  },
  {
   "cell_type": "code",
   "execution_count": 56,
   "id": "b38c9fa4",
   "metadata": {},
   "outputs": [],
   "source": [
    "# model prediction on testing datadet\n",
    "pred = gbdt.predict(X_test)"
   ]
  },
  {
   "cell_type": "code",
   "execution_count": 57,
   "id": "a04c3523",
   "metadata": {},
   "outputs": [
    {
     "name": "stdout",
     "output_type": "stream",
     "text": [
      "R Squared Score :  0.9957555945297785\n"
     ]
    }
   ],
   "source": [
    "accuracy = metrics.r2_score(y_test,pred)\n",
    "print ('R Squared Score : ' , accuracy)"
   ]
  },
  {
   "cell_type": "markdown",
   "id": "4a763ac0",
   "metadata": {},
   "source": [
    "# Model Score\n",
    "\n",
    "    Training Score = 99.18104129529 %\n",
    "    Testing Score = 99.555945297785 %"
   ]
  },
  {
   "cell_type": "code",
   "execution_count": null,
   "id": "ea707417",
   "metadata": {},
   "outputs": [],
   "source": []
  },
  {
   "cell_type": "markdown",
   "id": "5ae74fc0",
   "metadata": {},
   "source": [
    "# Hyperparameter tuning for GradientBoostingRegressor"
   ]
  },
  {
   "cell_type": "code",
   "execution_count": 58,
   "id": "0bf03991",
   "metadata": {},
   "outputs": [],
   "source": [
    "# HYPERPARAMETER TUNING #\n",
    "from sklearn.model_selection import GridSearchCV"
   ]
  },
  {
   "cell_type": "code",
   "execution_count": 59,
   "id": "52b58d7a",
   "metadata": {},
   "outputs": [],
   "source": [
    "# internally it will use decision tree as name suggest GBDT and here we are going to add one new parameter i.e learning rate \n",
    "\n",
    "grid_params = {'max_depth' : range(1,8),\n",
    "               'min_samples_split': range(2,12,1),\n",
    "               'learning_rate': np.arange(0.1 , 0.9),\n",
    "               'n_estimators': [90,95,100,105,110]}"
   ]
  },
  {
   "cell_type": "code",
   "execution_count": 60,
   "id": "fbde47d1",
   "metadata": {},
   "outputs": [],
   "source": [
    "grid = GridSearchCV(GradientBoostingRegressor() , param_grid = grid_params , n_jobs = -1)"
   ]
  },
  {
   "cell_type": "code",
   "execution_count": 61,
   "id": "8e2b1738",
   "metadata": {},
   "outputs": [
    {
     "data": {
      "text/html": [
       "<style>#sk-container-id-2 {color: black;background-color: white;}#sk-container-id-2 pre{padding: 0;}#sk-container-id-2 div.sk-toggleable {background-color: white;}#sk-container-id-2 label.sk-toggleable__label {cursor: pointer;display: block;width: 100%;margin-bottom: 0;padding: 0.3em;box-sizing: border-box;text-align: center;}#sk-container-id-2 label.sk-toggleable__label-arrow:before {content: \"▸\";float: left;margin-right: 0.25em;color: #696969;}#sk-container-id-2 label.sk-toggleable__label-arrow:hover:before {color: black;}#sk-container-id-2 div.sk-estimator:hover label.sk-toggleable__label-arrow:before {color: black;}#sk-container-id-2 div.sk-toggleable__content {max-height: 0;max-width: 0;overflow: hidden;text-align: left;background-color: #f0f8ff;}#sk-container-id-2 div.sk-toggleable__content pre {margin: 0.2em;color: black;border-radius: 0.25em;background-color: #f0f8ff;}#sk-container-id-2 input.sk-toggleable__control:checked~div.sk-toggleable__content {max-height: 200px;max-width: 100%;overflow: auto;}#sk-container-id-2 input.sk-toggleable__control:checked~label.sk-toggleable__label-arrow:before {content: \"▾\";}#sk-container-id-2 div.sk-estimator input.sk-toggleable__control:checked~label.sk-toggleable__label {background-color: #d4ebff;}#sk-container-id-2 div.sk-label input.sk-toggleable__control:checked~label.sk-toggleable__label {background-color: #d4ebff;}#sk-container-id-2 input.sk-hidden--visually {border: 0;clip: rect(1px 1px 1px 1px);clip: rect(1px, 1px, 1px, 1px);height: 1px;margin: -1px;overflow: hidden;padding: 0;position: absolute;width: 1px;}#sk-container-id-2 div.sk-estimator {font-family: monospace;background-color: #f0f8ff;border: 1px dotted black;border-radius: 0.25em;box-sizing: border-box;margin-bottom: 0.5em;}#sk-container-id-2 div.sk-estimator:hover {background-color: #d4ebff;}#sk-container-id-2 div.sk-parallel-item::after {content: \"\";width: 100%;border-bottom: 1px solid gray;flex-grow: 1;}#sk-container-id-2 div.sk-label:hover label.sk-toggleable__label {background-color: #d4ebff;}#sk-container-id-2 div.sk-serial::before {content: \"\";position: absolute;border-left: 1px solid gray;box-sizing: border-box;top: 0;bottom: 0;left: 50%;z-index: 0;}#sk-container-id-2 div.sk-serial {display: flex;flex-direction: column;align-items: center;background-color: white;padding-right: 0.2em;padding-left: 0.2em;position: relative;}#sk-container-id-2 div.sk-item {position: relative;z-index: 1;}#sk-container-id-2 div.sk-parallel {display: flex;align-items: stretch;justify-content: center;background-color: white;position: relative;}#sk-container-id-2 div.sk-item::before, #sk-container-id-2 div.sk-parallel-item::before {content: \"\";position: absolute;border-left: 1px solid gray;box-sizing: border-box;top: 0;bottom: 0;left: 50%;z-index: -1;}#sk-container-id-2 div.sk-parallel-item {display: flex;flex-direction: column;z-index: 1;position: relative;background-color: white;}#sk-container-id-2 div.sk-parallel-item:first-child::after {align-self: flex-end;width: 50%;}#sk-container-id-2 div.sk-parallel-item:last-child::after {align-self: flex-start;width: 50%;}#sk-container-id-2 div.sk-parallel-item:only-child::after {width: 0;}#sk-container-id-2 div.sk-dashed-wrapped {border: 1px dashed gray;margin: 0 0.4em 0.5em 0.4em;box-sizing: border-box;padding-bottom: 0.4em;background-color: white;}#sk-container-id-2 div.sk-label label {font-family: monospace;font-weight: bold;display: inline-block;line-height: 1.2em;}#sk-container-id-2 div.sk-label-container {text-align: center;}#sk-container-id-2 div.sk-container {/* jupyter's `normalize.less` sets `[hidden] { display: none; }` but bootstrap.min.css set `[hidden] { display: none !important; }` so we also need the `!important` here to be able to override the default hidden behavior on the sphinx rendered scikit-learn.org. See: https://github.com/scikit-learn/scikit-learn/issues/21755 */display: inline-block !important;position: relative;}#sk-container-id-2 div.sk-text-repr-fallback {display: none;}</style><div id=\"sk-container-id-2\" class=\"sk-top-container\"><div class=\"sk-text-repr-fallback\"><pre>GridSearchCV(estimator=GradientBoostingRegressor(), n_jobs=-1,\n",
       "             param_grid={&#x27;learning_rate&#x27;: array([0.1]),\n",
       "                         &#x27;max_depth&#x27;: range(1, 8),\n",
       "                         &#x27;min_samples_split&#x27;: range(2, 12),\n",
       "                         &#x27;n_estimators&#x27;: [90, 95, 100, 105, 110]})</pre><b>In a Jupyter environment, please rerun this cell to show the HTML representation or trust the notebook. <br />On GitHub, the HTML representation is unable to render, please try loading this page with nbviewer.org.</b></div><div class=\"sk-container\" hidden><div class=\"sk-item sk-dashed-wrapped\"><div class=\"sk-label-container\"><div class=\"sk-label sk-toggleable\"><input class=\"sk-toggleable__control sk-hidden--visually\" id=\"sk-estimator-id-2\" type=\"checkbox\" ><label for=\"sk-estimator-id-2\" class=\"sk-toggleable__label sk-toggleable__label-arrow\">GridSearchCV</label><div class=\"sk-toggleable__content\"><pre>GridSearchCV(estimator=GradientBoostingRegressor(), n_jobs=-1,\n",
       "             param_grid={&#x27;learning_rate&#x27;: array([0.1]),\n",
       "                         &#x27;max_depth&#x27;: range(1, 8),\n",
       "                         &#x27;min_samples_split&#x27;: range(2, 12),\n",
       "                         &#x27;n_estimators&#x27;: [90, 95, 100, 105, 110]})</pre></div></div></div><div class=\"sk-parallel\"><div class=\"sk-parallel-item\"><div class=\"sk-item\"><div class=\"sk-label-container\"><div class=\"sk-label sk-toggleable\"><input class=\"sk-toggleable__control sk-hidden--visually\" id=\"sk-estimator-id-3\" type=\"checkbox\" ><label for=\"sk-estimator-id-3\" class=\"sk-toggleable__label sk-toggleable__label-arrow\">estimator: GradientBoostingRegressor</label><div class=\"sk-toggleable__content\"><pre>GradientBoostingRegressor()</pre></div></div></div><div class=\"sk-serial\"><div class=\"sk-item\"><div class=\"sk-estimator sk-toggleable\"><input class=\"sk-toggleable__control sk-hidden--visually\" id=\"sk-estimator-id-4\" type=\"checkbox\" ><label for=\"sk-estimator-id-4\" class=\"sk-toggleable__label sk-toggleable__label-arrow\">GradientBoostingRegressor</label><div class=\"sk-toggleable__content\"><pre>GradientBoostingRegressor()</pre></div></div></div></div></div></div></div></div></div></div>"
      ],
      "text/plain": [
       "GridSearchCV(estimator=GradientBoostingRegressor(), n_jobs=-1,\n",
       "             param_grid={'learning_rate': array([0.1]),\n",
       "                         'max_depth': range(1, 8),\n",
       "                         'min_samples_split': range(2, 12),\n",
       "                         'n_estimators': [90, 95, 100, 105, 110]})"
      ]
     },
     "execution_count": 61,
     "metadata": {},
     "output_type": "execute_result"
    }
   ],
   "source": [
    "grid.fit(X_train,y_train)"
   ]
  },
  {
   "cell_type": "code",
   "execution_count": 62,
   "id": "f59edda0",
   "metadata": {},
   "outputs": [
    {
     "data": {
      "text/plain": [
       "{'learning_rate': 0.1,\n",
       " 'max_depth': 5,\n",
       " 'min_samples_split': 3,\n",
       " 'n_estimators': 110}"
      ]
     },
     "execution_count": 62,
     "metadata": {},
     "output_type": "execute_result"
    }
   ],
   "source": [
    "grid.best_params_"
   ]
  },
  {
   "cell_type": "code",
   "execution_count": 63,
   "id": "0c8706ef",
   "metadata": {},
   "outputs": [],
   "source": [
    "gbdt_clf = GradientBoostingRegressor(learning_rate= 0.1,\n",
    " max_depth= 5,\n",
    " min_samples_split= 2,\n",
    " n_estimators= 100)"
   ]
  },
  {
   "cell_type": "code",
   "execution_count": 64,
   "id": "58ec0c30",
   "metadata": {},
   "outputs": [
    {
     "data": {
      "text/html": [
       "<style>#sk-container-id-3 {color: black;background-color: white;}#sk-container-id-3 pre{padding: 0;}#sk-container-id-3 div.sk-toggleable {background-color: white;}#sk-container-id-3 label.sk-toggleable__label {cursor: pointer;display: block;width: 100%;margin-bottom: 0;padding: 0.3em;box-sizing: border-box;text-align: center;}#sk-container-id-3 label.sk-toggleable__label-arrow:before {content: \"▸\";float: left;margin-right: 0.25em;color: #696969;}#sk-container-id-3 label.sk-toggleable__label-arrow:hover:before {color: black;}#sk-container-id-3 div.sk-estimator:hover label.sk-toggleable__label-arrow:before {color: black;}#sk-container-id-3 div.sk-toggleable__content {max-height: 0;max-width: 0;overflow: hidden;text-align: left;background-color: #f0f8ff;}#sk-container-id-3 div.sk-toggleable__content pre {margin: 0.2em;color: black;border-radius: 0.25em;background-color: #f0f8ff;}#sk-container-id-3 input.sk-toggleable__control:checked~div.sk-toggleable__content {max-height: 200px;max-width: 100%;overflow: auto;}#sk-container-id-3 input.sk-toggleable__control:checked~label.sk-toggleable__label-arrow:before {content: \"▾\";}#sk-container-id-3 div.sk-estimator input.sk-toggleable__control:checked~label.sk-toggleable__label {background-color: #d4ebff;}#sk-container-id-3 div.sk-label input.sk-toggleable__control:checked~label.sk-toggleable__label {background-color: #d4ebff;}#sk-container-id-3 input.sk-hidden--visually {border: 0;clip: rect(1px 1px 1px 1px);clip: rect(1px, 1px, 1px, 1px);height: 1px;margin: -1px;overflow: hidden;padding: 0;position: absolute;width: 1px;}#sk-container-id-3 div.sk-estimator {font-family: monospace;background-color: #f0f8ff;border: 1px dotted black;border-radius: 0.25em;box-sizing: border-box;margin-bottom: 0.5em;}#sk-container-id-3 div.sk-estimator:hover {background-color: #d4ebff;}#sk-container-id-3 div.sk-parallel-item::after {content: \"\";width: 100%;border-bottom: 1px solid gray;flex-grow: 1;}#sk-container-id-3 div.sk-label:hover label.sk-toggleable__label {background-color: #d4ebff;}#sk-container-id-3 div.sk-serial::before {content: \"\";position: absolute;border-left: 1px solid gray;box-sizing: border-box;top: 0;bottom: 0;left: 50%;z-index: 0;}#sk-container-id-3 div.sk-serial {display: flex;flex-direction: column;align-items: center;background-color: white;padding-right: 0.2em;padding-left: 0.2em;position: relative;}#sk-container-id-3 div.sk-item {position: relative;z-index: 1;}#sk-container-id-3 div.sk-parallel {display: flex;align-items: stretch;justify-content: center;background-color: white;position: relative;}#sk-container-id-3 div.sk-item::before, #sk-container-id-3 div.sk-parallel-item::before {content: \"\";position: absolute;border-left: 1px solid gray;box-sizing: border-box;top: 0;bottom: 0;left: 50%;z-index: -1;}#sk-container-id-3 div.sk-parallel-item {display: flex;flex-direction: column;z-index: 1;position: relative;background-color: white;}#sk-container-id-3 div.sk-parallel-item:first-child::after {align-self: flex-end;width: 50%;}#sk-container-id-3 div.sk-parallel-item:last-child::after {align-self: flex-start;width: 50%;}#sk-container-id-3 div.sk-parallel-item:only-child::after {width: 0;}#sk-container-id-3 div.sk-dashed-wrapped {border: 1px dashed gray;margin: 0 0.4em 0.5em 0.4em;box-sizing: border-box;padding-bottom: 0.4em;background-color: white;}#sk-container-id-3 div.sk-label label {font-family: monospace;font-weight: bold;display: inline-block;line-height: 1.2em;}#sk-container-id-3 div.sk-label-container {text-align: center;}#sk-container-id-3 div.sk-container {/* jupyter's `normalize.less` sets `[hidden] { display: none; }` but bootstrap.min.css set `[hidden] { display: none !important; }` so we also need the `!important` here to be able to override the default hidden behavior on the sphinx rendered scikit-learn.org. See: https://github.com/scikit-learn/scikit-learn/issues/21755 */display: inline-block !important;position: relative;}#sk-container-id-3 div.sk-text-repr-fallback {display: none;}</style><div id=\"sk-container-id-3\" class=\"sk-top-container\"><div class=\"sk-text-repr-fallback\"><pre>GradientBoostingRegressor(max_depth=5)</pre><b>In a Jupyter environment, please rerun this cell to show the HTML representation or trust the notebook. <br />On GitHub, the HTML representation is unable to render, please try loading this page with nbviewer.org.</b></div><div class=\"sk-container\" hidden><div class=\"sk-item\"><div class=\"sk-estimator sk-toggleable\"><input class=\"sk-toggleable__control sk-hidden--visually\" id=\"sk-estimator-id-5\" type=\"checkbox\" checked><label for=\"sk-estimator-id-5\" class=\"sk-toggleable__label sk-toggleable__label-arrow\">GradientBoostingRegressor</label><div class=\"sk-toggleable__content\"><pre>GradientBoostingRegressor(max_depth=5)</pre></div></div></div></div></div>"
      ],
      "text/plain": [
       "GradientBoostingRegressor(max_depth=5)"
      ]
     },
     "execution_count": 64,
     "metadata": {},
     "output_type": "execute_result"
    }
   ],
   "source": [
    "gbdt_clf.fit(X_train,y_train)"
   ]
  },
  {
   "cell_type": "code",
   "execution_count": 65,
   "id": "73ac4c9b",
   "metadata": {},
   "outputs": [],
   "source": [
    " # model prediction on training dataset\n",
    "y_pred = gbdt_clf.predict(X_train)"
   ]
  },
  {
   "cell_type": "code",
   "execution_count": 66,
   "id": "1b33e31d",
   "metadata": {},
   "outputs": [
    {
     "name": "stdout",
     "output_type": "stream",
     "text": [
      "R Squared Score :  0.9999843583023572\n"
     ]
    }
   ],
   "source": [
    "accuracy = metrics.r2_score (y_train , y_pred)\n",
    "print ('R Squared Score : ' , accuracy)"
   ]
  },
  {
   "cell_type": "code",
   "execution_count": 67,
   "id": "a51fe929",
   "metadata": {},
   "outputs": [],
   "source": [
    "# model prediction on testing datadet\n",
    "pred = gbdt_clf.predict(X_test)"
   ]
  },
  {
   "cell_type": "code",
   "execution_count": 68,
   "id": "b7408f2d",
   "metadata": {},
   "outputs": [
    {
     "name": "stdout",
     "output_type": "stream",
     "text": [
      "R Squared Score :  0.9962197908438348\n"
     ]
    }
   ],
   "source": [
    "accuracy = metrics.r2_score(y_test,pred)\n",
    "print ('R Squared Score : ' , accuracy)"
   ]
  },
  {
   "cell_type": "markdown",
   "id": "82c09ebf",
   "metadata": {},
   "source": [
    "# Model Score after Hyperparameter Tuning\n",
    "\n",
    "    Training Score = 99.99843583023572 %\n",
    "    Testing Score = 99.62197908438348 %"
   ]
  },
  {
   "cell_type": "code",
   "execution_count": null,
   "id": "00a851a5",
   "metadata": {},
   "outputs": [],
   "source": []
  },
  {
   "cell_type": "code",
   "execution_count": null,
   "id": "3d28cb54",
   "metadata": {},
   "outputs": [],
   "source": []
  },
  {
   "cell_type": "code",
   "execution_count": null,
   "id": "d3538a59",
   "metadata": {},
   "outputs": [],
   "source": []
  },
  {
   "cell_type": "markdown",
   "id": "393af28e",
   "metadata": {},
   "source": [
    "# RandomForestRegressor Model"
   ]
  },
  {
   "cell_type": "code",
   "execution_count": 73,
   "id": "0502f13d",
   "metadata": {},
   "outputs": [],
   "source": [
    "#import necessary library\n",
    "\n",
    "import pandas as pd\n",
    "import numpy as np\n",
    "from sklearn.model_selection import train_test_split,GridSearchCV\n",
    "from sklearn.preprocessing import StandardScaler\n",
    "from sklearn.ensemble import RandomForestRegressor\n",
    "import matplotlib.pyplot as plt\n",
    "import seaborn as sns\n",
    "\n",
    "import warnings\n",
    "warnings.filterwarnings('ignore')"
   ]
  },
  {
   "cell_type": "code",
   "execution_count": 74,
   "id": "c3e22250",
   "metadata": {},
   "outputs": [
    {
     "name": "stdout",
     "output_type": "stream",
     "text": [
      "Training Score 99.93464237465807 RandomState 0\n",
      "Testing Score 99.69957490027124 RandomState 0\n",
      "\n",
      "\n",
      "MAXINING TESTING SCORE 99.69957490027124 ON RANDOM STATE OF 0\n",
      "Training Score 99.90688287468605 RandomState 1\n",
      "Testing Score 99.20592843751491 RandomState 1\n",
      "\n",
      "\n",
      "Training Score 99.91043545430381 RandomState 2\n",
      "Testing Score 99.46831601196124 RandomState 2\n",
      "\n",
      "\n",
      "Training Score 99.9277152805455 RandomState 3\n",
      "Testing Score 99.55818895600717 RandomState 3\n",
      "\n",
      "\n",
      "Training Score 99.88293084766349 RandomState 4\n",
      "Testing Score 99.61302321645023 RandomState 4\n",
      "\n",
      "\n",
      "Training Score 99.89497861453802 RandomState 5\n",
      "Testing Score 99.0562463277928 RandomState 5\n",
      "\n",
      "\n",
      "Training Score 99.93764937321355 RandomState 6\n",
      "Testing Score 99.47213306384603 RandomState 6\n",
      "\n",
      "\n",
      "Training Score 99.92665442307924 RandomState 7\n",
      "Testing Score 99.59211810708918 RandomState 7\n",
      "\n",
      "\n",
      "Training Score 99.91614127847801 RandomState 8\n",
      "Testing Score 98.38637972156907 RandomState 8\n",
      "\n",
      "\n",
      "Training Score 99.90781106631265 RandomState 9\n",
      "Testing Score 99.60550719685767 RandomState 9\n",
      "\n",
      "\n",
      "Training Score 99.8746399114753 RandomState 10\n",
      "Testing Score 99.2394206360311 RandomState 10\n",
      "\n",
      "\n",
      "Training Score 99.93690216470712 RandomState 11\n",
      "Testing Score 98.50411477331211 RandomState 11\n",
      "\n",
      "\n",
      "Training Score 99.92581147456904 RandomState 12\n",
      "Testing Score 99.51779608574242 RandomState 12\n",
      "\n",
      "\n",
      "Training Score 99.94875886084633 RandomState 13\n",
      "Testing Score 99.65128114274818 RandomState 13\n",
      "\n",
      "\n",
      "Training Score 99.87843449498068 RandomState 14\n",
      "Testing Score 99.5368055551215 RandomState 14\n",
      "\n",
      "\n",
      "Training Score 99.92014519698078 RandomState 15\n",
      "Testing Score 99.60244128407567 RandomState 15\n",
      "\n",
      "\n",
      "Training Score 99.90280546850364 RandomState 16\n",
      "Testing Score 98.77430199302934 RandomState 16\n",
      "\n",
      "\n",
      "Training Score 99.91187322791846 RandomState 17\n",
      "Testing Score 99.5738985320907 RandomState 17\n",
      "\n",
      "\n",
      "Training Score 99.93820770559509 RandomState 18\n",
      "Testing Score 98.67302435829515 RandomState 18\n",
      "\n",
      "\n",
      "Training Score 99.87449943457082 RandomState 19\n",
      "Testing Score 99.66122932455292 RandomState 19\n",
      "\n",
      "\n",
      "Training Score 99.91437974135042 RandomState 20\n",
      "Testing Score 99.54893873915624 RandomState 20\n",
      "\n",
      "\n",
      "Training Score 99.90203978529549 RandomState 21\n",
      "Testing Score 99.46528487758492 RandomState 21\n",
      "\n",
      "\n",
      "Training Score 99.87171161677529 RandomState 22\n",
      "Testing Score 99.00861603222859 RandomState 22\n",
      "\n",
      "\n",
      "Training Score 99.9054374350904 RandomState 23\n",
      "Testing Score 98.63837423623383 RandomState 23\n",
      "\n",
      "\n",
      "Training Score 99.88348462644188 RandomState 24\n",
      "Testing Score 99.32729395603317 RandomState 24\n",
      "\n",
      "\n",
      "Training Score 99.91760895863221 RandomState 25\n",
      "Testing Score 99.53389423267832 RandomState 25\n",
      "\n",
      "\n",
      "Training Score 99.91745219362367 RandomState 26\n",
      "Testing Score 99.21036860449192 RandomState 26\n",
      "\n",
      "\n",
      "Training Score 99.90949039168585 RandomState 27\n",
      "Testing Score 99.75337479207418 RandomState 27\n",
      "\n",
      "\n",
      "MAXINING TESTING SCORE 99.75337479207418 ON RANDOM STATE OF 27\n",
      "Training Score 99.93838583923949 RandomState 28\n",
      "Testing Score 99.56165294071715 RandomState 28\n",
      "\n",
      "\n",
      "Training Score 99.85224538937501 RandomState 29\n",
      "Testing Score 99.64859558642071 RandomState 29\n",
      "\n",
      "\n",
      "Training Score 99.8800968061312 RandomState 30\n",
      "Testing Score 99.5171106227762 RandomState 30\n",
      "\n",
      "\n",
      "Training Score 99.918764436325 RandomState 31\n",
      "Testing Score 99.81262568396242 RandomState 31\n",
      "\n",
      "\n",
      "MAXINING TESTING SCORE 99.81262568396242 ON RANDOM STATE OF 31\n",
      "Training Score 99.8765664683348 RandomState 32\n",
      "Testing Score 99.37772547317223 RandomState 32\n",
      "\n",
      "\n",
      "Training Score 99.9265093120304 RandomState 33\n",
      "Testing Score 99.5951738485089 RandomState 33\n",
      "\n",
      "\n",
      "Training Score 99.94460409682368 RandomState 34\n",
      "Testing Score 99.31435765774734 RandomState 34\n",
      "\n",
      "\n",
      "Training Score 99.92391929748501 RandomState 35\n",
      "Testing Score 99.2851094655229 RandomState 35\n",
      "\n",
      "\n",
      "Training Score 99.91962137310195 RandomState 36\n",
      "Testing Score 99.5750647284749 RandomState 36\n",
      "\n",
      "\n",
      "Training Score 99.89271046805986 RandomState 37\n",
      "Testing Score 99.70881721427895 RandomState 37\n",
      "\n",
      "\n",
      "Training Score 99.9099355507643 RandomState 38\n",
      "Testing Score 99.71544305107774 RandomState 38\n",
      "\n",
      "\n",
      "Training Score 99.85749353897094 RandomState 39\n",
      "Testing Score 99.37248176695383 RandomState 39\n",
      "\n",
      "\n",
      "Training Score 99.90691473578822 RandomState 40\n",
      "Testing Score 99.750645117593 RandomState 40\n",
      "\n",
      "\n",
      "Training Score 99.88084935432525 RandomState 41\n",
      "Testing Score 99.55081406820045 RandomState 41\n",
      "\n",
      "\n",
      "Training Score 99.92932785909579 RandomState 42\n",
      "Testing Score 99.55440536849854 RandomState 42\n",
      "\n",
      "\n",
      "Training Score 99.92694734826576 RandomState 43\n",
      "Testing Score 98.50224320426616 RandomState 43\n",
      "\n",
      "\n",
      "Training Score 99.91555432320612 RandomState 44\n",
      "Testing Score 99.60881686446696 RandomState 44\n",
      "\n",
      "\n",
      "Training Score 99.91280584189671 RandomState 45\n",
      "Testing Score 99.11072521763056 RandomState 45\n",
      "\n",
      "\n",
      "Training Score 99.90174169029078 RandomState 46\n",
      "Testing Score 99.66190721647055 RandomState 46\n",
      "\n",
      "\n",
      "Training Score 99.90369025307392 RandomState 47\n",
      "Testing Score 98.64162553940268 RandomState 47\n",
      "\n",
      "\n",
      "Training Score 99.84882466666505 RandomState 48\n",
      "Testing Score 99.45329384231705 RandomState 48\n",
      "\n",
      "\n",
      "Training Score 99.91929935334976 RandomState 49\n",
      "Testing Score 99.7165235384909 RandomState 49\n",
      "\n",
      "\n"
     ]
    }
   ],
   "source": [
    "#Best Random State\n",
    "MaxAccu=0\n",
    "MaxRS=0\n",
    "\n",
    "for i in range (0,50):\n",
    "    X_train,X_test,y_train,y_test=train_test_split(X_scaled,y,test_size=0.25,random_state=i)\n",
    "    rf=RandomForestRegressor()\n",
    "    rf.fit(X_train,y_train)\n",
    "    \n",
    "    pred=rf.predict(X_train)\n",
    "    training=rf.score(X_train,y_train)\n",
    "    print ('Training Score' , training*100 , 'RandomState' ,i)\n",
    "    \n",
    "    y_pred=rf.predict(X_test)\n",
    "    testing=rf.score(X_test,y_test)\n",
    "    print ('Testing Score' , testing*100 , 'RandomState' ,i)\n",
    "    print('\\n')\n",
    "    \n",
    "    \n",
    "    if testing>MaxAccu:\n",
    "        MaxAccu=testing\n",
    "        MaxRS=i\n",
    "        print('MAXINING TESTING SCORE' , MaxAccu*100 , 'ON RANDOM STATE OF' , i)"
   ]
  },
  {
   "cell_type": "code",
   "execution_count": 75,
   "id": "5abd53c4",
   "metadata": {},
   "outputs": [
    {
     "name": "stdout",
     "output_type": "stream",
     "text": [
      "MAXINING TESTING SCORE 99.81262568396242 ON RANDOM STATE OF 31\n"
     ]
    }
   ],
   "source": [
    "print('MAXINING TESTING SCORE' , MaxAccu*100 , 'ON RANDOM STATE OF' , MaxRS)"
   ]
  },
  {
   "cell_type": "code",
   "execution_count": 77,
   "id": "02303916",
   "metadata": {},
   "outputs": [],
   "source": [
    "#splliting our data into train test split and randomstate 8\n",
    "X_train,X_test,y_train,y_test=train_test_split(X_scaled,y,test_size=0.25,random_state=31)"
   ]
  },
  {
   "cell_type": "code",
   "execution_count": 78,
   "id": "ecca61d6",
   "metadata": {},
   "outputs": [
    {
     "data": {
      "text/html": [
       "<style>#sk-container-id-4 {color: black;background-color: white;}#sk-container-id-4 pre{padding: 0;}#sk-container-id-4 div.sk-toggleable {background-color: white;}#sk-container-id-4 label.sk-toggleable__label {cursor: pointer;display: block;width: 100%;margin-bottom: 0;padding: 0.3em;box-sizing: border-box;text-align: center;}#sk-container-id-4 label.sk-toggleable__label-arrow:before {content: \"▸\";float: left;margin-right: 0.25em;color: #696969;}#sk-container-id-4 label.sk-toggleable__label-arrow:hover:before {color: black;}#sk-container-id-4 div.sk-estimator:hover label.sk-toggleable__label-arrow:before {color: black;}#sk-container-id-4 div.sk-toggleable__content {max-height: 0;max-width: 0;overflow: hidden;text-align: left;background-color: #f0f8ff;}#sk-container-id-4 div.sk-toggleable__content pre {margin: 0.2em;color: black;border-radius: 0.25em;background-color: #f0f8ff;}#sk-container-id-4 input.sk-toggleable__control:checked~div.sk-toggleable__content {max-height: 200px;max-width: 100%;overflow: auto;}#sk-container-id-4 input.sk-toggleable__control:checked~label.sk-toggleable__label-arrow:before {content: \"▾\";}#sk-container-id-4 div.sk-estimator input.sk-toggleable__control:checked~label.sk-toggleable__label {background-color: #d4ebff;}#sk-container-id-4 div.sk-label input.sk-toggleable__control:checked~label.sk-toggleable__label {background-color: #d4ebff;}#sk-container-id-4 input.sk-hidden--visually {border: 0;clip: rect(1px 1px 1px 1px);clip: rect(1px, 1px, 1px, 1px);height: 1px;margin: -1px;overflow: hidden;padding: 0;position: absolute;width: 1px;}#sk-container-id-4 div.sk-estimator {font-family: monospace;background-color: #f0f8ff;border: 1px dotted black;border-radius: 0.25em;box-sizing: border-box;margin-bottom: 0.5em;}#sk-container-id-4 div.sk-estimator:hover {background-color: #d4ebff;}#sk-container-id-4 div.sk-parallel-item::after {content: \"\";width: 100%;border-bottom: 1px solid gray;flex-grow: 1;}#sk-container-id-4 div.sk-label:hover label.sk-toggleable__label {background-color: #d4ebff;}#sk-container-id-4 div.sk-serial::before {content: \"\";position: absolute;border-left: 1px solid gray;box-sizing: border-box;top: 0;bottom: 0;left: 50%;z-index: 0;}#sk-container-id-4 div.sk-serial {display: flex;flex-direction: column;align-items: center;background-color: white;padding-right: 0.2em;padding-left: 0.2em;position: relative;}#sk-container-id-4 div.sk-item {position: relative;z-index: 1;}#sk-container-id-4 div.sk-parallel {display: flex;align-items: stretch;justify-content: center;background-color: white;position: relative;}#sk-container-id-4 div.sk-item::before, #sk-container-id-4 div.sk-parallel-item::before {content: \"\";position: absolute;border-left: 1px solid gray;box-sizing: border-box;top: 0;bottom: 0;left: 50%;z-index: -1;}#sk-container-id-4 div.sk-parallel-item {display: flex;flex-direction: column;z-index: 1;position: relative;background-color: white;}#sk-container-id-4 div.sk-parallel-item:first-child::after {align-self: flex-end;width: 50%;}#sk-container-id-4 div.sk-parallel-item:last-child::after {align-self: flex-start;width: 50%;}#sk-container-id-4 div.sk-parallel-item:only-child::after {width: 0;}#sk-container-id-4 div.sk-dashed-wrapped {border: 1px dashed gray;margin: 0 0.4em 0.5em 0.4em;box-sizing: border-box;padding-bottom: 0.4em;background-color: white;}#sk-container-id-4 div.sk-label label {font-family: monospace;font-weight: bold;display: inline-block;line-height: 1.2em;}#sk-container-id-4 div.sk-label-container {text-align: center;}#sk-container-id-4 div.sk-container {/* jupyter's `normalize.less` sets `[hidden] { display: none; }` but bootstrap.min.css set `[hidden] { display: none !important; }` so we also need the `!important` here to be able to override the default hidden behavior on the sphinx rendered scikit-learn.org. See: https://github.com/scikit-learn/scikit-learn/issues/21755 */display: inline-block !important;position: relative;}#sk-container-id-4 div.sk-text-repr-fallback {display: none;}</style><div id=\"sk-container-id-4\" class=\"sk-top-container\"><div class=\"sk-text-repr-fallback\"><pre>RandomForestRegressor()</pre><b>In a Jupyter environment, please rerun this cell to show the HTML representation or trust the notebook. <br />On GitHub, the HTML representation is unable to render, please try loading this page with nbviewer.org.</b></div><div class=\"sk-container\" hidden><div class=\"sk-item\"><div class=\"sk-estimator sk-toggleable\"><input class=\"sk-toggleable__control sk-hidden--visually\" id=\"sk-estimator-id-6\" type=\"checkbox\" checked><label for=\"sk-estimator-id-6\" class=\"sk-toggleable__label sk-toggleable__label-arrow\">RandomForestRegressor</label><div class=\"sk-toggleable__content\"><pre>RandomForestRegressor()</pre></div></div></div></div></div>"
      ],
      "text/plain": [
       "RandomForestRegressor()"
      ]
     },
     "execution_count": 78,
     "metadata": {},
     "output_type": "execute_result"
    }
   ],
   "source": [
    "rf=RandomForestRegressor()\n",
    "rf.fit(X_train,y_train)"
   ]
  },
  {
   "cell_type": "code",
   "execution_count": 79,
   "id": "624f29a4",
   "metadata": {},
   "outputs": [],
   "source": [
    " # model prediction on training dataset\n",
    "y_pred = rf.predict(X_train)"
   ]
  },
  {
   "cell_type": "code",
   "execution_count": 80,
   "id": "4ecc7258",
   "metadata": {},
   "outputs": [
    {
     "name": "stdout",
     "output_type": "stream",
     "text": [
      "R Squared Score :  0.9990825909035758\n"
     ]
    }
   ],
   "source": [
    "accuracy = metrics.r2_score (y_train , y_pred)\n",
    "print ('R Squared Score : ' , accuracy)"
   ]
  },
  {
   "cell_type": "code",
   "execution_count": 81,
   "id": "18174d68",
   "metadata": {},
   "outputs": [],
   "source": [
    "# model prediction on testing datadet\n",
    "pred = rf.predict(X_test)"
   ]
  },
  {
   "cell_type": "code",
   "execution_count": 82,
   "id": "0c579ecf",
   "metadata": {},
   "outputs": [
    {
     "name": "stdout",
     "output_type": "stream",
     "text": [
      "R Squared Score :  0.9981606949943461\n"
     ]
    }
   ],
   "source": [
    "accuracy = metrics.r2_score(y_test,pred)\n",
    "print ('R Squared Score : ' , accuracy)"
   ]
  },
  {
   "cell_type": "markdown",
   "id": "29847d5d",
   "metadata": {},
   "source": [
    "# Model Score\n",
    "    Training Score = 99.90825909035758 %\n",
    "    Testing Score = 99.81606949943461 %"
   ]
  },
  {
   "cell_type": "code",
   "execution_count": null,
   "id": "44852d8e",
   "metadata": {},
   "outputs": [],
   "source": []
  },
  {
   "cell_type": "code",
   "execution_count": null,
   "id": "bec15508",
   "metadata": {},
   "outputs": [],
   "source": []
  },
  {
   "cell_type": "markdown",
   "id": "af1e1d86",
   "metadata": {},
   "source": [
    "# Hyperparameter tuning for Random Forest"
   ]
  },
  {
   "cell_type": "code",
   "execution_count": 83,
   "id": "81fcae1a",
   "metadata": {},
   "outputs": [],
   "source": [
    "# RandomForestRegressor\n",
    "from sklearn.model_selection import GridSearchCV\n",
    "from sklearn.ensemble import RandomForestRegressor"
   ]
  },
  {
   "cell_type": "code",
   "execution_count": 84,
   "id": "8ebd47b0",
   "metadata": {},
   "outputs": [],
   "source": [
    "# define parameters\n",
    "parameters={'criterion':['mse','mae','poisson'],\n",
    "           'max_features':['auto','sqrt','log2'],\n",
    "           'min_samples_split':[1,11],\n",
    "           'max_depth':[1,15],\n",
    "           'min_samples_leaf':[1,7]}"
   ]
  },
  {
   "cell_type": "code",
   "execution_count": 85,
   "id": "f20194d0",
   "metadata": {},
   "outputs": [
    {
     "data": {
      "text/html": [
       "<style>#sk-container-id-5 {color: black;background-color: white;}#sk-container-id-5 pre{padding: 0;}#sk-container-id-5 div.sk-toggleable {background-color: white;}#sk-container-id-5 label.sk-toggleable__label {cursor: pointer;display: block;width: 100%;margin-bottom: 0;padding: 0.3em;box-sizing: border-box;text-align: center;}#sk-container-id-5 label.sk-toggleable__label-arrow:before {content: \"▸\";float: left;margin-right: 0.25em;color: #696969;}#sk-container-id-5 label.sk-toggleable__label-arrow:hover:before {color: black;}#sk-container-id-5 div.sk-estimator:hover label.sk-toggleable__label-arrow:before {color: black;}#sk-container-id-5 div.sk-toggleable__content {max-height: 0;max-width: 0;overflow: hidden;text-align: left;background-color: #f0f8ff;}#sk-container-id-5 div.sk-toggleable__content pre {margin: 0.2em;color: black;border-radius: 0.25em;background-color: #f0f8ff;}#sk-container-id-5 input.sk-toggleable__control:checked~div.sk-toggleable__content {max-height: 200px;max-width: 100%;overflow: auto;}#sk-container-id-5 input.sk-toggleable__control:checked~label.sk-toggleable__label-arrow:before {content: \"▾\";}#sk-container-id-5 div.sk-estimator input.sk-toggleable__control:checked~label.sk-toggleable__label {background-color: #d4ebff;}#sk-container-id-5 div.sk-label input.sk-toggleable__control:checked~label.sk-toggleable__label {background-color: #d4ebff;}#sk-container-id-5 input.sk-hidden--visually {border: 0;clip: rect(1px 1px 1px 1px);clip: rect(1px, 1px, 1px, 1px);height: 1px;margin: -1px;overflow: hidden;padding: 0;position: absolute;width: 1px;}#sk-container-id-5 div.sk-estimator {font-family: monospace;background-color: #f0f8ff;border: 1px dotted black;border-radius: 0.25em;box-sizing: border-box;margin-bottom: 0.5em;}#sk-container-id-5 div.sk-estimator:hover {background-color: #d4ebff;}#sk-container-id-5 div.sk-parallel-item::after {content: \"\";width: 100%;border-bottom: 1px solid gray;flex-grow: 1;}#sk-container-id-5 div.sk-label:hover label.sk-toggleable__label {background-color: #d4ebff;}#sk-container-id-5 div.sk-serial::before {content: \"\";position: absolute;border-left: 1px solid gray;box-sizing: border-box;top: 0;bottom: 0;left: 50%;z-index: 0;}#sk-container-id-5 div.sk-serial {display: flex;flex-direction: column;align-items: center;background-color: white;padding-right: 0.2em;padding-left: 0.2em;position: relative;}#sk-container-id-5 div.sk-item {position: relative;z-index: 1;}#sk-container-id-5 div.sk-parallel {display: flex;align-items: stretch;justify-content: center;background-color: white;position: relative;}#sk-container-id-5 div.sk-item::before, #sk-container-id-5 div.sk-parallel-item::before {content: \"\";position: absolute;border-left: 1px solid gray;box-sizing: border-box;top: 0;bottom: 0;left: 50%;z-index: -1;}#sk-container-id-5 div.sk-parallel-item {display: flex;flex-direction: column;z-index: 1;position: relative;background-color: white;}#sk-container-id-5 div.sk-parallel-item:first-child::after {align-self: flex-end;width: 50%;}#sk-container-id-5 div.sk-parallel-item:last-child::after {align-self: flex-start;width: 50%;}#sk-container-id-5 div.sk-parallel-item:only-child::after {width: 0;}#sk-container-id-5 div.sk-dashed-wrapped {border: 1px dashed gray;margin: 0 0.4em 0.5em 0.4em;box-sizing: border-box;padding-bottom: 0.4em;background-color: white;}#sk-container-id-5 div.sk-label label {font-family: monospace;font-weight: bold;display: inline-block;line-height: 1.2em;}#sk-container-id-5 div.sk-label-container {text-align: center;}#sk-container-id-5 div.sk-container {/* jupyter's `normalize.less` sets `[hidden] { display: none; }` but bootstrap.min.css set `[hidden] { display: none !important; }` so we also need the `!important` here to be able to override the default hidden behavior on the sphinx rendered scikit-learn.org. See: https://github.com/scikit-learn/scikit-learn/issues/21755 */display: inline-block !important;position: relative;}#sk-container-id-5 div.sk-text-repr-fallback {display: none;}</style><div id=\"sk-container-id-5\" class=\"sk-top-container\"><div class=\"sk-text-repr-fallback\"><pre>GridSearchCV(estimator=RandomForestRegressor(),\n",
       "             param_grid={&#x27;criterion&#x27;: [&#x27;mse&#x27;, &#x27;mae&#x27;, &#x27;poisson&#x27;],\n",
       "                         &#x27;max_depth&#x27;: [1, 15],\n",
       "                         &#x27;max_features&#x27;: [&#x27;auto&#x27;, &#x27;sqrt&#x27;, &#x27;log2&#x27;],\n",
       "                         &#x27;min_samples_leaf&#x27;: [1, 7],\n",
       "                         &#x27;min_samples_split&#x27;: [1, 11]})</pre><b>In a Jupyter environment, please rerun this cell to show the HTML representation or trust the notebook. <br />On GitHub, the HTML representation is unable to render, please try loading this page with nbviewer.org.</b></div><div class=\"sk-container\" hidden><div class=\"sk-item sk-dashed-wrapped\"><div class=\"sk-label-container\"><div class=\"sk-label sk-toggleable\"><input class=\"sk-toggleable__control sk-hidden--visually\" id=\"sk-estimator-id-7\" type=\"checkbox\" ><label for=\"sk-estimator-id-7\" class=\"sk-toggleable__label sk-toggleable__label-arrow\">GridSearchCV</label><div class=\"sk-toggleable__content\"><pre>GridSearchCV(estimator=RandomForestRegressor(),\n",
       "             param_grid={&#x27;criterion&#x27;: [&#x27;mse&#x27;, &#x27;mae&#x27;, &#x27;poisson&#x27;],\n",
       "                         &#x27;max_depth&#x27;: [1, 15],\n",
       "                         &#x27;max_features&#x27;: [&#x27;auto&#x27;, &#x27;sqrt&#x27;, &#x27;log2&#x27;],\n",
       "                         &#x27;min_samples_leaf&#x27;: [1, 7],\n",
       "                         &#x27;min_samples_split&#x27;: [1, 11]})</pre></div></div></div><div class=\"sk-parallel\"><div class=\"sk-parallel-item\"><div class=\"sk-item\"><div class=\"sk-label-container\"><div class=\"sk-label sk-toggleable\"><input class=\"sk-toggleable__control sk-hidden--visually\" id=\"sk-estimator-id-8\" type=\"checkbox\" ><label for=\"sk-estimator-id-8\" class=\"sk-toggleable__label sk-toggleable__label-arrow\">estimator: RandomForestRegressor</label><div class=\"sk-toggleable__content\"><pre>RandomForestRegressor()</pre></div></div></div><div class=\"sk-serial\"><div class=\"sk-item\"><div class=\"sk-estimator sk-toggleable\"><input class=\"sk-toggleable__control sk-hidden--visually\" id=\"sk-estimator-id-9\" type=\"checkbox\" ><label for=\"sk-estimator-id-9\" class=\"sk-toggleable__label sk-toggleable__label-arrow\">RandomForestRegressor</label><div class=\"sk-toggleable__content\"><pre>RandomForestRegressor()</pre></div></div></div></div></div></div></div></div></div></div>"
      ],
      "text/plain": [
       "GridSearchCV(estimator=RandomForestRegressor(),\n",
       "             param_grid={'criterion': ['mse', 'mae', 'poisson'],\n",
       "                         'max_depth': [1, 15],\n",
       "                         'max_features': ['auto', 'sqrt', 'log2'],\n",
       "                         'min_samples_leaf': [1, 7],\n",
       "                         'min_samples_split': [1, 11]})"
      ]
     },
     "execution_count": 85,
     "metadata": {},
     "output_type": "execute_result"
    }
   ],
   "source": [
    "rf=RandomForestRegressor()\n",
    "clf=GridSearchCV(rf,parameters)\n",
    "clf.fit(X_train,y_train)"
   ]
  },
  {
   "cell_type": "code",
   "execution_count": 86,
   "id": "82d0971e",
   "metadata": {},
   "outputs": [
    {
     "name": "stdout",
     "output_type": "stream",
     "text": [
      "{'criterion': 'poisson', 'max_depth': 15, 'max_features': 'auto', 'min_samples_leaf': 1, 'min_samples_split': 1}\n"
     ]
    }
   ],
   "source": [
    "#print best parameters\n",
    "print(clf.best_params_)"
   ]
  },
  {
   "cell_type": "code",
   "execution_count": 87,
   "id": "0e141d19",
   "metadata": {},
   "outputs": [
    {
     "data": {
      "text/html": [
       "<style>#sk-container-id-6 {color: black;background-color: white;}#sk-container-id-6 pre{padding: 0;}#sk-container-id-6 div.sk-toggleable {background-color: white;}#sk-container-id-6 label.sk-toggleable__label {cursor: pointer;display: block;width: 100%;margin-bottom: 0;padding: 0.3em;box-sizing: border-box;text-align: center;}#sk-container-id-6 label.sk-toggleable__label-arrow:before {content: \"▸\";float: left;margin-right: 0.25em;color: #696969;}#sk-container-id-6 label.sk-toggleable__label-arrow:hover:before {color: black;}#sk-container-id-6 div.sk-estimator:hover label.sk-toggleable__label-arrow:before {color: black;}#sk-container-id-6 div.sk-toggleable__content {max-height: 0;max-width: 0;overflow: hidden;text-align: left;background-color: #f0f8ff;}#sk-container-id-6 div.sk-toggleable__content pre {margin: 0.2em;color: black;border-radius: 0.25em;background-color: #f0f8ff;}#sk-container-id-6 input.sk-toggleable__control:checked~div.sk-toggleable__content {max-height: 200px;max-width: 100%;overflow: auto;}#sk-container-id-6 input.sk-toggleable__control:checked~label.sk-toggleable__label-arrow:before {content: \"▾\";}#sk-container-id-6 div.sk-estimator input.sk-toggleable__control:checked~label.sk-toggleable__label {background-color: #d4ebff;}#sk-container-id-6 div.sk-label input.sk-toggleable__control:checked~label.sk-toggleable__label {background-color: #d4ebff;}#sk-container-id-6 input.sk-hidden--visually {border: 0;clip: rect(1px 1px 1px 1px);clip: rect(1px, 1px, 1px, 1px);height: 1px;margin: -1px;overflow: hidden;padding: 0;position: absolute;width: 1px;}#sk-container-id-6 div.sk-estimator {font-family: monospace;background-color: #f0f8ff;border: 1px dotted black;border-radius: 0.25em;box-sizing: border-box;margin-bottom: 0.5em;}#sk-container-id-6 div.sk-estimator:hover {background-color: #d4ebff;}#sk-container-id-6 div.sk-parallel-item::after {content: \"\";width: 100%;border-bottom: 1px solid gray;flex-grow: 1;}#sk-container-id-6 div.sk-label:hover label.sk-toggleable__label {background-color: #d4ebff;}#sk-container-id-6 div.sk-serial::before {content: \"\";position: absolute;border-left: 1px solid gray;box-sizing: border-box;top: 0;bottom: 0;left: 50%;z-index: 0;}#sk-container-id-6 div.sk-serial {display: flex;flex-direction: column;align-items: center;background-color: white;padding-right: 0.2em;padding-left: 0.2em;position: relative;}#sk-container-id-6 div.sk-item {position: relative;z-index: 1;}#sk-container-id-6 div.sk-parallel {display: flex;align-items: stretch;justify-content: center;background-color: white;position: relative;}#sk-container-id-6 div.sk-item::before, #sk-container-id-6 div.sk-parallel-item::before {content: \"\";position: absolute;border-left: 1px solid gray;box-sizing: border-box;top: 0;bottom: 0;left: 50%;z-index: -1;}#sk-container-id-6 div.sk-parallel-item {display: flex;flex-direction: column;z-index: 1;position: relative;background-color: white;}#sk-container-id-6 div.sk-parallel-item:first-child::after {align-self: flex-end;width: 50%;}#sk-container-id-6 div.sk-parallel-item:last-child::after {align-self: flex-start;width: 50%;}#sk-container-id-6 div.sk-parallel-item:only-child::after {width: 0;}#sk-container-id-6 div.sk-dashed-wrapped {border: 1px dashed gray;margin: 0 0.4em 0.5em 0.4em;box-sizing: border-box;padding-bottom: 0.4em;background-color: white;}#sk-container-id-6 div.sk-label label {font-family: monospace;font-weight: bold;display: inline-block;line-height: 1.2em;}#sk-container-id-6 div.sk-label-container {text-align: center;}#sk-container-id-6 div.sk-container {/* jupyter's `normalize.less` sets `[hidden] { display: none; }` but bootstrap.min.css set `[hidden] { display: none !important; }` so we also need the `!important` here to be able to override the default hidden behavior on the sphinx rendered scikit-learn.org. See: https://github.com/scikit-learn/scikit-learn/issues/21755 */display: inline-block !important;position: relative;}#sk-container-id-6 div.sk-text-repr-fallback {display: none;}</style><div id=\"sk-container-id-6\" class=\"sk-top-container\"><div class=\"sk-text-repr-fallback\"><pre>RandomForestRegressor(criterion=&#x27;poisson&#x27;, max_depth=15, max_features=&#x27;auto&#x27;,\n",
       "                      min_samples_split=1)</pre><b>In a Jupyter environment, please rerun this cell to show the HTML representation or trust the notebook. <br />On GitHub, the HTML representation is unable to render, please try loading this page with nbviewer.org.</b></div><div class=\"sk-container\" hidden><div class=\"sk-item\"><div class=\"sk-estimator sk-toggleable\"><input class=\"sk-toggleable__control sk-hidden--visually\" id=\"sk-estimator-id-10\" type=\"checkbox\" checked><label for=\"sk-estimator-id-10\" class=\"sk-toggleable__label sk-toggleable__label-arrow\">RandomForestRegressor</label><div class=\"sk-toggleable__content\"><pre>RandomForestRegressor(criterion=&#x27;poisson&#x27;, max_depth=15, max_features=&#x27;auto&#x27;,\n",
       "                      min_samples_split=1)</pre></div></div></div></div></div>"
      ],
      "text/plain": [
       "RandomForestRegressor(criterion='poisson', max_depth=15, max_features='auto',\n",
       "                      min_samples_split=1)"
      ]
     },
     "execution_count": 87,
     "metadata": {},
     "output_type": "execute_result"
    }
   ],
   "source": [
    "#reassign best parameters\n",
    "rf=RandomForestRegressor(criterion= 'poisson', max_depth= 15, max_features= 'auto', min_samples_leaf= 1, min_samples_split= 1)\n",
    "rf.fit(X_train,y_train)"
   ]
  },
  {
   "cell_type": "code",
   "execution_count": 88,
   "id": "365f9d8a",
   "metadata": {},
   "outputs": [
    {
     "name": "stdout",
     "output_type": "stream",
     "text": [
      "Training R2 Score:  99.92222763585391\n"
     ]
    }
   ],
   "source": [
    "print ('Training R2 Score: ' ,rf.score(X_train,y_train)*100)"
   ]
  },
  {
   "cell_type": "code",
   "execution_count": 89,
   "id": "c3e550d9",
   "metadata": {},
   "outputs": [],
   "source": [
    "pred_decision=rf.predict(X_test)\n",
    "from sklearn.metrics import r2_score\n",
    "rfs = r2_score(y_test,pred_decision)"
   ]
  },
  {
   "cell_type": "code",
   "execution_count": 90,
   "id": "a3558a32",
   "metadata": {},
   "outputs": [
    {
     "name": "stdout",
     "output_type": "stream",
     "text": [
      "Testing R2 Score: 99.80138126602715\n"
     ]
    }
   ],
   "source": [
    "print('Testing R2 Score:' , rfs*100)"
   ]
  },
  {
   "cell_type": "markdown",
   "id": "1701fb32",
   "metadata": {},
   "source": [
    "# Model Score after Hyperparameter Tuning\n",
    "\n",
    "    Training Score = 99.92222763585391 %\n",
    "    Testing Score = 99.80138126602715 %"
   ]
  },
  {
   "cell_type": "code",
   "execution_count": null,
   "id": "65d1bad5",
   "metadata": {},
   "outputs": [],
   "source": []
  },
  {
   "cell_type": "code",
   "execution_count": null,
   "id": "a12c8162",
   "metadata": {},
   "outputs": [],
   "source": []
  },
  {
   "cell_type": "markdown",
   "id": "c3ab5aba",
   "metadata": {},
   "source": [
    "# Linear Regression Model"
   ]
  },
  {
   "cell_type": "code",
   "execution_count": 92,
   "id": "84492181",
   "metadata": {},
   "outputs": [],
   "source": [
    "#lets import necessary library\n",
    "import pandas as pd\n",
    "import numpy as np\n",
    "import matplotlib.pyplot as plt\n",
    "import seaborn as sns\n",
    "import pickle\n",
    "from sklearn.preprocessing import StandardScaler\n",
    "from sklearn.linear_model import LinearRegression\n",
    "from sklearn.model_selection import train_test_split\n",
    "\n",
    "import warnings\n",
    "warnings.filterwarnings('ignore')"
   ]
  },
  {
   "cell_type": "code",
   "execution_count": 93,
   "id": "3231636f",
   "metadata": {},
   "outputs": [
    {
     "name": "stdout",
     "output_type": "stream",
     "text": [
      "Training Score 83.97321086078541 RandomState 0\n",
      "Testing Score 75.71877100031853 RandomState 0\n",
      "\n",
      "\n",
      "MAXINING TESTING SCORE 75.71877100031853 ON RANDOM STATE OF 0\n",
      "Training Score 83.07132289041279 RandomState 1\n",
      "Testing Score 80.36174495755411 RandomState 1\n",
      "\n",
      "\n",
      "MAXINING TESTING SCORE 80.36174495755411 ON RANDOM STATE OF 1\n",
      "Training Score 83.03218870325834 RandomState 2\n",
      "Testing Score 77.24821329000164 RandomState 2\n",
      "\n",
      "\n",
      "Training Score 82.60952263126987 RandomState 3\n",
      "Testing Score 81.84552310805834 RandomState 3\n",
      "\n",
      "\n",
      "MAXINING TESTING SCORE 81.84552310805834 ON RANDOM STATE OF 3\n",
      "Training Score 83.47924577874718 RandomState 4\n",
      "Testing Score 79.69633867006456 RandomState 4\n",
      "\n",
      "\n",
      "Training Score 82.62642586971658 RandomState 5\n",
      "Testing Score 82.15708308399948 RandomState 5\n",
      "\n",
      "\n",
      "MAXINING TESTING SCORE 82.15708308399948 ON RANDOM STATE OF 5\n",
      "Training Score 82.59723170643227 RandomState 6\n",
      "Testing Score 81.49319345923448 RandomState 6\n",
      "\n",
      "\n",
      "Training Score 84.3520576086648 RandomState 7\n",
      "Testing Score 76.05316759618914 RandomState 7\n",
      "\n",
      "\n",
      "Training Score 83.95453881141263 RandomState 8\n",
      "Testing Score 75.23820533827576 RandomState 8\n",
      "\n",
      "\n",
      "Training Score 82.90455261316822 RandomState 9\n",
      "Testing Score 79.1891393546115 RandomState 9\n",
      "\n",
      "\n",
      "Training Score 82.01013990748247 RandomState 10\n",
      "Testing Score 84.32057737673293 RandomState 10\n",
      "\n",
      "\n",
      "MAXINING TESTING SCORE 84.32057737673293 ON RANDOM STATE OF 10\n",
      "Training Score 82.76061814896187 RandomState 11\n",
      "Testing Score 79.78129327736696 RandomState 11\n",
      "\n",
      "\n",
      "Training Score 82.1147723254246 RandomState 12\n",
      "Testing Score 83.12527830603418 RandomState 12\n",
      "\n",
      "\n",
      "Training Score 83.42204192469714 RandomState 13\n",
      "Testing Score 78.51940117402816 RandomState 13\n",
      "\n",
      "\n",
      "Training Score 82.81190789420656 RandomState 14\n",
      "Testing Score 81.79902836143481 RandomState 14\n",
      "\n",
      "\n",
      "Training Score 83.00705274983595 RandomState 15\n",
      "Testing Score 81.01826110418335 RandomState 15\n",
      "\n",
      "\n",
      "Training Score 81.56134101529359 RandomState 16\n",
      "Testing Score 85.43376327182371 RandomState 16\n",
      "\n",
      "\n",
      "MAXINING TESTING SCORE 85.43376327182371 ON RANDOM STATE OF 16\n",
      "Training Score 81.89553463438276 RandomState 17\n",
      "Testing Score 83.56080304677096 RandomState 17\n",
      "\n",
      "\n",
      "Training Score 81.71097421503333 RandomState 18\n",
      "Testing Score 85.23838956204526 RandomState 18\n",
      "\n",
      "\n",
      "Training Score 84.26043636355277 RandomState 19\n",
      "Testing Score 75.10236738754782 RandomState 19\n",
      "\n",
      "\n",
      "Training Score 83.11903502923909 RandomState 20\n",
      "Testing Score 80.49982159513311 RandomState 20\n",
      "\n",
      "\n",
      "Training Score 82.43174840287408 RandomState 21\n",
      "Testing Score 83.01128134227605 RandomState 21\n",
      "\n",
      "\n",
      "Training Score 82.62635911285982 RandomState 22\n",
      "Testing Score 81.72820932072347 RandomState 22\n",
      "\n",
      "\n",
      "Training Score 85.54403838884473 RandomState 23\n",
      "Testing Score 72.00146829410924 RandomState 23\n",
      "\n",
      "\n",
      "Training Score 81.61520877877211 RandomState 24\n",
      "Testing Score 83.29806763027304 RandomState 24\n",
      "\n",
      "\n",
      "Training Score 82.37958628773303 RandomState 25\n",
      "Testing Score 82.4571940600628 RandomState 25\n",
      "\n",
      "\n",
      "Training Score 82.64732261263093 RandomState 26\n",
      "Testing Score 81.93738704845453 RandomState 26\n",
      "\n",
      "\n",
      "Training Score 82.32070748058491 RandomState 27\n",
      "Testing Score 83.4194002622823 RandomState 27\n",
      "\n",
      "\n",
      "Training Score 81.39160412886895 RandomState 28\n",
      "Testing Score 86.80330208151332 RandomState 28\n",
      "\n",
      "\n",
      "MAXINING TESTING SCORE 86.80330208151332 ON RANDOM STATE OF 28\n",
      "Training Score 82.61209604647273 RandomState 29\n",
      "Testing Score 80.507646120524 RandomState 29\n",
      "\n",
      "\n",
      "Training Score 83.22216161989074 RandomState 30\n",
      "Testing Score 80.07127288028828 RandomState 30\n",
      "\n",
      "\n",
      "Training Score 82.18428276496559 RandomState 31\n",
      "Testing Score 84.51467599058695 RandomState 31\n",
      "\n",
      "\n",
      "Training Score 84.34828108609274 RandomState 32\n",
      "Testing Score 73.0720391794928 RandomState 32\n",
      "\n",
      "\n",
      "Training Score 83.82536536677618 RandomState 33\n",
      "Testing Score 78.78570901185324 RandomState 33\n",
      "\n",
      "\n",
      "Training Score 82.76744092398052 RandomState 34\n",
      "Testing Score 79.98004070189883 RandomState 34\n",
      "\n",
      "\n",
      "Training Score 83.69401752710905 RandomState 35\n",
      "Testing Score 72.48054407682486 RandomState 35\n",
      "\n",
      "\n",
      "Training Score 83.33994114672979 RandomState 36\n",
      "Testing Score 79.26562397230413 RandomState 36\n",
      "\n",
      "\n",
      "Training Score 81.92370067406851 RandomState 37\n",
      "Testing Score 84.26842780253054 RandomState 37\n",
      "\n",
      "\n",
      "Training Score 83.77880657493341 RandomState 38\n",
      "Testing Score 77.47948581516943 RandomState 38\n",
      "\n",
      "\n",
      "Training Score 82.74582569344766 RandomState 39\n",
      "Testing Score 79.46169347834906 RandomState 39\n",
      "\n",
      "\n",
      "Training Score 82.4840637905073 RandomState 40\n",
      "Testing Score 81.81943385852381 RandomState 40\n",
      "\n",
      "\n",
      "Training Score 85.81556748325113 RandomState 41\n",
      "Testing Score 69.18950876483521 RandomState 41\n",
      "\n",
      "\n",
      "Training Score 83.57232926857168 RandomState 42\n",
      "Testing Score 78.33349001767309 RandomState 42\n",
      "\n",
      "\n",
      "Training Score 84.08253180045304 RandomState 43\n",
      "Testing Score 72.3716623377218 RandomState 43\n",
      "\n",
      "\n",
      "Training Score 82.17384048268622 RandomState 44\n",
      "Testing Score 83.00396297832921 RandomState 44\n",
      "\n",
      "\n",
      "Training Score 83.07866558378294 RandomState 45\n",
      "Testing Score 79.7404553497776 RandomState 45\n",
      "\n",
      "\n",
      "Training Score 82.67710064900572 RandomState 46\n",
      "Testing Score 80.65250838032277 RandomState 46\n",
      "\n",
      "\n",
      "Training Score 82.07974216927396 RandomState 47\n",
      "Testing Score 83.14891999309553 RandomState 47\n",
      "\n",
      "\n",
      "Training Score 82.34595118176247 RandomState 48\n",
      "Testing Score 82.37401719670679 RandomState 48\n",
      "\n",
      "\n",
      "Training Score 81.7064117387034 RandomState 49\n",
      "Testing Score 85.1603347825997 RandomState 49\n",
      "\n",
      "\n"
     ]
    }
   ],
   "source": [
    "#Best Random State\n",
    "MaxAccu=0\n",
    "MaxRS=0\n",
    "\n",
    "for i in range (0,50):\n",
    "    X_train,X_test,y_train,y_test=train_test_split(X_scaled,y,test_size=0.25,random_state=i)\n",
    "    regression=LinearRegression()\n",
    "    regression.fit(X_train,y_train)\n",
    "    \n",
    "    pred=regression.predict(X_train)\n",
    "    training=regression.score(X_train,y_train)\n",
    "    print ('Training Score' , training*100 , 'RandomState' ,i)\n",
    "    \n",
    "    y_pred=regression.predict(X_test)\n",
    "    testing=regression.score(X_test,y_test)\n",
    "    print ('Testing Score' , testing*100 , 'RandomState' ,i)\n",
    "    print('\\n')\n",
    "    \n",
    "    \n",
    "    if testing>MaxAccu:\n",
    "        MaxAccu=testing\n",
    "        MaxRS=i\n",
    "        print('MAXINING TESTING SCORE' , MaxAccu*100 , 'ON RANDOM STATE OF' , i)"
   ]
  },
  {
   "cell_type": "code",
   "execution_count": 94,
   "id": "e0162814",
   "metadata": {},
   "outputs": [
    {
     "name": "stdout",
     "output_type": "stream",
     "text": [
      "MAXINING TESTING SCORE 86.80330208151332 ON RANDOM STATE OF 28\n"
     ]
    }
   ],
   "source": [
    "print('MAXINING TESTING SCORE' , MaxAccu*100 , 'ON RANDOM STATE OF' , MaxRS)"
   ]
  },
  {
   "cell_type": "code",
   "execution_count": 95,
   "id": "c712328a",
   "metadata": {},
   "outputs": [],
   "source": [
    "#splliting our data into train test split and randomstate 6\n",
    "X_train,X_test,y_train,y_test=train_test_split(X_scaled,y,test_size=0.25,random_state=28)"
   ]
  },
  {
   "cell_type": "code",
   "execution_count": 96,
   "id": "71ff15ef",
   "metadata": {},
   "outputs": [
    {
     "data": {
      "text/html": [
       "<style>#sk-container-id-7 {color: black;background-color: white;}#sk-container-id-7 pre{padding: 0;}#sk-container-id-7 div.sk-toggleable {background-color: white;}#sk-container-id-7 label.sk-toggleable__label {cursor: pointer;display: block;width: 100%;margin-bottom: 0;padding: 0.3em;box-sizing: border-box;text-align: center;}#sk-container-id-7 label.sk-toggleable__label-arrow:before {content: \"▸\";float: left;margin-right: 0.25em;color: #696969;}#sk-container-id-7 label.sk-toggleable__label-arrow:hover:before {color: black;}#sk-container-id-7 div.sk-estimator:hover label.sk-toggleable__label-arrow:before {color: black;}#sk-container-id-7 div.sk-toggleable__content {max-height: 0;max-width: 0;overflow: hidden;text-align: left;background-color: #f0f8ff;}#sk-container-id-7 div.sk-toggleable__content pre {margin: 0.2em;color: black;border-radius: 0.25em;background-color: #f0f8ff;}#sk-container-id-7 input.sk-toggleable__control:checked~div.sk-toggleable__content {max-height: 200px;max-width: 100%;overflow: auto;}#sk-container-id-7 input.sk-toggleable__control:checked~label.sk-toggleable__label-arrow:before {content: \"▾\";}#sk-container-id-7 div.sk-estimator input.sk-toggleable__control:checked~label.sk-toggleable__label {background-color: #d4ebff;}#sk-container-id-7 div.sk-label input.sk-toggleable__control:checked~label.sk-toggleable__label {background-color: #d4ebff;}#sk-container-id-7 input.sk-hidden--visually {border: 0;clip: rect(1px 1px 1px 1px);clip: rect(1px, 1px, 1px, 1px);height: 1px;margin: -1px;overflow: hidden;padding: 0;position: absolute;width: 1px;}#sk-container-id-7 div.sk-estimator {font-family: monospace;background-color: #f0f8ff;border: 1px dotted black;border-radius: 0.25em;box-sizing: border-box;margin-bottom: 0.5em;}#sk-container-id-7 div.sk-estimator:hover {background-color: #d4ebff;}#sk-container-id-7 div.sk-parallel-item::after {content: \"\";width: 100%;border-bottom: 1px solid gray;flex-grow: 1;}#sk-container-id-7 div.sk-label:hover label.sk-toggleable__label {background-color: #d4ebff;}#sk-container-id-7 div.sk-serial::before {content: \"\";position: absolute;border-left: 1px solid gray;box-sizing: border-box;top: 0;bottom: 0;left: 50%;z-index: 0;}#sk-container-id-7 div.sk-serial {display: flex;flex-direction: column;align-items: center;background-color: white;padding-right: 0.2em;padding-left: 0.2em;position: relative;}#sk-container-id-7 div.sk-item {position: relative;z-index: 1;}#sk-container-id-7 div.sk-parallel {display: flex;align-items: stretch;justify-content: center;background-color: white;position: relative;}#sk-container-id-7 div.sk-item::before, #sk-container-id-7 div.sk-parallel-item::before {content: \"\";position: absolute;border-left: 1px solid gray;box-sizing: border-box;top: 0;bottom: 0;left: 50%;z-index: -1;}#sk-container-id-7 div.sk-parallel-item {display: flex;flex-direction: column;z-index: 1;position: relative;background-color: white;}#sk-container-id-7 div.sk-parallel-item:first-child::after {align-self: flex-end;width: 50%;}#sk-container-id-7 div.sk-parallel-item:last-child::after {align-self: flex-start;width: 50%;}#sk-container-id-7 div.sk-parallel-item:only-child::after {width: 0;}#sk-container-id-7 div.sk-dashed-wrapped {border: 1px dashed gray;margin: 0 0.4em 0.5em 0.4em;box-sizing: border-box;padding-bottom: 0.4em;background-color: white;}#sk-container-id-7 div.sk-label label {font-family: monospace;font-weight: bold;display: inline-block;line-height: 1.2em;}#sk-container-id-7 div.sk-label-container {text-align: center;}#sk-container-id-7 div.sk-container {/* jupyter's `normalize.less` sets `[hidden] { display: none; }` but bootstrap.min.css set `[hidden] { display: none !important; }` so we also need the `!important` here to be able to override the default hidden behavior on the sphinx rendered scikit-learn.org. See: https://github.com/scikit-learn/scikit-learn/issues/21755 */display: inline-block !important;position: relative;}#sk-container-id-7 div.sk-text-repr-fallback {display: none;}</style><div id=\"sk-container-id-7\" class=\"sk-top-container\"><div class=\"sk-text-repr-fallback\"><pre>LinearRegression()</pre><b>In a Jupyter environment, please rerun this cell to show the HTML representation or trust the notebook. <br />On GitHub, the HTML representation is unable to render, please try loading this page with nbviewer.org.</b></div><div class=\"sk-container\" hidden><div class=\"sk-item\"><div class=\"sk-estimator sk-toggleable\"><input class=\"sk-toggleable__control sk-hidden--visually\" id=\"sk-estimator-id-11\" type=\"checkbox\" checked><label for=\"sk-estimator-id-11\" class=\"sk-toggleable__label sk-toggleable__label-arrow\">LinearRegression</label><div class=\"sk-toggleable__content\"><pre>LinearRegression()</pre></div></div></div></div></div>"
      ],
      "text/plain": [
       "LinearRegression()"
      ]
     },
     "execution_count": 96,
     "metadata": {},
     "output_type": "execute_result"
    }
   ],
   "source": [
    "#Training the data on Linear Regression Model\n",
    "regression=LinearRegression()\n",
    "regression.fit(X_train,y_train)"
   ]
  },
  {
   "cell_type": "code",
   "execution_count": 97,
   "id": "162f30b6",
   "metadata": {},
   "outputs": [
    {
     "data": {
      "text/plain": [
       "0.8139160412886894"
      ]
     },
     "execution_count": 97,
     "metadata": {},
     "output_type": "execute_result"
    }
   ],
   "source": [
    "#training score\n",
    "regression.score(X_train,y_train)  "
   ]
  },
  {
   "cell_type": "code",
   "execution_count": 98,
   "id": "ed36ee1e",
   "metadata": {},
   "outputs": [
    {
     "data": {
      "text/plain": [
       "0.8680330208151332"
      ]
     },
     "execution_count": 98,
     "metadata": {},
     "output_type": "execute_result"
    }
   ],
   "source": [
    "#testing score\n",
    "regression.score(X_test,y_test) "
   ]
  },
  {
   "cell_type": "markdown",
   "id": "202c7c22",
   "metadata": {},
   "source": [
    "# Model Score\n",
    "\n",
    "    Training Score = 81.39160412886894 %\n",
    "    Testing Score = 86.80330208151332 %"
   ]
  },
  {
   "cell_type": "code",
   "execution_count": null,
   "id": "cdffdae3",
   "metadata": {},
   "outputs": [],
   "source": []
  },
  {
   "cell_type": "code",
   "execution_count": null,
   "id": "dd8f55dd",
   "metadata": {},
   "outputs": [],
   "source": []
  },
  {
   "cell_type": "code",
   "execution_count": 99,
   "id": "de15011f",
   "metadata": {},
   "outputs": [
    {
     "data": {
      "text/plain": [
       "array([131.18757762, 209.61224337, 157.06271896, 161.56372456,\n",
       "       167.41105508, 170.8742995 , 195.34674296, 156.54893078,\n",
       "       205.21394299, 213.31839353, 201.34683166, 149.04664498,\n",
       "       222.12893916, 154.57247327, 213.99513528, 154.18298271,\n",
       "       160.28458806, 187.51890937, 164.41610167, 160.00692988,\n",
       "       173.35160752, 190.20863945, 142.31709903, 224.71095508,\n",
       "       170.17563272, 141.8707324 , 160.5689736 , 166.20387886,\n",
       "       159.80211202, 211.55979351, 143.42555494, 211.36010911,\n",
       "       217.16523581, 202.5583409 , 223.04444068, 186.1047699 ,\n",
       "       195.89631288, 138.67325388, 153.04267044, 146.93965075,\n",
       "       158.55739974, 135.56309733, 179.31453983, 226.5730558 ,\n",
       "       179.0303773 , 170.1818171 , 141.18923077, 202.92092247,\n",
       "       151.57293183, 193.97781029, 156.47213289, 144.76274605,\n",
       "       189.69299344, 207.97557769, 156.41964275, 167.13453449])"
      ]
     },
     "execution_count": 99,
     "metadata": {},
     "output_type": "execute_result"
    }
   ],
   "source": [
    "y_pred=regression.predict(X_test)\n",
    "y_pred"
   ]
  },
  {
   "cell_type": "code",
   "execution_count": 100,
   "id": "53b252c7",
   "metadata": {},
   "outputs": [
    {
     "data": {
      "image/png": "[encoded data removed]",
      "text/plain": [
       "<Figure size 432x288 with 1 Axes>"
      ]
     },
     "metadata": {
      "needs_background": "light"
     },
     "output_type": "display_data"
    }
   ],
   "source": [
    "# how our pred vs actual look like in graph \n",
    "plt.scatter(y_test , y_pred)\n",
    "plt.xlabel('Actual')\n",
    "plt.ylabel('Predicted')\n",
    "plt.title('Actual VS Model Prediction')\n",
    "plt.show()"
   ]
  },
  {
   "cell_type": "code",
   "execution_count": null,
   "id": "b886bbad",
   "metadata": {},
   "outputs": [],
   "source": []
  },
  {
   "cell_type": "code",
   "execution_count": null,
   "id": "0941c42d",
   "metadata": {},
   "outputs": [],
   "source": []
  },
  {
   "cell_type": "markdown",
   "id": "a3b9b134",
   "metadata": {},
   "source": [
    "# Checking MAE , MSE & RMSE scores"
   ]
  },
  {
   "cell_type": "code",
   "execution_count": 101,
   "id": "f9e59304",
   "metadata": {},
   "outputs": [],
   "source": [
    "#error in terms of numbers\n",
    "from sklearn.metrics import mean_squared_error,mean_absolute_error"
   ]
  },
  {
   "cell_type": "code",
   "execution_count": 102,
   "id": "1391bb06",
   "metadata": {},
   "outputs": [],
   "source": [
    "# again predict \n",
    "y_pred = regression.predict(X_test)"
   ]
  },
  {
   "cell_type": "code",
   "execution_count": 103,
   "id": "7ad2f9e2",
   "metadata": {},
   "outputs": [
    {
     "data": {
      "text/plain": [
       "7.628310750439089"
      ]
     },
     "execution_count": 103,
     "metadata": {},
     "output_type": "execute_result"
    }
   ],
   "source": [
    "#MAE\n",
    "mean_absolute_error(y_test,y_pred)"
   ]
  },
  {
   "cell_type": "code",
   "execution_count": 104,
   "id": "97159ba2",
   "metadata": {},
   "outputs": [
    {
     "data": {
      "text/plain": [
       "96.51770440895977"
      ]
     },
     "execution_count": 104,
     "metadata": {},
     "output_type": "execute_result"
    }
   ],
   "source": [
    "#MSE\n",
    "mean_squared_error(y_test,y_pred)"
   ]
  },
  {
   "cell_type": "code",
   "execution_count": 105,
   "id": "790cffc0",
   "metadata": {},
   "outputs": [
    {
     "data": {
      "text/plain": [
       "9.824342441556064"
      ]
     },
     "execution_count": 105,
     "metadata": {},
     "output_type": "execute_result"
    }
   ],
   "source": [
    "#RMSE\n",
    "np.sqrt(mean_squared_error(y_test,y_pred))"
   ]
  },
  {
   "cell_type": "markdown",
   "id": "471f5e15",
   "metadata": {},
   "source": [
    "# Scores\n",
    "\n",
    "    MAE SCORE = 7.628310750439089\n",
    "    MSE SCORE = 96.51770440895977\n",
    "    RMSE SCORE = 9.824342441556064"
   ]
  },
  {
   "cell_type": "code",
   "execution_count": null,
   "id": "37028874",
   "metadata": {},
   "outputs": [],
   "source": []
  },
  {
   "cell_type": "code",
   "execution_count": null,
   "id": "91c0cf0a",
   "metadata": {},
   "outputs": [],
   "source": []
  },
  {
   "cell_type": "markdown",
   "id": "f8fc7b8f",
   "metadata": {},
   "source": [
    "# LASSO MODEL"
   ]
  },
  {
   "cell_type": "code",
   "execution_count": 106,
   "id": "281e526d",
   "metadata": {},
   "outputs": [],
   "source": [
    "#import library\n",
    "from sklearn.linear_model import Ridge,Lasso,RidgeCV,LassoCV"
   ]
  },
  {
   "cell_type": "code",
   "execution_count": 110,
   "id": "7d097e01",
   "metadata": {},
   "outputs": [
    {
     "data": {
      "text/html": [
       "<style>#sk-container-id-8 {color: black;background-color: white;}#sk-container-id-8 pre{padding: 0;}#sk-container-id-8 div.sk-toggleable {background-color: white;}#sk-container-id-8 label.sk-toggleable__label {cursor: pointer;display: block;width: 100%;margin-bottom: 0;padding: 0.3em;box-sizing: border-box;text-align: center;}#sk-container-id-8 label.sk-toggleable__label-arrow:before {content: \"▸\";float: left;margin-right: 0.25em;color: #696969;}#sk-container-id-8 label.sk-toggleable__label-arrow:hover:before {color: black;}#sk-container-id-8 div.sk-estimator:hover label.sk-toggleable__label-arrow:before {color: black;}#sk-container-id-8 div.sk-toggleable__content {max-height: 0;max-width: 0;overflow: hidden;text-align: left;background-color: #f0f8ff;}#sk-container-id-8 div.sk-toggleable__content pre {margin: 0.2em;color: black;border-radius: 0.25em;background-color: #f0f8ff;}#sk-container-id-8 input.sk-toggleable__control:checked~div.sk-toggleable__content {max-height: 200px;max-width: 100%;overflow: auto;}#sk-container-id-8 input.sk-toggleable__control:checked~label.sk-toggleable__label-arrow:before {content: \"▾\";}#sk-container-id-8 div.sk-estimator input.sk-toggleable__control:checked~label.sk-toggleable__label {background-color: #d4ebff;}#sk-container-id-8 div.sk-label input.sk-toggleable__control:checked~label.sk-toggleable__label {background-color: #d4ebff;}#sk-container-id-8 input.sk-hidden--visually {border: 0;clip: rect(1px 1px 1px 1px);clip: rect(1px, 1px, 1px, 1px);height: 1px;margin: -1px;overflow: hidden;padding: 0;position: absolute;width: 1px;}#sk-container-id-8 div.sk-estimator {font-family: monospace;background-color: #f0f8ff;border: 1px dotted black;border-radius: 0.25em;box-sizing: border-box;margin-bottom: 0.5em;}#sk-container-id-8 div.sk-estimator:hover {background-color: #d4ebff;}#sk-container-id-8 div.sk-parallel-item::after {content: \"\";width: 100%;border-bottom: 1px solid gray;flex-grow: 1;}#sk-container-id-8 div.sk-label:hover label.sk-toggleable__label {background-color: #d4ebff;}#sk-container-id-8 div.sk-serial::before {content: \"\";position: absolute;border-left: 1px solid gray;box-sizing: border-box;top: 0;bottom: 0;left: 50%;z-index: 0;}#sk-container-id-8 div.sk-serial {display: flex;flex-direction: column;align-items: center;background-color: white;padding-right: 0.2em;padding-left: 0.2em;position: relative;}#sk-container-id-8 div.sk-item {position: relative;z-index: 1;}#sk-container-id-8 div.sk-parallel {display: flex;align-items: stretch;justify-content: center;background-color: white;position: relative;}#sk-container-id-8 div.sk-item::before, #sk-container-id-8 div.sk-parallel-item::before {content: \"\";position: absolute;border-left: 1px solid gray;box-sizing: border-box;top: 0;bottom: 0;left: 50%;z-index: -1;}#sk-container-id-8 div.sk-parallel-item {display: flex;flex-direction: column;z-index: 1;position: relative;background-color: white;}#sk-container-id-8 div.sk-parallel-item:first-child::after {align-self: flex-end;width: 50%;}#sk-container-id-8 div.sk-parallel-item:last-child::after {align-self: flex-start;width: 50%;}#sk-container-id-8 div.sk-parallel-item:only-child::after {width: 0;}#sk-container-id-8 div.sk-dashed-wrapped {border: 1px dashed gray;margin: 0 0.4em 0.5em 0.4em;box-sizing: border-box;padding-bottom: 0.4em;background-color: white;}#sk-container-id-8 div.sk-label label {font-family: monospace;font-weight: bold;display: inline-block;line-height: 1.2em;}#sk-container-id-8 div.sk-label-container {text-align: center;}#sk-container-id-8 div.sk-container {/* jupyter's `normalize.less` sets `[hidden] { display: none; }` but bootstrap.min.css set `[hidden] { display: none !important; }` so we also need the `!important` here to be able to override the default hidden behavior on the sphinx rendered scikit-learn.org. See: https://github.com/scikit-learn/scikit-learn/issues/21755 */display: inline-block !important;position: relative;}#sk-container-id-8 div.sk-text-repr-fallback {display: none;}</style><div id=\"sk-container-id-8\" class=\"sk-top-container\"><div class=\"sk-text-repr-fallback\"><pre>LassoCV(max_iter=100)</pre><b>In a Jupyter environment, please rerun this cell to show the HTML representation or trust the notebook. <br />On GitHub, the HTML representation is unable to render, please try loading this page with nbviewer.org.</b></div><div class=\"sk-container\" hidden><div class=\"sk-item\"><div class=\"sk-estimator sk-toggleable\"><input class=\"sk-toggleable__control sk-hidden--visually\" id=\"sk-estimator-id-12\" type=\"checkbox\" checked><label for=\"sk-estimator-id-12\" class=\"sk-toggleable__label sk-toggleable__label-arrow\">LassoCV</label><div class=\"sk-toggleable__content\"><pre>LassoCV(max_iter=100)</pre></div></div></div></div></div>"
      ],
      "text/plain": [
       "LassoCV(max_iter=100)"
      ]
     },
     "execution_count": 110,
     "metadata": {},
     "output_type": "execute_result"
    }
   ],
   "source": [
    "##### LASSO MODEL######\n",
    "\n",
    "lasscv = LassoCV(alphas = None , max_iter = 100)\n",
    "\n",
    "lasscv.fit(X_train , y_train)"
   ]
  },
  {
   "cell_type": "code",
   "execution_count": 111,
   "id": "60269415",
   "metadata": {},
   "outputs": [
    {
     "data": {
      "text/plain": [
       "0.02134319159772564"
      ]
     },
     "execution_count": 111,
     "metadata": {},
     "output_type": "execute_result"
    }
   ],
   "source": [
    "# best aplha parameter\n",
    "alpha = lasscv.alpha_\n",
    "alpha"
   ]
  },
  {
   "cell_type": "code",
   "execution_count": 112,
   "id": "ddf6df59",
   "metadata": {},
   "outputs": [
    {
     "data": {
      "text/html": [
       "<style>#sk-container-id-9 {color: black;background-color: white;}#sk-container-id-9 pre{padding: 0;}#sk-container-id-9 div.sk-toggleable {background-color: white;}#sk-container-id-9 label.sk-toggleable__label {cursor: pointer;display: block;width: 100%;margin-bottom: 0;padding: 0.3em;box-sizing: border-box;text-align: center;}#sk-container-id-9 label.sk-toggleable__label-arrow:before {content: \"▸\";float: left;margin-right: 0.25em;color: #696969;}#sk-container-id-9 label.sk-toggleable__label-arrow:hover:before {color: black;}#sk-container-id-9 div.sk-estimator:hover label.sk-toggleable__label-arrow:before {color: black;}#sk-container-id-9 div.sk-toggleable__content {max-height: 0;max-width: 0;overflow: hidden;text-align: left;background-color: #f0f8ff;}#sk-container-id-9 div.sk-toggleable__content pre {margin: 0.2em;color: black;border-radius: 0.25em;background-color: #f0f8ff;}#sk-container-id-9 input.sk-toggleable__control:checked~div.sk-toggleable__content {max-height: 200px;max-width: 100%;overflow: auto;}#sk-container-id-9 input.sk-toggleable__control:checked~label.sk-toggleable__label-arrow:before {content: \"▾\";}#sk-container-id-9 div.sk-estimator input.sk-toggleable__control:checked~label.sk-toggleable__label {background-color: #d4ebff;}#sk-container-id-9 div.sk-label input.sk-toggleable__control:checked~label.sk-toggleable__label {background-color: #d4ebff;}#sk-container-id-9 input.sk-hidden--visually {border: 0;clip: rect(1px 1px 1px 1px);clip: rect(1px, 1px, 1px, 1px);height: 1px;margin: -1px;overflow: hidden;padding: 0;position: absolute;width: 1px;}#sk-container-id-9 div.sk-estimator {font-family: monospace;background-color: #f0f8ff;border: 1px dotted black;border-radius: 0.25em;box-sizing: border-box;margin-bottom: 0.5em;}#sk-container-id-9 div.sk-estimator:hover {background-color: #d4ebff;}#sk-container-id-9 div.sk-parallel-item::after {content: \"\";width: 100%;border-bottom: 1px solid gray;flex-grow: 1;}#sk-container-id-9 div.sk-label:hover label.sk-toggleable__label {background-color: #d4ebff;}#sk-container-id-9 div.sk-serial::before {content: \"\";position: absolute;border-left: 1px solid gray;box-sizing: border-box;top: 0;bottom: 0;left: 50%;z-index: 0;}#sk-container-id-9 div.sk-serial {display: flex;flex-direction: column;align-items: center;background-color: white;padding-right: 0.2em;padding-left: 0.2em;position: relative;}#sk-container-id-9 div.sk-item {position: relative;z-index: 1;}#sk-container-id-9 div.sk-parallel {display: flex;align-items: stretch;justify-content: center;background-color: white;position: relative;}#sk-container-id-9 div.sk-item::before, #sk-container-id-9 div.sk-parallel-item::before {content: \"\";position: absolute;border-left: 1px solid gray;box-sizing: border-box;top: 0;bottom: 0;left: 50%;z-index: -1;}#sk-container-id-9 div.sk-parallel-item {display: flex;flex-direction: column;z-index: 1;position: relative;background-color: white;}#sk-container-id-9 div.sk-parallel-item:first-child::after {align-self: flex-end;width: 50%;}#sk-container-id-9 div.sk-parallel-item:last-child::after {align-self: flex-start;width: 50%;}#sk-container-id-9 div.sk-parallel-item:only-child::after {width: 0;}#sk-container-id-9 div.sk-dashed-wrapped {border: 1px dashed gray;margin: 0 0.4em 0.5em 0.4em;box-sizing: border-box;padding-bottom: 0.4em;background-color: white;}#sk-container-id-9 div.sk-label label {font-family: monospace;font-weight: bold;display: inline-block;line-height: 1.2em;}#sk-container-id-9 div.sk-label-container {text-align: center;}#sk-container-id-9 div.sk-container {/* jupyter's `normalize.less` sets `[hidden] { display: none; }` but bootstrap.min.css set `[hidden] { display: none !important; }` so we also need the `!important` here to be able to override the default hidden behavior on the sphinx rendered scikit-learn.org. See: https://github.com/scikit-learn/scikit-learn/issues/21755 */display: inline-block !important;position: relative;}#sk-container-id-9 div.sk-text-repr-fallback {display: none;}</style><div id=\"sk-container-id-9\" class=\"sk-top-container\"><div class=\"sk-text-repr-fallback\"><pre>Lasso(alpha=0.02134319159772564)</pre><b>In a Jupyter environment, please rerun this cell to show the HTML representation or trust the notebook. <br />On GitHub, the HTML representation is unable to render, please try loading this page with nbviewer.org.</b></div><div class=\"sk-container\" hidden><div class=\"sk-item\"><div class=\"sk-estimator sk-toggleable\"><input class=\"sk-toggleable__control sk-hidden--visually\" id=\"sk-estimator-id-13\" type=\"checkbox\" checked><label for=\"sk-estimator-id-13\" class=\"sk-toggleable__label sk-toggleable__label-arrow\">Lasso</label><div class=\"sk-toggleable__content\"><pre>Lasso(alpha=0.02134319159772564)</pre></div></div></div></div></div>"
      ],
      "text/plain": [
       "Lasso(alpha=0.02134319159772564)"
      ]
     },
     "execution_count": 112,
     "metadata": {},
     "output_type": "execute_result"
    }
   ],
   "source": [
    "# now we have best parametr noe train according to it\n",
    "lasso_reg = Lasso(alpha)\n",
    "lasso_reg.fit(X_train,y_train)"
   ]
  },
  {
   "cell_type": "code",
   "execution_count": 113,
   "id": "dd6eea03",
   "metadata": {},
   "outputs": [
    {
     "data": {
      "text/plain": [
       "0.8665872381347492"
      ]
     },
     "execution_count": 113,
     "metadata": {},
     "output_type": "execute_result"
    }
   ],
   "source": [
    "# now check r2 score\n",
    "lasso_reg.score(X_test,y_test)"
   ]
  },
  {
   "cell_type": "code",
   "execution_count": null,
   "id": "f7a5de34",
   "metadata": {},
   "outputs": [],
   "source": []
  },
  {
   "cell_type": "markdown",
   "id": "8b1e2cf4",
   "metadata": {},
   "source": [
    "# RIDGE MODEL"
   ]
  },
  {
   "cell_type": "code",
   "execution_count": 115,
   "id": "44b9efd4",
   "metadata": {},
   "outputs": [
    {
     "data": {
      "text/html": [
       "<style>#sk-container-id-10 {color: black;background-color: white;}#sk-container-id-10 pre{padding: 0;}#sk-container-id-10 div.sk-toggleable {background-color: white;}#sk-container-id-10 label.sk-toggleable__label {cursor: pointer;display: block;width: 100%;margin-bottom: 0;padding: 0.3em;box-sizing: border-box;text-align: center;}#sk-container-id-10 label.sk-toggleable__label-arrow:before {content: \"▸\";float: left;margin-right: 0.25em;color: #696969;}#sk-container-id-10 label.sk-toggleable__label-arrow:hover:before {color: black;}#sk-container-id-10 div.sk-estimator:hover label.sk-toggleable__label-arrow:before {color: black;}#sk-container-id-10 div.sk-toggleable__content {max-height: 0;max-width: 0;overflow: hidden;text-align: left;background-color: #f0f8ff;}#sk-container-id-10 div.sk-toggleable__content pre {margin: 0.2em;color: black;border-radius: 0.25em;background-color: #f0f8ff;}#sk-container-id-10 input.sk-toggleable__control:checked~div.sk-toggleable__content {max-height: 200px;max-width: 100%;overflow: auto;}#sk-container-id-10 input.sk-toggleable__control:checked~label.sk-toggleable__label-arrow:before {content: \"▾\";}#sk-container-id-10 div.sk-estimator input.sk-toggleable__control:checked~label.sk-toggleable__label {background-color: #d4ebff;}#sk-container-id-10 div.sk-label input.sk-toggleable__control:checked~label.sk-toggleable__label {background-color: #d4ebff;}#sk-container-id-10 input.sk-hidden--visually {border: 0;clip: rect(1px 1px 1px 1px);clip: rect(1px, 1px, 1px, 1px);height: 1px;margin: -1px;overflow: hidden;padding: 0;position: absolute;width: 1px;}#sk-container-id-10 div.sk-estimator {font-family: monospace;background-color: #f0f8ff;border: 1px dotted black;border-radius: 0.25em;box-sizing: border-box;margin-bottom: 0.5em;}#sk-container-id-10 div.sk-estimator:hover {background-color: #d4ebff;}#sk-container-id-10 div.sk-parallel-item::after {content: \"\";width: 100%;border-bottom: 1px solid gray;flex-grow: 1;}#sk-container-id-10 div.sk-label:hover label.sk-toggleable__label {background-color: #d4ebff;}#sk-container-id-10 div.sk-serial::before {content: \"\";position: absolute;border-left: 1px solid gray;box-sizing: border-box;top: 0;bottom: 0;left: 50%;z-index: 0;}#sk-container-id-10 div.sk-serial {display: flex;flex-direction: column;align-items: center;background-color: white;padding-right: 0.2em;padding-left: 0.2em;position: relative;}#sk-container-id-10 div.sk-item {position: relative;z-index: 1;}#sk-container-id-10 div.sk-parallel {display: flex;align-items: stretch;justify-content: center;background-color: white;position: relative;}#sk-container-id-10 div.sk-item::before, #sk-container-id-10 div.sk-parallel-item::before {content: \"\";position: absolute;border-left: 1px solid gray;box-sizing: border-box;top: 0;bottom: 0;left: 50%;z-index: -1;}#sk-container-id-10 div.sk-parallel-item {display: flex;flex-direction: column;z-index: 1;position: relative;background-color: white;}#sk-container-id-10 div.sk-parallel-item:first-child::after {align-self: flex-end;width: 50%;}#sk-container-id-10 div.sk-parallel-item:last-child::after {align-self: flex-start;width: 50%;}#sk-container-id-10 div.sk-parallel-item:only-child::after {width: 0;}#sk-container-id-10 div.sk-dashed-wrapped {border: 1px dashed gray;margin: 0 0.4em 0.5em 0.4em;box-sizing: border-box;padding-bottom: 0.4em;background-color: white;}#sk-container-id-10 div.sk-label label {font-family: monospace;font-weight: bold;display: inline-block;line-height: 1.2em;}#sk-container-id-10 div.sk-label-container {text-align: center;}#sk-container-id-10 div.sk-container {/* jupyter's `normalize.less` sets `[hidden] { display: none; }` but bootstrap.min.css set `[hidden] { display: none !important; }` so we also need the `!important` here to be able to override the default hidden behavior on the sphinx rendered scikit-learn.org. See: https://github.com/scikit-learn/scikit-learn/issues/21755 */display: inline-block !important;position: relative;}#sk-container-id-10 div.sk-text-repr-fallback {display: none;}</style><div id=\"sk-container-id-10\" class=\"sk-top-container\"><div class=\"sk-text-repr-fallback\"><pre>RidgeCV(alphas=array([0.001, 0.011, 0.021, 0.031, 0.041, 0.051, 0.061, 0.071, 0.081,\n",
       "       0.091]))</pre><b>In a Jupyter environment, please rerun this cell to show the HTML representation or trust the notebook. <br />On GitHub, the HTML representation is unable to render, please try loading this page with nbviewer.org.</b></div><div class=\"sk-container\" hidden><div class=\"sk-item\"><div class=\"sk-estimator sk-toggleable\"><input class=\"sk-toggleable__control sk-hidden--visually\" id=\"sk-estimator-id-14\" type=\"checkbox\" checked><label for=\"sk-estimator-id-14\" class=\"sk-toggleable__label sk-toggleable__label-arrow\">RidgeCV</label><div class=\"sk-toggleable__content\"><pre>RidgeCV(alphas=array([0.001, 0.011, 0.021, 0.031, 0.041, 0.051, 0.061, 0.071, 0.081,\n",
       "       0.091]))</pre></div></div></div></div></div>"
      ],
      "text/plain": [
       "RidgeCV(alphas=array([0.001, 0.011, 0.021, 0.031, 0.041, 0.051, 0.061, 0.071, 0.081,\n",
       "       0.091]))"
      ]
     },
     "execution_count": 115,
     "metadata": {},
     "output_type": "execute_result"
    }
   ],
   "source": [
    "############ RIDGE MODEL#########\n",
    "\n",
    "ridgecv = RidgeCV(alphas = np.arange(0.001,0.1,0.01))\n",
    "ridgecv.fit(X_train , y_train)\n"
   ]
  },
  {
   "cell_type": "code",
   "execution_count": 116,
   "id": "c65f5b6e",
   "metadata": {},
   "outputs": [
    {
     "data": {
      "text/plain": [
       "0.09099999999999998"
      ]
     },
     "execution_count": 116,
     "metadata": {},
     "output_type": "execute_result"
    }
   ],
   "source": [
    "# best aplha parameter\n",
    "alpha = ridgecv.alpha_\n",
    "alpha"
   ]
  },
  {
   "cell_type": "code",
   "execution_count": 117,
   "id": "3a5e37fc",
   "metadata": {},
   "outputs": [
    {
     "data": {
      "text/html": [
       "<style>#sk-container-id-11 {color: black;background-color: white;}#sk-container-id-11 pre{padding: 0;}#sk-container-id-11 div.sk-toggleable {background-color: white;}#sk-container-id-11 label.sk-toggleable__label {cursor: pointer;display: block;width: 100%;margin-bottom: 0;padding: 0.3em;box-sizing: border-box;text-align: center;}#sk-container-id-11 label.sk-toggleable__label-arrow:before {content: \"▸\";float: left;margin-right: 0.25em;color: #696969;}#sk-container-id-11 label.sk-toggleable__label-arrow:hover:before {color: black;}#sk-container-id-11 div.sk-estimator:hover label.sk-toggleable__label-arrow:before {color: black;}#sk-container-id-11 div.sk-toggleable__content {max-height: 0;max-width: 0;overflow: hidden;text-align: left;background-color: #f0f8ff;}#sk-container-id-11 div.sk-toggleable__content pre {margin: 0.2em;color: black;border-radius: 0.25em;background-color: #f0f8ff;}#sk-container-id-11 input.sk-toggleable__control:checked~div.sk-toggleable__content {max-height: 200px;max-width: 100%;overflow: auto;}#sk-container-id-11 input.sk-toggleable__control:checked~label.sk-toggleable__label-arrow:before {content: \"▾\";}#sk-container-id-11 div.sk-estimator input.sk-toggleable__control:checked~label.sk-toggleable__label {background-color: #d4ebff;}#sk-container-id-11 div.sk-label input.sk-toggleable__control:checked~label.sk-toggleable__label {background-color: #d4ebff;}#sk-container-id-11 input.sk-hidden--visually {border: 0;clip: rect(1px 1px 1px 1px);clip: rect(1px, 1px, 1px, 1px);height: 1px;margin: -1px;overflow: hidden;padding: 0;position: absolute;width: 1px;}#sk-container-id-11 div.sk-estimator {font-family: monospace;background-color: #f0f8ff;border: 1px dotted black;border-radius: 0.25em;box-sizing: border-box;margin-bottom: 0.5em;}#sk-container-id-11 div.sk-estimator:hover {background-color: #d4ebff;}#sk-container-id-11 div.sk-parallel-item::after {content: \"\";width: 100%;border-bottom: 1px solid gray;flex-grow: 1;}#sk-container-id-11 div.sk-label:hover label.sk-toggleable__label {background-color: #d4ebff;}#sk-container-id-11 div.sk-serial::before {content: \"\";position: absolute;border-left: 1px solid gray;box-sizing: border-box;top: 0;bottom: 0;left: 50%;z-index: 0;}#sk-container-id-11 div.sk-serial {display: flex;flex-direction: column;align-items: center;background-color: white;padding-right: 0.2em;padding-left: 0.2em;position: relative;}#sk-container-id-11 div.sk-item {position: relative;z-index: 1;}#sk-container-id-11 div.sk-parallel {display: flex;align-items: stretch;justify-content: center;background-color: white;position: relative;}#sk-container-id-11 div.sk-item::before, #sk-container-id-11 div.sk-parallel-item::before {content: \"\";position: absolute;border-left: 1px solid gray;box-sizing: border-box;top: 0;bottom: 0;left: 50%;z-index: -1;}#sk-container-id-11 div.sk-parallel-item {display: flex;flex-direction: column;z-index: 1;position: relative;background-color: white;}#sk-container-id-11 div.sk-parallel-item:first-child::after {align-self: flex-end;width: 50%;}#sk-container-id-11 div.sk-parallel-item:last-child::after {align-self: flex-start;width: 50%;}#sk-container-id-11 div.sk-parallel-item:only-child::after {width: 0;}#sk-container-id-11 div.sk-dashed-wrapped {border: 1px dashed gray;margin: 0 0.4em 0.5em 0.4em;box-sizing: border-box;padding-bottom: 0.4em;background-color: white;}#sk-container-id-11 div.sk-label label {font-family: monospace;font-weight: bold;display: inline-block;line-height: 1.2em;}#sk-container-id-11 div.sk-label-container {text-align: center;}#sk-container-id-11 div.sk-container {/* jupyter's `normalize.less` sets `[hidden] { display: none; }` but bootstrap.min.css set `[hidden] { display: none !important; }` so we also need the `!important` here to be able to override the default hidden behavior on the sphinx rendered scikit-learn.org. See: https://github.com/scikit-learn/scikit-learn/issues/21755 */display: inline-block !important;position: relative;}#sk-container-id-11 div.sk-text-repr-fallback {display: none;}</style><div id=\"sk-container-id-11\" class=\"sk-top-container\"><div class=\"sk-text-repr-fallback\"><pre>Ridge(alpha=0.09099999999999998)</pre><b>In a Jupyter environment, please rerun this cell to show the HTML representation or trust the notebook. <br />On GitHub, the HTML representation is unable to render, please try loading this page with nbviewer.org.</b></div><div class=\"sk-container\" hidden><div class=\"sk-item\"><div class=\"sk-estimator sk-toggleable\"><input class=\"sk-toggleable__control sk-hidden--visually\" id=\"sk-estimator-id-15\" type=\"checkbox\" checked><label for=\"sk-estimator-id-15\" class=\"sk-toggleable__label sk-toggleable__label-arrow\">Ridge</label><div class=\"sk-toggleable__content\"><pre>Ridge(alpha=0.09099999999999998)</pre></div></div></div></div></div>"
      ],
      "text/plain": [
       "Ridge(alpha=0.09099999999999998)"
      ]
     },
     "execution_count": 117,
     "metadata": {},
     "output_type": "execute_result"
    }
   ],
   "source": [
    "# now we have best parametr noe train according to it\n",
    "ridge_reg = Ridge(alpha)\n",
    "ridge_reg.fit (X_train,y_train)"
   ]
  },
  {
   "cell_type": "code",
   "execution_count": 118,
   "id": "aa3d81b9",
   "metadata": {},
   "outputs": [
    {
     "data": {
      "text/plain": [
       "0.8651601918943913"
      ]
     },
     "execution_count": 118,
     "metadata": {},
     "output_type": "execute_result"
    }
   ],
   "source": [
    "# now check r2 score\n",
    "ridge_reg.score(X_test,y_test)"
   ]
  },
  {
   "cell_type": "markdown",
   "id": "cc0a0f18",
   "metadata": {},
   "source": [
    "# SCORES\n",
    "\n",
    "    LASSO SCORES = 86.65872381347492 %\n",
    "    RIDGE SCORES = 86.51601918943913 %"
   ]
  },
  {
   "cell_type": "code",
   "execution_count": null,
   "id": "52c2724f",
   "metadata": {},
   "outputs": [],
   "source": []
  },
  {
   "cell_type": "code",
   "execution_count": null,
   "id": "5a00a6a0",
   "metadata": {},
   "outputs": [],
   "source": []
  },
  {
   "cell_type": "markdown",
   "id": "a0e23309",
   "metadata": {},
   "source": [
    "# So from above model we made we select Random Forest Regressor for this particular problem as it has high score as come to other models."
   ]
  },
  {
   "cell_type": "code",
   "execution_count": null,
   "id": "56820134",
   "metadata": {},
   "outputs": [],
   "source": []
  },
  {
   "cell_type": "markdown",
   "id": "5ac64049",
   "metadata": {},
   "source": [
    "# Saving the Best model"
   ]
  },
  {
   "cell_type": "code",
   "execution_count": 122,
   "id": "c30aedb6",
   "metadata": {},
   "outputs": [],
   "source": [
    "# now we save this is modeland transfer to other by using pickel\n",
    "\n",
    "#first save this model to the local file system \n",
    "import pickle\n",
    "pickle.dump(rf , open ('reg_model' , 'wb'))"
   ]
  },
  {
   "cell_type": "code",
   "execution_count": null,
   "id": "98db6c17",
   "metadata": {},
   "outputs": [],
   "source": []
  },
  {
   "cell_type": "code",
   "execution_count": null,
   "id": "537eca4a",
   "metadata": {},
   "outputs": [],
   "source": []
  },
  {
   "cell_type": "code",
   "execution_count": null,
   "id": "72e33ae2",
   "metadata": {},
   "outputs": [],
   "source": []
  },
  {
   "cell_type": "code",
   "execution_count": null,
   "id": "1f24bb23",
   "metadata": {},
   "outputs": [],
   "source": []
  },
  {
   "cell_type": "code",
   "execution_count": null,
   "id": "42025a58",
   "metadata": {},
   "outputs": [],
   "source": []
  },
  {
   "cell_type": "code",
   "execution_count": null,
   "id": "20299773",
   "metadata": {},
   "outputs": [],
   "source": []
  },
  {
   "cell_type": "code",
   "execution_count": null,
   "id": "3c28b03c",
   "metadata": {},
   "outputs": [],
   "source": []
  },
  {
   "cell_type": "code",
   "execution_count": null,
   "id": "939175ef",
   "metadata": {},
   "outputs": [],
   "source": []
  },
  {
   "cell_type": "code",
   "execution_count": null,
   "id": "c0656522",
   "metadata": {},
   "outputs": [],
   "source": []
  },
  {
   "cell_type": "code",
   "execution_count": null,
   "id": "7b8a969f",
   "metadata": {},
   "outputs": [],
   "source": []
  }
 ],
 "metadata": {
  "kernelspec": {
   "display_name": "Python 3 (ipykernel)",
   "language": "python",
   "name": "python3"
  },
  "language_info": {
   "codemirror_mode": {
    "name": "ipython",
    "version": 3
   },
   "file_extension": ".py",
   "mimetype": "text/x-python",
   "name": "python",
   "nbconvert_exporter": "python",
   "pygments_lexer": "ipython3",
   "version": "3.9.7"
  }
 },
 "nbformat": 4,
 "nbformat_minor": 5
}
