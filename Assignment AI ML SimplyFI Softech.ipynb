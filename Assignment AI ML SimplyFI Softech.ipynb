{
 "cells": [
  {
   "cell_type": "code",
   "execution_count": null,
   "id": "b0e6724a",
   "metadata": {},
   "outputs": [],
   "source": []
  },
  {
   "cell_type": "markdown",
   "id": "73f28808",
   "metadata": {},
   "source": [
    "# Q1"
   ]
  },
  {
   "cell_type": "code",
   "execution_count": 8,
   "id": "44dcf384",
   "metadata": {},
   "outputs": [],
   "source": [
    "def fun(number):\n",
    "    \n",
    "    numbers = str(number)[::-1]                                          # Converting the number into string and reversing it\n",
    "\n",
    "    groups = [numbers[i:i+2] for i in range(0, len(numbers), 2)]      # Splitting the number into groups of 2 digits\n",
    "\n",
    "    result = ','.join(groups[::-1])                                         # Reversing the groups and join them with commas\n",
    "\n",
    "    return result"
   ]
  },
  {
   "cell_type": "code",
   "execution_count": 9,
   "id": "c9239cc8",
   "metadata": {},
   "outputs": [
    {
     "name": "stdout",
     "output_type": "stream",
     "text": [
      "5,46,78\n"
     ]
    }
   ],
   "source": [
    "number = 56487\n",
    "indian_currency = fun(number)\n",
    "print(indian_currency)"
   ]
  },
  {
   "cell_type": "code",
   "execution_count": null,
   "id": "e62aef3d",
   "metadata": {},
   "outputs": [],
   "source": []
  },
  {
   "cell_type": "code",
   "execution_count": null,
   "id": "935b35ae",
   "metadata": {},
   "outputs": [],
   "source": []
  },
  {
   "cell_type": "code",
   "execution_count": null,
   "id": "896b6657",
   "metadata": {},
   "outputs": [],
   "source": []
  },
  {
   "cell_type": "code",
   "execution_count": null,
   "id": "158914cd",
   "metadata": {},
   "outputs": [],
   "source": []
  },
  {
   "cell_type": "markdown",
   "id": "07f0e81c",
   "metadata": {},
   "source": [
    "# Q2 "
   ]
  },
  {
   "cell_type": "code",
   "execution_count": 61,
   "id": "8dfca5f2",
   "metadata": {},
   "outputs": [
    {
     "name": "stdout",
     "output_type": "stream",
     "text": [
      "Minimum number of players who need to get shot: 2\n"
     ]
    }
   ],
   "source": [
    "heights = [2, 13, 4, 16]     # defining the height that given\n",
    "count = 0                    # for iteration we will get count \n",
    "max_height = 10              # defining the max height as per given in pdf\n",
    "min_height = 4               # defining the min height as per given in pdf     [No use because we want to find max]\n",
    "for val in heights:          # for loop\n",
    "    if val >= max_height:\n",
    "        max_height = val\n",
    "        count += 1\n",
    "\n",
    "print(\"Minimum number of players who need to get shot:\", count)\n"
   ]
  },
  {
   "cell_type": "code",
   "execution_count": 62,
   "id": "08c3a202",
   "metadata": {},
   "outputs": [
    {
     "name": "stdout",
     "output_type": "stream",
     "text": [
      "Minimum number of players who need to get shot: 1\n"
     ]
    }
   ],
   "source": [
    "heights = [9,3,8,8,4]       # defining the height that given\n",
    "count = 0                   # for iteration we will get count \n",
    "max_height = 8              # defining the max height as per given in pdf\n",
    "min_height = 5              # defining the min height as per given in pdf     [No use because we want to find max]\n",
    "for val in heights:         # for loop\n",
    "    if val >= max_height:\n",
    "        max_height = val\n",
    "        count += 1\n",
    "\n",
    "print(\"Minimum number of players who need to get shot:\", count )"
   ]
  },
  {
   "cell_type": "code",
   "execution_count": 63,
   "id": "85385f7d",
   "metadata": {},
   "outputs": [
    {
     "name": "stdout",
     "output_type": "stream",
     "text": [
      "Minimum number of players who need to get shot: 0\n"
     ]
    }
   ],
   "source": [
    "heights = [1,2,3,4]         # defining the height that given\n",
    "count = 0                   # for iteration we will get count \n",
    "max_height = 6              # defining the max height as per given in pdf\n",
    "min_height = 4              # defining the min height as per given in pdf     [No use because we want to find max]\n",
    "for val in heights:         # for loop\n",
    "    if val >= max_height:\n",
    "        max_height = val\n",
    "        count += 1\n",
    "\n",
    "print(\"Minimum number of players who need to get shot:\", count )"
   ]
  },
  {
   "cell_type": "code",
   "execution_count": null,
   "id": "9c9de9cb",
   "metadata": {},
   "outputs": [],
   "source": []
  },
  {
   "cell_type": "markdown",
   "id": "555d874d",
   "metadata": {},
   "source": [
    "### NOTE "
   ]
  },
  {
   "cell_type": "code",
   "execution_count": null,
   "id": "93a30724",
   "metadata": {},
   "outputs": [],
   "source": [
    "## I have done all the questions for question no 1 i have taken little help from internet for sclicing and indexing purpose\n",
    "\n",
    "## For the question 2 I have done by my own what i understand the question based on that i have completed the assignment work \n",
    "#  for question 2 i havent take help from any source"
   ]
  },
  {
   "cell_type": "code",
   "execution_count": null,
   "id": "7e08f54d",
   "metadata": {},
   "outputs": [],
   "source": []
  }
 ],
 "metadata": {
  "kernelspec": {
   "display_name": "Python 3 (ipykernel)",
   "language": "python",
   "name": "python3"
  },
  "language_info": {
   "codemirror_mode": {
    "name": "ipython",
    "version": 3
   },
   "file_extension": ".py",
   "mimetype": "text/x-python",
   "name": "python",
   "nbconvert_exporter": "python",
   "pygments_lexer": "ipython3",
   "version": "3.9.7"
  }
 },
 "nbformat": 4,
 "nbformat_minor": 5
}
